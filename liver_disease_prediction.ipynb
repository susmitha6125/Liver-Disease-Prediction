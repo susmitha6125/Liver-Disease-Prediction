{
 "cells": [
  {
   "cell_type": "code",
   "execution_count": 43,
   "metadata": {},
   "outputs": [
    {
     "name": "stdout",
     "output_type": "stream",
     "text": [
      "Current Working Directory: D:\\freelance_projects\\liver_disease_prediction\n"
     ]
    }
   ],
   "source": [
    "import os\n",
    "\n",
    "# Set the working directory to your project's base directory\n",
    "base_dir = r\"D:\\freelance_projects\\liver_disease_prediction\"\n",
    "os.chdir(base_dir)\n",
    "\n",
    "# Verify the working directory\n",
    "print(\"Current Working Directory:\", os.getcwd())"
   ]
  },
  {
   "cell_type": "code",
   "execution_count": 44,
   "metadata": {},
   "outputs": [],
   "source": [
    "import pandas as pd\n",
    "import numpy as np\n",
    "\n",
    "data=pd.read_csv(r\".\\data\\dataset\\liver_disease_prediction_dataset.csv\")"
   ]
  },
  {
   "cell_type": "code",
   "execution_count": 45,
   "metadata": {},
   "outputs": [
    {
     "data": {
      "text/html": [
       "<div>\n",
       "<style scoped>\n",
       "    .dataframe tbody tr th:only-of-type {\n",
       "        vertical-align: middle;\n",
       "    }\n",
       "\n",
       "    .dataframe tbody tr th {\n",
       "        vertical-align: top;\n",
       "    }\n",
       "\n",
       "    .dataframe thead th {\n",
       "        text-align: right;\n",
       "    }\n",
       "</style>\n",
       "<table border=\"1\" class=\"dataframe\">\n",
       "  <thead>\n",
       "    <tr style=\"text-align: right;\">\n",
       "      <th></th>\n",
       "      <th>Age</th>\n",
       "      <th>Gender</th>\n",
       "      <th>Total Bilirubin</th>\n",
       "      <th>Direct Bilirubin</th>\n",
       "      <th>Alkaline Phosphotase</th>\n",
       "      <th>Sgpt Alamine Aminotransferase</th>\n",
       "      <th>Sgot Aspartate Aminotransferase</th>\n",
       "      <th>Total Proteins</th>\n",
       "      <th>ALB Albumin</th>\n",
       "      <th>A/G ratio Albumin and Globulin Ratio</th>\n",
       "      <th>Result</th>\n",
       "    </tr>\n",
       "  </thead>\n",
       "  <tbody>\n",
       "    <tr>\n",
       "      <th>0</th>\n",
       "      <td>65</td>\n",
       "      <td>Female</td>\n",
       "      <td>0.7</td>\n",
       "      <td>0.1</td>\n",
       "      <td>187</td>\n",
       "      <td>16</td>\n",
       "      <td>18</td>\n",
       "      <td>6.8</td>\n",
       "      <td>3.3</td>\n",
       "      <td>0.90</td>\n",
       "      <td>1</td>\n",
       "    </tr>\n",
       "    <tr>\n",
       "      <th>1</th>\n",
       "      <td>62</td>\n",
       "      <td>Male</td>\n",
       "      <td>10.9</td>\n",
       "      <td>5.5</td>\n",
       "      <td>699</td>\n",
       "      <td>64</td>\n",
       "      <td>100</td>\n",
       "      <td>7.5</td>\n",
       "      <td>3.2</td>\n",
       "      <td>0.74</td>\n",
       "      <td>1</td>\n",
       "    </tr>\n",
       "    <tr>\n",
       "      <th>2</th>\n",
       "      <td>62</td>\n",
       "      <td>Male</td>\n",
       "      <td>7.3</td>\n",
       "      <td>4.1</td>\n",
       "      <td>490</td>\n",
       "      <td>60</td>\n",
       "      <td>68</td>\n",
       "      <td>7.0</td>\n",
       "      <td>3.3</td>\n",
       "      <td>0.89</td>\n",
       "      <td>1</td>\n",
       "    </tr>\n",
       "    <tr>\n",
       "      <th>3</th>\n",
       "      <td>58</td>\n",
       "      <td>Male</td>\n",
       "      <td>1.0</td>\n",
       "      <td>0.4</td>\n",
       "      <td>182</td>\n",
       "      <td>14</td>\n",
       "      <td>20</td>\n",
       "      <td>6.8</td>\n",
       "      <td>3.4</td>\n",
       "      <td>1.00</td>\n",
       "      <td>1</td>\n",
       "    </tr>\n",
       "    <tr>\n",
       "      <th>4</th>\n",
       "      <td>72</td>\n",
       "      <td>Male</td>\n",
       "      <td>3.9</td>\n",
       "      <td>2.0</td>\n",
       "      <td>195</td>\n",
       "      <td>27</td>\n",
       "      <td>59</td>\n",
       "      <td>7.3</td>\n",
       "      <td>2.4</td>\n",
       "      <td>0.40</td>\n",
       "      <td>1</td>\n",
       "    </tr>\n",
       "    <tr>\n",
       "      <th>...</th>\n",
       "      <td>...</td>\n",
       "      <td>...</td>\n",
       "      <td>...</td>\n",
       "      <td>...</td>\n",
       "      <td>...</td>\n",
       "      <td>...</td>\n",
       "      <td>...</td>\n",
       "      <td>...</td>\n",
       "      <td>...</td>\n",
       "      <td>...</td>\n",
       "      <td>...</td>\n",
       "    </tr>\n",
       "    <tr>\n",
       "      <th>578</th>\n",
       "      <td>60</td>\n",
       "      <td>Male</td>\n",
       "      <td>0.5</td>\n",
       "      <td>0.1</td>\n",
       "      <td>500</td>\n",
       "      <td>20</td>\n",
       "      <td>34</td>\n",
       "      <td>5.9</td>\n",
       "      <td>1.6</td>\n",
       "      <td>0.37</td>\n",
       "      <td>2</td>\n",
       "    </tr>\n",
       "    <tr>\n",
       "      <th>579</th>\n",
       "      <td>40</td>\n",
       "      <td>Male</td>\n",
       "      <td>0.6</td>\n",
       "      <td>0.1</td>\n",
       "      <td>98</td>\n",
       "      <td>35</td>\n",
       "      <td>31</td>\n",
       "      <td>6.0</td>\n",
       "      <td>3.2</td>\n",
       "      <td>1.10</td>\n",
       "      <td>1</td>\n",
       "    </tr>\n",
       "    <tr>\n",
       "      <th>580</th>\n",
       "      <td>52</td>\n",
       "      <td>Male</td>\n",
       "      <td>0.8</td>\n",
       "      <td>0.2</td>\n",
       "      <td>245</td>\n",
       "      <td>48</td>\n",
       "      <td>49</td>\n",
       "      <td>6.4</td>\n",
       "      <td>3.2</td>\n",
       "      <td>1.00</td>\n",
       "      <td>1</td>\n",
       "    </tr>\n",
       "    <tr>\n",
       "      <th>581</th>\n",
       "      <td>31</td>\n",
       "      <td>Male</td>\n",
       "      <td>1.3</td>\n",
       "      <td>0.5</td>\n",
       "      <td>184</td>\n",
       "      <td>29</td>\n",
       "      <td>32</td>\n",
       "      <td>6.8</td>\n",
       "      <td>3.4</td>\n",
       "      <td>1.00</td>\n",
       "      <td>1</td>\n",
       "    </tr>\n",
       "    <tr>\n",
       "      <th>582</th>\n",
       "      <td>38</td>\n",
       "      <td>Male</td>\n",
       "      <td>1.0</td>\n",
       "      <td>0.3</td>\n",
       "      <td>216</td>\n",
       "      <td>21</td>\n",
       "      <td>24</td>\n",
       "      <td>7.3</td>\n",
       "      <td>4.4</td>\n",
       "      <td>1.50</td>\n",
       "      <td>2</td>\n",
       "    </tr>\n",
       "  </tbody>\n",
       "</table>\n",
       "<p>583 rows × 11 columns</p>\n",
       "</div>"
      ],
      "text/plain": [
       "     Age  Gender  Total Bilirubin  Direct Bilirubin  Alkaline Phosphotase  \\\n",
       "0     65  Female              0.7               0.1                   187   \n",
       "1     62    Male             10.9               5.5                   699   \n",
       "2     62    Male              7.3               4.1                   490   \n",
       "3     58    Male              1.0               0.4                   182   \n",
       "4     72    Male              3.9               2.0                   195   \n",
       "..   ...     ...              ...               ...                   ...   \n",
       "578   60    Male              0.5               0.1                   500   \n",
       "579   40    Male              0.6               0.1                    98   \n",
       "580   52    Male              0.8               0.2                   245   \n",
       "581   31    Male              1.3               0.5                   184   \n",
       "582   38    Male              1.0               0.3                   216   \n",
       "\n",
       "     Sgpt Alamine Aminotransferase  Sgot Aspartate Aminotransferase  \\\n",
       "0                               16                               18   \n",
       "1                               64                              100   \n",
       "2                               60                               68   \n",
       "3                               14                               20   \n",
       "4                               27                               59   \n",
       "..                             ...                              ...   \n",
       "578                             20                               34   \n",
       "579                             35                               31   \n",
       "580                             48                               49   \n",
       "581                             29                               32   \n",
       "582                             21                               24   \n",
       "\n",
       "     Total Proteins  ALB Albumin  A/G ratio Albumin and Globulin Ratio  Result  \n",
       "0               6.8          3.3                                  0.90       1  \n",
       "1               7.5          3.2                                  0.74       1  \n",
       "2               7.0          3.3                                  0.89       1  \n",
       "3               6.8          3.4                                  1.00       1  \n",
       "4               7.3          2.4                                  0.40       1  \n",
       "..              ...          ...                                   ...     ...  \n",
       "578             5.9          1.6                                  0.37       2  \n",
       "579             6.0          3.2                                  1.10       1  \n",
       "580             6.4          3.2                                  1.00       1  \n",
       "581             6.8          3.4                                  1.00       1  \n",
       "582             7.3          4.4                                  1.50       2  \n",
       "\n",
       "[583 rows x 11 columns]"
      ]
     },
     "execution_count": 45,
     "metadata": {},
     "output_type": "execute_result"
    }
   ],
   "source": [
    "data"
   ]
  },
  {
   "cell_type": "code",
   "execution_count": 46,
   "metadata": {},
   "outputs": [
    {
     "data": {
      "text/plain": [
       "Result\n",
       "1    416\n",
       "2    167\n",
       "Name: count, dtype: int64"
      ]
     },
     "execution_count": 46,
     "metadata": {},
     "output_type": "execute_result"
    }
   ],
   "source": [
    "data[\"Result\"].value_counts()"
   ]
  },
  {
   "cell_type": "code",
   "execution_count": 47,
   "metadata": {},
   "outputs": [
    {
     "name": "stdout",
     "output_type": "stream",
     "text": [
      "<class 'pandas.core.frame.DataFrame'>\n",
      "RangeIndex: 583 entries, 0 to 582\n",
      "Data columns (total 11 columns):\n",
      " #   Column                                Non-Null Count  Dtype  \n",
      "---  ------                                --------------  -----  \n",
      " 0   Age                                   583 non-null    int64  \n",
      " 1   Gender                                583 non-null    object \n",
      " 2   Total Bilirubin                       583 non-null    float64\n",
      " 3   Direct Bilirubin                      583 non-null    float64\n",
      " 4   Alkaline Phosphotase                  583 non-null    int64  \n",
      " 5   Sgpt Alamine Aminotransferase         583 non-null    int64  \n",
      " 6   Sgot Aspartate Aminotransferase       583 non-null    int64  \n",
      " 7   Total Proteins                        583 non-null    float64\n",
      " 8   ALB Albumin                           583 non-null    float64\n",
      " 9   A/G ratio Albumin and Globulin Ratio  579 non-null    float64\n",
      " 10  Result                                583 non-null    int64  \n",
      "dtypes: float64(5), int64(5), object(1)\n",
      "memory usage: 50.2+ KB\n"
     ]
    }
   ],
   "source": [
    "data.info()"
   ]
  },
  {
   "cell_type": "code",
   "execution_count": 48,
   "metadata": {},
   "outputs": [
    {
     "data": {
      "text/plain": [
       "Age                                     0\n",
       "Gender                                  0\n",
       "Total Bilirubin                         0\n",
       "Direct Bilirubin                        0\n",
       "Alkaline Phosphotase                    0\n",
       "Sgpt Alamine Aminotransferase           0\n",
       "Sgot Aspartate Aminotransferase         0\n",
       "Total Proteins                          0\n",
       "ALB Albumin                             0\n",
       "A/G ratio Albumin and Globulin Ratio    4\n",
       "Result                                  0\n",
       "dtype: int64"
      ]
     },
     "execution_count": 48,
     "metadata": {},
     "output_type": "execute_result"
    }
   ],
   "source": [
    "data.isna().sum()"
   ]
  },
  {
   "cell_type": "code",
   "execution_count": 49,
   "metadata": {},
   "outputs": [
    {
     "data": {
      "text/plain": [
       "array(['Female', 'Male'], dtype=object)"
      ]
     },
     "execution_count": 49,
     "metadata": {},
     "output_type": "execute_result"
    }
   ],
   "source": [
    "data[\"Gender\"].unique()"
   ]
  },
  {
   "cell_type": "code",
   "execution_count": 50,
   "metadata": {},
   "outputs": [],
   "source": [
    "data[\"Gender\"] = data[\"Gender\"].map({\"Male\": 1, \"Female\": 0})"
   ]
  },
  {
   "cell_type": "code",
   "execution_count": 51,
   "metadata": {},
   "outputs": [
    {
     "name": "stdout",
     "output_type": "stream",
     "text": [
      "<class 'pandas.core.frame.DataFrame'>\n",
      "RangeIndex: 583 entries, 0 to 582\n",
      "Data columns (total 11 columns):\n",
      " #   Column                                Non-Null Count  Dtype  \n",
      "---  ------                                --------------  -----  \n",
      " 0   Age                                   583 non-null    int64  \n",
      " 1   Gender                                583 non-null    int64  \n",
      " 2   Total Bilirubin                       583 non-null    float64\n",
      " 3   Direct Bilirubin                      583 non-null    float64\n",
      " 4   Alkaline Phosphotase                  583 non-null    int64  \n",
      " 5   Sgpt Alamine Aminotransferase         583 non-null    int64  \n",
      " 6   Sgot Aspartate Aminotransferase       583 non-null    int64  \n",
      " 7   Total Proteins                        583 non-null    float64\n",
      " 8   ALB Albumin                           583 non-null    float64\n",
      " 9   A/G ratio Albumin and Globulin Ratio  579 non-null    float64\n",
      " 10  Result                                583 non-null    int64  \n",
      "dtypes: float64(5), int64(6)\n",
      "memory usage: 50.2 KB\n"
     ]
    }
   ],
   "source": [
    "data.info()"
   ]
  },
  {
   "cell_type": "code",
   "execution_count": 52,
   "metadata": {},
   "outputs": [],
   "source": [
    "data[\"Result\"] = data[\"Result\"].map({2: 1,1:0})\n"
   ]
  },
  {
   "cell_type": "code",
   "execution_count": 53,
   "metadata": {},
   "outputs": [
    {
     "data": {
      "text/plain": [
       "Index(['Age', 'Gender', 'Total Bilirubin', 'Direct Bilirubin',\n",
       "       'Alkaline Phosphotase', 'Sgpt Alamine Aminotransferase',\n",
       "       'Sgot Aspartate Aminotransferase', 'Total Proteins', 'ALB Albumin',\n",
       "       'A/G ratio Albumin and Globulin Ratio', 'Result'],\n",
       "      dtype='object')"
      ]
     },
     "execution_count": 53,
     "metadata": {},
     "output_type": "execute_result"
    }
   ],
   "source": [
    "data.columns"
   ]
  },
  {
   "cell_type": "code",
   "execution_count": 54,
   "metadata": {},
   "outputs": [
    {
     "data": {
      "application/vnd.plotly.v1+json": {
       "config": {
        "plotlyServerURL": "https://plot.ly"
       },
       "data": [
        {
         "colorbar": {
          "title": {
           "text": "Correlation"
          }
         },
         "colorscale": [
          [
           0,
           "rgb(103,0,31)"
          ],
          [
           0.1,
           "rgb(178,24,43)"
          ],
          [
           0.2,
           "rgb(214,96,77)"
          ],
          [
           0.3,
           "rgb(244,165,130)"
          ],
          [
           0.4,
           "rgb(253,219,199)"
          ],
          [
           0.5,
           "rgb(247,247,247)"
          ],
          [
           0.6,
           "rgb(209,229,240)"
          ],
          [
           0.7,
           "rgb(146,197,222)"
          ],
          [
           0.8,
           "rgb(67,147,195)"
          ],
          [
           0.9,
           "rgb(33,102,172)"
          ],
          [
           1,
           "rgb(5,48,97)"
          ]
         ],
         "hoverinfo": "text",
         "text": [
          [
           "1.0",
           "0.06",
           "0.01",
           "0.01",
           "0.08",
           "-0.09",
           "-0.02",
           "-0.19",
           "-0.27",
           "-0.22",
           "-0.14"
          ],
          [
           "0.06",
           "1.0",
           "0.09",
           "0.1",
           "-0.03",
           "0.08",
           "0.08",
           "-0.09",
           "-0.09",
           "-0.0",
           "-0.08"
          ],
          [
           "0.01",
           "0.09",
           "1.0",
           "0.87",
           "0.21",
           "0.21",
           "0.24",
           "-0.01",
           "-0.22",
           "-0.21",
           "-0.22"
          ],
          [
           "0.01",
           "0.1",
           "0.87",
           "1.0",
           "0.23",
           "0.23",
           "0.26",
           "-0.0",
           "-0.23",
           "-0.2",
           "-0.25"
          ],
          [
           "0.08",
           "-0.03",
           "0.21",
           "0.23",
           "1.0",
           "0.13",
           "0.17",
           "-0.03",
           "-0.17",
           "-0.23",
           "-0.18"
          ],
          [
           "-0.09",
           "0.08",
           "0.21",
           "0.23",
           "0.13",
           "1.0",
           "0.79",
           "-0.04",
           "-0.03",
           "-0.0",
           "-0.16"
          ],
          [
           "-0.02",
           "0.08",
           "0.24",
           "0.26",
           "0.17",
           "0.79",
           "1.0",
           "-0.03",
           "-0.09",
           "-0.07",
           "-0.15"
          ],
          [
           "-0.19",
           "-0.09",
           "-0.01",
           "-0.0",
           "-0.03",
           "-0.04",
           "-0.03",
           "1.0",
           "0.78",
           "0.23",
           "0.04"
          ],
          [
           "-0.27",
           "-0.09",
           "-0.22",
           "-0.23",
           "-0.17",
           "-0.03",
           "-0.09",
           "0.78",
           "1.0",
           "0.69",
           "0.16"
          ],
          [
           "-0.22",
           "-0.0",
           "-0.21",
           "-0.2",
           "-0.23",
           "-0.0",
           "-0.07",
           "0.23",
           "0.69",
           "1.0",
           "0.16"
          ],
          [
           "-0.14",
           "-0.08",
           "-0.22",
           "-0.25",
           "-0.18",
           "-0.16",
           "-0.15",
           "0.04",
           "0.16",
           "0.16",
           "1.0"
          ]
         ],
         "texttemplate": "%{text}",
         "type": "heatmap",
         "x": [
          "Age",
          "Gender",
          "Total Bilirubin",
          "Direct Bilirubin",
          "Alkaline Phosphotase",
          "Sgpt Alamine Aminotransferase",
          "Sgot Aspartate Aminotransferase",
          "Total Proteins",
          "ALB Albumin",
          "A/G ratio Albumin and Globulin Ratio",
          "Result"
         ],
         "y": [
          "Age",
          "Gender",
          "Total Bilirubin",
          "Direct Bilirubin",
          "Alkaline Phosphotase",
          "Sgpt Alamine Aminotransferase",
          "Sgot Aspartate Aminotransferase",
          "Total Proteins",
          "ALB Albumin",
          "A/G ratio Albumin and Globulin Ratio",
          "Result"
         ],
         "z": {
          "bdata": "AAAAAAAA8D+HXF4bd/WsP8ZBIVkEF4g/RO9Rnd/Wfj/u48kXtZa0P0uLxM7yPba/sw1Q6j9jlL8iUJ4Ju/7Hv7/Bv5znBNG/Aa4OyUSzy7/PXR+RtJTBv4dcXht39aw/AAAAAAAA8D/IdhRyw9u2P5GW0sYztrk/giaBE/UnnL9GMzO2uRO1P2OFLobqkLQ/nlXz+6LQtr/vf/aMOgO4vw+CFH24DGy/F+0GmDUZtb/GQSFZBBeIP8h2FHLD27Y/AAAAAAAA8D/sC8u93vzrP3Z7M4IfdMo/TWAoMXlmyz+dNx68QXHOPw5PNnhjloC/P6KziLNyzL9vYluQ9mbKv6InTvDCL8y/RO9Rnd/Wfj+RltLGM7a5P+wLy73e/Os/AAAAAAAA8D+aNwe1eBLOP8bnUIk98M0/SxoFwJl70D8nX3XCYy8iv8NnamR9QM2/nlQiia+dyb9W5i1Pcn7Pv+7jyRe1lrQ/giaBE/UnnL92ezOCH3TKP5o3B7V4Es4/AAAAAAAA8D9WqV7XRxbAPw5FmdisZsU/E5JsA94ynb/wR6E8jy3Fv954Z/gq+c2/9oWSGa2px79Li8TO8j22v0YzM7a5E7U/TWAoMXlmyz/G51CJPfDNP1apXtdHFsA/AAAAAAAA8D8wBIBryFfpP9o9O7nxxKW/Hv+H55l0nr+e9ShDt3RjvzLxbxTS6sS/sw1Q6j9jlL9jhS6G6pC0P503HrxBcc4/SxoFwJl70D8ORZnYrGbFPzAEgGvIV+k/AAAAAAAA8D8rPM1Qx0KavxrPdtCV1bW/AafVUCHusb8PpVWpkHLDvyJQngm7/se/nlXz+6LQtr8OTzZ4Y5aAvydfdcJjLyK/E5JsA94ynb/aPTu58cSlvys8zVDHQpq/AAAAAAAA8D+/2DkF9xbpP8ABjXzIEM4//oi8d5nsoT+/wb+c5wTRv+9/9ow6A7i/P6KziLNyzL/DZ2pkfUDNv/BHoTyPLcW/Hv+H55l0nr8az3bQldW1v7/YOQX3Fuk/AAAAAAAA8D+it1bYdxHmP8gAOSlbqMQ/Aa4OyUSzy78PghR9uAxsv29iW5D2Zsq/nlQiia+dyb/eeGf4KvnNv571KEO3dGO/AafVUCHusb/AAY18yBDOP6K3Vth3EeY/AAAAAAAA8D951QoPfeHEP89dH5G0lMG/F+0GmDUZtb+iJ07wwi/Mv1bmLU9yfs+/9oWSGa2px78y8W8U0urEvw+lVamQcsO//oi8d5nsoT/IADkpW6jEP3nVCg994cQ/AAAAAAAA8D8=",
          "dtype": "f8",
          "shape": "11, 11"
         },
         "zmax": 1,
         "zmin": -1
        }
       ],
       "layout": {
        "height": 1000,
        "template": {
         "data": {
          "bar": [
           {
            "error_x": {
             "color": "#2a3f5f"
            },
            "error_y": {
             "color": "#2a3f5f"
            },
            "marker": {
             "line": {
              "color": "#E5ECF6",
              "width": 0.5
             },
             "pattern": {
              "fillmode": "overlay",
              "size": 10,
              "solidity": 0.2
             }
            },
            "type": "bar"
           }
          ],
          "barpolar": [
           {
            "marker": {
             "line": {
              "color": "#E5ECF6",
              "width": 0.5
             },
             "pattern": {
              "fillmode": "overlay",
              "size": 10,
              "solidity": 0.2
             }
            },
            "type": "barpolar"
           }
          ],
          "carpet": [
           {
            "aaxis": {
             "endlinecolor": "#2a3f5f",
             "gridcolor": "white",
             "linecolor": "white",
             "minorgridcolor": "white",
             "startlinecolor": "#2a3f5f"
            },
            "baxis": {
             "endlinecolor": "#2a3f5f",
             "gridcolor": "white",
             "linecolor": "white",
             "minorgridcolor": "white",
             "startlinecolor": "#2a3f5f"
            },
            "type": "carpet"
           }
          ],
          "choropleth": [
           {
            "colorbar": {
             "outlinewidth": 0,
             "ticks": ""
            },
            "type": "choropleth"
           }
          ],
          "contour": [
           {
            "colorbar": {
             "outlinewidth": 0,
             "ticks": ""
            },
            "colorscale": [
             [
              0,
              "#0d0887"
             ],
             [
              0.1111111111111111,
              "#46039f"
             ],
             [
              0.2222222222222222,
              "#7201a8"
             ],
             [
              0.3333333333333333,
              "#9c179e"
             ],
             [
              0.4444444444444444,
              "#bd3786"
             ],
             [
              0.5555555555555556,
              "#d8576b"
             ],
             [
              0.6666666666666666,
              "#ed7953"
             ],
             [
              0.7777777777777778,
              "#fb9f3a"
             ],
             [
              0.8888888888888888,
              "#fdca26"
             ],
             [
              1,
              "#f0f921"
             ]
            ],
            "type": "contour"
           }
          ],
          "contourcarpet": [
           {
            "colorbar": {
             "outlinewidth": 0,
             "ticks": ""
            },
            "type": "contourcarpet"
           }
          ],
          "heatmap": [
           {
            "colorbar": {
             "outlinewidth": 0,
             "ticks": ""
            },
            "colorscale": [
             [
              0,
              "#0d0887"
             ],
             [
              0.1111111111111111,
              "#46039f"
             ],
             [
              0.2222222222222222,
              "#7201a8"
             ],
             [
              0.3333333333333333,
              "#9c179e"
             ],
             [
              0.4444444444444444,
              "#bd3786"
             ],
             [
              0.5555555555555556,
              "#d8576b"
             ],
             [
              0.6666666666666666,
              "#ed7953"
             ],
             [
              0.7777777777777778,
              "#fb9f3a"
             ],
             [
              0.8888888888888888,
              "#fdca26"
             ],
             [
              1,
              "#f0f921"
             ]
            ],
            "type": "heatmap"
           }
          ],
          "histogram": [
           {
            "marker": {
             "pattern": {
              "fillmode": "overlay",
              "size": 10,
              "solidity": 0.2
             }
            },
            "type": "histogram"
           }
          ],
          "histogram2d": [
           {
            "colorbar": {
             "outlinewidth": 0,
             "ticks": ""
            },
            "colorscale": [
             [
              0,
              "#0d0887"
             ],
             [
              0.1111111111111111,
              "#46039f"
             ],
             [
              0.2222222222222222,
              "#7201a8"
             ],
             [
              0.3333333333333333,
              "#9c179e"
             ],
             [
              0.4444444444444444,
              "#bd3786"
             ],
             [
              0.5555555555555556,
              "#d8576b"
             ],
             [
              0.6666666666666666,
              "#ed7953"
             ],
             [
              0.7777777777777778,
              "#fb9f3a"
             ],
             [
              0.8888888888888888,
              "#fdca26"
             ],
             [
              1,
              "#f0f921"
             ]
            ],
            "type": "histogram2d"
           }
          ],
          "histogram2dcontour": [
           {
            "colorbar": {
             "outlinewidth": 0,
             "ticks": ""
            },
            "colorscale": [
             [
              0,
              "#0d0887"
             ],
             [
              0.1111111111111111,
              "#46039f"
             ],
             [
              0.2222222222222222,
              "#7201a8"
             ],
             [
              0.3333333333333333,
              "#9c179e"
             ],
             [
              0.4444444444444444,
              "#bd3786"
             ],
             [
              0.5555555555555556,
              "#d8576b"
             ],
             [
              0.6666666666666666,
              "#ed7953"
             ],
             [
              0.7777777777777778,
              "#fb9f3a"
             ],
             [
              0.8888888888888888,
              "#fdca26"
             ],
             [
              1,
              "#f0f921"
             ]
            ],
            "type": "histogram2dcontour"
           }
          ],
          "mesh3d": [
           {
            "colorbar": {
             "outlinewidth": 0,
             "ticks": ""
            },
            "type": "mesh3d"
           }
          ],
          "parcoords": [
           {
            "line": {
             "colorbar": {
              "outlinewidth": 0,
              "ticks": ""
             }
            },
            "type": "parcoords"
           }
          ],
          "pie": [
           {
            "automargin": true,
            "type": "pie"
           }
          ],
          "scatter": [
           {
            "fillpattern": {
             "fillmode": "overlay",
             "size": 10,
             "solidity": 0.2
            },
            "type": "scatter"
           }
          ],
          "scatter3d": [
           {
            "line": {
             "colorbar": {
              "outlinewidth": 0,
              "ticks": ""
             }
            },
            "marker": {
             "colorbar": {
              "outlinewidth": 0,
              "ticks": ""
             }
            },
            "type": "scatter3d"
           }
          ],
          "scattercarpet": [
           {
            "marker": {
             "colorbar": {
              "outlinewidth": 0,
              "ticks": ""
             }
            },
            "type": "scattercarpet"
           }
          ],
          "scattergeo": [
           {
            "marker": {
             "colorbar": {
              "outlinewidth": 0,
              "ticks": ""
             }
            },
            "type": "scattergeo"
           }
          ],
          "scattergl": [
           {
            "marker": {
             "colorbar": {
              "outlinewidth": 0,
              "ticks": ""
             }
            },
            "type": "scattergl"
           }
          ],
          "scattermap": [
           {
            "marker": {
             "colorbar": {
              "outlinewidth": 0,
              "ticks": ""
             }
            },
            "type": "scattermap"
           }
          ],
          "scattermapbox": [
           {
            "marker": {
             "colorbar": {
              "outlinewidth": 0,
              "ticks": ""
             }
            },
            "type": "scattermapbox"
           }
          ],
          "scatterpolar": [
           {
            "marker": {
             "colorbar": {
              "outlinewidth": 0,
              "ticks": ""
             }
            },
            "type": "scatterpolar"
           }
          ],
          "scatterpolargl": [
           {
            "marker": {
             "colorbar": {
              "outlinewidth": 0,
              "ticks": ""
             }
            },
            "type": "scatterpolargl"
           }
          ],
          "scatterternary": [
           {
            "marker": {
             "colorbar": {
              "outlinewidth": 0,
              "ticks": ""
             }
            },
            "type": "scatterternary"
           }
          ],
          "surface": [
           {
            "colorbar": {
             "outlinewidth": 0,
             "ticks": ""
            },
            "colorscale": [
             [
              0,
              "#0d0887"
             ],
             [
              0.1111111111111111,
              "#46039f"
             ],
             [
              0.2222222222222222,
              "#7201a8"
             ],
             [
              0.3333333333333333,
              "#9c179e"
             ],
             [
              0.4444444444444444,
              "#bd3786"
             ],
             [
              0.5555555555555556,
              "#d8576b"
             ],
             [
              0.6666666666666666,
              "#ed7953"
             ],
             [
              0.7777777777777778,
              "#fb9f3a"
             ],
             [
              0.8888888888888888,
              "#fdca26"
             ],
             [
              1,
              "#f0f921"
             ]
            ],
            "type": "surface"
           }
          ],
          "table": [
           {
            "cells": {
             "fill": {
              "color": "#EBF0F8"
             },
             "line": {
              "color": "white"
             }
            },
            "header": {
             "fill": {
              "color": "#C8D4E3"
             },
             "line": {
              "color": "white"
             }
            },
            "type": "table"
           }
          ]
         },
         "layout": {
          "annotationdefaults": {
           "arrowcolor": "#2a3f5f",
           "arrowhead": 0,
           "arrowwidth": 1
          },
          "autotypenumbers": "strict",
          "coloraxis": {
           "colorbar": {
            "outlinewidth": 0,
            "ticks": ""
           }
          },
          "colorscale": {
           "diverging": [
            [
             0,
             "#8e0152"
            ],
            [
             0.1,
             "#c51b7d"
            ],
            [
             0.2,
             "#de77ae"
            ],
            [
             0.3,
             "#f1b6da"
            ],
            [
             0.4,
             "#fde0ef"
            ],
            [
             0.5,
             "#f7f7f7"
            ],
            [
             0.6,
             "#e6f5d0"
            ],
            [
             0.7,
             "#b8e186"
            ],
            [
             0.8,
             "#7fbc41"
            ],
            [
             0.9,
             "#4d9221"
            ],
            [
             1,
             "#276419"
            ]
           ],
           "sequential": [
            [
             0,
             "#0d0887"
            ],
            [
             0.1111111111111111,
             "#46039f"
            ],
            [
             0.2222222222222222,
             "#7201a8"
            ],
            [
             0.3333333333333333,
             "#9c179e"
            ],
            [
             0.4444444444444444,
             "#bd3786"
            ],
            [
             0.5555555555555556,
             "#d8576b"
            ],
            [
             0.6666666666666666,
             "#ed7953"
            ],
            [
             0.7777777777777778,
             "#fb9f3a"
            ],
            [
             0.8888888888888888,
             "#fdca26"
            ],
            [
             1,
             "#f0f921"
            ]
           ],
           "sequentialminus": [
            [
             0,
             "#0d0887"
            ],
            [
             0.1111111111111111,
             "#46039f"
            ],
            [
             0.2222222222222222,
             "#7201a8"
            ],
            [
             0.3333333333333333,
             "#9c179e"
            ],
            [
             0.4444444444444444,
             "#bd3786"
            ],
            [
             0.5555555555555556,
             "#d8576b"
            ],
            [
             0.6666666666666666,
             "#ed7953"
            ],
            [
             0.7777777777777778,
             "#fb9f3a"
            ],
            [
             0.8888888888888888,
             "#fdca26"
            ],
            [
             1,
             "#f0f921"
            ]
           ]
          },
          "colorway": [
           "#636efa",
           "#EF553B",
           "#00cc96",
           "#ab63fa",
           "#FFA15A",
           "#19d3f3",
           "#FF6692",
           "#B6E880",
           "#FF97FF",
           "#FECB52"
          ],
          "font": {
           "color": "#2a3f5f"
          },
          "geo": {
           "bgcolor": "white",
           "lakecolor": "white",
           "landcolor": "#E5ECF6",
           "showlakes": true,
           "showland": true,
           "subunitcolor": "white"
          },
          "hoverlabel": {
           "align": "left"
          },
          "hovermode": "closest",
          "mapbox": {
           "style": "light"
          },
          "paper_bgcolor": "white",
          "plot_bgcolor": "#E5ECF6",
          "polar": {
           "angularaxis": {
            "gridcolor": "white",
            "linecolor": "white",
            "ticks": ""
           },
           "bgcolor": "#E5ECF6",
           "radialaxis": {
            "gridcolor": "white",
            "linecolor": "white",
            "ticks": ""
           }
          },
          "scene": {
           "xaxis": {
            "backgroundcolor": "#E5ECF6",
            "gridcolor": "white",
            "gridwidth": 2,
            "linecolor": "white",
            "showbackground": true,
            "ticks": "",
            "zerolinecolor": "white"
           },
           "yaxis": {
            "backgroundcolor": "#E5ECF6",
            "gridcolor": "white",
            "gridwidth": 2,
            "linecolor": "white",
            "showbackground": true,
            "ticks": "",
            "zerolinecolor": "white"
           },
           "zaxis": {
            "backgroundcolor": "#E5ECF6",
            "gridcolor": "white",
            "gridwidth": 2,
            "linecolor": "white",
            "showbackground": true,
            "ticks": "",
            "zerolinecolor": "white"
           }
          },
          "shapedefaults": {
           "line": {
            "color": "#2a3f5f"
           }
          },
          "ternary": {
           "aaxis": {
            "gridcolor": "white",
            "linecolor": "white",
            "ticks": ""
           },
           "baxis": {
            "gridcolor": "white",
            "linecolor": "white",
            "ticks": ""
           },
           "bgcolor": "#E5ECF6",
           "caxis": {
            "gridcolor": "white",
            "linecolor": "white",
            "ticks": ""
           }
          },
          "title": {
           "x": 0.05
          },
          "xaxis": {
           "automargin": true,
           "gridcolor": "white",
           "linecolor": "white",
           "ticks": "",
           "title": {
            "standoff": 15
           },
           "zerolinecolor": "white",
           "zerolinewidth": 2
          },
          "yaxis": {
           "automargin": true,
           "gridcolor": "white",
           "linecolor": "white",
           "ticks": "",
           "title": {
            "standoff": 15
           },
           "zerolinecolor": "white",
           "zerolinewidth": 2
          }
         }
        },
        "title": {
         "text": "Correlation Heatmap"
        },
        "width": 1000,
        "xaxis": {
         "title": {
          "text": "Features"
         }
        },
        "yaxis": {
         "title": {
          "text": "Features"
         }
        }
       }
      }
     },
     "metadata": {},
     "output_type": "display_data"
    }
   ],
   "source": [
    "import plotly.graph_objects as go\n",
    "\n",
    "# Compute correlation matrix\n",
    "correlation_matrix = data.corr()\n",
    "\n",
    "fig = go.Figure(data=go.Heatmap(\n",
    "            z=correlation_matrix.values,\n",
    "            x=correlation_matrix.columns,\n",
    "            y=correlation_matrix.columns,\n",
    "            colorscale='RdBu',\n",
    "            zmin=-1,\n",
    "            zmax=1,\n",
    "            colorbar=dict(title='Correlation'),\n",
    "            text=correlation_matrix.round(2).astype(str).values, \n",
    "            texttemplate=\"%{text}\",  \n",
    "            hoverinfo=\"text\" \n",
    "        ))\n",
    "\n",
    "fig.update_layout(\n",
    "    title='Correlation Heatmap',\n",
    "    xaxis_title='Features',\n",
    "    yaxis_title='Features',\n",
    "    width=1000,\n",
    "    height=1000\n",
    ")\n",
    "\n",
    "fig.show()\n",
    "\n"
   ]
  },
  {
   "cell_type": "code",
   "execution_count": 55,
   "metadata": {},
   "outputs": [
    {
     "data": {
      "application/vnd.plotly.v1+json": {
       "config": {
        "plotlyServerURL": "https://plot.ly"
       },
       "data": [
        {
         "alignmentgroup": "True",
         "hovertemplate": "Age=%{y}<extra></extra>",
         "legendgroup": "",
         "marker": {
          "color": "#636efa"
         },
         "name": "",
         "notched": false,
         "offsetgroup": "",
         "orientation": "v",
         "showlegend": false,
         "type": "box",
         "x0": " ",
         "xaxis": "x",
         "y": {
          "bdata": "QT4+OkguGh0RNzlIQEo9GSYhKCgzMz4oPyIiIhRUOTQ5JiYeES4wLy0+KjJVIxUoIDctIiYmKiohMDNAHzo6OTk5NiVCPBNLSzREHR9ERjo6HTEhIA4NOhI8PDw8PDxLJycSEhsbETc/JCQkJCQYMBtKMjIwICAgICA6QBw8MEA6LS1GEjUSQi4SEg88Qh4eLUFCQTI8ODIuNCIiIEhIMjw8PCcnMDcvPDxILDcfHx83S0tLS0tBKEAmPDw8MDw8PDExPDwaKQcxMSYVFS0oKEYtHCoWCCZCNzEGJSUvLzJGGhpEQS49PTIhKDwWIyMoMDMdHDY2NzcoISEhQSMmJjIsJCoqIRImJgQ+KygaJQQVHiEaIzwtMDoyMhISDSIrMjktPC0XFhZKGR8YOjMyMjc2MB4tMDM2Gx4aFiwjJg4eHiQMPCokGCsVGhoaJA0NS0tLS0skI0YlPC4mRjElJRowMBMhISVFGEE3KhUoEDwqOjYhMBk4LyEUMkgyJzo8IjImMy5ISEspKTAtSk4mG0IyKkEWHy0MMDASF0EwQUZGCzI3NxopNSA6LUE0STUvHSkeERcjQSoxKioqPRE2LTAwQSM6LhwVID0aQRYcJhktLRwcQkJCMSoqIyYmNyEhBy0tHj4WKiA8QTUbI0EZIBhDRDdGJCo1ICA4Mi4uJS04RTExPBwtIz43LjIdNS4oLTcWKD4uJzwuCjRBKio+KDYtLTIqKC4dLS5JNzMzMxpCQkJAJisyNBQQEFogICAgICA8KDQfJg==",
          "dtype": "i1"
         },
         "y0": " ",
         "yaxis": "y"
        }
       ],
       "layout": {
        "boxmode": "group",
        "legend": {
         "tracegroupgap": 0
        },
        "template": {
         "data": {
          "bar": [
           {
            "error_x": {
             "color": "#2a3f5f"
            },
            "error_y": {
             "color": "#2a3f5f"
            },
            "marker": {
             "line": {
              "color": "#E5ECF6",
              "width": 0.5
             },
             "pattern": {
              "fillmode": "overlay",
              "size": 10,
              "solidity": 0.2
             }
            },
            "type": "bar"
           }
          ],
          "barpolar": [
           {
            "marker": {
             "line": {
              "color": "#E5ECF6",
              "width": 0.5
             },
             "pattern": {
              "fillmode": "overlay",
              "size": 10,
              "solidity": 0.2
             }
            },
            "type": "barpolar"
           }
          ],
          "carpet": [
           {
            "aaxis": {
             "endlinecolor": "#2a3f5f",
             "gridcolor": "white",
             "linecolor": "white",
             "minorgridcolor": "white",
             "startlinecolor": "#2a3f5f"
            },
            "baxis": {
             "endlinecolor": "#2a3f5f",
             "gridcolor": "white",
             "linecolor": "white",
             "minorgridcolor": "white",
             "startlinecolor": "#2a3f5f"
            },
            "type": "carpet"
           }
          ],
          "choropleth": [
           {
            "colorbar": {
             "outlinewidth": 0,
             "ticks": ""
            },
            "type": "choropleth"
           }
          ],
          "contour": [
           {
            "colorbar": {
             "outlinewidth": 0,
             "ticks": ""
            },
            "colorscale": [
             [
              0,
              "#0d0887"
             ],
             [
              0.1111111111111111,
              "#46039f"
             ],
             [
              0.2222222222222222,
              "#7201a8"
             ],
             [
              0.3333333333333333,
              "#9c179e"
             ],
             [
              0.4444444444444444,
              "#bd3786"
             ],
             [
              0.5555555555555556,
              "#d8576b"
             ],
             [
              0.6666666666666666,
              "#ed7953"
             ],
             [
              0.7777777777777778,
              "#fb9f3a"
             ],
             [
              0.8888888888888888,
              "#fdca26"
             ],
             [
              1,
              "#f0f921"
             ]
            ],
            "type": "contour"
           }
          ],
          "contourcarpet": [
           {
            "colorbar": {
             "outlinewidth": 0,
             "ticks": ""
            },
            "type": "contourcarpet"
           }
          ],
          "heatmap": [
           {
            "colorbar": {
             "outlinewidth": 0,
             "ticks": ""
            },
            "colorscale": [
             [
              0,
              "#0d0887"
             ],
             [
              0.1111111111111111,
              "#46039f"
             ],
             [
              0.2222222222222222,
              "#7201a8"
             ],
             [
              0.3333333333333333,
              "#9c179e"
             ],
             [
              0.4444444444444444,
              "#bd3786"
             ],
             [
              0.5555555555555556,
              "#d8576b"
             ],
             [
              0.6666666666666666,
              "#ed7953"
             ],
             [
              0.7777777777777778,
              "#fb9f3a"
             ],
             [
              0.8888888888888888,
              "#fdca26"
             ],
             [
              1,
              "#f0f921"
             ]
            ],
            "type": "heatmap"
           }
          ],
          "histogram": [
           {
            "marker": {
             "pattern": {
              "fillmode": "overlay",
              "size": 10,
              "solidity": 0.2
             }
            },
            "type": "histogram"
           }
          ],
          "histogram2d": [
           {
            "colorbar": {
             "outlinewidth": 0,
             "ticks": ""
            },
            "colorscale": [
             [
              0,
              "#0d0887"
             ],
             [
              0.1111111111111111,
              "#46039f"
             ],
             [
              0.2222222222222222,
              "#7201a8"
             ],
             [
              0.3333333333333333,
              "#9c179e"
             ],
             [
              0.4444444444444444,
              "#bd3786"
             ],
             [
              0.5555555555555556,
              "#d8576b"
             ],
             [
              0.6666666666666666,
              "#ed7953"
             ],
             [
              0.7777777777777778,
              "#fb9f3a"
             ],
             [
              0.8888888888888888,
              "#fdca26"
             ],
             [
              1,
              "#f0f921"
             ]
            ],
            "type": "histogram2d"
           }
          ],
          "histogram2dcontour": [
           {
            "colorbar": {
             "outlinewidth": 0,
             "ticks": ""
            },
            "colorscale": [
             [
              0,
              "#0d0887"
             ],
             [
              0.1111111111111111,
              "#46039f"
             ],
             [
              0.2222222222222222,
              "#7201a8"
             ],
             [
              0.3333333333333333,
              "#9c179e"
             ],
             [
              0.4444444444444444,
              "#bd3786"
             ],
             [
              0.5555555555555556,
              "#d8576b"
             ],
             [
              0.6666666666666666,
              "#ed7953"
             ],
             [
              0.7777777777777778,
              "#fb9f3a"
             ],
             [
              0.8888888888888888,
              "#fdca26"
             ],
             [
              1,
              "#f0f921"
             ]
            ],
            "type": "histogram2dcontour"
           }
          ],
          "mesh3d": [
           {
            "colorbar": {
             "outlinewidth": 0,
             "ticks": ""
            },
            "type": "mesh3d"
           }
          ],
          "parcoords": [
           {
            "line": {
             "colorbar": {
              "outlinewidth": 0,
              "ticks": ""
             }
            },
            "type": "parcoords"
           }
          ],
          "pie": [
           {
            "automargin": true,
            "type": "pie"
           }
          ],
          "scatter": [
           {
            "fillpattern": {
             "fillmode": "overlay",
             "size": 10,
             "solidity": 0.2
            },
            "type": "scatter"
           }
          ],
          "scatter3d": [
           {
            "line": {
             "colorbar": {
              "outlinewidth": 0,
              "ticks": ""
             }
            },
            "marker": {
             "colorbar": {
              "outlinewidth": 0,
              "ticks": ""
             }
            },
            "type": "scatter3d"
           }
          ],
          "scattercarpet": [
           {
            "marker": {
             "colorbar": {
              "outlinewidth": 0,
              "ticks": ""
             }
            },
            "type": "scattercarpet"
           }
          ],
          "scattergeo": [
           {
            "marker": {
             "colorbar": {
              "outlinewidth": 0,
              "ticks": ""
             }
            },
            "type": "scattergeo"
           }
          ],
          "scattergl": [
           {
            "marker": {
             "colorbar": {
              "outlinewidth": 0,
              "ticks": ""
             }
            },
            "type": "scattergl"
           }
          ],
          "scattermap": [
           {
            "marker": {
             "colorbar": {
              "outlinewidth": 0,
              "ticks": ""
             }
            },
            "type": "scattermap"
           }
          ],
          "scattermapbox": [
           {
            "marker": {
             "colorbar": {
              "outlinewidth": 0,
              "ticks": ""
             }
            },
            "type": "scattermapbox"
           }
          ],
          "scatterpolar": [
           {
            "marker": {
             "colorbar": {
              "outlinewidth": 0,
              "ticks": ""
             }
            },
            "type": "scatterpolar"
           }
          ],
          "scatterpolargl": [
           {
            "marker": {
             "colorbar": {
              "outlinewidth": 0,
              "ticks": ""
             }
            },
            "type": "scatterpolargl"
           }
          ],
          "scatterternary": [
           {
            "marker": {
             "colorbar": {
              "outlinewidth": 0,
              "ticks": ""
             }
            },
            "type": "scatterternary"
           }
          ],
          "surface": [
           {
            "colorbar": {
             "outlinewidth": 0,
             "ticks": ""
            },
            "colorscale": [
             [
              0,
              "#0d0887"
             ],
             [
              0.1111111111111111,
              "#46039f"
             ],
             [
              0.2222222222222222,
              "#7201a8"
             ],
             [
              0.3333333333333333,
              "#9c179e"
             ],
             [
              0.4444444444444444,
              "#bd3786"
             ],
             [
              0.5555555555555556,
              "#d8576b"
             ],
             [
              0.6666666666666666,
              "#ed7953"
             ],
             [
              0.7777777777777778,
              "#fb9f3a"
             ],
             [
              0.8888888888888888,
              "#fdca26"
             ],
             [
              1,
              "#f0f921"
             ]
            ],
            "type": "surface"
           }
          ],
          "table": [
           {
            "cells": {
             "fill": {
              "color": "#EBF0F8"
             },
             "line": {
              "color": "white"
             }
            },
            "header": {
             "fill": {
              "color": "#C8D4E3"
             },
             "line": {
              "color": "white"
             }
            },
            "type": "table"
           }
          ]
         },
         "layout": {
          "annotationdefaults": {
           "arrowcolor": "#2a3f5f",
           "arrowhead": 0,
           "arrowwidth": 1
          },
          "autotypenumbers": "strict",
          "coloraxis": {
           "colorbar": {
            "outlinewidth": 0,
            "ticks": ""
           }
          },
          "colorscale": {
           "diverging": [
            [
             0,
             "#8e0152"
            ],
            [
             0.1,
             "#c51b7d"
            ],
            [
             0.2,
             "#de77ae"
            ],
            [
             0.3,
             "#f1b6da"
            ],
            [
             0.4,
             "#fde0ef"
            ],
            [
             0.5,
             "#f7f7f7"
            ],
            [
             0.6,
             "#e6f5d0"
            ],
            [
             0.7,
             "#b8e186"
            ],
            [
             0.8,
             "#7fbc41"
            ],
            [
             0.9,
             "#4d9221"
            ],
            [
             1,
             "#276419"
            ]
           ],
           "sequential": [
            [
             0,
             "#0d0887"
            ],
            [
             0.1111111111111111,
             "#46039f"
            ],
            [
             0.2222222222222222,
             "#7201a8"
            ],
            [
             0.3333333333333333,
             "#9c179e"
            ],
            [
             0.4444444444444444,
             "#bd3786"
            ],
            [
             0.5555555555555556,
             "#d8576b"
            ],
            [
             0.6666666666666666,
             "#ed7953"
            ],
            [
             0.7777777777777778,
             "#fb9f3a"
            ],
            [
             0.8888888888888888,
             "#fdca26"
            ],
            [
             1,
             "#f0f921"
            ]
           ],
           "sequentialminus": [
            [
             0,
             "#0d0887"
            ],
            [
             0.1111111111111111,
             "#46039f"
            ],
            [
             0.2222222222222222,
             "#7201a8"
            ],
            [
             0.3333333333333333,
             "#9c179e"
            ],
            [
             0.4444444444444444,
             "#bd3786"
            ],
            [
             0.5555555555555556,
             "#d8576b"
            ],
            [
             0.6666666666666666,
             "#ed7953"
            ],
            [
             0.7777777777777778,
             "#fb9f3a"
            ],
            [
             0.8888888888888888,
             "#fdca26"
            ],
            [
             1,
             "#f0f921"
            ]
           ]
          },
          "colorway": [
           "#636efa",
           "#EF553B",
           "#00cc96",
           "#ab63fa",
           "#FFA15A",
           "#19d3f3",
           "#FF6692",
           "#B6E880",
           "#FF97FF",
           "#FECB52"
          ],
          "font": {
           "color": "#2a3f5f"
          },
          "geo": {
           "bgcolor": "white",
           "lakecolor": "white",
           "landcolor": "#E5ECF6",
           "showlakes": true,
           "showland": true,
           "subunitcolor": "white"
          },
          "hoverlabel": {
           "align": "left"
          },
          "hovermode": "closest",
          "mapbox": {
           "style": "light"
          },
          "paper_bgcolor": "white",
          "plot_bgcolor": "#E5ECF6",
          "polar": {
           "angularaxis": {
            "gridcolor": "white",
            "linecolor": "white",
            "ticks": ""
           },
           "bgcolor": "#E5ECF6",
           "radialaxis": {
            "gridcolor": "white",
            "linecolor": "white",
            "ticks": ""
           }
          },
          "scene": {
           "xaxis": {
            "backgroundcolor": "#E5ECF6",
            "gridcolor": "white",
            "gridwidth": 2,
            "linecolor": "white",
            "showbackground": true,
            "ticks": "",
            "zerolinecolor": "white"
           },
           "yaxis": {
            "backgroundcolor": "#E5ECF6",
            "gridcolor": "white",
            "gridwidth": 2,
            "linecolor": "white",
            "showbackground": true,
            "ticks": "",
            "zerolinecolor": "white"
           },
           "zaxis": {
            "backgroundcolor": "#E5ECF6",
            "gridcolor": "white",
            "gridwidth": 2,
            "linecolor": "white",
            "showbackground": true,
            "ticks": "",
            "zerolinecolor": "white"
           }
          },
          "shapedefaults": {
           "line": {
            "color": "#2a3f5f"
           }
          },
          "ternary": {
           "aaxis": {
            "gridcolor": "white",
            "linecolor": "white",
            "ticks": ""
           },
           "baxis": {
            "gridcolor": "white",
            "linecolor": "white",
            "ticks": ""
           },
           "bgcolor": "#E5ECF6",
           "caxis": {
            "gridcolor": "white",
            "linecolor": "white",
            "ticks": ""
           }
          },
          "title": {
           "x": 0.05
          },
          "xaxis": {
           "automargin": true,
           "gridcolor": "white",
           "linecolor": "white",
           "ticks": "",
           "title": {
            "standoff": 15
           },
           "zerolinecolor": "white",
           "zerolinewidth": 2
          },
          "yaxis": {
           "automargin": true,
           "gridcolor": "white",
           "linecolor": "white",
           "ticks": "",
           "title": {
            "standoff": 15
           },
           "zerolinecolor": "white",
           "zerolinewidth": 2
          }
         }
        },
        "title": {
         "text": "Boxplot of Age"
        },
        "xaxis": {
         "anchor": "y",
         "domain": [
          0,
          1
         ]
        },
        "yaxis": {
         "anchor": "x",
         "domain": [
          0,
          1
         ],
         "title": {
          "text": "Age"
         }
        }
       }
      }
     },
     "metadata": {},
     "output_type": "display_data"
    },
    {
     "data": {
      "application/vnd.plotly.v1+json": {
       "config": {
        "plotlyServerURL": "https://plot.ly"
       },
       "data": [
        {
         "alignmentgroup": "True",
         "hovertemplate": "Total Bilirubin=%{y}<extra></extra>",
         "legendgroup": "",
         "marker": {
          "color": "#636efa"
         },
         "name": "",
         "notched": false,
         "offsetgroup": "",
         "orientation": "v",
         "showlegend": false,
         "type": "box",
         "x0": " ",
         "xaxis": "x",
         "y": {
          "bdata": "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",
          "dtype": "f8"
         },
         "y0": " ",
         "yaxis": "y"
        }
       ],
       "layout": {
        "boxmode": "group",
        "legend": {
         "tracegroupgap": 0
        },
        "template": {
         "data": {
          "bar": [
           {
            "error_x": {
             "color": "#2a3f5f"
            },
            "error_y": {
             "color": "#2a3f5f"
            },
            "marker": {
             "line": {
              "color": "#E5ECF6",
              "width": 0.5
             },
             "pattern": {
              "fillmode": "overlay",
              "size": 10,
              "solidity": 0.2
             }
            },
            "type": "bar"
           }
          ],
          "barpolar": [
           {
            "marker": {
             "line": {
              "color": "#E5ECF6",
              "width": 0.5
             },
             "pattern": {
              "fillmode": "overlay",
              "size": 10,
              "solidity": 0.2
             }
            },
            "type": "barpolar"
           }
          ],
          "carpet": [
           {
            "aaxis": {
             "endlinecolor": "#2a3f5f",
             "gridcolor": "white",
             "linecolor": "white",
             "minorgridcolor": "white",
             "startlinecolor": "#2a3f5f"
            },
            "baxis": {
             "endlinecolor": "#2a3f5f",
             "gridcolor": "white",
             "linecolor": "white",
             "minorgridcolor": "white",
             "startlinecolor": "#2a3f5f"
            },
            "type": "carpet"
           }
          ],
          "choropleth": [
           {
            "colorbar": {
             "outlinewidth": 0,
             "ticks": ""
            },
            "type": "choropleth"
           }
          ],
          "contour": [
           {
            "colorbar": {
             "outlinewidth": 0,
             "ticks": ""
            },
            "colorscale": [
             [
              0,
              "#0d0887"
             ],
             [
              0.1111111111111111,
              "#46039f"
             ],
             [
              0.2222222222222222,
              "#7201a8"
             ],
             [
              0.3333333333333333,
              "#9c179e"
             ],
             [
              0.4444444444444444,
              "#bd3786"
             ],
             [
              0.5555555555555556,
              "#d8576b"
             ],
             [
              0.6666666666666666,
              "#ed7953"
             ],
             [
              0.7777777777777778,
              "#fb9f3a"
             ],
             [
              0.8888888888888888,
              "#fdca26"
             ],
             [
              1,
              "#f0f921"
             ]
            ],
            "type": "contour"
           }
          ],
          "contourcarpet": [
           {
            "colorbar": {
             "outlinewidth": 0,
             "ticks": ""
            },
            "type": "contourcarpet"
           }
          ],
          "heatmap": [
           {
            "colorbar": {
             "outlinewidth": 0,
             "ticks": ""
            },
            "colorscale": [
             [
              0,
              "#0d0887"
             ],
             [
              0.1111111111111111,
              "#46039f"
             ],
             [
              0.2222222222222222,
              "#7201a8"
             ],
             [
              0.3333333333333333,
              "#9c179e"
             ],
             [
              0.4444444444444444,
              "#bd3786"
             ],
             [
              0.5555555555555556,
              "#d8576b"
             ],
             [
              0.6666666666666666,
              "#ed7953"
             ],
             [
              0.7777777777777778,
              "#fb9f3a"
             ],
             [
              0.8888888888888888,
              "#fdca26"
             ],
             [
              1,
              "#f0f921"
             ]
            ],
            "type": "heatmap"
           }
          ],
          "histogram": [
           {
            "marker": {
             "pattern": {
              "fillmode": "overlay",
              "size": 10,
              "solidity": 0.2
             }
            },
            "type": "histogram"
           }
          ],
          "histogram2d": [
           {
            "colorbar": {
             "outlinewidth": 0,
             "ticks": ""
            },
            "colorscale": [
             [
              0,
              "#0d0887"
             ],
             [
              0.1111111111111111,
              "#46039f"
             ],
             [
              0.2222222222222222,
              "#7201a8"
             ],
             [
              0.3333333333333333,
              "#9c179e"
             ],
             [
              0.4444444444444444,
              "#bd3786"
             ],
             [
              0.5555555555555556,
              "#d8576b"
             ],
             [
              0.6666666666666666,
              "#ed7953"
             ],
             [
              0.7777777777777778,
              "#fb9f3a"
             ],
             [
              0.8888888888888888,
              "#fdca26"
             ],
             [
              1,
              "#f0f921"
             ]
            ],
            "type": "histogram2d"
           }
          ],
          "histogram2dcontour": [
           {
            "colorbar": {
             "outlinewidth": 0,
             "ticks": ""
            },
            "colorscale": [
             [
              0,
              "#0d0887"
             ],
             [
              0.1111111111111111,
              "#46039f"
             ],
             [
              0.2222222222222222,
              "#7201a8"
             ],
             [
              0.3333333333333333,
              "#9c179e"
             ],
             [
              0.4444444444444444,
              "#bd3786"
             ],
             [
              0.5555555555555556,
              "#d8576b"
             ],
             [
              0.6666666666666666,
              "#ed7953"
             ],
             [
              0.7777777777777778,
              "#fb9f3a"
             ],
             [
              0.8888888888888888,
              "#fdca26"
             ],
             [
              1,
              "#f0f921"
             ]
            ],
            "type": "histogram2dcontour"
           }
          ],
          "mesh3d": [
           {
            "colorbar": {
             "outlinewidth": 0,
             "ticks": ""
            },
            "type": "mesh3d"
           }
          ],
          "parcoords": [
           {
            "line": {
             "colorbar": {
              "outlinewidth": 0,
              "ticks": ""
             }
            },
            "type": "parcoords"
           }
          ],
          "pie": [
           {
            "automargin": true,
            "type": "pie"
           }
          ],
          "scatter": [
           {
            "fillpattern": {
             "fillmode": "overlay",
             "size": 10,
             "solidity": 0.2
            },
            "type": "scatter"
           }
          ],
          "scatter3d": [
           {
            "line": {
             "colorbar": {
              "outlinewidth": 0,
              "ticks": ""
             }
            },
            "marker": {
             "colorbar": {
              "outlinewidth": 0,
              "ticks": ""
             }
            },
            "type": "scatter3d"
           }
          ],
          "scattercarpet": [
           {
            "marker": {
             "colorbar": {
              "outlinewidth": 0,
              "ticks": ""
             }
            },
            "type": "scattercarpet"
           }
          ],
          "scattergeo": [
           {
            "marker": {
             "colorbar": {
              "outlinewidth": 0,
              "ticks": ""
             }
            },
            "type": "scattergeo"
           }
          ],
          "scattergl": [
           {
            "marker": {
             "colorbar": {
              "outlinewidth": 0,
              "ticks": ""
             }
            },
            "type": "scattergl"
           }
          ],
          "scattermap": [
           {
            "marker": {
             "colorbar": {
              "outlinewidth": 0,
              "ticks": ""
             }
            },
            "type": "scattermap"
           }
          ],
          "scattermapbox": [
           {
            "marker": {
             "colorbar": {
              "outlinewidth": 0,
              "ticks": ""
             }
            },
            "type": "scattermapbox"
           }
          ],
          "scatterpolar": [
           {
            "marker": {
             "colorbar": {
              "outlinewidth": 0,
              "ticks": ""
             }
            },
            "type": "scatterpolar"
           }
          ],
          "scatterpolargl": [
           {
            "marker": {
             "colorbar": {
              "outlinewidth": 0,
              "ticks": ""
             }
            },
            "type": "scatterpolargl"
           }
          ],
          "scatterternary": [
           {
            "marker": {
             "colorbar": {
              "outlinewidth": 0,
              "ticks": ""
             }
            },
            "type": "scatterternary"
           }
          ],
          "surface": [
           {
            "colorbar": {
             "outlinewidth": 0,
             "ticks": ""
            },
            "colorscale": [
             [
              0,
              "#0d0887"
             ],
             [
              0.1111111111111111,
              "#46039f"
             ],
             [
              0.2222222222222222,
              "#7201a8"
             ],
             [
              0.3333333333333333,
              "#9c179e"
             ],
             [
              0.4444444444444444,
              "#bd3786"
             ],
             [
              0.5555555555555556,
              "#d8576b"
             ],
             [
              0.6666666666666666,
              "#ed7953"
             ],
             [
              0.7777777777777778,
              "#fb9f3a"
             ],
             [
              0.8888888888888888,
              "#fdca26"
             ],
             [
              1,
              "#f0f921"
             ]
            ],
            "type": "surface"
           }
          ],
          "table": [
           {
            "cells": {
             "fill": {
              "color": "#EBF0F8"
             },
             "line": {
              "color": "white"
             }
            },
            "header": {
             "fill": {
              "color": "#C8D4E3"
             },
             "line": {
              "color": "white"
             }
            },
            "type": "table"
           }
          ]
         },
         "layout": {
          "annotationdefaults": {
           "arrowcolor": "#2a3f5f",
           "arrowhead": 0,
           "arrowwidth": 1
          },
          "autotypenumbers": "strict",
          "coloraxis": {
           "colorbar": {
            "outlinewidth": 0,
            "ticks": ""
           }
          },
          "colorscale": {
           "diverging": [
            [
             0,
             "#8e0152"
            ],
            [
             0.1,
             "#c51b7d"
            ],
            [
             0.2,
             "#de77ae"
            ],
            [
             0.3,
             "#f1b6da"
            ],
            [
             0.4,
             "#fde0ef"
            ],
            [
             0.5,
             "#f7f7f7"
            ],
            [
             0.6,
             "#e6f5d0"
            ],
            [
             0.7,
             "#b8e186"
            ],
            [
             0.8,
             "#7fbc41"
            ],
            [
             0.9,
             "#4d9221"
            ],
            [
             1,
             "#276419"
            ]
           ],
           "sequential": [
            [
             0,
             "#0d0887"
            ],
            [
             0.1111111111111111,
             "#46039f"
            ],
            [
             0.2222222222222222,
             "#7201a8"
            ],
            [
             0.3333333333333333,
             "#9c179e"
            ],
            [
             0.4444444444444444,
             "#bd3786"
            ],
            [
             0.5555555555555556,
             "#d8576b"
            ],
            [
             0.6666666666666666,
             "#ed7953"
            ],
            [
             0.7777777777777778,
             "#fb9f3a"
            ],
            [
             0.8888888888888888,
             "#fdca26"
            ],
            [
             1,
             "#f0f921"
            ]
           ],
           "sequentialminus": [
            [
             0,
             "#0d0887"
            ],
            [
             0.1111111111111111,
             "#46039f"
            ],
            [
             0.2222222222222222,
             "#7201a8"
            ],
            [
             0.3333333333333333,
             "#9c179e"
            ],
            [
             0.4444444444444444,
             "#bd3786"
            ],
            [
             0.5555555555555556,
             "#d8576b"
            ],
            [
             0.6666666666666666,
             "#ed7953"
            ],
            [
             0.7777777777777778,
             "#fb9f3a"
            ],
            [
             0.8888888888888888,
             "#fdca26"
            ],
            [
             1,
             "#f0f921"
            ]
           ]
          },
          "colorway": [
           "#636efa",
           "#EF553B",
           "#00cc96",
           "#ab63fa",
           "#FFA15A",
           "#19d3f3",
           "#FF6692",
           "#B6E880",
           "#FF97FF",
           "#FECB52"
          ],
          "font": {
           "color": "#2a3f5f"
          },
          "geo": {
           "bgcolor": "white",
           "lakecolor": "white",
           "landcolor": "#E5ECF6",
           "showlakes": true,
           "showland": true,
           "subunitcolor": "white"
          },
          "hoverlabel": {
           "align": "left"
          },
          "hovermode": "closest",
          "mapbox": {
           "style": "light"
          },
          "paper_bgcolor": "white",
          "plot_bgcolor": "#E5ECF6",
          "polar": {
           "angularaxis": {
            "gridcolor": "white",
            "linecolor": "white",
            "ticks": ""
           },
           "bgcolor": "#E5ECF6",
           "radialaxis": {
            "gridcolor": "white",
            "linecolor": "white",
            "ticks": ""
           }
          },
          "scene": {
           "xaxis": {
            "backgroundcolor": "#E5ECF6",
            "gridcolor": "white",
            "gridwidth": 2,
            "linecolor": "white",
            "showbackground": true,
            "ticks": "",
            "zerolinecolor": "white"
           },
           "yaxis": {
            "backgroundcolor": "#E5ECF6",
            "gridcolor": "white",
            "gridwidth": 2,
            "linecolor": "white",
            "showbackground": true,
            "ticks": "",
            "zerolinecolor": "white"
           },
           "zaxis": {
            "backgroundcolor": "#E5ECF6",
            "gridcolor": "white",
            "gridwidth": 2,
            "linecolor": "white",
            "showbackground": true,
            "ticks": "",
            "zerolinecolor": "white"
           }
          },
          "shapedefaults": {
           "line": {
            "color": "#2a3f5f"
           }
          },
          "ternary": {
           "aaxis": {
            "gridcolor": "white",
            "linecolor": "white",
            "ticks": ""
           },
           "baxis": {
            "gridcolor": "white",
            "linecolor": "white",
            "ticks": ""
           },
           "bgcolor": "#E5ECF6",
           "caxis": {
            "gridcolor": "white",
            "linecolor": "white",
            "ticks": ""
           }
          },
          "title": {
           "x": 0.05
          },
          "xaxis": {
           "automargin": true,
           "gridcolor": "white",
           "linecolor": "white",
           "ticks": "",
           "title": {
            "standoff": 15
           },
           "zerolinecolor": "white",
           "zerolinewidth": 2
          },
          "yaxis": {
           "automargin": true,
           "gridcolor": "white",
           "linecolor": "white",
           "ticks": "",
           "title": {
            "standoff": 15
           },
           "zerolinecolor": "white",
           "zerolinewidth": 2
          }
         }
        },
        "title": {
         "text": "Boxplot of Total Bilirubin"
        },
        "xaxis": {
         "anchor": "y",
         "domain": [
          0,
          1
         ]
        },
        "yaxis": {
         "anchor": "x",
         "domain": [
          0,
          1
         ],
         "title": {
          "text": "Total Bilirubin"
         }
        }
       }
      }
     },
     "metadata": {},
     "output_type": "display_data"
    },
    {
     "data": {
      "application/vnd.plotly.v1+json": {
       "config": {
        "plotlyServerURL": "https://plot.ly"
       },
       "data": [
        {
         "alignmentgroup": "True",
         "hovertemplate": "Direct Bilirubin=%{y}<extra></extra>",
         "legendgroup": "",
         "marker": {
          "color": "#636efa"
         },
         "name": "",
         "notched": false,
         "offsetgroup": "",
         "orientation": "v",
         "showlegend": false,
         "type": "box",
         "x0": " ",
         "xaxis": "x",
         "y": {
          "bdata": "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",
          "dtype": "f8"
         },
         "y0": " ",
         "yaxis": "y"
        }
       ],
       "layout": {
        "boxmode": "group",
        "legend": {
         "tracegroupgap": 0
        },
        "template": {
         "data": {
          "bar": [
           {
            "error_x": {
             "color": "#2a3f5f"
            },
            "error_y": {
             "color": "#2a3f5f"
            },
            "marker": {
             "line": {
              "color": "#E5ECF6",
              "width": 0.5
             },
             "pattern": {
              "fillmode": "overlay",
              "size": 10,
              "solidity": 0.2
             }
            },
            "type": "bar"
           }
          ],
          "barpolar": [
           {
            "marker": {
             "line": {
              "color": "#E5ECF6",
              "width": 0.5
             },
             "pattern": {
              "fillmode": "overlay",
              "size": 10,
              "solidity": 0.2
             }
            },
            "type": "barpolar"
           }
          ],
          "carpet": [
           {
            "aaxis": {
             "endlinecolor": "#2a3f5f",
             "gridcolor": "white",
             "linecolor": "white",
             "minorgridcolor": "white",
             "startlinecolor": "#2a3f5f"
            },
            "baxis": {
             "endlinecolor": "#2a3f5f",
             "gridcolor": "white",
             "linecolor": "white",
             "minorgridcolor": "white",
             "startlinecolor": "#2a3f5f"
            },
            "type": "carpet"
           }
          ],
          "choropleth": [
           {
            "colorbar": {
             "outlinewidth": 0,
             "ticks": ""
            },
            "type": "choropleth"
           }
          ],
          "contour": [
           {
            "colorbar": {
             "outlinewidth": 0,
             "ticks": ""
            },
            "colorscale": [
             [
              0,
              "#0d0887"
             ],
             [
              0.1111111111111111,
              "#46039f"
             ],
             [
              0.2222222222222222,
              "#7201a8"
             ],
             [
              0.3333333333333333,
              "#9c179e"
             ],
             [
              0.4444444444444444,
              "#bd3786"
             ],
             [
              0.5555555555555556,
              "#d8576b"
             ],
             [
              0.6666666666666666,
              "#ed7953"
             ],
             [
              0.7777777777777778,
              "#fb9f3a"
             ],
             [
              0.8888888888888888,
              "#fdca26"
             ],
             [
              1,
              "#f0f921"
             ]
            ],
            "type": "contour"
           }
          ],
          "contourcarpet": [
           {
            "colorbar": {
             "outlinewidth": 0,
             "ticks": ""
            },
            "type": "contourcarpet"
           }
          ],
          "heatmap": [
           {
            "colorbar": {
             "outlinewidth": 0,
             "ticks": ""
            },
            "colorscale": [
             [
              0,
              "#0d0887"
             ],
             [
              0.1111111111111111,
              "#46039f"
             ],
             [
              0.2222222222222222,
              "#7201a8"
             ],
             [
              0.3333333333333333,
              "#9c179e"
             ],
             [
              0.4444444444444444,
              "#bd3786"
             ],
             [
              0.5555555555555556,
              "#d8576b"
             ],
             [
              0.6666666666666666,
              "#ed7953"
             ],
             [
              0.7777777777777778,
              "#fb9f3a"
             ],
             [
              0.8888888888888888,
              "#fdca26"
             ],
             [
              1,
              "#f0f921"
             ]
            ],
            "type": "heatmap"
           }
          ],
          "histogram": [
           {
            "marker": {
             "pattern": {
              "fillmode": "overlay",
              "size": 10,
              "solidity": 0.2
             }
            },
            "type": "histogram"
           }
          ],
          "histogram2d": [
           {
            "colorbar": {
             "outlinewidth": 0,
             "ticks": ""
            },
            "colorscale": [
             [
              0,
              "#0d0887"
             ],
             [
              0.1111111111111111,
              "#46039f"
             ],
             [
              0.2222222222222222,
              "#7201a8"
             ],
             [
              0.3333333333333333,
              "#9c179e"
             ],
             [
              0.4444444444444444,
              "#bd3786"
             ],
             [
              0.5555555555555556,
              "#d8576b"
             ],
             [
              0.6666666666666666,
              "#ed7953"
             ],
             [
              0.7777777777777778,
              "#fb9f3a"
             ],
             [
              0.8888888888888888,
              "#fdca26"
             ],
             [
              1,
              "#f0f921"
             ]
            ],
            "type": "histogram2d"
           }
          ],
          "histogram2dcontour": [
           {
            "colorbar": {
             "outlinewidth": 0,
             "ticks": ""
            },
            "colorscale": [
             [
              0,
              "#0d0887"
             ],
             [
              0.1111111111111111,
              "#46039f"
             ],
             [
              0.2222222222222222,
              "#7201a8"
             ],
             [
              0.3333333333333333,
              "#9c179e"
             ],
             [
              0.4444444444444444,
              "#bd3786"
             ],
             [
              0.5555555555555556,
              "#d8576b"
             ],
             [
              0.6666666666666666,
              "#ed7953"
             ],
             [
              0.7777777777777778,
              "#fb9f3a"
             ],
             [
              0.8888888888888888,
              "#fdca26"
             ],
             [
              1,
              "#f0f921"
             ]
            ],
            "type": "histogram2dcontour"
           }
          ],
          "mesh3d": [
           {
            "colorbar": {
             "outlinewidth": 0,
             "ticks": ""
            },
            "type": "mesh3d"
           }
          ],
          "parcoords": [
           {
            "line": {
             "colorbar": {
              "outlinewidth": 0,
              "ticks": ""
             }
            },
            "type": "parcoords"
           }
          ],
          "pie": [
           {
            "automargin": true,
            "type": "pie"
           }
          ],
          "scatter": [
           {
            "fillpattern": {
             "fillmode": "overlay",
             "size": 10,
             "solidity": 0.2
            },
            "type": "scatter"
           }
          ],
          "scatter3d": [
           {
            "line": {
             "colorbar": {
              "outlinewidth": 0,
              "ticks": ""
             }
            },
            "marker": {
             "colorbar": {
              "outlinewidth": 0,
              "ticks": ""
             }
            },
            "type": "scatter3d"
           }
          ],
          "scattercarpet": [
           {
            "marker": {
             "colorbar": {
              "outlinewidth": 0,
              "ticks": ""
             }
            },
            "type": "scattercarpet"
           }
          ],
          "scattergeo": [
           {
            "marker": {
             "colorbar": {
              "outlinewidth": 0,
              "ticks": ""
             }
            },
            "type": "scattergeo"
           }
          ],
          "scattergl": [
           {
            "marker": {
             "colorbar": {
              "outlinewidth": 0,
              "ticks": ""
             }
            },
            "type": "scattergl"
           }
          ],
          "scattermap": [
           {
            "marker": {
             "colorbar": {
              "outlinewidth": 0,
              "ticks": ""
             }
            },
            "type": "scattermap"
           }
          ],
          "scattermapbox": [
           {
            "marker": {
             "colorbar": {
              "outlinewidth": 0,
              "ticks": ""
             }
            },
            "type": "scattermapbox"
           }
          ],
          "scatterpolar": [
           {
            "marker": {
             "colorbar": {
              "outlinewidth": 0,
              "ticks": ""
             }
            },
            "type": "scatterpolar"
           }
          ],
          "scatterpolargl": [
           {
            "marker": {
             "colorbar": {
              "outlinewidth": 0,
              "ticks": ""
             }
            },
            "type": "scatterpolargl"
           }
          ],
          "scatterternary": [
           {
            "marker": {
             "colorbar": {
              "outlinewidth": 0,
              "ticks": ""
             }
            },
            "type": "scatterternary"
           }
          ],
          "surface": [
           {
            "colorbar": {
             "outlinewidth": 0,
             "ticks": ""
            },
            "colorscale": [
             [
              0,
              "#0d0887"
             ],
             [
              0.1111111111111111,
              "#46039f"
             ],
             [
              0.2222222222222222,
              "#7201a8"
             ],
             [
              0.3333333333333333,
              "#9c179e"
             ],
             [
              0.4444444444444444,
              "#bd3786"
             ],
             [
              0.5555555555555556,
              "#d8576b"
             ],
             [
              0.6666666666666666,
              "#ed7953"
             ],
             [
              0.7777777777777778,
              "#fb9f3a"
             ],
             [
              0.8888888888888888,
              "#fdca26"
             ],
             [
              1,
              "#f0f921"
             ]
            ],
            "type": "surface"
           }
          ],
          "table": [
           {
            "cells": {
             "fill": {
              "color": "#EBF0F8"
             },
             "line": {
              "color": "white"
             }
            },
            "header": {
             "fill": {
              "color": "#C8D4E3"
             },
             "line": {
              "color": "white"
             }
            },
            "type": "table"
           }
          ]
         },
         "layout": {
          "annotationdefaults": {
           "arrowcolor": "#2a3f5f",
           "arrowhead": 0,
           "arrowwidth": 1
          },
          "autotypenumbers": "strict",
          "coloraxis": {
           "colorbar": {
            "outlinewidth": 0,
            "ticks": ""
           }
          },
          "colorscale": {
           "diverging": [
            [
             0,
             "#8e0152"
            ],
            [
             0.1,
             "#c51b7d"
            ],
            [
             0.2,
             "#de77ae"
            ],
            [
             0.3,
             "#f1b6da"
            ],
            [
             0.4,
             "#fde0ef"
            ],
            [
             0.5,
             "#f7f7f7"
            ],
            [
             0.6,
             "#e6f5d0"
            ],
            [
             0.7,
             "#b8e186"
            ],
            [
             0.8,
             "#7fbc41"
            ],
            [
             0.9,
             "#4d9221"
            ],
            [
             1,
             "#276419"
            ]
           ],
           "sequential": [
            [
             0,
             "#0d0887"
            ],
            [
             0.1111111111111111,
             "#46039f"
            ],
            [
             0.2222222222222222,
             "#7201a8"
            ],
            [
             0.3333333333333333,
             "#9c179e"
            ],
            [
             0.4444444444444444,
             "#bd3786"
            ],
            [
             0.5555555555555556,
             "#d8576b"
            ],
            [
             0.6666666666666666,
             "#ed7953"
            ],
            [
             0.7777777777777778,
             "#fb9f3a"
            ],
            [
             0.8888888888888888,
             "#fdca26"
            ],
            [
             1,
             "#f0f921"
            ]
           ],
           "sequentialminus": [
            [
             0,
             "#0d0887"
            ],
            [
             0.1111111111111111,
             "#46039f"
            ],
            [
             0.2222222222222222,
             "#7201a8"
            ],
            [
             0.3333333333333333,
             "#9c179e"
            ],
            [
             0.4444444444444444,
             "#bd3786"
            ],
            [
             0.5555555555555556,
             "#d8576b"
            ],
            [
             0.6666666666666666,
             "#ed7953"
            ],
            [
             0.7777777777777778,
             "#fb9f3a"
            ],
            [
             0.8888888888888888,
             "#fdca26"
            ],
            [
             1,
             "#f0f921"
            ]
           ]
          },
          "colorway": [
           "#636efa",
           "#EF553B",
           "#00cc96",
           "#ab63fa",
           "#FFA15A",
           "#19d3f3",
           "#FF6692",
           "#B6E880",
           "#FF97FF",
           "#FECB52"
          ],
          "font": {
           "color": "#2a3f5f"
          },
          "geo": {
           "bgcolor": "white",
           "lakecolor": "white",
           "landcolor": "#E5ECF6",
           "showlakes": true,
           "showland": true,
           "subunitcolor": "white"
          },
          "hoverlabel": {
           "align": "left"
          },
          "hovermode": "closest",
          "mapbox": {
           "style": "light"
          },
          "paper_bgcolor": "white",
          "plot_bgcolor": "#E5ECF6",
          "polar": {
           "angularaxis": {
            "gridcolor": "white",
            "linecolor": "white",
            "ticks": ""
           },
           "bgcolor": "#E5ECF6",
           "radialaxis": {
            "gridcolor": "white",
            "linecolor": "white",
            "ticks": ""
           }
          },
          "scene": {
           "xaxis": {
            "backgroundcolor": "#E5ECF6",
            "gridcolor": "white",
            "gridwidth": 2,
            "linecolor": "white",
            "showbackground": true,
            "ticks": "",
            "zerolinecolor": "white"
           },
           "yaxis": {
            "backgroundcolor": "#E5ECF6",
            "gridcolor": "white",
            "gridwidth": 2,
            "linecolor": "white",
            "showbackground": true,
            "ticks": "",
            "zerolinecolor": "white"
           },
           "zaxis": {
            "backgroundcolor": "#E5ECF6",
            "gridcolor": "white",
            "gridwidth": 2,
            "linecolor": "white",
            "showbackground": true,
            "ticks": "",
            "zerolinecolor": "white"
           }
          },
          "shapedefaults": {
           "line": {
            "color": "#2a3f5f"
           }
          },
          "ternary": {
           "aaxis": {
            "gridcolor": "white",
            "linecolor": "white",
            "ticks": ""
           },
           "baxis": {
            "gridcolor": "white",
            "linecolor": "white",
            "ticks": ""
           },
           "bgcolor": "#E5ECF6",
           "caxis": {
            "gridcolor": "white",
            "linecolor": "white",
            "ticks": ""
           }
          },
          "title": {
           "x": 0.05
          },
          "xaxis": {
           "automargin": true,
           "gridcolor": "white",
           "linecolor": "white",
           "ticks": "",
           "title": {
            "standoff": 15
           },
           "zerolinecolor": "white",
           "zerolinewidth": 2
          },
          "yaxis": {
           "automargin": true,
           "gridcolor": "white",
           "linecolor": "white",
           "ticks": "",
           "title": {
            "standoff": 15
           },
           "zerolinecolor": "white",
           "zerolinewidth": 2
          }
         }
        },
        "title": {
         "text": "Boxplot of Direct Bilirubin"
        },
        "xaxis": {
         "anchor": "y",
         "domain": [
          0,
          1
         ]
        },
        "yaxis": {
         "anchor": "x",
         "domain": [
          0,
          1
         ],
         "title": {
          "text": "Direct Bilirubin"
         }
        }
       }
      }
     },
     "metadata": {},
     "output_type": "display_data"
    },
    {
     "data": {
      "application/vnd.plotly.v1+json": {
       "config": {
        "plotlyServerURL": "https://plot.ly"
       },
       "data": [
        {
         "alignmentgroup": "True",
         "hovertemplate": "Alkaline Phosphotase=%{y}<extra></extra>",
         "legendgroup": "",
         "marker": {
          "color": "#636efa"
         },
         "name": "",
         "notched": false,
         "offsetgroup": "",
         "orientation": "v",
         "showlegend": false,
         "type": "box",
         "x0": " ",
         "xaxis": "x",
         "y": {
          "bdata": "uwC7AuoBtgDDANAAmgDKAMoAIgHSAAQBNgHWAJEAtwBWAaUAJQElAWIC4gEeAucAwgAhASEB8ACAALwAvgCcALsAmgGaAeIBkQB2AQcBEwGoAKAAdgKfAdAAEwGWAOYAsADOAKoAoQD9AMYAEAEQAcYArwBvAZEAngCeAJ4A0AADAdYBwwDXAO8A1wC6ALwAzQCrAJEAogAGAlQGkgCeApMDSwCUAAIB7QANAUABKgEaAu4A1gA0ASoBzACoABoBKgHXAAkBOAGhAPMA4ADhAKoAkQCRAJ4AngDmAbwAAQGzABABlQIsBl4GwgAYASoBLAEiAbwAsgCxAMkAIgP4AGgHBwEAAu0AxwDuALIAVgQ2ARoBGgF8AboAnwBMAUwBvQDJAKgAiAHKAB4BtADaALYAsgAiASoBzgHEAMQAGgHuAhoEVwK0ALQAGgFMASQBwgO2A8gAKgHuAq8ArwDGAOIB/AMyAoIB+gDaAKoAqwDJACoB7gK/AGYC2gA6AQEBEAHOANEAZASYAo4AqQCMBdoA2gCRAI4AhwCjAB0BXgHcAL0AvgDbAKAAkQG0AGQAdACfACEBfQCTAMAACQGvAJABeACtALoAygAiAcQAGgGdAD4IHQFoASwBngC+AMQApQDmAM0APAHaACIBEAG+AMoA8gHgAagCAgG0AJgAWwOFA08BtgAdAfUA+QHkALkA9wBcAcMAjABmAW4A6wDMAXwBBgHEALQAvgC+ANEAkAB7AMAAvAA8ASwBPwLAAJsA7wA7AfoArgD1AL8AVAHKAOoAnwC+AMMAtAAYAa4BzgCbAMMATAKuAKUADwKvAD4CagCeAMMAswC2AMYA2AA2AT8AxgDNAC4BqwCeAGYBrgDAANMAnQDSAAIBmABeAbYAygF3AZUB1wDOAIoCxgDGAMMA5gBzANgAZgGeAJEAwwCQAG0ClgCyAAABzQCwAJIA2gC2ANcApQC3ALAAogEPAbYAggAuAocARgGMAJEAzgCoAMoAwAC5AEsBvACsAJ8A6gGYAGkAoACgAGYAlACiAJUARAI2AYwArwCYANAAzQCiAFwAogDHAMYA1wC0AM8CKgIrAtcA/QG+ANAABAGyAl4DUALCAUYFRgWjAPYAsgDwAGQApgCqAMIA1ga2AOwApQDJAMIAzgDUAJ0AogCoAMYAJAEqAZgAowAXAbUADgaOAK0AGgEXAUwE4ACfALoAvQDAAIwArgLXADUBbgCCAKQADgGJAFoAvgClAKcAuQDFAJoA4gA2ATYB3ADEALoAYAEaAVwAtgBnAFIDwwAUAasAkgDBALQAJQMJAbkApQC9AMYAlwBdAW0BMQF/AO4A2gDbAO8AwgDCAf4AzQBAAcMA1wDmAL0AqADXANIAbADgAOYAuQCJAJwA0gAMASoBOwHWAIoAHQGiACoB5gDSAeMAiwFhAJYBcgDGAK0AzABeAZkAvAB8AdYAAAOsAKAAxADoANwAIgG0AL0AEwGGAWQBOwGEASoBpQCPAL8A+wDIAAwB7ADXAIYAZAIDAjACIQG+APQBYgD1ALgA2AA=",
          "dtype": "i2"
         },
         "y0": " ",
         "yaxis": "y"
        }
       ],
       "layout": {
        "boxmode": "group",
        "legend": {
         "tracegroupgap": 0
        },
        "template": {
         "data": {
          "bar": [
           {
            "error_x": {
             "color": "#2a3f5f"
            },
            "error_y": {
             "color": "#2a3f5f"
            },
            "marker": {
             "line": {
              "color": "#E5ECF6",
              "width": 0.5
             },
             "pattern": {
              "fillmode": "overlay",
              "size": 10,
              "solidity": 0.2
             }
            },
            "type": "bar"
           }
          ],
          "barpolar": [
           {
            "marker": {
             "line": {
              "color": "#E5ECF6",
              "width": 0.5
             },
             "pattern": {
              "fillmode": "overlay",
              "size": 10,
              "solidity": 0.2
             }
            },
            "type": "barpolar"
           }
          ],
          "carpet": [
           {
            "aaxis": {
             "endlinecolor": "#2a3f5f",
             "gridcolor": "white",
             "linecolor": "white",
             "minorgridcolor": "white",
             "startlinecolor": "#2a3f5f"
            },
            "baxis": {
             "endlinecolor": "#2a3f5f",
             "gridcolor": "white",
             "linecolor": "white",
             "minorgridcolor": "white",
             "startlinecolor": "#2a3f5f"
            },
            "type": "carpet"
           }
          ],
          "choropleth": [
           {
            "colorbar": {
             "outlinewidth": 0,
             "ticks": ""
            },
            "type": "choropleth"
           }
          ],
          "contour": [
           {
            "colorbar": {
             "outlinewidth": 0,
             "ticks": ""
            },
            "colorscale": [
             [
              0,
              "#0d0887"
             ],
             [
              0.1111111111111111,
              "#46039f"
             ],
             [
              0.2222222222222222,
              "#7201a8"
             ],
             [
              0.3333333333333333,
              "#9c179e"
             ],
             [
              0.4444444444444444,
              "#bd3786"
             ],
             [
              0.5555555555555556,
              "#d8576b"
             ],
             [
              0.6666666666666666,
              "#ed7953"
             ],
             [
              0.7777777777777778,
              "#fb9f3a"
             ],
             [
              0.8888888888888888,
              "#fdca26"
             ],
             [
              1,
              "#f0f921"
             ]
            ],
            "type": "contour"
           }
          ],
          "contourcarpet": [
           {
            "colorbar": {
             "outlinewidth": 0,
             "ticks": ""
            },
            "type": "contourcarpet"
           }
          ],
          "heatmap": [
           {
            "colorbar": {
             "outlinewidth": 0,
             "ticks": ""
            },
            "colorscale": [
             [
              0,
              "#0d0887"
             ],
             [
              0.1111111111111111,
              "#46039f"
             ],
             [
              0.2222222222222222,
              "#7201a8"
             ],
             [
              0.3333333333333333,
              "#9c179e"
             ],
             [
              0.4444444444444444,
              "#bd3786"
             ],
             [
              0.5555555555555556,
              "#d8576b"
             ],
             [
              0.6666666666666666,
              "#ed7953"
             ],
             [
              0.7777777777777778,
              "#fb9f3a"
             ],
             [
              0.8888888888888888,
              "#fdca26"
             ],
             [
              1,
              "#f0f921"
             ]
            ],
            "type": "heatmap"
           }
          ],
          "histogram": [
           {
            "marker": {
             "pattern": {
              "fillmode": "overlay",
              "size": 10,
              "solidity": 0.2
             }
            },
            "type": "histogram"
           }
          ],
          "histogram2d": [
           {
            "colorbar": {
             "outlinewidth": 0,
             "ticks": ""
            },
            "colorscale": [
             [
              0,
              "#0d0887"
             ],
             [
              0.1111111111111111,
              "#46039f"
             ],
             [
              0.2222222222222222,
              "#7201a8"
             ],
             [
              0.3333333333333333,
              "#9c179e"
             ],
             [
              0.4444444444444444,
              "#bd3786"
             ],
             [
              0.5555555555555556,
              "#d8576b"
             ],
             [
              0.6666666666666666,
              "#ed7953"
             ],
             [
              0.7777777777777778,
              "#fb9f3a"
             ],
             [
              0.8888888888888888,
              "#fdca26"
             ],
             [
              1,
              "#f0f921"
             ]
            ],
            "type": "histogram2d"
           }
          ],
          "histogram2dcontour": [
           {
            "colorbar": {
             "outlinewidth": 0,
             "ticks": ""
            },
            "colorscale": [
             [
              0,
              "#0d0887"
             ],
             [
              0.1111111111111111,
              "#46039f"
             ],
             [
              0.2222222222222222,
              "#7201a8"
             ],
             [
              0.3333333333333333,
              "#9c179e"
             ],
             [
              0.4444444444444444,
              "#bd3786"
             ],
             [
              0.5555555555555556,
              "#d8576b"
             ],
             [
              0.6666666666666666,
              "#ed7953"
             ],
             [
              0.7777777777777778,
              "#fb9f3a"
             ],
             [
              0.8888888888888888,
              "#fdca26"
             ],
             [
              1,
              "#f0f921"
             ]
            ],
            "type": "histogram2dcontour"
           }
          ],
          "mesh3d": [
           {
            "colorbar": {
             "outlinewidth": 0,
             "ticks": ""
            },
            "type": "mesh3d"
           }
          ],
          "parcoords": [
           {
            "line": {
             "colorbar": {
              "outlinewidth": 0,
              "ticks": ""
             }
            },
            "type": "parcoords"
           }
          ],
          "pie": [
           {
            "automargin": true,
            "type": "pie"
           }
          ],
          "scatter": [
           {
            "fillpattern": {
             "fillmode": "overlay",
             "size": 10,
             "solidity": 0.2
            },
            "type": "scatter"
           }
          ],
          "scatter3d": [
           {
            "line": {
             "colorbar": {
              "outlinewidth": 0,
              "ticks": ""
             }
            },
            "marker": {
             "colorbar": {
              "outlinewidth": 0,
              "ticks": ""
             }
            },
            "type": "scatter3d"
           }
          ],
          "scattercarpet": [
           {
            "marker": {
             "colorbar": {
              "outlinewidth": 0,
              "ticks": ""
             }
            },
            "type": "scattercarpet"
           }
          ],
          "scattergeo": [
           {
            "marker": {
             "colorbar": {
              "outlinewidth": 0,
              "ticks": ""
             }
            },
            "type": "scattergeo"
           }
          ],
          "scattergl": [
           {
            "marker": {
             "colorbar": {
              "outlinewidth": 0,
              "ticks": ""
             }
            },
            "type": "scattergl"
           }
          ],
          "scattermap": [
           {
            "marker": {
             "colorbar": {
              "outlinewidth": 0,
              "ticks": ""
             }
            },
            "type": "scattermap"
           }
          ],
          "scattermapbox": [
           {
            "marker": {
             "colorbar": {
              "outlinewidth": 0,
              "ticks": ""
             }
            },
            "type": "scattermapbox"
           }
          ],
          "scatterpolar": [
           {
            "marker": {
             "colorbar": {
              "outlinewidth": 0,
              "ticks": ""
             }
            },
            "type": "scatterpolar"
           }
          ],
          "scatterpolargl": [
           {
            "marker": {
             "colorbar": {
              "outlinewidth": 0,
              "ticks": ""
             }
            },
            "type": "scatterpolargl"
           }
          ],
          "scatterternary": [
           {
            "marker": {
             "colorbar": {
              "outlinewidth": 0,
              "ticks": ""
             }
            },
            "type": "scatterternary"
           }
          ],
          "surface": [
           {
            "colorbar": {
             "outlinewidth": 0,
             "ticks": ""
            },
            "colorscale": [
             [
              0,
              "#0d0887"
             ],
             [
              0.1111111111111111,
              "#46039f"
             ],
             [
              0.2222222222222222,
              "#7201a8"
             ],
             [
              0.3333333333333333,
              "#9c179e"
             ],
             [
              0.4444444444444444,
              "#bd3786"
             ],
             [
              0.5555555555555556,
              "#d8576b"
             ],
             [
              0.6666666666666666,
              "#ed7953"
             ],
             [
              0.7777777777777778,
              "#fb9f3a"
             ],
             [
              0.8888888888888888,
              "#fdca26"
             ],
             [
              1,
              "#f0f921"
             ]
            ],
            "type": "surface"
           }
          ],
          "table": [
           {
            "cells": {
             "fill": {
              "color": "#EBF0F8"
             },
             "line": {
              "color": "white"
             }
            },
            "header": {
             "fill": {
              "color": "#C8D4E3"
             },
             "line": {
              "color": "white"
             }
            },
            "type": "table"
           }
          ]
         },
         "layout": {
          "annotationdefaults": {
           "arrowcolor": "#2a3f5f",
           "arrowhead": 0,
           "arrowwidth": 1
          },
          "autotypenumbers": "strict",
          "coloraxis": {
           "colorbar": {
            "outlinewidth": 0,
            "ticks": ""
           }
          },
          "colorscale": {
           "diverging": [
            [
             0,
             "#8e0152"
            ],
            [
             0.1,
             "#c51b7d"
            ],
            [
             0.2,
             "#de77ae"
            ],
            [
             0.3,
             "#f1b6da"
            ],
            [
             0.4,
             "#fde0ef"
            ],
            [
             0.5,
             "#f7f7f7"
            ],
            [
             0.6,
             "#e6f5d0"
            ],
            [
             0.7,
             "#b8e186"
            ],
            [
             0.8,
             "#7fbc41"
            ],
            [
             0.9,
             "#4d9221"
            ],
            [
             1,
             "#276419"
            ]
           ],
           "sequential": [
            [
             0,
             "#0d0887"
            ],
            [
             0.1111111111111111,
             "#46039f"
            ],
            [
             0.2222222222222222,
             "#7201a8"
            ],
            [
             0.3333333333333333,
             "#9c179e"
            ],
            [
             0.4444444444444444,
             "#bd3786"
            ],
            [
             0.5555555555555556,
             "#d8576b"
            ],
            [
             0.6666666666666666,
             "#ed7953"
            ],
            [
             0.7777777777777778,
             "#fb9f3a"
            ],
            [
             0.8888888888888888,
             "#fdca26"
            ],
            [
             1,
             "#f0f921"
            ]
           ],
           "sequentialminus": [
            [
             0,
             "#0d0887"
            ],
            [
             0.1111111111111111,
             "#46039f"
            ],
            [
             0.2222222222222222,
             "#7201a8"
            ],
            [
             0.3333333333333333,
             "#9c179e"
            ],
            [
             0.4444444444444444,
             "#bd3786"
            ],
            [
             0.5555555555555556,
             "#d8576b"
            ],
            [
             0.6666666666666666,
             "#ed7953"
            ],
            [
             0.7777777777777778,
             "#fb9f3a"
            ],
            [
             0.8888888888888888,
             "#fdca26"
            ],
            [
             1,
             "#f0f921"
            ]
           ]
          },
          "colorway": [
           "#636efa",
           "#EF553B",
           "#00cc96",
           "#ab63fa",
           "#FFA15A",
           "#19d3f3",
           "#FF6692",
           "#B6E880",
           "#FF97FF",
           "#FECB52"
          ],
          "font": {
           "color": "#2a3f5f"
          },
          "geo": {
           "bgcolor": "white",
           "lakecolor": "white",
           "landcolor": "#E5ECF6",
           "showlakes": true,
           "showland": true,
           "subunitcolor": "white"
          },
          "hoverlabel": {
           "align": "left"
          },
          "hovermode": "closest",
          "mapbox": {
           "style": "light"
          },
          "paper_bgcolor": "white",
          "plot_bgcolor": "#E5ECF6",
          "polar": {
           "angularaxis": {
            "gridcolor": "white",
            "linecolor": "white",
            "ticks": ""
           },
           "bgcolor": "#E5ECF6",
           "radialaxis": {
            "gridcolor": "white",
            "linecolor": "white",
            "ticks": ""
           }
          },
          "scene": {
           "xaxis": {
            "backgroundcolor": "#E5ECF6",
            "gridcolor": "white",
            "gridwidth": 2,
            "linecolor": "white",
            "showbackground": true,
            "ticks": "",
            "zerolinecolor": "white"
           },
           "yaxis": {
            "backgroundcolor": "#E5ECF6",
            "gridcolor": "white",
            "gridwidth": 2,
            "linecolor": "white",
            "showbackground": true,
            "ticks": "",
            "zerolinecolor": "white"
           },
           "zaxis": {
            "backgroundcolor": "#E5ECF6",
            "gridcolor": "white",
            "gridwidth": 2,
            "linecolor": "white",
            "showbackground": true,
            "ticks": "",
            "zerolinecolor": "white"
           }
          },
          "shapedefaults": {
           "line": {
            "color": "#2a3f5f"
           }
          },
          "ternary": {
           "aaxis": {
            "gridcolor": "white",
            "linecolor": "white",
            "ticks": ""
           },
           "baxis": {
            "gridcolor": "white",
            "linecolor": "white",
            "ticks": ""
           },
           "bgcolor": "#E5ECF6",
           "caxis": {
            "gridcolor": "white",
            "linecolor": "white",
            "ticks": ""
           }
          },
          "title": {
           "x": 0.05
          },
          "xaxis": {
           "automargin": true,
           "gridcolor": "white",
           "linecolor": "white",
           "ticks": "",
           "title": {
            "standoff": 15
           },
           "zerolinecolor": "white",
           "zerolinewidth": 2
          },
          "yaxis": {
           "automargin": true,
           "gridcolor": "white",
           "linecolor": "white",
           "ticks": "",
           "title": {
            "standoff": 15
           },
           "zerolinecolor": "white",
           "zerolinewidth": 2
          }
         }
        },
        "title": {
         "text": "Boxplot of Alkaline Phosphotase"
        },
        "xaxis": {
         "anchor": "y",
         "domain": [
          0,
          1
         ]
        },
        "yaxis": {
         "anchor": "x",
         "domain": [
          0,
          1
         ],
         "title": {
          "text": "Alkaline Phosphotase"
         }
        }
       }
      }
     },
     "metadata": {},
     "output_type": "display_data"
    },
    {
     "data": {
      "application/vnd.plotly.v1+json": {
       "config": {
        "plotlyServerURL": "https://plot.ly"
       },
       "data": [
        {
         "alignmentgroup": "True",
         "hovertemplate": "Sgpt Alamine Aminotransferase=%{y}<extra></extra>",
         "legendgroup": "",
         "marker": {
          "color": "#636efa"
         },
         "name": "",
         "notched": false,
         "offsetgroup": "",
         "orientation": "v",
         "showlegend": false,
         "type": "box",
         "x0": " ",
         "xaxis": "x",
         "y": {
          "bdata": "EABAADwADgAbABMAEAAOABYANQAzAB8APQAWADUAWwCoAA8A6ADoABEAFgB0ABAANABrA2sDkAYUAA0ALQAjABMAOwA7AGYAEgAmACYAewAhACoAGQCXAREAMAAkAF4GJwBAABUADwBQAFYAHwAfABoAGAAqABQAFQAlACUAIwAoAD4ANwA1ABsAGACmABQAGwAWABQANAC9AF8ADAAwADwAGQAOAMIALQA6ABwAIQAhAHcAnAGUAZwB3AB+ABkAZgC+AGEANAEbABUAJAAOABUAIAAgAB0AHQAZAAsAIQA/ABgAtQBYAEoA0AdGBeIE4gFCATwAEQAkAC0AhQAuAD0AOQAyABIAIgARACMA4gQ+AEgASAAZABQADwBUAFQAPwASABUAFAAUABUAHgASABQAGgAtADoARgAUABQAJACMAGMAKwAqACoADQAoAEAANQAhABwAegEjADAAMAArAHAARwAlAB4AFwAhACQAFAASADwATwByACoAIAB2AGsATwAeADAAHgA0AAwAFgAWAzIAMgATABsAGwAcADIAtgM1ABcAFAA8AFIAGQASABEAJAAeACYAKQAbACYAKAAUADgALQAmABIAGgAaAD0AVQCVADAAIADmADkAFAAoAEUAIAAYAB4AGQAUAA8AFgAZACUAHAAmACUAMAAMAFoAWQAXAJQAHwBBADgAzQA3ABkANwAeACYADAAyAA8AYACYAIYBDwAZABYAGQAtABkAEgA4ABIADAAKAB4AHQAPAA8AEAB4ADAAIAAWACUAGQBOABAAGAAaACgAIAAVABwAEgAVACQASgAVABYAsgAwACsAGQAZABgAEgAdACoAswAVAB8AHgAkAC8AKgAbAKAACwAdAA4ANgA+AFAAFQARABgAxgBVAE8AMgAsAEYAJAAoADwAIAAOAF0BEwATAD4AKQAkAG4AGQANABUAMgAcACoALwAXABUAGgAhABwAHAAtABYAGAAeAB4AHQAgABoAIAAjAAwAFAAQACQAHAAbAAoAcwAdABkAIgAfAB8AFwAZAF4AjgAlABgAHgAcABkAiQAYACwAmwATABQADwASAJ0AjQAcAbgBHAAhAA8AHABdAEwAGgBFADQAMAAwACIALAAMADsAMQAhAAoAZgAUAAoANwAfACAAHAApAA8AHgAZABcAHQA0ACMAEgAoACMAqQEaABoAMgAUABkAKAAPABkAFgAcACUAEACfADcAFgAXABUAFwAWABIAHgAWAA0AEQBAACYAIQB3AA8AGABuAgsDHACEAFsALgASAJoAEgBmAB8AEQBgADgAhQAeAMQAHwA0ACoAEgAoAD4AHAAdACcAJwBfACsAvgB3AIwAHwAlABYAIAAwAEEAEAAyAEoAqABFAA4AGAAPAAwAIwAVAEQADAA2AA4AbgAMAP0BWAAuAEMAGQBVABgAFQAdAC4AFwBDACkALwAnADwASgAZABQAHQA6ABQAiwAZAFAAfgFLAEEB6QCtAB8AFgAWABYAFABbANUAgwAuADYAMgAwACkAOgAcABQAIwAwAB0AFQA=",
          "dtype": "i2"
         },
         "y0": " ",
         "yaxis": "y"
        }
       ],
       "layout": {
        "boxmode": "group",
        "legend": {
         "tracegroupgap": 0
        },
        "template": {
         "data": {
          "bar": [
           {
            "error_x": {
             "color": "#2a3f5f"
            },
            "error_y": {
             "color": "#2a3f5f"
            },
            "marker": {
             "line": {
              "color": "#E5ECF6",
              "width": 0.5
             },
             "pattern": {
              "fillmode": "overlay",
              "size": 10,
              "solidity": 0.2
             }
            },
            "type": "bar"
           }
          ],
          "barpolar": [
           {
            "marker": {
             "line": {
              "color": "#E5ECF6",
              "width": 0.5
             },
             "pattern": {
              "fillmode": "overlay",
              "size": 10,
              "solidity": 0.2
             }
            },
            "type": "barpolar"
           }
          ],
          "carpet": [
           {
            "aaxis": {
             "endlinecolor": "#2a3f5f",
             "gridcolor": "white",
             "linecolor": "white",
             "minorgridcolor": "white",
             "startlinecolor": "#2a3f5f"
            },
            "baxis": {
             "endlinecolor": "#2a3f5f",
             "gridcolor": "white",
             "linecolor": "white",
             "minorgridcolor": "white",
             "startlinecolor": "#2a3f5f"
            },
            "type": "carpet"
           }
          ],
          "choropleth": [
           {
            "colorbar": {
             "outlinewidth": 0,
             "ticks": ""
            },
            "type": "choropleth"
           }
          ],
          "contour": [
           {
            "colorbar": {
             "outlinewidth": 0,
             "ticks": ""
            },
            "colorscale": [
             [
              0,
              "#0d0887"
             ],
             [
              0.1111111111111111,
              "#46039f"
             ],
             [
              0.2222222222222222,
              "#7201a8"
             ],
             [
              0.3333333333333333,
              "#9c179e"
             ],
             [
              0.4444444444444444,
              "#bd3786"
             ],
             [
              0.5555555555555556,
              "#d8576b"
             ],
             [
              0.6666666666666666,
              "#ed7953"
             ],
             [
              0.7777777777777778,
              "#fb9f3a"
             ],
             [
              0.8888888888888888,
              "#fdca26"
             ],
             [
              1,
              "#f0f921"
             ]
            ],
            "type": "contour"
           }
          ],
          "contourcarpet": [
           {
            "colorbar": {
             "outlinewidth": 0,
             "ticks": ""
            },
            "type": "contourcarpet"
           }
          ],
          "heatmap": [
           {
            "colorbar": {
             "outlinewidth": 0,
             "ticks": ""
            },
            "colorscale": [
             [
              0,
              "#0d0887"
             ],
             [
              0.1111111111111111,
              "#46039f"
             ],
             [
              0.2222222222222222,
              "#7201a8"
             ],
             [
              0.3333333333333333,
              "#9c179e"
             ],
             [
              0.4444444444444444,
              "#bd3786"
             ],
             [
              0.5555555555555556,
              "#d8576b"
             ],
             [
              0.6666666666666666,
              "#ed7953"
             ],
             [
              0.7777777777777778,
              "#fb9f3a"
             ],
             [
              0.8888888888888888,
              "#fdca26"
             ],
             [
              1,
              "#f0f921"
             ]
            ],
            "type": "heatmap"
           }
          ],
          "histogram": [
           {
            "marker": {
             "pattern": {
              "fillmode": "overlay",
              "size": 10,
              "solidity": 0.2
             }
            },
            "type": "histogram"
           }
          ],
          "histogram2d": [
           {
            "colorbar": {
             "outlinewidth": 0,
             "ticks": ""
            },
            "colorscale": [
             [
              0,
              "#0d0887"
             ],
             [
              0.1111111111111111,
              "#46039f"
             ],
             [
              0.2222222222222222,
              "#7201a8"
             ],
             [
              0.3333333333333333,
              "#9c179e"
             ],
             [
              0.4444444444444444,
              "#bd3786"
             ],
             [
              0.5555555555555556,
              "#d8576b"
             ],
             [
              0.6666666666666666,
              "#ed7953"
             ],
             [
              0.7777777777777778,
              "#fb9f3a"
             ],
             [
              0.8888888888888888,
              "#fdca26"
             ],
             [
              1,
              "#f0f921"
             ]
            ],
            "type": "histogram2d"
           }
          ],
          "histogram2dcontour": [
           {
            "colorbar": {
             "outlinewidth": 0,
             "ticks": ""
            },
            "colorscale": [
             [
              0,
              "#0d0887"
             ],
             [
              0.1111111111111111,
              "#46039f"
             ],
             [
              0.2222222222222222,
              "#7201a8"
             ],
             [
              0.3333333333333333,
              "#9c179e"
             ],
             [
              0.4444444444444444,
              "#bd3786"
             ],
             [
              0.5555555555555556,
              "#d8576b"
             ],
             [
              0.6666666666666666,
              "#ed7953"
             ],
             [
              0.7777777777777778,
              "#fb9f3a"
             ],
             [
              0.8888888888888888,
              "#fdca26"
             ],
             [
              1,
              "#f0f921"
             ]
            ],
            "type": "histogram2dcontour"
           }
          ],
          "mesh3d": [
           {
            "colorbar": {
             "outlinewidth": 0,
             "ticks": ""
            },
            "type": "mesh3d"
           }
          ],
          "parcoords": [
           {
            "line": {
             "colorbar": {
              "outlinewidth": 0,
              "ticks": ""
             }
            },
            "type": "parcoords"
           }
          ],
          "pie": [
           {
            "automargin": true,
            "type": "pie"
           }
          ],
          "scatter": [
           {
            "fillpattern": {
             "fillmode": "overlay",
             "size": 10,
             "solidity": 0.2
            },
            "type": "scatter"
           }
          ],
          "scatter3d": [
           {
            "line": {
             "colorbar": {
              "outlinewidth": 0,
              "ticks": ""
             }
            },
            "marker": {
             "colorbar": {
              "outlinewidth": 0,
              "ticks": ""
             }
            },
            "type": "scatter3d"
           }
          ],
          "scattercarpet": [
           {
            "marker": {
             "colorbar": {
              "outlinewidth": 0,
              "ticks": ""
             }
            },
            "type": "scattercarpet"
           }
          ],
          "scattergeo": [
           {
            "marker": {
             "colorbar": {
              "outlinewidth": 0,
              "ticks": ""
             }
            },
            "type": "scattergeo"
           }
          ],
          "scattergl": [
           {
            "marker": {
             "colorbar": {
              "outlinewidth": 0,
              "ticks": ""
             }
            },
            "type": "scattergl"
           }
          ],
          "scattermap": [
           {
            "marker": {
             "colorbar": {
              "outlinewidth": 0,
              "ticks": ""
             }
            },
            "type": "scattermap"
           }
          ],
          "scattermapbox": [
           {
            "marker": {
             "colorbar": {
              "outlinewidth": 0,
              "ticks": ""
             }
            },
            "type": "scattermapbox"
           }
          ],
          "scatterpolar": [
           {
            "marker": {
             "colorbar": {
              "outlinewidth": 0,
              "ticks": ""
             }
            },
            "type": "scatterpolar"
           }
          ],
          "scatterpolargl": [
           {
            "marker": {
             "colorbar": {
              "outlinewidth": 0,
              "ticks": ""
             }
            },
            "type": "scatterpolargl"
           }
          ],
          "scatterternary": [
           {
            "marker": {
             "colorbar": {
              "outlinewidth": 0,
              "ticks": ""
             }
            },
            "type": "scatterternary"
           }
          ],
          "surface": [
           {
            "colorbar": {
             "outlinewidth": 0,
             "ticks": ""
            },
            "colorscale": [
             [
              0,
              "#0d0887"
             ],
             [
              0.1111111111111111,
              "#46039f"
             ],
             [
              0.2222222222222222,
              "#7201a8"
             ],
             [
              0.3333333333333333,
              "#9c179e"
             ],
             [
              0.4444444444444444,
              "#bd3786"
             ],
             [
              0.5555555555555556,
              "#d8576b"
             ],
             [
              0.6666666666666666,
              "#ed7953"
             ],
             [
              0.7777777777777778,
              "#fb9f3a"
             ],
             [
              0.8888888888888888,
              "#fdca26"
             ],
             [
              1,
              "#f0f921"
             ]
            ],
            "type": "surface"
           }
          ],
          "table": [
           {
            "cells": {
             "fill": {
              "color": "#EBF0F8"
             },
             "line": {
              "color": "white"
             }
            },
            "header": {
             "fill": {
              "color": "#C8D4E3"
             },
             "line": {
              "color": "white"
             }
            },
            "type": "table"
           }
          ]
         },
         "layout": {
          "annotationdefaults": {
           "arrowcolor": "#2a3f5f",
           "arrowhead": 0,
           "arrowwidth": 1
          },
          "autotypenumbers": "strict",
          "coloraxis": {
           "colorbar": {
            "outlinewidth": 0,
            "ticks": ""
           }
          },
          "colorscale": {
           "diverging": [
            [
             0,
             "#8e0152"
            ],
            [
             0.1,
             "#c51b7d"
            ],
            [
             0.2,
             "#de77ae"
            ],
            [
             0.3,
             "#f1b6da"
            ],
            [
             0.4,
             "#fde0ef"
            ],
            [
             0.5,
             "#f7f7f7"
            ],
            [
             0.6,
             "#e6f5d0"
            ],
            [
             0.7,
             "#b8e186"
            ],
            [
             0.8,
             "#7fbc41"
            ],
            [
             0.9,
             "#4d9221"
            ],
            [
             1,
             "#276419"
            ]
           ],
           "sequential": [
            [
             0,
             "#0d0887"
            ],
            [
             0.1111111111111111,
             "#46039f"
            ],
            [
             0.2222222222222222,
             "#7201a8"
            ],
            [
             0.3333333333333333,
             "#9c179e"
            ],
            [
             0.4444444444444444,
             "#bd3786"
            ],
            [
             0.5555555555555556,
             "#d8576b"
            ],
            [
             0.6666666666666666,
             "#ed7953"
            ],
            [
             0.7777777777777778,
             "#fb9f3a"
            ],
            [
             0.8888888888888888,
             "#fdca26"
            ],
            [
             1,
             "#f0f921"
            ]
           ],
           "sequentialminus": [
            [
             0,
             "#0d0887"
            ],
            [
             0.1111111111111111,
             "#46039f"
            ],
            [
             0.2222222222222222,
             "#7201a8"
            ],
            [
             0.3333333333333333,
             "#9c179e"
            ],
            [
             0.4444444444444444,
             "#bd3786"
            ],
            [
             0.5555555555555556,
             "#d8576b"
            ],
            [
             0.6666666666666666,
             "#ed7953"
            ],
            [
             0.7777777777777778,
             "#fb9f3a"
            ],
            [
             0.8888888888888888,
             "#fdca26"
            ],
            [
             1,
             "#f0f921"
            ]
           ]
          },
          "colorway": [
           "#636efa",
           "#EF553B",
           "#00cc96",
           "#ab63fa",
           "#FFA15A",
           "#19d3f3",
           "#FF6692",
           "#B6E880",
           "#FF97FF",
           "#FECB52"
          ],
          "font": {
           "color": "#2a3f5f"
          },
          "geo": {
           "bgcolor": "white",
           "lakecolor": "white",
           "landcolor": "#E5ECF6",
           "showlakes": true,
           "showland": true,
           "subunitcolor": "white"
          },
          "hoverlabel": {
           "align": "left"
          },
          "hovermode": "closest",
          "mapbox": {
           "style": "light"
          },
          "paper_bgcolor": "white",
          "plot_bgcolor": "#E5ECF6",
          "polar": {
           "angularaxis": {
            "gridcolor": "white",
            "linecolor": "white",
            "ticks": ""
           },
           "bgcolor": "#E5ECF6",
           "radialaxis": {
            "gridcolor": "white",
            "linecolor": "white",
            "ticks": ""
           }
          },
          "scene": {
           "xaxis": {
            "backgroundcolor": "#E5ECF6",
            "gridcolor": "white",
            "gridwidth": 2,
            "linecolor": "white",
            "showbackground": true,
            "ticks": "",
            "zerolinecolor": "white"
           },
           "yaxis": {
            "backgroundcolor": "#E5ECF6",
            "gridcolor": "white",
            "gridwidth": 2,
            "linecolor": "white",
            "showbackground": true,
            "ticks": "",
            "zerolinecolor": "white"
           },
           "zaxis": {
            "backgroundcolor": "#E5ECF6",
            "gridcolor": "white",
            "gridwidth": 2,
            "linecolor": "white",
            "showbackground": true,
            "ticks": "",
            "zerolinecolor": "white"
           }
          },
          "shapedefaults": {
           "line": {
            "color": "#2a3f5f"
           }
          },
          "ternary": {
           "aaxis": {
            "gridcolor": "white",
            "linecolor": "white",
            "ticks": ""
           },
           "baxis": {
            "gridcolor": "white",
            "linecolor": "white",
            "ticks": ""
           },
           "bgcolor": "#E5ECF6",
           "caxis": {
            "gridcolor": "white",
            "linecolor": "white",
            "ticks": ""
           }
          },
          "title": {
           "x": 0.05
          },
          "xaxis": {
           "automargin": true,
           "gridcolor": "white",
           "linecolor": "white",
           "ticks": "",
           "title": {
            "standoff": 15
           },
           "zerolinecolor": "white",
           "zerolinewidth": 2
          },
          "yaxis": {
           "automargin": true,
           "gridcolor": "white",
           "linecolor": "white",
           "ticks": "",
           "title": {
            "standoff": 15
           },
           "zerolinecolor": "white",
           "zerolinewidth": 2
          }
         }
        },
        "title": {
         "text": "Boxplot of Sgpt Alamine Aminotransferase"
        },
        "xaxis": {
         "anchor": "y",
         "domain": [
          0,
          1
         ]
        },
        "yaxis": {
         "anchor": "x",
         "domain": [
          0,
          1
         ],
         "title": {
          "text": "Sgpt Alamine Aminotransferase"
         }
        }
       }
      }
     },
     "metadata": {},
     "output_type": "display_data"
    },
    {
     "data": {
      "application/vnd.plotly.v1+json": {
       "config": {
        "plotlyServerURL": "https://plot.ly"
       },
       "data": [
        {
         "alignmentgroup": "True",
         "hovertemplate": "Sgot Aspartate Aminotransferase=%{y}<extra></extra>",
         "legendgroup": "",
         "marker": {
          "color": "#636efa"
         },
         "name": "",
         "notched": false,
         "offsetgroup": "",
         "orientation": "v",
         "showlegend": false,
         "type": "box",
         "x0": " ",
         "xaxis": "x",
         "y": {
          "bdata": "EgBkAEQAFAA7AA4ADAALABMAOgA7ADgAOgAeACkANQC5ARcA9QD1ABwAIgBCADcALQDbAtsCUgMeABUAbwAsABcAOQA5AFAAJABNAEIASQAyAG4ALwBAAg8AsgAbAMADHACyAA4AEwCWAZYAPQA9ABcANgASABgAEAArACsAYQBWAFgAXwA6ABoAEQCNAR0AGAAQABYAKQARAH8AGABPAI4AGgAMAJgAHwAtADgAOwAiAF4BUgMaA1IDkAHKABcAdgK2A6EAlQEcABcALQAXABwAXABcACcAJwAiAAoAdAAnAGIAHQFAAJUAggtABhoEEwFxAFQAEgAdABkAWAAoAFMAQQA6ABwAHwAOACQAQRNaAIwAjABCABUAHgCLAIsAVwAWACYAHgAaABsAKgAUACgAGwDpAIoAUgAjACMAIABeAbsAQgA+AD4ASgBCAEMAKQAgACUAWgI/ACIAIgAfAGMAKgAdABkAHQAlACsAEQATAGcAkQD3ACYAHAByAGgAMwAZACAANgBoACAAEgAaBDUANQAXABUAGgAWADwA3AVfACEADgC0AH8AOgAiAJQAEAAfAB4AJwAuABgAHAATACwAMwA+AA8ADQAVAFUA5wCcAFkAGwAqASgAEAAjADAAHgAuABcAFwATABIATwAcAB0AGQAWACgAKAAPABUAMAARAFYAIgCCAFcAjAA2ABUAXAAiADYAHQBLABQANgDnAPQBEgAWABMAFAAoABQADgAwAA8ADgAVADAAGAAMABQAJwBpACwADgAYACkAFQApABMAGQAPACMAGQAeACAAEQARABAAcQAvABIA+gAWAC8ANgAWAEEAFQBSAB4A6AAQABsAOgAiAEMAJQAXAFoAIQAUABcARAA4AHEAGQAYABMAjwBEADIAHgAhAIoAIAAcACgALAALAGkADgAPADoAJgAhALAAFwAaAB4AJgAiAEYAGgAcAA8AHQA5ACsAIwA0ABQAGQAlAB0AEQAZABcAHwAhAA0AKQAWADUAKwAWAAwAWwAeABUAFAAoACMAIwAUAFwARAA4ABQAIABGADIAkQAUAOwAbAAWABoAFQA6AGwASQC+AFIDLABHAB4AGAAoALQAHQAyAEEAOQBHACoAOwAPAH4AKgBCAAwAjQAhAA0AVwAYACQAFQBQACwAWgASABQAJwBmAFEAEwAuABQA/wEZABsASAAZACQAFwAQABYAKwAjABMALgAzABcAEgAqADUAKgAQAGwANgAgADgAGgAhABUAhwAqABkAIADxAUwDMwBwAbwAOQAoAPgADwC+ABoAHQA5AG8AZwAcAJEBHQAfACcAFgBGADcATAAeAN0ATwDrALkASQDmABwCJAAwABwAGAA6ALUAGAAcAEQAdgKbABkADwAQAA8AIAA/AMgAJgCYABUAugARAG8CSgA0ANwASwBOAC0AFwATAC8AGwAqACoAIABcAboAjQApABYAHgCMACsAVwAbAH0ASgGKADICgAFvAVMAIgCPAB8AKABlAKgAWgCGAH0AWABcAFgAUAAvACIAHwAxACAAGAA=",
          "dtype": "i2"
         },
         "y0": " ",
         "yaxis": "y"
        }
       ],
       "layout": {
        "boxmode": "group",
        "legend": {
         "tracegroupgap": 0
        },
        "template": {
         "data": {
          "bar": [
           {
            "error_x": {
             "color": "#2a3f5f"
            },
            "error_y": {
             "color": "#2a3f5f"
            },
            "marker": {
             "line": {
              "color": "#E5ECF6",
              "width": 0.5
             },
             "pattern": {
              "fillmode": "overlay",
              "size": 10,
              "solidity": 0.2
             }
            },
            "type": "bar"
           }
          ],
          "barpolar": [
           {
            "marker": {
             "line": {
              "color": "#E5ECF6",
              "width": 0.5
             },
             "pattern": {
              "fillmode": "overlay",
              "size": 10,
              "solidity": 0.2
             }
            },
            "type": "barpolar"
           }
          ],
          "carpet": [
           {
            "aaxis": {
             "endlinecolor": "#2a3f5f",
             "gridcolor": "white",
             "linecolor": "white",
             "minorgridcolor": "white",
             "startlinecolor": "#2a3f5f"
            },
            "baxis": {
             "endlinecolor": "#2a3f5f",
             "gridcolor": "white",
             "linecolor": "white",
             "minorgridcolor": "white",
             "startlinecolor": "#2a3f5f"
            },
            "type": "carpet"
           }
          ],
          "choropleth": [
           {
            "colorbar": {
             "outlinewidth": 0,
             "ticks": ""
            },
            "type": "choropleth"
           }
          ],
          "contour": [
           {
            "colorbar": {
             "outlinewidth": 0,
             "ticks": ""
            },
            "colorscale": [
             [
              0,
              "#0d0887"
             ],
             [
              0.1111111111111111,
              "#46039f"
             ],
             [
              0.2222222222222222,
              "#7201a8"
             ],
             [
              0.3333333333333333,
              "#9c179e"
             ],
             [
              0.4444444444444444,
              "#bd3786"
             ],
             [
              0.5555555555555556,
              "#d8576b"
             ],
             [
              0.6666666666666666,
              "#ed7953"
             ],
             [
              0.7777777777777778,
              "#fb9f3a"
             ],
             [
              0.8888888888888888,
              "#fdca26"
             ],
             [
              1,
              "#f0f921"
             ]
            ],
            "type": "contour"
           }
          ],
          "contourcarpet": [
           {
            "colorbar": {
             "outlinewidth": 0,
             "ticks": ""
            },
            "type": "contourcarpet"
           }
          ],
          "heatmap": [
           {
            "colorbar": {
             "outlinewidth": 0,
             "ticks": ""
            },
            "colorscale": [
             [
              0,
              "#0d0887"
             ],
             [
              0.1111111111111111,
              "#46039f"
             ],
             [
              0.2222222222222222,
              "#7201a8"
             ],
             [
              0.3333333333333333,
              "#9c179e"
             ],
             [
              0.4444444444444444,
              "#bd3786"
             ],
             [
              0.5555555555555556,
              "#d8576b"
             ],
             [
              0.6666666666666666,
              "#ed7953"
             ],
             [
              0.7777777777777778,
              "#fb9f3a"
             ],
             [
              0.8888888888888888,
              "#fdca26"
             ],
             [
              1,
              "#f0f921"
             ]
            ],
            "type": "heatmap"
           }
          ],
          "histogram": [
           {
            "marker": {
             "pattern": {
              "fillmode": "overlay",
              "size": 10,
              "solidity": 0.2
             }
            },
            "type": "histogram"
           }
          ],
          "histogram2d": [
           {
            "colorbar": {
             "outlinewidth": 0,
             "ticks": ""
            },
            "colorscale": [
             [
              0,
              "#0d0887"
             ],
             [
              0.1111111111111111,
              "#46039f"
             ],
             [
              0.2222222222222222,
              "#7201a8"
             ],
             [
              0.3333333333333333,
              "#9c179e"
             ],
             [
              0.4444444444444444,
              "#bd3786"
             ],
             [
              0.5555555555555556,
              "#d8576b"
             ],
             [
              0.6666666666666666,
              "#ed7953"
             ],
             [
              0.7777777777777778,
              "#fb9f3a"
             ],
             [
              0.8888888888888888,
              "#fdca26"
             ],
             [
              1,
              "#f0f921"
             ]
            ],
            "type": "histogram2d"
           }
          ],
          "histogram2dcontour": [
           {
            "colorbar": {
             "outlinewidth": 0,
             "ticks": ""
            },
            "colorscale": [
             [
              0,
              "#0d0887"
             ],
             [
              0.1111111111111111,
              "#46039f"
             ],
             [
              0.2222222222222222,
              "#7201a8"
             ],
             [
              0.3333333333333333,
              "#9c179e"
             ],
             [
              0.4444444444444444,
              "#bd3786"
             ],
             [
              0.5555555555555556,
              "#d8576b"
             ],
             [
              0.6666666666666666,
              "#ed7953"
             ],
             [
              0.7777777777777778,
              "#fb9f3a"
             ],
             [
              0.8888888888888888,
              "#fdca26"
             ],
             [
              1,
              "#f0f921"
             ]
            ],
            "type": "histogram2dcontour"
           }
          ],
          "mesh3d": [
           {
            "colorbar": {
             "outlinewidth": 0,
             "ticks": ""
            },
            "type": "mesh3d"
           }
          ],
          "parcoords": [
           {
            "line": {
             "colorbar": {
              "outlinewidth": 0,
              "ticks": ""
             }
            },
            "type": "parcoords"
           }
          ],
          "pie": [
           {
            "automargin": true,
            "type": "pie"
           }
          ],
          "scatter": [
           {
            "fillpattern": {
             "fillmode": "overlay",
             "size": 10,
             "solidity": 0.2
            },
            "type": "scatter"
           }
          ],
          "scatter3d": [
           {
            "line": {
             "colorbar": {
              "outlinewidth": 0,
              "ticks": ""
             }
            },
            "marker": {
             "colorbar": {
              "outlinewidth": 0,
              "ticks": ""
             }
            },
            "type": "scatter3d"
           }
          ],
          "scattercarpet": [
           {
            "marker": {
             "colorbar": {
              "outlinewidth": 0,
              "ticks": ""
             }
            },
            "type": "scattercarpet"
           }
          ],
          "scattergeo": [
           {
            "marker": {
             "colorbar": {
              "outlinewidth": 0,
              "ticks": ""
             }
            },
            "type": "scattergeo"
           }
          ],
          "scattergl": [
           {
            "marker": {
             "colorbar": {
              "outlinewidth": 0,
              "ticks": ""
             }
            },
            "type": "scattergl"
           }
          ],
          "scattermap": [
           {
            "marker": {
             "colorbar": {
              "outlinewidth": 0,
              "ticks": ""
             }
            },
            "type": "scattermap"
           }
          ],
          "scattermapbox": [
           {
            "marker": {
             "colorbar": {
              "outlinewidth": 0,
              "ticks": ""
             }
            },
            "type": "scattermapbox"
           }
          ],
          "scatterpolar": [
           {
            "marker": {
             "colorbar": {
              "outlinewidth": 0,
              "ticks": ""
             }
            },
            "type": "scatterpolar"
           }
          ],
          "scatterpolargl": [
           {
            "marker": {
             "colorbar": {
              "outlinewidth": 0,
              "ticks": ""
             }
            },
            "type": "scatterpolargl"
           }
          ],
          "scatterternary": [
           {
            "marker": {
             "colorbar": {
              "outlinewidth": 0,
              "ticks": ""
             }
            },
            "type": "scatterternary"
           }
          ],
          "surface": [
           {
            "colorbar": {
             "outlinewidth": 0,
             "ticks": ""
            },
            "colorscale": [
             [
              0,
              "#0d0887"
             ],
             [
              0.1111111111111111,
              "#46039f"
             ],
             [
              0.2222222222222222,
              "#7201a8"
             ],
             [
              0.3333333333333333,
              "#9c179e"
             ],
             [
              0.4444444444444444,
              "#bd3786"
             ],
             [
              0.5555555555555556,
              "#d8576b"
             ],
             [
              0.6666666666666666,
              "#ed7953"
             ],
             [
              0.7777777777777778,
              "#fb9f3a"
             ],
             [
              0.8888888888888888,
              "#fdca26"
             ],
             [
              1,
              "#f0f921"
             ]
            ],
            "type": "surface"
           }
          ],
          "table": [
           {
            "cells": {
             "fill": {
              "color": "#EBF0F8"
             },
             "line": {
              "color": "white"
             }
            },
            "header": {
             "fill": {
              "color": "#C8D4E3"
             },
             "line": {
              "color": "white"
             }
            },
            "type": "table"
           }
          ]
         },
         "layout": {
          "annotationdefaults": {
           "arrowcolor": "#2a3f5f",
           "arrowhead": 0,
           "arrowwidth": 1
          },
          "autotypenumbers": "strict",
          "coloraxis": {
           "colorbar": {
            "outlinewidth": 0,
            "ticks": ""
           }
          },
          "colorscale": {
           "diverging": [
            [
             0,
             "#8e0152"
            ],
            [
             0.1,
             "#c51b7d"
            ],
            [
             0.2,
             "#de77ae"
            ],
            [
             0.3,
             "#f1b6da"
            ],
            [
             0.4,
             "#fde0ef"
            ],
            [
             0.5,
             "#f7f7f7"
            ],
            [
             0.6,
             "#e6f5d0"
            ],
            [
             0.7,
             "#b8e186"
            ],
            [
             0.8,
             "#7fbc41"
            ],
            [
             0.9,
             "#4d9221"
            ],
            [
             1,
             "#276419"
            ]
           ],
           "sequential": [
            [
             0,
             "#0d0887"
            ],
            [
             0.1111111111111111,
             "#46039f"
            ],
            [
             0.2222222222222222,
             "#7201a8"
            ],
            [
             0.3333333333333333,
             "#9c179e"
            ],
            [
             0.4444444444444444,
             "#bd3786"
            ],
            [
             0.5555555555555556,
             "#d8576b"
            ],
            [
             0.6666666666666666,
             "#ed7953"
            ],
            [
             0.7777777777777778,
             "#fb9f3a"
            ],
            [
             0.8888888888888888,
             "#fdca26"
            ],
            [
             1,
             "#f0f921"
            ]
           ],
           "sequentialminus": [
            [
             0,
             "#0d0887"
            ],
            [
             0.1111111111111111,
             "#46039f"
            ],
            [
             0.2222222222222222,
             "#7201a8"
            ],
            [
             0.3333333333333333,
             "#9c179e"
            ],
            [
             0.4444444444444444,
             "#bd3786"
            ],
            [
             0.5555555555555556,
             "#d8576b"
            ],
            [
             0.6666666666666666,
             "#ed7953"
            ],
            [
             0.7777777777777778,
             "#fb9f3a"
            ],
            [
             0.8888888888888888,
             "#fdca26"
            ],
            [
             1,
             "#f0f921"
            ]
           ]
          },
          "colorway": [
           "#636efa",
           "#EF553B",
           "#00cc96",
           "#ab63fa",
           "#FFA15A",
           "#19d3f3",
           "#FF6692",
           "#B6E880",
           "#FF97FF",
           "#FECB52"
          ],
          "font": {
           "color": "#2a3f5f"
          },
          "geo": {
           "bgcolor": "white",
           "lakecolor": "white",
           "landcolor": "#E5ECF6",
           "showlakes": true,
           "showland": true,
           "subunitcolor": "white"
          },
          "hoverlabel": {
           "align": "left"
          },
          "hovermode": "closest",
          "mapbox": {
           "style": "light"
          },
          "paper_bgcolor": "white",
          "plot_bgcolor": "#E5ECF6",
          "polar": {
           "angularaxis": {
            "gridcolor": "white",
            "linecolor": "white",
            "ticks": ""
           },
           "bgcolor": "#E5ECF6",
           "radialaxis": {
            "gridcolor": "white",
            "linecolor": "white",
            "ticks": ""
           }
          },
          "scene": {
           "xaxis": {
            "backgroundcolor": "#E5ECF6",
            "gridcolor": "white",
            "gridwidth": 2,
            "linecolor": "white",
            "showbackground": true,
            "ticks": "",
            "zerolinecolor": "white"
           },
           "yaxis": {
            "backgroundcolor": "#E5ECF6",
            "gridcolor": "white",
            "gridwidth": 2,
            "linecolor": "white",
            "showbackground": true,
            "ticks": "",
            "zerolinecolor": "white"
           },
           "zaxis": {
            "backgroundcolor": "#E5ECF6",
            "gridcolor": "white",
            "gridwidth": 2,
            "linecolor": "white",
            "showbackground": true,
            "ticks": "",
            "zerolinecolor": "white"
           }
          },
          "shapedefaults": {
           "line": {
            "color": "#2a3f5f"
           }
          },
          "ternary": {
           "aaxis": {
            "gridcolor": "white",
            "linecolor": "white",
            "ticks": ""
           },
           "baxis": {
            "gridcolor": "white",
            "linecolor": "white",
            "ticks": ""
           },
           "bgcolor": "#E5ECF6",
           "caxis": {
            "gridcolor": "white",
            "linecolor": "white",
            "ticks": ""
           }
          },
          "title": {
           "x": 0.05
          },
          "xaxis": {
           "automargin": true,
           "gridcolor": "white",
           "linecolor": "white",
           "ticks": "",
           "title": {
            "standoff": 15
           },
           "zerolinecolor": "white",
           "zerolinewidth": 2
          },
          "yaxis": {
           "automargin": true,
           "gridcolor": "white",
           "linecolor": "white",
           "ticks": "",
           "title": {
            "standoff": 15
           },
           "zerolinecolor": "white",
           "zerolinewidth": 2
          }
         }
        },
        "title": {
         "text": "Boxplot of Sgot Aspartate Aminotransferase"
        },
        "xaxis": {
         "anchor": "y",
         "domain": [
          0,
          1
         ]
        },
        "yaxis": {
         "anchor": "x",
         "domain": [
          0,
          1
         ],
         "title": {
          "text": "Sgot Aspartate Aminotransferase"
         }
        }
       }
      }
     },
     "metadata": {},
     "output_type": "display_data"
    },
    {
     "data": {
      "application/vnd.plotly.v1+json": {
       "config": {
        "plotlyServerURL": "https://plot.ly"
       },
       "data": [
        {
         "alignmentgroup": "True",
         "hovertemplate": "Total Proteins=%{y}<extra></extra>",
         "legendgroup": "",
         "marker": {
          "color": "#636efa"
         },
         "name": "",
         "notched": false,
         "offsetgroup": "",
         "orientation": "v",
         "showlegend": false,
         "type": "box",
         "x0": " ",
         "xaxis": "x",
         "y": {
          "bdata": "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",
          "dtype": "f8"
         },
         "y0": " ",
         "yaxis": "y"
        }
       ],
       "layout": {
        "boxmode": "group",
        "legend": {
         "tracegroupgap": 0
        },
        "template": {
         "data": {
          "bar": [
           {
            "error_x": {
             "color": "#2a3f5f"
            },
            "error_y": {
             "color": "#2a3f5f"
            },
            "marker": {
             "line": {
              "color": "#E5ECF6",
              "width": 0.5
             },
             "pattern": {
              "fillmode": "overlay",
              "size": 10,
              "solidity": 0.2
             }
            },
            "type": "bar"
           }
          ],
          "barpolar": [
           {
            "marker": {
             "line": {
              "color": "#E5ECF6",
              "width": 0.5
             },
             "pattern": {
              "fillmode": "overlay",
              "size": 10,
              "solidity": 0.2
             }
            },
            "type": "barpolar"
           }
          ],
          "carpet": [
           {
            "aaxis": {
             "endlinecolor": "#2a3f5f",
             "gridcolor": "white",
             "linecolor": "white",
             "minorgridcolor": "white",
             "startlinecolor": "#2a3f5f"
            },
            "baxis": {
             "endlinecolor": "#2a3f5f",
             "gridcolor": "white",
             "linecolor": "white",
             "minorgridcolor": "white",
             "startlinecolor": "#2a3f5f"
            },
            "type": "carpet"
           }
          ],
          "choropleth": [
           {
            "colorbar": {
             "outlinewidth": 0,
             "ticks": ""
            },
            "type": "choropleth"
           }
          ],
          "contour": [
           {
            "colorbar": {
             "outlinewidth": 0,
             "ticks": ""
            },
            "colorscale": [
             [
              0,
              "#0d0887"
             ],
             [
              0.1111111111111111,
              "#46039f"
             ],
             [
              0.2222222222222222,
              "#7201a8"
             ],
             [
              0.3333333333333333,
              "#9c179e"
             ],
             [
              0.4444444444444444,
              "#bd3786"
             ],
             [
              0.5555555555555556,
              "#d8576b"
             ],
             [
              0.6666666666666666,
              "#ed7953"
             ],
             [
              0.7777777777777778,
              "#fb9f3a"
             ],
             [
              0.8888888888888888,
              "#fdca26"
             ],
             [
              1,
              "#f0f921"
             ]
            ],
            "type": "contour"
           }
          ],
          "contourcarpet": [
           {
            "colorbar": {
             "outlinewidth": 0,
             "ticks": ""
            },
            "type": "contourcarpet"
           }
          ],
          "heatmap": [
           {
            "colorbar": {
             "outlinewidth": 0,
             "ticks": ""
            },
            "colorscale": [
             [
              0,
              "#0d0887"
             ],
             [
              0.1111111111111111,
              "#46039f"
             ],
             [
              0.2222222222222222,
              "#7201a8"
             ],
             [
              0.3333333333333333,
              "#9c179e"
             ],
             [
              0.4444444444444444,
              "#bd3786"
             ],
             [
              0.5555555555555556,
              "#d8576b"
             ],
             [
              0.6666666666666666,
              "#ed7953"
             ],
             [
              0.7777777777777778,
              "#fb9f3a"
             ],
             [
              0.8888888888888888,
              "#fdca26"
             ],
             [
              1,
              "#f0f921"
             ]
            ],
            "type": "heatmap"
           }
          ],
          "histogram": [
           {
            "marker": {
             "pattern": {
              "fillmode": "overlay",
              "size": 10,
              "solidity": 0.2
             }
            },
            "type": "histogram"
           }
          ],
          "histogram2d": [
           {
            "colorbar": {
             "outlinewidth": 0,
             "ticks": ""
            },
            "colorscale": [
             [
              0,
              "#0d0887"
             ],
             [
              0.1111111111111111,
              "#46039f"
             ],
             [
              0.2222222222222222,
              "#7201a8"
             ],
             [
              0.3333333333333333,
              "#9c179e"
             ],
             [
              0.4444444444444444,
              "#bd3786"
             ],
             [
              0.5555555555555556,
              "#d8576b"
             ],
             [
              0.6666666666666666,
              "#ed7953"
             ],
             [
              0.7777777777777778,
              "#fb9f3a"
             ],
             [
              0.8888888888888888,
              "#fdca26"
             ],
             [
              1,
              "#f0f921"
             ]
            ],
            "type": "histogram2d"
           }
          ],
          "histogram2dcontour": [
           {
            "colorbar": {
             "outlinewidth": 0,
             "ticks": ""
            },
            "colorscale": [
             [
              0,
              "#0d0887"
             ],
             [
              0.1111111111111111,
              "#46039f"
             ],
             [
              0.2222222222222222,
              "#7201a8"
             ],
             [
              0.3333333333333333,
              "#9c179e"
             ],
             [
              0.4444444444444444,
              "#bd3786"
             ],
             [
              0.5555555555555556,
              "#d8576b"
             ],
             [
              0.6666666666666666,
              "#ed7953"
             ],
             [
              0.7777777777777778,
              "#fb9f3a"
             ],
             [
              0.8888888888888888,
              "#fdca26"
             ],
             [
              1,
              "#f0f921"
             ]
            ],
            "type": "histogram2dcontour"
           }
          ],
          "mesh3d": [
           {
            "colorbar": {
             "outlinewidth": 0,
             "ticks": ""
            },
            "type": "mesh3d"
           }
          ],
          "parcoords": [
           {
            "line": {
             "colorbar": {
              "outlinewidth": 0,
              "ticks": ""
             }
            },
            "type": "parcoords"
           }
          ],
          "pie": [
           {
            "automargin": true,
            "type": "pie"
           }
          ],
          "scatter": [
           {
            "fillpattern": {
             "fillmode": "overlay",
             "size": 10,
             "solidity": 0.2
            },
            "type": "scatter"
           }
          ],
          "scatter3d": [
           {
            "line": {
             "colorbar": {
              "outlinewidth": 0,
              "ticks": ""
             }
            },
            "marker": {
             "colorbar": {
              "outlinewidth": 0,
              "ticks": ""
             }
            },
            "type": "scatter3d"
           }
          ],
          "scattercarpet": [
           {
            "marker": {
             "colorbar": {
              "outlinewidth": 0,
              "ticks": ""
             }
            },
            "type": "scattercarpet"
           }
          ],
          "scattergeo": [
           {
            "marker": {
             "colorbar": {
              "outlinewidth": 0,
              "ticks": ""
             }
            },
            "type": "scattergeo"
           }
          ],
          "scattergl": [
           {
            "marker": {
             "colorbar": {
              "outlinewidth": 0,
              "ticks": ""
             }
            },
            "type": "scattergl"
           }
          ],
          "scattermap": [
           {
            "marker": {
             "colorbar": {
              "outlinewidth": 0,
              "ticks": ""
             }
            },
            "type": "scattermap"
           }
          ],
          "scattermapbox": [
           {
            "marker": {
             "colorbar": {
              "outlinewidth": 0,
              "ticks": ""
             }
            },
            "type": "scattermapbox"
           }
          ],
          "scatterpolar": [
           {
            "marker": {
             "colorbar": {
              "outlinewidth": 0,
              "ticks": ""
             }
            },
            "type": "scatterpolar"
           }
          ],
          "scatterpolargl": [
           {
            "marker": {
             "colorbar": {
              "outlinewidth": 0,
              "ticks": ""
             }
            },
            "type": "scatterpolargl"
           }
          ],
          "scatterternary": [
           {
            "marker": {
             "colorbar": {
              "outlinewidth": 0,
              "ticks": ""
             }
            },
            "type": "scatterternary"
           }
          ],
          "surface": [
           {
            "colorbar": {
             "outlinewidth": 0,
             "ticks": ""
            },
            "colorscale": [
             [
              0,
              "#0d0887"
             ],
             [
              0.1111111111111111,
              "#46039f"
             ],
             [
              0.2222222222222222,
              "#7201a8"
             ],
             [
              0.3333333333333333,
              "#9c179e"
             ],
             [
              0.4444444444444444,
              "#bd3786"
             ],
             [
              0.5555555555555556,
              "#d8576b"
             ],
             [
              0.6666666666666666,
              "#ed7953"
             ],
             [
              0.7777777777777778,
              "#fb9f3a"
             ],
             [
              0.8888888888888888,
              "#fdca26"
             ],
             [
              1,
              "#f0f921"
             ]
            ],
            "type": "surface"
           }
          ],
          "table": [
           {
            "cells": {
             "fill": {
              "color": "#EBF0F8"
             },
             "line": {
              "color": "white"
             }
            },
            "header": {
             "fill": {
              "color": "#C8D4E3"
             },
             "line": {
              "color": "white"
             }
            },
            "type": "table"
           }
          ]
         },
         "layout": {
          "annotationdefaults": {
           "arrowcolor": "#2a3f5f",
           "arrowhead": 0,
           "arrowwidth": 1
          },
          "autotypenumbers": "strict",
          "coloraxis": {
           "colorbar": {
            "outlinewidth": 0,
            "ticks": ""
           }
          },
          "colorscale": {
           "diverging": [
            [
             0,
             "#8e0152"
            ],
            [
             0.1,
             "#c51b7d"
            ],
            [
             0.2,
             "#de77ae"
            ],
            [
             0.3,
             "#f1b6da"
            ],
            [
             0.4,
             "#fde0ef"
            ],
            [
             0.5,
             "#f7f7f7"
            ],
            [
             0.6,
             "#e6f5d0"
            ],
            [
             0.7,
             "#b8e186"
            ],
            [
             0.8,
             "#7fbc41"
            ],
            [
             0.9,
             "#4d9221"
            ],
            [
             1,
             "#276419"
            ]
           ],
           "sequential": [
            [
             0,
             "#0d0887"
            ],
            [
             0.1111111111111111,
             "#46039f"
            ],
            [
             0.2222222222222222,
             "#7201a8"
            ],
            [
             0.3333333333333333,
             "#9c179e"
            ],
            [
             0.4444444444444444,
             "#bd3786"
            ],
            [
             0.5555555555555556,
             "#d8576b"
            ],
            [
             0.6666666666666666,
             "#ed7953"
            ],
            [
             0.7777777777777778,
             "#fb9f3a"
            ],
            [
             0.8888888888888888,
             "#fdca26"
            ],
            [
             1,
             "#f0f921"
            ]
           ],
           "sequentialminus": [
            [
             0,
             "#0d0887"
            ],
            [
             0.1111111111111111,
             "#46039f"
            ],
            [
             0.2222222222222222,
             "#7201a8"
            ],
            [
             0.3333333333333333,
             "#9c179e"
            ],
            [
             0.4444444444444444,
             "#bd3786"
            ],
            [
             0.5555555555555556,
             "#d8576b"
            ],
            [
             0.6666666666666666,
             "#ed7953"
            ],
            [
             0.7777777777777778,
             "#fb9f3a"
            ],
            [
             0.8888888888888888,
             "#fdca26"
            ],
            [
             1,
             "#f0f921"
            ]
           ]
          },
          "colorway": [
           "#636efa",
           "#EF553B",
           "#00cc96",
           "#ab63fa",
           "#FFA15A",
           "#19d3f3",
           "#FF6692",
           "#B6E880",
           "#FF97FF",
           "#FECB52"
          ],
          "font": {
           "color": "#2a3f5f"
          },
          "geo": {
           "bgcolor": "white",
           "lakecolor": "white",
           "landcolor": "#E5ECF6",
           "showlakes": true,
           "showland": true,
           "subunitcolor": "white"
          },
          "hoverlabel": {
           "align": "left"
          },
          "hovermode": "closest",
          "mapbox": {
           "style": "light"
          },
          "paper_bgcolor": "white",
          "plot_bgcolor": "#E5ECF6",
          "polar": {
           "angularaxis": {
            "gridcolor": "white",
            "linecolor": "white",
            "ticks": ""
           },
           "bgcolor": "#E5ECF6",
           "radialaxis": {
            "gridcolor": "white",
            "linecolor": "white",
            "ticks": ""
           }
          },
          "scene": {
           "xaxis": {
            "backgroundcolor": "#E5ECF6",
            "gridcolor": "white",
            "gridwidth": 2,
            "linecolor": "white",
            "showbackground": true,
            "ticks": "",
            "zerolinecolor": "white"
           },
           "yaxis": {
            "backgroundcolor": "#E5ECF6",
            "gridcolor": "white",
            "gridwidth": 2,
            "linecolor": "white",
            "showbackground": true,
            "ticks": "",
            "zerolinecolor": "white"
           },
           "zaxis": {
            "backgroundcolor": "#E5ECF6",
            "gridcolor": "white",
            "gridwidth": 2,
            "linecolor": "white",
            "showbackground": true,
            "ticks": "",
            "zerolinecolor": "white"
           }
          },
          "shapedefaults": {
           "line": {
            "color": "#2a3f5f"
           }
          },
          "ternary": {
           "aaxis": {
            "gridcolor": "white",
            "linecolor": "white",
            "ticks": ""
           },
           "baxis": {
            "gridcolor": "white",
            "linecolor": "white",
            "ticks": ""
           },
           "bgcolor": "#E5ECF6",
           "caxis": {
            "gridcolor": "white",
            "linecolor": "white",
            "ticks": ""
           }
          },
          "title": {
           "x": 0.05
          },
          "xaxis": {
           "automargin": true,
           "gridcolor": "white",
           "linecolor": "white",
           "ticks": "",
           "title": {
            "standoff": 15
           },
           "zerolinecolor": "white",
           "zerolinewidth": 2
          },
          "yaxis": {
           "automargin": true,
           "gridcolor": "white",
           "linecolor": "white",
           "ticks": "",
           "title": {
            "standoff": 15
           },
           "zerolinecolor": "white",
           "zerolinewidth": 2
          }
         }
        },
        "title": {
         "text": "Boxplot of Total Proteins"
        },
        "xaxis": {
         "anchor": "y",
         "domain": [
          0,
          1
         ]
        },
        "yaxis": {
         "anchor": "x",
         "domain": [
          0,
          1
         ],
         "title": {
          "text": "Total Proteins"
         }
        }
       }
      }
     },
     "metadata": {},
     "output_type": "display_data"
    },
    {
     "data": {
      "application/vnd.plotly.v1+json": {
       "config": {
        "plotlyServerURL": "https://plot.ly"
       },
       "data": [
        {
         "alignmentgroup": "True",
         "hovertemplate": "ALB Albumin=%{y}<extra></extra>",
         "legendgroup": "",
         "marker": {
          "color": "#636efa"
         },
         "name": "",
         "notched": false,
         "offsetgroup": "",
         "orientation": "v",
         "showlegend": false,
         "type": "box",
         "x0": " ",
         "xaxis": "x",
         "y": {
          "bdata": "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",
          "dtype": "f8"
         },
         "y0": " ",
         "yaxis": "y"
        }
       ],
       "layout": {
        "boxmode": "group",
        "legend": {
         "tracegroupgap": 0
        },
        "template": {
         "data": {
          "bar": [
           {
            "error_x": {
             "color": "#2a3f5f"
            },
            "error_y": {
             "color": "#2a3f5f"
            },
            "marker": {
             "line": {
              "color": "#E5ECF6",
              "width": 0.5
             },
             "pattern": {
              "fillmode": "overlay",
              "size": 10,
              "solidity": 0.2
             }
            },
            "type": "bar"
           }
          ],
          "barpolar": [
           {
            "marker": {
             "line": {
              "color": "#E5ECF6",
              "width": 0.5
             },
             "pattern": {
              "fillmode": "overlay",
              "size": 10,
              "solidity": 0.2
             }
            },
            "type": "barpolar"
           }
          ],
          "carpet": [
           {
            "aaxis": {
             "endlinecolor": "#2a3f5f",
             "gridcolor": "white",
             "linecolor": "white",
             "minorgridcolor": "white",
             "startlinecolor": "#2a3f5f"
            },
            "baxis": {
             "endlinecolor": "#2a3f5f",
             "gridcolor": "white",
             "linecolor": "white",
             "minorgridcolor": "white",
             "startlinecolor": "#2a3f5f"
            },
            "type": "carpet"
           }
          ],
          "choropleth": [
           {
            "colorbar": {
             "outlinewidth": 0,
             "ticks": ""
            },
            "type": "choropleth"
           }
          ],
          "contour": [
           {
            "colorbar": {
             "outlinewidth": 0,
             "ticks": ""
            },
            "colorscale": [
             [
              0,
              "#0d0887"
             ],
             [
              0.1111111111111111,
              "#46039f"
             ],
             [
              0.2222222222222222,
              "#7201a8"
             ],
             [
              0.3333333333333333,
              "#9c179e"
             ],
             [
              0.4444444444444444,
              "#bd3786"
             ],
             [
              0.5555555555555556,
              "#d8576b"
             ],
             [
              0.6666666666666666,
              "#ed7953"
             ],
             [
              0.7777777777777778,
              "#fb9f3a"
             ],
             [
              0.8888888888888888,
              "#fdca26"
             ],
             [
              1,
              "#f0f921"
             ]
            ],
            "type": "contour"
           }
          ],
          "contourcarpet": [
           {
            "colorbar": {
             "outlinewidth": 0,
             "ticks": ""
            },
            "type": "contourcarpet"
           }
          ],
          "heatmap": [
           {
            "colorbar": {
             "outlinewidth": 0,
             "ticks": ""
            },
            "colorscale": [
             [
              0,
              "#0d0887"
             ],
             [
              0.1111111111111111,
              "#46039f"
             ],
             [
              0.2222222222222222,
              "#7201a8"
             ],
             [
              0.3333333333333333,
              "#9c179e"
             ],
             [
              0.4444444444444444,
              "#bd3786"
             ],
             [
              0.5555555555555556,
              "#d8576b"
             ],
             [
              0.6666666666666666,
              "#ed7953"
             ],
             [
              0.7777777777777778,
              "#fb9f3a"
             ],
             [
              0.8888888888888888,
              "#fdca26"
             ],
             [
              1,
              "#f0f921"
             ]
            ],
            "type": "heatmap"
           }
          ],
          "histogram": [
           {
            "marker": {
             "pattern": {
              "fillmode": "overlay",
              "size": 10,
              "solidity": 0.2
             }
            },
            "type": "histogram"
           }
          ],
          "histogram2d": [
           {
            "colorbar": {
             "outlinewidth": 0,
             "ticks": ""
            },
            "colorscale": [
             [
              0,
              "#0d0887"
             ],
             [
              0.1111111111111111,
              "#46039f"
             ],
             [
              0.2222222222222222,
              "#7201a8"
             ],
             [
              0.3333333333333333,
              "#9c179e"
             ],
             [
              0.4444444444444444,
              "#bd3786"
             ],
             [
              0.5555555555555556,
              "#d8576b"
             ],
             [
              0.6666666666666666,
              "#ed7953"
             ],
             [
              0.7777777777777778,
              "#fb9f3a"
             ],
             [
              0.8888888888888888,
              "#fdca26"
             ],
             [
              1,
              "#f0f921"
             ]
            ],
            "type": "histogram2d"
           }
          ],
          "histogram2dcontour": [
           {
            "colorbar": {
             "outlinewidth": 0,
             "ticks": ""
            },
            "colorscale": [
             [
              0,
              "#0d0887"
             ],
             [
              0.1111111111111111,
              "#46039f"
             ],
             [
              0.2222222222222222,
              "#7201a8"
             ],
             [
              0.3333333333333333,
              "#9c179e"
             ],
             [
              0.4444444444444444,
              "#bd3786"
             ],
             [
              0.5555555555555556,
              "#d8576b"
             ],
             [
              0.6666666666666666,
              "#ed7953"
             ],
             [
              0.7777777777777778,
              "#fb9f3a"
             ],
             [
              0.8888888888888888,
              "#fdca26"
             ],
             [
              1,
              "#f0f921"
             ]
            ],
            "type": "histogram2dcontour"
           }
          ],
          "mesh3d": [
           {
            "colorbar": {
             "outlinewidth": 0,
             "ticks": ""
            },
            "type": "mesh3d"
           }
          ],
          "parcoords": [
           {
            "line": {
             "colorbar": {
              "outlinewidth": 0,
              "ticks": ""
             }
            },
            "type": "parcoords"
           }
          ],
          "pie": [
           {
            "automargin": true,
            "type": "pie"
           }
          ],
          "scatter": [
           {
            "fillpattern": {
             "fillmode": "overlay",
             "size": 10,
             "solidity": 0.2
            },
            "type": "scatter"
           }
          ],
          "scatter3d": [
           {
            "line": {
             "colorbar": {
              "outlinewidth": 0,
              "ticks": ""
             }
            },
            "marker": {
             "colorbar": {
              "outlinewidth": 0,
              "ticks": ""
             }
            },
            "type": "scatter3d"
           }
          ],
          "scattercarpet": [
           {
            "marker": {
             "colorbar": {
              "outlinewidth": 0,
              "ticks": ""
             }
            },
            "type": "scattercarpet"
           }
          ],
          "scattergeo": [
           {
            "marker": {
             "colorbar": {
              "outlinewidth": 0,
              "ticks": ""
             }
            },
            "type": "scattergeo"
           }
          ],
          "scattergl": [
           {
            "marker": {
             "colorbar": {
              "outlinewidth": 0,
              "ticks": ""
             }
            },
            "type": "scattergl"
           }
          ],
          "scattermap": [
           {
            "marker": {
             "colorbar": {
              "outlinewidth": 0,
              "ticks": ""
             }
            },
            "type": "scattermap"
           }
          ],
          "scattermapbox": [
           {
            "marker": {
             "colorbar": {
              "outlinewidth": 0,
              "ticks": ""
             }
            },
            "type": "scattermapbox"
           }
          ],
          "scatterpolar": [
           {
            "marker": {
             "colorbar": {
              "outlinewidth": 0,
              "ticks": ""
             }
            },
            "type": "scatterpolar"
           }
          ],
          "scatterpolargl": [
           {
            "marker": {
             "colorbar": {
              "outlinewidth": 0,
              "ticks": ""
             }
            },
            "type": "scatterpolargl"
           }
          ],
          "scatterternary": [
           {
            "marker": {
             "colorbar": {
              "outlinewidth": 0,
              "ticks": ""
             }
            },
            "type": "scatterternary"
           }
          ],
          "surface": [
           {
            "colorbar": {
             "outlinewidth": 0,
             "ticks": ""
            },
            "colorscale": [
             [
              0,
              "#0d0887"
             ],
             [
              0.1111111111111111,
              "#46039f"
             ],
             [
              0.2222222222222222,
              "#7201a8"
             ],
             [
              0.3333333333333333,
              "#9c179e"
             ],
             [
              0.4444444444444444,
              "#bd3786"
             ],
             [
              0.5555555555555556,
              "#d8576b"
             ],
             [
              0.6666666666666666,
              "#ed7953"
             ],
             [
              0.7777777777777778,
              "#fb9f3a"
             ],
             [
              0.8888888888888888,
              "#fdca26"
             ],
             [
              1,
              "#f0f921"
             ]
            ],
            "type": "surface"
           }
          ],
          "table": [
           {
            "cells": {
             "fill": {
              "color": "#EBF0F8"
             },
             "line": {
              "color": "white"
             }
            },
            "header": {
             "fill": {
              "color": "#C8D4E3"
             },
             "line": {
              "color": "white"
             }
            },
            "type": "table"
           }
          ]
         },
         "layout": {
          "annotationdefaults": {
           "arrowcolor": "#2a3f5f",
           "arrowhead": 0,
           "arrowwidth": 1
          },
          "autotypenumbers": "strict",
          "coloraxis": {
           "colorbar": {
            "outlinewidth": 0,
            "ticks": ""
           }
          },
          "colorscale": {
           "diverging": [
            [
             0,
             "#8e0152"
            ],
            [
             0.1,
             "#c51b7d"
            ],
            [
             0.2,
             "#de77ae"
            ],
            [
             0.3,
             "#f1b6da"
            ],
            [
             0.4,
             "#fde0ef"
            ],
            [
             0.5,
             "#f7f7f7"
            ],
            [
             0.6,
             "#e6f5d0"
            ],
            [
             0.7,
             "#b8e186"
            ],
            [
             0.8,
             "#7fbc41"
            ],
            [
             0.9,
             "#4d9221"
            ],
            [
             1,
             "#276419"
            ]
           ],
           "sequential": [
            [
             0,
             "#0d0887"
            ],
            [
             0.1111111111111111,
             "#46039f"
            ],
            [
             0.2222222222222222,
             "#7201a8"
            ],
            [
             0.3333333333333333,
             "#9c179e"
            ],
            [
             0.4444444444444444,
             "#bd3786"
            ],
            [
             0.5555555555555556,
             "#d8576b"
            ],
            [
             0.6666666666666666,
             "#ed7953"
            ],
            [
             0.7777777777777778,
             "#fb9f3a"
            ],
            [
             0.8888888888888888,
             "#fdca26"
            ],
            [
             1,
             "#f0f921"
            ]
           ],
           "sequentialminus": [
            [
             0,
             "#0d0887"
            ],
            [
             0.1111111111111111,
             "#46039f"
            ],
            [
             0.2222222222222222,
             "#7201a8"
            ],
            [
             0.3333333333333333,
             "#9c179e"
            ],
            [
             0.4444444444444444,
             "#bd3786"
            ],
            [
             0.5555555555555556,
             "#d8576b"
            ],
            [
             0.6666666666666666,
             "#ed7953"
            ],
            [
             0.7777777777777778,
             "#fb9f3a"
            ],
            [
             0.8888888888888888,
             "#fdca26"
            ],
            [
             1,
             "#f0f921"
            ]
           ]
          },
          "colorway": [
           "#636efa",
           "#EF553B",
           "#00cc96",
           "#ab63fa",
           "#FFA15A",
           "#19d3f3",
           "#FF6692",
           "#B6E880",
           "#FF97FF",
           "#FECB52"
          ],
          "font": {
           "color": "#2a3f5f"
          },
          "geo": {
           "bgcolor": "white",
           "lakecolor": "white",
           "landcolor": "#E5ECF6",
           "showlakes": true,
           "showland": true,
           "subunitcolor": "white"
          },
          "hoverlabel": {
           "align": "left"
          },
          "hovermode": "closest",
          "mapbox": {
           "style": "light"
          },
          "paper_bgcolor": "white",
          "plot_bgcolor": "#E5ECF6",
          "polar": {
           "angularaxis": {
            "gridcolor": "white",
            "linecolor": "white",
            "ticks": ""
           },
           "bgcolor": "#E5ECF6",
           "radialaxis": {
            "gridcolor": "white",
            "linecolor": "white",
            "ticks": ""
           }
          },
          "scene": {
           "xaxis": {
            "backgroundcolor": "#E5ECF6",
            "gridcolor": "white",
            "gridwidth": 2,
            "linecolor": "white",
            "showbackground": true,
            "ticks": "",
            "zerolinecolor": "white"
           },
           "yaxis": {
            "backgroundcolor": "#E5ECF6",
            "gridcolor": "white",
            "gridwidth": 2,
            "linecolor": "white",
            "showbackground": true,
            "ticks": "",
            "zerolinecolor": "white"
           },
           "zaxis": {
            "backgroundcolor": "#E5ECF6",
            "gridcolor": "white",
            "gridwidth": 2,
            "linecolor": "white",
            "showbackground": true,
            "ticks": "",
            "zerolinecolor": "white"
           }
          },
          "shapedefaults": {
           "line": {
            "color": "#2a3f5f"
           }
          },
          "ternary": {
           "aaxis": {
            "gridcolor": "white",
            "linecolor": "white",
            "ticks": ""
           },
           "baxis": {
            "gridcolor": "white",
            "linecolor": "white",
            "ticks": ""
           },
           "bgcolor": "#E5ECF6",
           "caxis": {
            "gridcolor": "white",
            "linecolor": "white",
            "ticks": ""
           }
          },
          "title": {
           "x": 0.05
          },
          "xaxis": {
           "automargin": true,
           "gridcolor": "white",
           "linecolor": "white",
           "ticks": "",
           "title": {
            "standoff": 15
           },
           "zerolinecolor": "white",
           "zerolinewidth": 2
          },
          "yaxis": {
           "automargin": true,
           "gridcolor": "white",
           "linecolor": "white",
           "ticks": "",
           "title": {
            "standoff": 15
           },
           "zerolinecolor": "white",
           "zerolinewidth": 2
          }
         }
        },
        "title": {
         "text": "Boxplot of ALB Albumin"
        },
        "xaxis": {
         "anchor": "y",
         "domain": [
          0,
          1
         ]
        },
        "yaxis": {
         "anchor": "x",
         "domain": [
          0,
          1
         ],
         "title": {
          "text": "ALB Albumin"
         }
        }
       }
      }
     },
     "metadata": {},
     "output_type": "display_data"
    },
    {
     "data": {
      "application/vnd.plotly.v1+json": {
       "config": {
        "plotlyServerURL": "https://plot.ly"
       },
       "data": [
        {
         "alignmentgroup": "True",
         "hovertemplate": "A/G ratio Albumin and Globulin Ratio=%{y}<extra></extra>",
         "legendgroup": "",
         "marker": {
          "color": "#636efa"
         },
         "name": "",
         "notched": false,
         "offsetgroup": "",
         "orientation": "v",
         "showlegend": false,
         "type": "box",
         "x0": " ",
         "xaxis": "x",
         "y": {
          "bdata": "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",
          "dtype": "f8"
         },
         "y0": " ",
         "yaxis": "y"
        }
       ],
       "layout": {
        "boxmode": "group",
        "legend": {
         "tracegroupgap": 0
        },
        "template": {
         "data": {
          "bar": [
           {
            "error_x": {
             "color": "#2a3f5f"
            },
            "error_y": {
             "color": "#2a3f5f"
            },
            "marker": {
             "line": {
              "color": "#E5ECF6",
              "width": 0.5
             },
             "pattern": {
              "fillmode": "overlay",
              "size": 10,
              "solidity": 0.2
             }
            },
            "type": "bar"
           }
          ],
          "barpolar": [
           {
            "marker": {
             "line": {
              "color": "#E5ECF6",
              "width": 0.5
             },
             "pattern": {
              "fillmode": "overlay",
              "size": 10,
              "solidity": 0.2
             }
            },
            "type": "barpolar"
           }
          ],
          "carpet": [
           {
            "aaxis": {
             "endlinecolor": "#2a3f5f",
             "gridcolor": "white",
             "linecolor": "white",
             "minorgridcolor": "white",
             "startlinecolor": "#2a3f5f"
            },
            "baxis": {
             "endlinecolor": "#2a3f5f",
             "gridcolor": "white",
             "linecolor": "white",
             "minorgridcolor": "white",
             "startlinecolor": "#2a3f5f"
            },
            "type": "carpet"
           }
          ],
          "choropleth": [
           {
            "colorbar": {
             "outlinewidth": 0,
             "ticks": ""
            },
            "type": "choropleth"
           }
          ],
          "contour": [
           {
            "colorbar": {
             "outlinewidth": 0,
             "ticks": ""
            },
            "colorscale": [
             [
              0,
              "#0d0887"
             ],
             [
              0.1111111111111111,
              "#46039f"
             ],
             [
              0.2222222222222222,
              "#7201a8"
             ],
             [
              0.3333333333333333,
              "#9c179e"
             ],
             [
              0.4444444444444444,
              "#bd3786"
             ],
             [
              0.5555555555555556,
              "#d8576b"
             ],
             [
              0.6666666666666666,
              "#ed7953"
             ],
             [
              0.7777777777777778,
              "#fb9f3a"
             ],
             [
              0.8888888888888888,
              "#fdca26"
             ],
             [
              1,
              "#f0f921"
             ]
            ],
            "type": "contour"
           }
          ],
          "contourcarpet": [
           {
            "colorbar": {
             "outlinewidth": 0,
             "ticks": ""
            },
            "type": "contourcarpet"
           }
          ],
          "heatmap": [
           {
            "colorbar": {
             "outlinewidth": 0,
             "ticks": ""
            },
            "colorscale": [
             [
              0,
              "#0d0887"
             ],
             [
              0.1111111111111111,
              "#46039f"
             ],
             [
              0.2222222222222222,
              "#7201a8"
             ],
             [
              0.3333333333333333,
              "#9c179e"
             ],
             [
              0.4444444444444444,
              "#bd3786"
             ],
             [
              0.5555555555555556,
              "#d8576b"
             ],
             [
              0.6666666666666666,
              "#ed7953"
             ],
             [
              0.7777777777777778,
              "#fb9f3a"
             ],
             [
              0.8888888888888888,
              "#fdca26"
             ],
             [
              1,
              "#f0f921"
             ]
            ],
            "type": "heatmap"
           }
          ],
          "histogram": [
           {
            "marker": {
             "pattern": {
              "fillmode": "overlay",
              "size": 10,
              "solidity": 0.2
             }
            },
            "type": "histogram"
           }
          ],
          "histogram2d": [
           {
            "colorbar": {
             "outlinewidth": 0,
             "ticks": ""
            },
            "colorscale": [
             [
              0,
              "#0d0887"
             ],
             [
              0.1111111111111111,
              "#46039f"
             ],
             [
              0.2222222222222222,
              "#7201a8"
             ],
             [
              0.3333333333333333,
              "#9c179e"
             ],
             [
              0.4444444444444444,
              "#bd3786"
             ],
             [
              0.5555555555555556,
              "#d8576b"
             ],
             [
              0.6666666666666666,
              "#ed7953"
             ],
             [
              0.7777777777777778,
              "#fb9f3a"
             ],
             [
              0.8888888888888888,
              "#fdca26"
             ],
             [
              1,
              "#f0f921"
             ]
            ],
            "type": "histogram2d"
           }
          ],
          "histogram2dcontour": [
           {
            "colorbar": {
             "outlinewidth": 0,
             "ticks": ""
            },
            "colorscale": [
             [
              0,
              "#0d0887"
             ],
             [
              0.1111111111111111,
              "#46039f"
             ],
             [
              0.2222222222222222,
              "#7201a8"
             ],
             [
              0.3333333333333333,
              "#9c179e"
             ],
             [
              0.4444444444444444,
              "#bd3786"
             ],
             [
              0.5555555555555556,
              "#d8576b"
             ],
             [
              0.6666666666666666,
              "#ed7953"
             ],
             [
              0.7777777777777778,
              "#fb9f3a"
             ],
             [
              0.8888888888888888,
              "#fdca26"
             ],
             [
              1,
              "#f0f921"
             ]
            ],
            "type": "histogram2dcontour"
           }
          ],
          "mesh3d": [
           {
            "colorbar": {
             "outlinewidth": 0,
             "ticks": ""
            },
            "type": "mesh3d"
           }
          ],
          "parcoords": [
           {
            "line": {
             "colorbar": {
              "outlinewidth": 0,
              "ticks": ""
             }
            },
            "type": "parcoords"
           }
          ],
          "pie": [
           {
            "automargin": true,
            "type": "pie"
           }
          ],
          "scatter": [
           {
            "fillpattern": {
             "fillmode": "overlay",
             "size": 10,
             "solidity": 0.2
            },
            "type": "scatter"
           }
          ],
          "scatter3d": [
           {
            "line": {
             "colorbar": {
              "outlinewidth": 0,
              "ticks": ""
             }
            },
            "marker": {
             "colorbar": {
              "outlinewidth": 0,
              "ticks": ""
             }
            },
            "type": "scatter3d"
           }
          ],
          "scattercarpet": [
           {
            "marker": {
             "colorbar": {
              "outlinewidth": 0,
              "ticks": ""
             }
            },
            "type": "scattercarpet"
           }
          ],
          "scattergeo": [
           {
            "marker": {
             "colorbar": {
              "outlinewidth": 0,
              "ticks": ""
             }
            },
            "type": "scattergeo"
           }
          ],
          "scattergl": [
           {
            "marker": {
             "colorbar": {
              "outlinewidth": 0,
              "ticks": ""
             }
            },
            "type": "scattergl"
           }
          ],
          "scattermap": [
           {
            "marker": {
             "colorbar": {
              "outlinewidth": 0,
              "ticks": ""
             }
            },
            "type": "scattermap"
           }
          ],
          "scattermapbox": [
           {
            "marker": {
             "colorbar": {
              "outlinewidth": 0,
              "ticks": ""
             }
            },
            "type": "scattermapbox"
           }
          ],
          "scatterpolar": [
           {
            "marker": {
             "colorbar": {
              "outlinewidth": 0,
              "ticks": ""
             }
            },
            "type": "scatterpolar"
           }
          ],
          "scatterpolargl": [
           {
            "marker": {
             "colorbar": {
              "outlinewidth": 0,
              "ticks": ""
             }
            },
            "type": "scatterpolargl"
           }
          ],
          "scatterternary": [
           {
            "marker": {
             "colorbar": {
              "outlinewidth": 0,
              "ticks": ""
             }
            },
            "type": "scatterternary"
           }
          ],
          "surface": [
           {
            "colorbar": {
             "outlinewidth": 0,
             "ticks": ""
            },
            "colorscale": [
             [
              0,
              "#0d0887"
             ],
             [
              0.1111111111111111,
              "#46039f"
             ],
             [
              0.2222222222222222,
              "#7201a8"
             ],
             [
              0.3333333333333333,
              "#9c179e"
             ],
             [
              0.4444444444444444,
              "#bd3786"
             ],
             [
              0.5555555555555556,
              "#d8576b"
             ],
             [
              0.6666666666666666,
              "#ed7953"
             ],
             [
              0.7777777777777778,
              "#fb9f3a"
             ],
             [
              0.8888888888888888,
              "#fdca26"
             ],
             [
              1,
              "#f0f921"
             ]
            ],
            "type": "surface"
           }
          ],
          "table": [
           {
            "cells": {
             "fill": {
              "color": "#EBF0F8"
             },
             "line": {
              "color": "white"
             }
            },
            "header": {
             "fill": {
              "color": "#C8D4E3"
             },
             "line": {
              "color": "white"
             }
            },
            "type": "table"
           }
          ]
         },
         "layout": {
          "annotationdefaults": {
           "arrowcolor": "#2a3f5f",
           "arrowhead": 0,
           "arrowwidth": 1
          },
          "autotypenumbers": "strict",
          "coloraxis": {
           "colorbar": {
            "outlinewidth": 0,
            "ticks": ""
           }
          },
          "colorscale": {
           "diverging": [
            [
             0,
             "#8e0152"
            ],
            [
             0.1,
             "#c51b7d"
            ],
            [
             0.2,
             "#de77ae"
            ],
            [
             0.3,
             "#f1b6da"
            ],
            [
             0.4,
             "#fde0ef"
            ],
            [
             0.5,
             "#f7f7f7"
            ],
            [
             0.6,
             "#e6f5d0"
            ],
            [
             0.7,
             "#b8e186"
            ],
            [
             0.8,
             "#7fbc41"
            ],
            [
             0.9,
             "#4d9221"
            ],
            [
             1,
             "#276419"
            ]
           ],
           "sequential": [
            [
             0,
             "#0d0887"
            ],
            [
             0.1111111111111111,
             "#46039f"
            ],
            [
             0.2222222222222222,
             "#7201a8"
            ],
            [
             0.3333333333333333,
             "#9c179e"
            ],
            [
             0.4444444444444444,
             "#bd3786"
            ],
            [
             0.5555555555555556,
             "#d8576b"
            ],
            [
             0.6666666666666666,
             "#ed7953"
            ],
            [
             0.7777777777777778,
             "#fb9f3a"
            ],
            [
             0.8888888888888888,
             "#fdca26"
            ],
            [
             1,
             "#f0f921"
            ]
           ],
           "sequentialminus": [
            [
             0,
             "#0d0887"
            ],
            [
             0.1111111111111111,
             "#46039f"
            ],
            [
             0.2222222222222222,
             "#7201a8"
            ],
            [
             0.3333333333333333,
             "#9c179e"
            ],
            [
             0.4444444444444444,
             "#bd3786"
            ],
            [
             0.5555555555555556,
             "#d8576b"
            ],
            [
             0.6666666666666666,
             "#ed7953"
            ],
            [
             0.7777777777777778,
             "#fb9f3a"
            ],
            [
             0.8888888888888888,
             "#fdca26"
            ],
            [
             1,
             "#f0f921"
            ]
           ]
          },
          "colorway": [
           "#636efa",
           "#EF553B",
           "#00cc96",
           "#ab63fa",
           "#FFA15A",
           "#19d3f3",
           "#FF6692",
           "#B6E880",
           "#FF97FF",
           "#FECB52"
          ],
          "font": {
           "color": "#2a3f5f"
          },
          "geo": {
           "bgcolor": "white",
           "lakecolor": "white",
           "landcolor": "#E5ECF6",
           "showlakes": true,
           "showland": true,
           "subunitcolor": "white"
          },
          "hoverlabel": {
           "align": "left"
          },
          "hovermode": "closest",
          "mapbox": {
           "style": "light"
          },
          "paper_bgcolor": "white",
          "plot_bgcolor": "#E5ECF6",
          "polar": {
           "angularaxis": {
            "gridcolor": "white",
            "linecolor": "white",
            "ticks": ""
           },
           "bgcolor": "#E5ECF6",
           "radialaxis": {
            "gridcolor": "white",
            "linecolor": "white",
            "ticks": ""
           }
          },
          "scene": {
           "xaxis": {
            "backgroundcolor": "#E5ECF6",
            "gridcolor": "white",
            "gridwidth": 2,
            "linecolor": "white",
            "showbackground": true,
            "ticks": "",
            "zerolinecolor": "white"
           },
           "yaxis": {
            "backgroundcolor": "#E5ECF6",
            "gridcolor": "white",
            "gridwidth": 2,
            "linecolor": "white",
            "showbackground": true,
            "ticks": "",
            "zerolinecolor": "white"
           },
           "zaxis": {
            "backgroundcolor": "#E5ECF6",
            "gridcolor": "white",
            "gridwidth": 2,
            "linecolor": "white",
            "showbackground": true,
            "ticks": "",
            "zerolinecolor": "white"
           }
          },
          "shapedefaults": {
           "line": {
            "color": "#2a3f5f"
           }
          },
          "ternary": {
           "aaxis": {
            "gridcolor": "white",
            "linecolor": "white",
            "ticks": ""
           },
           "baxis": {
            "gridcolor": "white",
            "linecolor": "white",
            "ticks": ""
           },
           "bgcolor": "#E5ECF6",
           "caxis": {
            "gridcolor": "white",
            "linecolor": "white",
            "ticks": ""
           }
          },
          "title": {
           "x": 0.05
          },
          "xaxis": {
           "automargin": true,
           "gridcolor": "white",
           "linecolor": "white",
           "ticks": "",
           "title": {
            "standoff": 15
           },
           "zerolinecolor": "white",
           "zerolinewidth": 2
          },
          "yaxis": {
           "automargin": true,
           "gridcolor": "white",
           "linecolor": "white",
           "ticks": "",
           "title": {
            "standoff": 15
           },
           "zerolinecolor": "white",
           "zerolinewidth": 2
          }
         }
        },
        "title": {
         "text": "Boxplot of A/G ratio Albumin and Globulin Ratio"
        },
        "xaxis": {
         "anchor": "y",
         "domain": [
          0,
          1
         ]
        },
        "yaxis": {
         "anchor": "x",
         "domain": [
          0,
          1
         ],
         "title": {
          "text": "A/G ratio Albumin and Globulin Ratio"
         }
        }
       }
      }
     },
     "metadata": {},
     "output_type": "display_data"
    }
   ],
   "source": [
    "import plotly.express as px\n",
    "\n",
    "numerical_columns = ['Age', 'Total Bilirubin', 'Direct Bilirubin',\n",
    "       'Alkaline Phosphotase', 'Sgpt Alamine Aminotransferase',\n",
    "       'Sgot Aspartate Aminotransferase', 'Total Proteins', 'ALB Albumin',\n",
    "       'A/G ratio Albumin and Globulin Ratio']\n",
    "\n",
    "\n",
    "# Iterate over each numerical column and create a boxplot\n",
    "for col in numerical_columns:\n",
    "    fig = px.box(data, y=col, title=f\"Boxplot of {col}\")\n",
    "    fig.show()"
   ]
  },
  {
   "cell_type": "code",
   "execution_count": 56,
   "metadata": {},
   "outputs": [
    {
     "data": {
      "application/vnd.plotly.v1+json": {
       "config": {
        "plotlyServerURL": "https://plot.ly"
       },
       "data": [
        {
         "bingroup": "x",
         "hovertemplate": "Result=0<br>Age=%{x}<br>count=%{y}<extra></extra>",
         "legendgroup": "0",
         "marker": {
          "color": "#636efa",
          "opacity": 0.5,
          "pattern": {
           "shape": ""
          }
         },
         "name": "0",
         "orientation": "v",
         "showlegend": true,
         "type": "histogram",
         "x": {
          "bdata": "QT4+OkguGh03OUhKPSYoKDMzPigiIiI5NB4uMC8tMhUoIDctIiYmKiozHzo6OTk5NiVCE0tLNEQfRDo6HSEgDjoSPDw8PDw8SycnEhIRPzBKMCAgICAgQDBAOi0tNRJCLhISD0IeHi1CQTI8Mi4iIiBISDI8PDwnJzA3Lzw8SCw3Hx8fN0tLS0tLKEA8PDw8PDw8PBoHMTEtKChGLRwqCCYxJSUvL0YaGkQuPTIhKDwjKDMdHDY2NzcoISEhJjIsKiohEiY+KygaJRUeITwtMDoyEg0iMjktLRYWSh8zMjcwHi0wMzYaIyYeHiQ8GhoaDQ1LS0tLSyRGPC4mRiUlGjAwISElGCo6NjAvITIyJzoiMjMuSEhLKSkwSk4mGzIqFh8MMDASQUZGMjc3KSA6QUk1HRcjQSoxKioqNi0wMEEjOi4VGkEWHCYZQkJCJjchIS0tPhYqIDUjGRhDRDdGJCo1ICA4Mi4uLUUxMTwcLSM+Ny4yLigtNyguPC4KNCg2LTIqKC4tLkk3MzMzGkJCQkArNBQQEFogICAgICAoNB8=",
          "dtype": "i1"
         },
         "xaxis": "x",
         "yaxis": "y"
        },
        {
         "bingroup": "x",
         "hovertemplate": "Result=1<br>Age=%{x}<br>count=%{y}<extra></extra>",
         "legendgroup": "1",
         "marker": {
          "color": "#EF553B",
          "opacity": 0.5,
          "pattern": {
           "shape": ""
          }
         },
         "name": "1",
         "orientation": "v",
         "showlegend": true,
         "type": "histogram",
         "x": {
          "bdata": "EUAZIT8UVDkmJhE+KlUjITBAPB1GMQ0bGzckJCQkJBgbMjI6HDxGEjxBODRBJjAxMSkmFRUWQjcGMkE9FiMwQSMmJCYEBBojMhIrPBcZGDoyNhseFiwODCokGCsVJCMlMRNFQTcqFSgQPCEZOBRIPCYtQkEtFzBBCxo1LTQvKR4RPREcID0tLRwcMSoqIyYHHjxBG0EgJTgdNRY+J0EqKj4tHSYyPCY=",
          "dtype": "i1"
         },
         "xaxis": "x",
         "yaxis": "y"
        }
       ],
       "layout": {
        "barmode": "overlay",
        "legend": {
         "title": {
          "text": "Result"
         },
         "tracegroupgap": 0
        },
        "template": {
         "data": {
          "bar": [
           {
            "error_x": {
             "color": "#2a3f5f"
            },
            "error_y": {
             "color": "#2a3f5f"
            },
            "marker": {
             "line": {
              "color": "#E5ECF6",
              "width": 0.5
             },
             "pattern": {
              "fillmode": "overlay",
              "size": 10,
              "solidity": 0.2
             }
            },
            "type": "bar"
           }
          ],
          "barpolar": [
           {
            "marker": {
             "line": {
              "color": "#E5ECF6",
              "width": 0.5
             },
             "pattern": {
              "fillmode": "overlay",
              "size": 10,
              "solidity": 0.2
             }
            },
            "type": "barpolar"
           }
          ],
          "carpet": [
           {
            "aaxis": {
             "endlinecolor": "#2a3f5f",
             "gridcolor": "white",
             "linecolor": "white",
             "minorgridcolor": "white",
             "startlinecolor": "#2a3f5f"
            },
            "baxis": {
             "endlinecolor": "#2a3f5f",
             "gridcolor": "white",
             "linecolor": "white",
             "minorgridcolor": "white",
             "startlinecolor": "#2a3f5f"
            },
            "type": "carpet"
           }
          ],
          "choropleth": [
           {
            "colorbar": {
             "outlinewidth": 0,
             "ticks": ""
            },
            "type": "choropleth"
           }
          ],
          "contour": [
           {
            "colorbar": {
             "outlinewidth": 0,
             "ticks": ""
            },
            "colorscale": [
             [
              0,
              "#0d0887"
             ],
             [
              0.1111111111111111,
              "#46039f"
             ],
             [
              0.2222222222222222,
              "#7201a8"
             ],
             [
              0.3333333333333333,
              "#9c179e"
             ],
             [
              0.4444444444444444,
              "#bd3786"
             ],
             [
              0.5555555555555556,
              "#d8576b"
             ],
             [
              0.6666666666666666,
              "#ed7953"
             ],
             [
              0.7777777777777778,
              "#fb9f3a"
             ],
             [
              0.8888888888888888,
              "#fdca26"
             ],
             [
              1,
              "#f0f921"
             ]
            ],
            "type": "contour"
           }
          ],
          "contourcarpet": [
           {
            "colorbar": {
             "outlinewidth": 0,
             "ticks": ""
            },
            "type": "contourcarpet"
           }
          ],
          "heatmap": [
           {
            "colorbar": {
             "outlinewidth": 0,
             "ticks": ""
            },
            "colorscale": [
             [
              0,
              "#0d0887"
             ],
             [
              0.1111111111111111,
              "#46039f"
             ],
             [
              0.2222222222222222,
              "#7201a8"
             ],
             [
              0.3333333333333333,
              "#9c179e"
             ],
             [
              0.4444444444444444,
              "#bd3786"
             ],
             [
              0.5555555555555556,
              "#d8576b"
             ],
             [
              0.6666666666666666,
              "#ed7953"
             ],
             [
              0.7777777777777778,
              "#fb9f3a"
             ],
             [
              0.8888888888888888,
              "#fdca26"
             ],
             [
              1,
              "#f0f921"
             ]
            ],
            "type": "heatmap"
           }
          ],
          "histogram": [
           {
            "marker": {
             "pattern": {
              "fillmode": "overlay",
              "size": 10,
              "solidity": 0.2
             }
            },
            "type": "histogram"
           }
          ],
          "histogram2d": [
           {
            "colorbar": {
             "outlinewidth": 0,
             "ticks": ""
            },
            "colorscale": [
             [
              0,
              "#0d0887"
             ],
             [
              0.1111111111111111,
              "#46039f"
             ],
             [
              0.2222222222222222,
              "#7201a8"
             ],
             [
              0.3333333333333333,
              "#9c179e"
             ],
             [
              0.4444444444444444,
              "#bd3786"
             ],
             [
              0.5555555555555556,
              "#d8576b"
             ],
             [
              0.6666666666666666,
              "#ed7953"
             ],
             [
              0.7777777777777778,
              "#fb9f3a"
             ],
             [
              0.8888888888888888,
              "#fdca26"
             ],
             [
              1,
              "#f0f921"
             ]
            ],
            "type": "histogram2d"
           }
          ],
          "histogram2dcontour": [
           {
            "colorbar": {
             "outlinewidth": 0,
             "ticks": ""
            },
            "colorscale": [
             [
              0,
              "#0d0887"
             ],
             [
              0.1111111111111111,
              "#46039f"
             ],
             [
              0.2222222222222222,
              "#7201a8"
             ],
             [
              0.3333333333333333,
              "#9c179e"
             ],
             [
              0.4444444444444444,
              "#bd3786"
             ],
             [
              0.5555555555555556,
              "#d8576b"
             ],
             [
              0.6666666666666666,
              "#ed7953"
             ],
             [
              0.7777777777777778,
              "#fb9f3a"
             ],
             [
              0.8888888888888888,
              "#fdca26"
             ],
             [
              1,
              "#f0f921"
             ]
            ],
            "type": "histogram2dcontour"
           }
          ],
          "mesh3d": [
           {
            "colorbar": {
             "outlinewidth": 0,
             "ticks": ""
            },
            "type": "mesh3d"
           }
          ],
          "parcoords": [
           {
            "line": {
             "colorbar": {
              "outlinewidth": 0,
              "ticks": ""
             }
            },
            "type": "parcoords"
           }
          ],
          "pie": [
           {
            "automargin": true,
            "type": "pie"
           }
          ],
          "scatter": [
           {
            "fillpattern": {
             "fillmode": "overlay",
             "size": 10,
             "solidity": 0.2
            },
            "type": "scatter"
           }
          ],
          "scatter3d": [
           {
            "line": {
             "colorbar": {
              "outlinewidth": 0,
              "ticks": ""
             }
            },
            "marker": {
             "colorbar": {
              "outlinewidth": 0,
              "ticks": ""
             }
            },
            "type": "scatter3d"
           }
          ],
          "scattercarpet": [
           {
            "marker": {
             "colorbar": {
              "outlinewidth": 0,
              "ticks": ""
             }
            },
            "type": "scattercarpet"
           }
          ],
          "scattergeo": [
           {
            "marker": {
             "colorbar": {
              "outlinewidth": 0,
              "ticks": ""
             }
            },
            "type": "scattergeo"
           }
          ],
          "scattergl": [
           {
            "marker": {
             "colorbar": {
              "outlinewidth": 0,
              "ticks": ""
             }
            },
            "type": "scattergl"
           }
          ],
          "scattermap": [
           {
            "marker": {
             "colorbar": {
              "outlinewidth": 0,
              "ticks": ""
             }
            },
            "type": "scattermap"
           }
          ],
          "scattermapbox": [
           {
            "marker": {
             "colorbar": {
              "outlinewidth": 0,
              "ticks": ""
             }
            },
            "type": "scattermapbox"
           }
          ],
          "scatterpolar": [
           {
            "marker": {
             "colorbar": {
              "outlinewidth": 0,
              "ticks": ""
             }
            },
            "type": "scatterpolar"
           }
          ],
          "scatterpolargl": [
           {
            "marker": {
             "colorbar": {
              "outlinewidth": 0,
              "ticks": ""
             }
            },
            "type": "scatterpolargl"
           }
          ],
          "scatterternary": [
           {
            "marker": {
             "colorbar": {
              "outlinewidth": 0,
              "ticks": ""
             }
            },
            "type": "scatterternary"
           }
          ],
          "surface": [
           {
            "colorbar": {
             "outlinewidth": 0,
             "ticks": ""
            },
            "colorscale": [
             [
              0,
              "#0d0887"
             ],
             [
              0.1111111111111111,
              "#46039f"
             ],
             [
              0.2222222222222222,
              "#7201a8"
             ],
             [
              0.3333333333333333,
              "#9c179e"
             ],
             [
              0.4444444444444444,
              "#bd3786"
             ],
             [
              0.5555555555555556,
              "#d8576b"
             ],
             [
              0.6666666666666666,
              "#ed7953"
             ],
             [
              0.7777777777777778,
              "#fb9f3a"
             ],
             [
              0.8888888888888888,
              "#fdca26"
             ],
             [
              1,
              "#f0f921"
             ]
            ],
            "type": "surface"
           }
          ],
          "table": [
           {
            "cells": {
             "fill": {
              "color": "#EBF0F8"
             },
             "line": {
              "color": "white"
             }
            },
            "header": {
             "fill": {
              "color": "#C8D4E3"
             },
             "line": {
              "color": "white"
             }
            },
            "type": "table"
           }
          ]
         },
         "layout": {
          "annotationdefaults": {
           "arrowcolor": "#2a3f5f",
           "arrowhead": 0,
           "arrowwidth": 1
          },
          "autotypenumbers": "strict",
          "coloraxis": {
           "colorbar": {
            "outlinewidth": 0,
            "ticks": ""
           }
          },
          "colorscale": {
           "diverging": [
            [
             0,
             "#8e0152"
            ],
            [
             0.1,
             "#c51b7d"
            ],
            [
             0.2,
             "#de77ae"
            ],
            [
             0.3,
             "#f1b6da"
            ],
            [
             0.4,
             "#fde0ef"
            ],
            [
             0.5,
             "#f7f7f7"
            ],
            [
             0.6,
             "#e6f5d0"
            ],
            [
             0.7,
             "#b8e186"
            ],
            [
             0.8,
             "#7fbc41"
            ],
            [
             0.9,
             "#4d9221"
            ],
            [
             1,
             "#276419"
            ]
           ],
           "sequential": [
            [
             0,
             "#0d0887"
            ],
            [
             0.1111111111111111,
             "#46039f"
            ],
            [
             0.2222222222222222,
             "#7201a8"
            ],
            [
             0.3333333333333333,
             "#9c179e"
            ],
            [
             0.4444444444444444,
             "#bd3786"
            ],
            [
             0.5555555555555556,
             "#d8576b"
            ],
            [
             0.6666666666666666,
             "#ed7953"
            ],
            [
             0.7777777777777778,
             "#fb9f3a"
            ],
            [
             0.8888888888888888,
             "#fdca26"
            ],
            [
             1,
             "#f0f921"
            ]
           ],
           "sequentialminus": [
            [
             0,
             "#0d0887"
            ],
            [
             0.1111111111111111,
             "#46039f"
            ],
            [
             0.2222222222222222,
             "#7201a8"
            ],
            [
             0.3333333333333333,
             "#9c179e"
            ],
            [
             0.4444444444444444,
             "#bd3786"
            ],
            [
             0.5555555555555556,
             "#d8576b"
            ],
            [
             0.6666666666666666,
             "#ed7953"
            ],
            [
             0.7777777777777778,
             "#fb9f3a"
            ],
            [
             0.8888888888888888,
             "#fdca26"
            ],
            [
             1,
             "#f0f921"
            ]
           ]
          },
          "colorway": [
           "#636efa",
           "#EF553B",
           "#00cc96",
           "#ab63fa",
           "#FFA15A",
           "#19d3f3",
           "#FF6692",
           "#B6E880",
           "#FF97FF",
           "#FECB52"
          ],
          "font": {
           "color": "#2a3f5f"
          },
          "geo": {
           "bgcolor": "white",
           "lakecolor": "white",
           "landcolor": "#E5ECF6",
           "showlakes": true,
           "showland": true,
           "subunitcolor": "white"
          },
          "hoverlabel": {
           "align": "left"
          },
          "hovermode": "closest",
          "mapbox": {
           "style": "light"
          },
          "paper_bgcolor": "white",
          "plot_bgcolor": "#E5ECF6",
          "polar": {
           "angularaxis": {
            "gridcolor": "white",
            "linecolor": "white",
            "ticks": ""
           },
           "bgcolor": "#E5ECF6",
           "radialaxis": {
            "gridcolor": "white",
            "linecolor": "white",
            "ticks": ""
           }
          },
          "scene": {
           "xaxis": {
            "backgroundcolor": "#E5ECF6",
            "gridcolor": "white",
            "gridwidth": 2,
            "linecolor": "white",
            "showbackground": true,
            "ticks": "",
            "zerolinecolor": "white"
           },
           "yaxis": {
            "backgroundcolor": "#E5ECF6",
            "gridcolor": "white",
            "gridwidth": 2,
            "linecolor": "white",
            "showbackground": true,
            "ticks": "",
            "zerolinecolor": "white"
           },
           "zaxis": {
            "backgroundcolor": "#E5ECF6",
            "gridcolor": "white",
            "gridwidth": 2,
            "linecolor": "white",
            "showbackground": true,
            "ticks": "",
            "zerolinecolor": "white"
           }
          },
          "shapedefaults": {
           "line": {
            "color": "#2a3f5f"
           }
          },
          "ternary": {
           "aaxis": {
            "gridcolor": "white",
            "linecolor": "white",
            "ticks": ""
           },
           "baxis": {
            "gridcolor": "white",
            "linecolor": "white",
            "ticks": ""
           },
           "bgcolor": "#E5ECF6",
           "caxis": {
            "gridcolor": "white",
            "linecolor": "white",
            "ticks": ""
           }
          },
          "title": {
           "x": 0.05
          },
          "xaxis": {
           "automargin": true,
           "gridcolor": "white",
           "linecolor": "white",
           "ticks": "",
           "title": {
            "standoff": 15
           },
           "zerolinecolor": "white",
           "zerolinewidth": 2
          },
          "yaxis": {
           "automargin": true,
           "gridcolor": "white",
           "linecolor": "white",
           "ticks": "",
           "title": {
            "standoff": 15
           },
           "zerolinecolor": "white",
           "zerolinewidth": 2
          }
         }
        },
        "title": {
         "text": "Distribution of Age by Result"
        },
        "xaxis": {
         "anchor": "y",
         "domain": [
          0,
          1
         ],
         "title": {
          "text": "Age"
         }
        },
        "yaxis": {
         "anchor": "x",
         "domain": [
          0,
          1
         ],
         "title": {
          "text": "count"
         }
        }
       }
      }
     },
     "metadata": {},
     "output_type": "display_data"
    },
    {
     "data": {
      "application/vnd.plotly.v1+json": {
       "config": {
        "plotlyServerURL": "https://plot.ly"
       },
       "data": [
        {
         "bingroup": "x",
         "hovertemplate": "Result=0<br>Total Bilirubin=%{x}<br>count=%{y}<extra></extra>",
         "legendgroup": "0",
         "marker": {
          "color": "#636efa",
          "opacity": 0.5,
          "pattern": {
           "shape": ""
          }
         },
         "name": "0",
         "orientation": "v",
         "showlegend": true,
         "type": "histogram",
         "x": {
          "bdata": "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",
          "dtype": "f8"
         },
         "xaxis": "x",
         "yaxis": "y"
        },
        {
         "bingroup": "x",
         "hovertemplate": "Result=1<br>Total Bilirubin=%{x}<br>count=%{y}<extra></extra>",
         "legendgroup": "1",
         "marker": {
          "color": "#EF553B",
          "opacity": 0.5,
          "pattern": {
           "shape": ""
          }
         },
         "name": "1",
         "orientation": "v",
         "showlegend": true,
         "type": "histogram",
         "x": {
          "bdata": "zczMzMzM7D/NzMzMzMzsPzMzMzMzM+M/mpmZmZmZ+T/NzMzMzMzsP5qZmZmZmfE/ZmZmZmZm5j8AAAAAAADwP83MzMzMzARAzczMzMzMBEBmZmZmZmbmPzMzMzMzM+M/MzMzMzMzG0AAAAAAAADwP83MzMzMzPw/mpmZmZmZ6T/NzMzMzMzsP5qZmZmZmfE/mpmZmZmZ6T9mZmZmZmbmP2ZmZmZmZvY/ZmZmZmZm5j8zMzMzMzPjPzMzMzMzM+M/ZmZmZmZm5j+amZmZmZnpPzMzMzMzMxVAMzMzMzMzFUCamZmZmZnpP5qZmZmZmek/zczMzMzM7D9mZmZmZmbmPzMzMzMzM/M/MzMzMzMzF0AzMzMzMzMdQDMzMzMzM/s/MzMzMzMz4z/NzMzMzMz8P2ZmZmZmZuY/mpmZmZmZ6T8zMzMzMzPjP5qZmZmZmek/mpmZmZmZ8T8zMzMzMzPjP2ZmZmZmZv4/AAAAAAAA+D+amZmZmZnpP83MzMzMzPQ/AAAAAAAAAEDNzMzMzMzsP5qZmZmZmek/AAAAAAAA8D9mZmZmZmbmP5qZmZmZmQVAMzMzMzMz4z/NzMzMzMzsPzMzMzMzM+M/mpmZmZmZ8T8AAAAAAADwPwAAAAAAAPg/mpmZmZmZ6T/NzMzMzMzsP2ZmZmZmZuY/mpmZmZmZ8T8zMzMzMzPjP2ZmZmZmZuY/mpmZmZmZ6T+amZmZmZnpP83MzMzMzOw/mpmZmZmZ6T9mZmZmZmb+P83MzMzMzOw/ZmZmZmZm5j/NzMzMzMz0P83MzMzMzPQ/ZmZmZmZm5j+amZmZmZnxP83MzMzMzOw/zczMzMzM7D+amZmZmZnpP2ZmZmZmZuY/ZmZmZmZm9j/NzMzMzMz0P5qZmZmZmek/zczMzMzM7D/NzMzMzMzsP83MzMzMzOw/mpmZmZmZ6T+amZmZmZnpPzMzMzMzM/M/ZmZmZmZmCkCamZmZmZnpP2ZmZmZmZuY/ZmZmZmZm5j+amZmZmZnpP5qZmZmZmek/mpmZmZmZ6T9mZmZmZmb2P5qZmZmZmek/ZmZmZmZm5j+amZmZmZnxP83MzMzMzOw/mpmZmZmZ6T9mZmZmZmbmP2ZmZmZmZuY/mpmZmZmZAUCamZmZmZnpP2ZmZmZmZuY/ZmZmZmZm5j8zMzMzMzPjP2ZmZmZmZuY/ZmZmZmZm9j+amZmZmZkFQJqZmZmZmek/ZmZmZmZm5j9mZmZmZmbmP2ZmZmZmZuY/ZmZmZmZmAkBmZmZmZmbmP2ZmZmZmZvY/ZmZmZmZm5j8AAAAAAADwP5qZmZmZmfk/zczMzMzM9D8zMzMzMzPjP5qZmZmZmek/zczMzMzM7D9mZmZmZmbmPwAAAAAAAOA/mpmZmZmZ6T/NzMzMzMzsPzMzMzMzM+M/ZmZmZmZm5j+amZmZmZnpP2ZmZmZmZuY/MzMzMzMz4z8zMzMzMzPjPwAAAAAAAPA/MzMzMzMz4z9mZmZmZmbmPwAAAAAAAPA/AAAAAAAAAECamZmZmZkBQAAAAAAAAOA/mpmZmZmZ6T9mZmZmZmbmP5qZmZmZmek/AAAAAAAA8D9mZmZmZmbmP2ZmZmZmZuY/mpmZmZmZ6T8AAAAAAADwP5qZmZmZmek/zczMzMzM7D+amZmZmZnxP2ZmZmZmZuY/mpmZmZmZ+T9mZmZmZmbmP5qZmZmZmek/mpmZmZmZ6T9mZmZmZmbmP2ZmZmZmZuY/MzMzMzMz8z8zMzMzMzPjPwAAAAAAAPA/AAAAAAAA4D8AAAAAAADwPw==",
          "dtype": "f8"
         },
         "xaxis": "x",
         "yaxis": "y"
        }
       ],
       "layout": {
        "barmode": "overlay",
        "legend": {
         "title": {
          "text": "Result"
         },
         "tracegroupgap": 0
        },
        "template": {
         "data": {
          "bar": [
           {
            "error_x": {
             "color": "#2a3f5f"
            },
            "error_y": {
             "color": "#2a3f5f"
            },
            "marker": {
             "line": {
              "color": "#E5ECF6",
              "width": 0.5
             },
             "pattern": {
              "fillmode": "overlay",
              "size": 10,
              "solidity": 0.2
             }
            },
            "type": "bar"
           }
          ],
          "barpolar": [
           {
            "marker": {
             "line": {
              "color": "#E5ECF6",
              "width": 0.5
             },
             "pattern": {
              "fillmode": "overlay",
              "size": 10,
              "solidity": 0.2
             }
            },
            "type": "barpolar"
           }
          ],
          "carpet": [
           {
            "aaxis": {
             "endlinecolor": "#2a3f5f",
             "gridcolor": "white",
             "linecolor": "white",
             "minorgridcolor": "white",
             "startlinecolor": "#2a3f5f"
            },
            "baxis": {
             "endlinecolor": "#2a3f5f",
             "gridcolor": "white",
             "linecolor": "white",
             "minorgridcolor": "white",
             "startlinecolor": "#2a3f5f"
            },
            "type": "carpet"
           }
          ],
          "choropleth": [
           {
            "colorbar": {
             "outlinewidth": 0,
             "ticks": ""
            },
            "type": "choropleth"
           }
          ],
          "contour": [
           {
            "colorbar": {
             "outlinewidth": 0,
             "ticks": ""
            },
            "colorscale": [
             [
              0,
              "#0d0887"
             ],
             [
              0.1111111111111111,
              "#46039f"
             ],
             [
              0.2222222222222222,
              "#7201a8"
             ],
             [
              0.3333333333333333,
              "#9c179e"
             ],
             [
              0.4444444444444444,
              "#bd3786"
             ],
             [
              0.5555555555555556,
              "#d8576b"
             ],
             [
              0.6666666666666666,
              "#ed7953"
             ],
             [
              0.7777777777777778,
              "#fb9f3a"
             ],
             [
              0.8888888888888888,
              "#fdca26"
             ],
             [
              1,
              "#f0f921"
             ]
            ],
            "type": "contour"
           }
          ],
          "contourcarpet": [
           {
            "colorbar": {
             "outlinewidth": 0,
             "ticks": ""
            },
            "type": "contourcarpet"
           }
          ],
          "heatmap": [
           {
            "colorbar": {
             "outlinewidth": 0,
             "ticks": ""
            },
            "colorscale": [
             [
              0,
              "#0d0887"
             ],
             [
              0.1111111111111111,
              "#46039f"
             ],
             [
              0.2222222222222222,
              "#7201a8"
             ],
             [
              0.3333333333333333,
              "#9c179e"
             ],
             [
              0.4444444444444444,
              "#bd3786"
             ],
             [
              0.5555555555555556,
              "#d8576b"
             ],
             [
              0.6666666666666666,
              "#ed7953"
             ],
             [
              0.7777777777777778,
              "#fb9f3a"
             ],
             [
              0.8888888888888888,
              "#fdca26"
             ],
             [
              1,
              "#f0f921"
             ]
            ],
            "type": "heatmap"
           }
          ],
          "histogram": [
           {
            "marker": {
             "pattern": {
              "fillmode": "overlay",
              "size": 10,
              "solidity": 0.2
             }
            },
            "type": "histogram"
           }
          ],
          "histogram2d": [
           {
            "colorbar": {
             "outlinewidth": 0,
             "ticks": ""
            },
            "colorscale": [
             [
              0,
              "#0d0887"
             ],
             [
              0.1111111111111111,
              "#46039f"
             ],
             [
              0.2222222222222222,
              "#7201a8"
             ],
             [
              0.3333333333333333,
              "#9c179e"
             ],
             [
              0.4444444444444444,
              "#bd3786"
             ],
             [
              0.5555555555555556,
              "#d8576b"
             ],
             [
              0.6666666666666666,
              "#ed7953"
             ],
             [
              0.7777777777777778,
              "#fb9f3a"
             ],
             [
              0.8888888888888888,
              "#fdca26"
             ],
             [
              1,
              "#f0f921"
             ]
            ],
            "type": "histogram2d"
           }
          ],
          "histogram2dcontour": [
           {
            "colorbar": {
             "outlinewidth": 0,
             "ticks": ""
            },
            "colorscale": [
             [
              0,
              "#0d0887"
             ],
             [
              0.1111111111111111,
              "#46039f"
             ],
             [
              0.2222222222222222,
              "#7201a8"
             ],
             [
              0.3333333333333333,
              "#9c179e"
             ],
             [
              0.4444444444444444,
              "#bd3786"
             ],
             [
              0.5555555555555556,
              "#d8576b"
             ],
             [
              0.6666666666666666,
              "#ed7953"
             ],
             [
              0.7777777777777778,
              "#fb9f3a"
             ],
             [
              0.8888888888888888,
              "#fdca26"
             ],
             [
              1,
              "#f0f921"
             ]
            ],
            "type": "histogram2dcontour"
           }
          ],
          "mesh3d": [
           {
            "colorbar": {
             "outlinewidth": 0,
             "ticks": ""
            },
            "type": "mesh3d"
           }
          ],
          "parcoords": [
           {
            "line": {
             "colorbar": {
              "outlinewidth": 0,
              "ticks": ""
             }
            },
            "type": "parcoords"
           }
          ],
          "pie": [
           {
            "automargin": true,
            "type": "pie"
           }
          ],
          "scatter": [
           {
            "fillpattern": {
             "fillmode": "overlay",
             "size": 10,
             "solidity": 0.2
            },
            "type": "scatter"
           }
          ],
          "scatter3d": [
           {
            "line": {
             "colorbar": {
              "outlinewidth": 0,
              "ticks": ""
             }
            },
            "marker": {
             "colorbar": {
              "outlinewidth": 0,
              "ticks": ""
             }
            },
            "type": "scatter3d"
           }
          ],
          "scattercarpet": [
           {
            "marker": {
             "colorbar": {
              "outlinewidth": 0,
              "ticks": ""
             }
            },
            "type": "scattercarpet"
           }
          ],
          "scattergeo": [
           {
            "marker": {
             "colorbar": {
              "outlinewidth": 0,
              "ticks": ""
             }
            },
            "type": "scattergeo"
           }
          ],
          "scattergl": [
           {
            "marker": {
             "colorbar": {
              "outlinewidth": 0,
              "ticks": ""
             }
            },
            "type": "scattergl"
           }
          ],
          "scattermap": [
           {
            "marker": {
             "colorbar": {
              "outlinewidth": 0,
              "ticks": ""
             }
            },
            "type": "scattermap"
           }
          ],
          "scattermapbox": [
           {
            "marker": {
             "colorbar": {
              "outlinewidth": 0,
              "ticks": ""
             }
            },
            "type": "scattermapbox"
           }
          ],
          "scatterpolar": [
           {
            "marker": {
             "colorbar": {
              "outlinewidth": 0,
              "ticks": ""
             }
            },
            "type": "scatterpolar"
           }
          ],
          "scatterpolargl": [
           {
            "marker": {
             "colorbar": {
              "outlinewidth": 0,
              "ticks": ""
             }
            },
            "type": "scatterpolargl"
           }
          ],
          "scatterternary": [
           {
            "marker": {
             "colorbar": {
              "outlinewidth": 0,
              "ticks": ""
             }
            },
            "type": "scatterternary"
           }
          ],
          "surface": [
           {
            "colorbar": {
             "outlinewidth": 0,
             "ticks": ""
            },
            "colorscale": [
             [
              0,
              "#0d0887"
             ],
             [
              0.1111111111111111,
              "#46039f"
             ],
             [
              0.2222222222222222,
              "#7201a8"
             ],
             [
              0.3333333333333333,
              "#9c179e"
             ],
             [
              0.4444444444444444,
              "#bd3786"
             ],
             [
              0.5555555555555556,
              "#d8576b"
             ],
             [
              0.6666666666666666,
              "#ed7953"
             ],
             [
              0.7777777777777778,
              "#fb9f3a"
             ],
             [
              0.8888888888888888,
              "#fdca26"
             ],
             [
              1,
              "#f0f921"
             ]
            ],
            "type": "surface"
           }
          ],
          "table": [
           {
            "cells": {
             "fill": {
              "color": "#EBF0F8"
             },
             "line": {
              "color": "white"
             }
            },
            "header": {
             "fill": {
              "color": "#C8D4E3"
             },
             "line": {
              "color": "white"
             }
            },
            "type": "table"
           }
          ]
         },
         "layout": {
          "annotationdefaults": {
           "arrowcolor": "#2a3f5f",
           "arrowhead": 0,
           "arrowwidth": 1
          },
          "autotypenumbers": "strict",
          "coloraxis": {
           "colorbar": {
            "outlinewidth": 0,
            "ticks": ""
           }
          },
          "colorscale": {
           "diverging": [
            [
             0,
             "#8e0152"
            ],
            [
             0.1,
             "#c51b7d"
            ],
            [
             0.2,
             "#de77ae"
            ],
            [
             0.3,
             "#f1b6da"
            ],
            [
             0.4,
             "#fde0ef"
            ],
            [
             0.5,
             "#f7f7f7"
            ],
            [
             0.6,
             "#e6f5d0"
            ],
            [
             0.7,
             "#b8e186"
            ],
            [
             0.8,
             "#7fbc41"
            ],
            [
             0.9,
             "#4d9221"
            ],
            [
             1,
             "#276419"
            ]
           ],
           "sequential": [
            [
             0,
             "#0d0887"
            ],
            [
             0.1111111111111111,
             "#46039f"
            ],
            [
             0.2222222222222222,
             "#7201a8"
            ],
            [
             0.3333333333333333,
             "#9c179e"
            ],
            [
             0.4444444444444444,
             "#bd3786"
            ],
            [
             0.5555555555555556,
             "#d8576b"
            ],
            [
             0.6666666666666666,
             "#ed7953"
            ],
            [
             0.7777777777777778,
             "#fb9f3a"
            ],
            [
             0.8888888888888888,
             "#fdca26"
            ],
            [
             1,
             "#f0f921"
            ]
           ],
           "sequentialminus": [
            [
             0,
             "#0d0887"
            ],
            [
             0.1111111111111111,
             "#46039f"
            ],
            [
             0.2222222222222222,
             "#7201a8"
            ],
            [
             0.3333333333333333,
             "#9c179e"
            ],
            [
             0.4444444444444444,
             "#bd3786"
            ],
            [
             0.5555555555555556,
             "#d8576b"
            ],
            [
             0.6666666666666666,
             "#ed7953"
            ],
            [
             0.7777777777777778,
             "#fb9f3a"
            ],
            [
             0.8888888888888888,
             "#fdca26"
            ],
            [
             1,
             "#f0f921"
            ]
           ]
          },
          "colorway": [
           "#636efa",
           "#EF553B",
           "#00cc96",
           "#ab63fa",
           "#FFA15A",
           "#19d3f3",
           "#FF6692",
           "#B6E880",
           "#FF97FF",
           "#FECB52"
          ],
          "font": {
           "color": "#2a3f5f"
          },
          "geo": {
           "bgcolor": "white",
           "lakecolor": "white",
           "landcolor": "#E5ECF6",
           "showlakes": true,
           "showland": true,
           "subunitcolor": "white"
          },
          "hoverlabel": {
           "align": "left"
          },
          "hovermode": "closest",
          "mapbox": {
           "style": "light"
          },
          "paper_bgcolor": "white",
          "plot_bgcolor": "#E5ECF6",
          "polar": {
           "angularaxis": {
            "gridcolor": "white",
            "linecolor": "white",
            "ticks": ""
           },
           "bgcolor": "#E5ECF6",
           "radialaxis": {
            "gridcolor": "white",
            "linecolor": "white",
            "ticks": ""
           }
          },
          "scene": {
           "xaxis": {
            "backgroundcolor": "#E5ECF6",
            "gridcolor": "white",
            "gridwidth": 2,
            "linecolor": "white",
            "showbackground": true,
            "ticks": "",
            "zerolinecolor": "white"
           },
           "yaxis": {
            "backgroundcolor": "#E5ECF6",
            "gridcolor": "white",
            "gridwidth": 2,
            "linecolor": "white",
            "showbackground": true,
            "ticks": "",
            "zerolinecolor": "white"
           },
           "zaxis": {
            "backgroundcolor": "#E5ECF6",
            "gridcolor": "white",
            "gridwidth": 2,
            "linecolor": "white",
            "showbackground": true,
            "ticks": "",
            "zerolinecolor": "white"
           }
          },
          "shapedefaults": {
           "line": {
            "color": "#2a3f5f"
           }
          },
          "ternary": {
           "aaxis": {
            "gridcolor": "white",
            "linecolor": "white",
            "ticks": ""
           },
           "baxis": {
            "gridcolor": "white",
            "linecolor": "white",
            "ticks": ""
           },
           "bgcolor": "#E5ECF6",
           "caxis": {
            "gridcolor": "white",
            "linecolor": "white",
            "ticks": ""
           }
          },
          "title": {
           "x": 0.05
          },
          "xaxis": {
           "automargin": true,
           "gridcolor": "white",
           "linecolor": "white",
           "ticks": "",
           "title": {
            "standoff": 15
           },
           "zerolinecolor": "white",
           "zerolinewidth": 2
          },
          "yaxis": {
           "automargin": true,
           "gridcolor": "white",
           "linecolor": "white",
           "ticks": "",
           "title": {
            "standoff": 15
           },
           "zerolinecolor": "white",
           "zerolinewidth": 2
          }
         }
        },
        "title": {
         "text": "Distribution of Total Bilirubin by Result"
        },
        "xaxis": {
         "anchor": "y",
         "domain": [
          0,
          1
         ],
         "title": {
          "text": "Total Bilirubin"
         }
        },
        "yaxis": {
         "anchor": "x",
         "domain": [
          0,
          1
         ],
         "title": {
          "text": "count"
         }
        }
       }
      }
     },
     "metadata": {},
     "output_type": "display_data"
    },
    {
     "data": {
      "application/vnd.plotly.v1+json": {
       "config": {
        "plotlyServerURL": "https://plot.ly"
       },
       "data": [
        {
         "bingroup": "x",
         "hovertemplate": "Result=0<br>Direct Bilirubin=%{x}<br>count=%{y}<extra></extra>",
         "legendgroup": "0",
         "marker": {
          "color": "#636efa",
          "opacity": 0.5,
          "pattern": {
           "shape": ""
          }
         },
         "name": "0",
         "orientation": "v",
         "showlegend": true,
         "type": "histogram",
         "x": {
          "bdata": "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",
          "dtype": "f8"
         },
         "xaxis": "x",
         "yaxis": "y"
        },
        {
         "bingroup": "x",
         "hovertemplate": "Result=1<br>Direct Bilirubin=%{x}<br>count=%{y}<extra></extra>",
         "legendgroup": "1",
         "marker": {
          "color": "#EF553B",
          "opacity": 0.5,
          "pattern": {
           "shape": ""
          }
         },
         "name": "1",
         "orientation": "v",
         "showlegend": true,
         "type": "histogram",
         "x": {
          "bdata": "MzMzMzMz0z8zMzMzMzPTP5qZmZmZmbk/AAAAAAAA4D+amZmZmZnJPwAAAAAAAOA/mpmZmZmZyT8zMzMzMzPTPzMzMzMzM/M/MzMzMzMz8z+amZmZmZnJP5qZmZmZmbk/mpmZmZmZCUAzMzMzMzPTPzMzMzMzM+M/mpmZmZmZyT+amZmZmZnJPwAAAAAAAOA/mpmZmZmZyT+amZmZmZm5PzMzMzMzM+M/mpmZmZmZuT+amZmZmZm5P5qZmZmZmck/mpmZmZmZyT+amZmZmZnJP2ZmZmZmZgJAZmZmZmZmAkCamZmZmZnJP5qZmZmZmck/mpmZmZmZuT+amZmZmZnJP5qZmZmZmdk/AAAAAAAACEDNzMzMzMwMQJqZmZmZmek/mpmZmZmZuT8AAAAAAADgP5qZmZmZmck/mpmZmZmZyT+amZmZmZm5P5qZmZmZmck/AAAAAAAA4D+amZmZmZm5P5qZmZmZmek/mpmZmZmZ2T+amZmZmZnJP5qZmZmZmdk/MzMzMzMz4z+amZmZmZnJP5qZmZmZmck/MzMzMzMz0z+amZmZmZnJPwAAAAAAAPA/mpmZmZmZyT+amZmZmZnJP5qZmZmZmbk/MzMzMzMz0z8zMzMzMzPTPzMzMzMzM+M/mpmZmZmZyT+amZmZmZnJP5qZmZmZmck/MzMzMzMz0z+amZmZmZnJP5qZmZmZmbk/mpmZmZmZyT+amZmZmZnJP5qZmZmZmck/mpmZmZmZyT+amZmZmZnpP5qZmZmZmck/mpmZmZmZyT9mZmZmZmbmPzMzMzMzM+M/mpmZmZmZyT8AAAAAAADgPzMzMzMzM9M/mpmZmZmZyT+amZmZmZnJP5qZmZmZmck/ZmZmZmZm5j8zMzMzMzPjP5qZmZmZmck/MzMzMzMz0z+amZmZmZnJPzMzMzMzM9M/mpmZmZmZyT+amZmZmZnJP5qZmZmZmdk/mpmZmZmZ+T+amZmZmZnJP5qZmZmZmck/mpmZmZmZyT+amZmZmZnJP5qZmZmZmck/mpmZmZmZyT+amZmZmZnpP5qZmZmZmck/mpmZmZmZyT8zMzMzMzPTP5qZmZmZmck/mpmZmZmZyT+amZmZmZnJP5qZmZmZmck/AAAAAAAA8D+amZmZmZnJP5qZmZmZmbk/mpmZmZmZuT+amZmZmZnJP5qZmZmZmck/ZmZmZmZm5j9mZmZmZmb2P5qZmZmZmck/mpmZmZmZyT+amZmZmZnJP5qZmZmZmck/mpmZmZmZ6T+amZmZmZnJPzMzMzMzM+M/mpmZmZmZuT8zMzMzMzPTP83MzMzMzOw/MzMzMzMz4z+amZmZmZm5P5qZmZmZmck/mpmZmZmZyT+amZmZmZnJP5qZmZmZmbk/mpmZmZmZyT+amZmZmZnJP5qZmZmZmck/mpmZmZmZyT+amZmZmZnJP5qZmZmZmck/mpmZmZmZuT+amZmZmZm5PzMzMzMzM9M/mpmZmZmZuT+amZmZmZnJPzMzMzMzM9M/mpmZmZmZ8T8AAAAAAADwP5qZmZmZmbk/mpmZmZmZyT+amZmZmZnJP5qZmZmZmbk/MzMzMzMz0z+amZmZmZnJP5qZmZmZmck/mpmZmZmZyT8zMzMzMzPTP5qZmZmZmck/mpmZmZmZyT8zMzMzMzPTP5qZmZmZmck/mpmZmZmZ6T+amZmZmZnJP5qZmZmZmck/mpmZmZmZyT+amZmZmZnJP5qZmZmZmck/mpmZmZmZ2T+amZmZmZm5PzMzMzMzM9M/mpmZmZmZuT8zMzMzMzPTPw==",
          "dtype": "f8"
         },
         "xaxis": "x",
         "yaxis": "y"
        }
       ],
       "layout": {
        "barmode": "overlay",
        "legend": {
         "title": {
          "text": "Result"
         },
         "tracegroupgap": 0
        },
        "template": {
         "data": {
          "bar": [
           {
            "error_x": {
             "color": "#2a3f5f"
            },
            "error_y": {
             "color": "#2a3f5f"
            },
            "marker": {
             "line": {
              "color": "#E5ECF6",
              "width": 0.5
             },
             "pattern": {
              "fillmode": "overlay",
              "size": 10,
              "solidity": 0.2
             }
            },
            "type": "bar"
           }
          ],
          "barpolar": [
           {
            "marker": {
             "line": {
              "color": "#E5ECF6",
              "width": 0.5
             },
             "pattern": {
              "fillmode": "overlay",
              "size": 10,
              "solidity": 0.2
             }
            },
            "type": "barpolar"
           }
          ],
          "carpet": [
           {
            "aaxis": {
             "endlinecolor": "#2a3f5f",
             "gridcolor": "white",
             "linecolor": "white",
             "minorgridcolor": "white",
             "startlinecolor": "#2a3f5f"
            },
            "baxis": {
             "endlinecolor": "#2a3f5f",
             "gridcolor": "white",
             "linecolor": "white",
             "minorgridcolor": "white",
             "startlinecolor": "#2a3f5f"
            },
            "type": "carpet"
           }
          ],
          "choropleth": [
           {
            "colorbar": {
             "outlinewidth": 0,
             "ticks": ""
            },
            "type": "choropleth"
           }
          ],
          "contour": [
           {
            "colorbar": {
             "outlinewidth": 0,
             "ticks": ""
            },
            "colorscale": [
             [
              0,
              "#0d0887"
             ],
             [
              0.1111111111111111,
              "#46039f"
             ],
             [
              0.2222222222222222,
              "#7201a8"
             ],
             [
              0.3333333333333333,
              "#9c179e"
             ],
             [
              0.4444444444444444,
              "#bd3786"
             ],
             [
              0.5555555555555556,
              "#d8576b"
             ],
             [
              0.6666666666666666,
              "#ed7953"
             ],
             [
              0.7777777777777778,
              "#fb9f3a"
             ],
             [
              0.8888888888888888,
              "#fdca26"
             ],
             [
              1,
              "#f0f921"
             ]
            ],
            "type": "contour"
           }
          ],
          "contourcarpet": [
           {
            "colorbar": {
             "outlinewidth": 0,
             "ticks": ""
            },
            "type": "contourcarpet"
           }
          ],
          "heatmap": [
           {
            "colorbar": {
             "outlinewidth": 0,
             "ticks": ""
            },
            "colorscale": [
             [
              0,
              "#0d0887"
             ],
             [
              0.1111111111111111,
              "#46039f"
             ],
             [
              0.2222222222222222,
              "#7201a8"
             ],
             [
              0.3333333333333333,
              "#9c179e"
             ],
             [
              0.4444444444444444,
              "#bd3786"
             ],
             [
              0.5555555555555556,
              "#d8576b"
             ],
             [
              0.6666666666666666,
              "#ed7953"
             ],
             [
              0.7777777777777778,
              "#fb9f3a"
             ],
             [
              0.8888888888888888,
              "#fdca26"
             ],
             [
              1,
              "#f0f921"
             ]
            ],
            "type": "heatmap"
           }
          ],
          "histogram": [
           {
            "marker": {
             "pattern": {
              "fillmode": "overlay",
              "size": 10,
              "solidity": 0.2
             }
            },
            "type": "histogram"
           }
          ],
          "histogram2d": [
           {
            "colorbar": {
             "outlinewidth": 0,
             "ticks": ""
            },
            "colorscale": [
             [
              0,
              "#0d0887"
             ],
             [
              0.1111111111111111,
              "#46039f"
             ],
             [
              0.2222222222222222,
              "#7201a8"
             ],
             [
              0.3333333333333333,
              "#9c179e"
             ],
             [
              0.4444444444444444,
              "#bd3786"
             ],
             [
              0.5555555555555556,
              "#d8576b"
             ],
             [
              0.6666666666666666,
              "#ed7953"
             ],
             [
              0.7777777777777778,
              "#fb9f3a"
             ],
             [
              0.8888888888888888,
              "#fdca26"
             ],
             [
              1,
              "#f0f921"
             ]
            ],
            "type": "histogram2d"
           }
          ],
          "histogram2dcontour": [
           {
            "colorbar": {
             "outlinewidth": 0,
             "ticks": ""
            },
            "colorscale": [
             [
              0,
              "#0d0887"
             ],
             [
              0.1111111111111111,
              "#46039f"
             ],
             [
              0.2222222222222222,
              "#7201a8"
             ],
             [
              0.3333333333333333,
              "#9c179e"
             ],
             [
              0.4444444444444444,
              "#bd3786"
             ],
             [
              0.5555555555555556,
              "#d8576b"
             ],
             [
              0.6666666666666666,
              "#ed7953"
             ],
             [
              0.7777777777777778,
              "#fb9f3a"
             ],
             [
              0.8888888888888888,
              "#fdca26"
             ],
             [
              1,
              "#f0f921"
             ]
            ],
            "type": "histogram2dcontour"
           }
          ],
          "mesh3d": [
           {
            "colorbar": {
             "outlinewidth": 0,
             "ticks": ""
            },
            "type": "mesh3d"
           }
          ],
          "parcoords": [
           {
            "line": {
             "colorbar": {
              "outlinewidth": 0,
              "ticks": ""
             }
            },
            "type": "parcoords"
           }
          ],
          "pie": [
           {
            "automargin": true,
            "type": "pie"
           }
          ],
          "scatter": [
           {
            "fillpattern": {
             "fillmode": "overlay",
             "size": 10,
             "solidity": 0.2
            },
            "type": "scatter"
           }
          ],
          "scatter3d": [
           {
            "line": {
             "colorbar": {
              "outlinewidth": 0,
              "ticks": ""
             }
            },
            "marker": {
             "colorbar": {
              "outlinewidth": 0,
              "ticks": ""
             }
            },
            "type": "scatter3d"
           }
          ],
          "scattercarpet": [
           {
            "marker": {
             "colorbar": {
              "outlinewidth": 0,
              "ticks": ""
             }
            },
            "type": "scattercarpet"
           }
          ],
          "scattergeo": [
           {
            "marker": {
             "colorbar": {
              "outlinewidth": 0,
              "ticks": ""
             }
            },
            "type": "scattergeo"
           }
          ],
          "scattergl": [
           {
            "marker": {
             "colorbar": {
              "outlinewidth": 0,
              "ticks": ""
             }
            },
            "type": "scattergl"
           }
          ],
          "scattermap": [
           {
            "marker": {
             "colorbar": {
              "outlinewidth": 0,
              "ticks": ""
             }
            },
            "type": "scattermap"
           }
          ],
          "scattermapbox": [
           {
            "marker": {
             "colorbar": {
              "outlinewidth": 0,
              "ticks": ""
             }
            },
            "type": "scattermapbox"
           }
          ],
          "scatterpolar": [
           {
            "marker": {
             "colorbar": {
              "outlinewidth": 0,
              "ticks": ""
             }
            },
            "type": "scatterpolar"
           }
          ],
          "scatterpolargl": [
           {
            "marker": {
             "colorbar": {
              "outlinewidth": 0,
              "ticks": ""
             }
            },
            "type": "scatterpolargl"
           }
          ],
          "scatterternary": [
           {
            "marker": {
             "colorbar": {
              "outlinewidth": 0,
              "ticks": ""
             }
            },
            "type": "scatterternary"
           }
          ],
          "surface": [
           {
            "colorbar": {
             "outlinewidth": 0,
             "ticks": ""
            },
            "colorscale": [
             [
              0,
              "#0d0887"
             ],
             [
              0.1111111111111111,
              "#46039f"
             ],
             [
              0.2222222222222222,
              "#7201a8"
             ],
             [
              0.3333333333333333,
              "#9c179e"
             ],
             [
              0.4444444444444444,
              "#bd3786"
             ],
             [
              0.5555555555555556,
              "#d8576b"
             ],
             [
              0.6666666666666666,
              "#ed7953"
             ],
             [
              0.7777777777777778,
              "#fb9f3a"
             ],
             [
              0.8888888888888888,
              "#fdca26"
             ],
             [
              1,
              "#f0f921"
             ]
            ],
            "type": "surface"
           }
          ],
          "table": [
           {
            "cells": {
             "fill": {
              "color": "#EBF0F8"
             },
             "line": {
              "color": "white"
             }
            },
            "header": {
             "fill": {
              "color": "#C8D4E3"
             },
             "line": {
              "color": "white"
             }
            },
            "type": "table"
           }
          ]
         },
         "layout": {
          "annotationdefaults": {
           "arrowcolor": "#2a3f5f",
           "arrowhead": 0,
           "arrowwidth": 1
          },
          "autotypenumbers": "strict",
          "coloraxis": {
           "colorbar": {
            "outlinewidth": 0,
            "ticks": ""
           }
          },
          "colorscale": {
           "diverging": [
            [
             0,
             "#8e0152"
            ],
            [
             0.1,
             "#c51b7d"
            ],
            [
             0.2,
             "#de77ae"
            ],
            [
             0.3,
             "#f1b6da"
            ],
            [
             0.4,
             "#fde0ef"
            ],
            [
             0.5,
             "#f7f7f7"
            ],
            [
             0.6,
             "#e6f5d0"
            ],
            [
             0.7,
             "#b8e186"
            ],
            [
             0.8,
             "#7fbc41"
            ],
            [
             0.9,
             "#4d9221"
            ],
            [
             1,
             "#276419"
            ]
           ],
           "sequential": [
            [
             0,
             "#0d0887"
            ],
            [
             0.1111111111111111,
             "#46039f"
            ],
            [
             0.2222222222222222,
             "#7201a8"
            ],
            [
             0.3333333333333333,
             "#9c179e"
            ],
            [
             0.4444444444444444,
             "#bd3786"
            ],
            [
             0.5555555555555556,
             "#d8576b"
            ],
            [
             0.6666666666666666,
             "#ed7953"
            ],
            [
             0.7777777777777778,
             "#fb9f3a"
            ],
            [
             0.8888888888888888,
             "#fdca26"
            ],
            [
             1,
             "#f0f921"
            ]
           ],
           "sequentialminus": [
            [
             0,
             "#0d0887"
            ],
            [
             0.1111111111111111,
             "#46039f"
            ],
            [
             0.2222222222222222,
             "#7201a8"
            ],
            [
             0.3333333333333333,
             "#9c179e"
            ],
            [
             0.4444444444444444,
             "#bd3786"
            ],
            [
             0.5555555555555556,
             "#d8576b"
            ],
            [
             0.6666666666666666,
             "#ed7953"
            ],
            [
             0.7777777777777778,
             "#fb9f3a"
            ],
            [
             0.8888888888888888,
             "#fdca26"
            ],
            [
             1,
             "#f0f921"
            ]
           ]
          },
          "colorway": [
           "#636efa",
           "#EF553B",
           "#00cc96",
           "#ab63fa",
           "#FFA15A",
           "#19d3f3",
           "#FF6692",
           "#B6E880",
           "#FF97FF",
           "#FECB52"
          ],
          "font": {
           "color": "#2a3f5f"
          },
          "geo": {
           "bgcolor": "white",
           "lakecolor": "white",
           "landcolor": "#E5ECF6",
           "showlakes": true,
           "showland": true,
           "subunitcolor": "white"
          },
          "hoverlabel": {
           "align": "left"
          },
          "hovermode": "closest",
          "mapbox": {
           "style": "light"
          },
          "paper_bgcolor": "white",
          "plot_bgcolor": "#E5ECF6",
          "polar": {
           "angularaxis": {
            "gridcolor": "white",
            "linecolor": "white",
            "ticks": ""
           },
           "bgcolor": "#E5ECF6",
           "radialaxis": {
            "gridcolor": "white",
            "linecolor": "white",
            "ticks": ""
           }
          },
          "scene": {
           "xaxis": {
            "backgroundcolor": "#E5ECF6",
            "gridcolor": "white",
            "gridwidth": 2,
            "linecolor": "white",
            "showbackground": true,
            "ticks": "",
            "zerolinecolor": "white"
           },
           "yaxis": {
            "backgroundcolor": "#E5ECF6",
            "gridcolor": "white",
            "gridwidth": 2,
            "linecolor": "white",
            "showbackground": true,
            "ticks": "",
            "zerolinecolor": "white"
           },
           "zaxis": {
            "backgroundcolor": "#E5ECF6",
            "gridcolor": "white",
            "gridwidth": 2,
            "linecolor": "white",
            "showbackground": true,
            "ticks": "",
            "zerolinecolor": "white"
           }
          },
          "shapedefaults": {
           "line": {
            "color": "#2a3f5f"
           }
          },
          "ternary": {
           "aaxis": {
            "gridcolor": "white",
            "linecolor": "white",
            "ticks": ""
           },
           "baxis": {
            "gridcolor": "white",
            "linecolor": "white",
            "ticks": ""
           },
           "bgcolor": "#E5ECF6",
           "caxis": {
            "gridcolor": "white",
            "linecolor": "white",
            "ticks": ""
           }
          },
          "title": {
           "x": 0.05
          },
          "xaxis": {
           "automargin": true,
           "gridcolor": "white",
           "linecolor": "white",
           "ticks": "",
           "title": {
            "standoff": 15
           },
           "zerolinecolor": "white",
           "zerolinewidth": 2
          },
          "yaxis": {
           "automargin": true,
           "gridcolor": "white",
           "linecolor": "white",
           "ticks": "",
           "title": {
            "standoff": 15
           },
           "zerolinecolor": "white",
           "zerolinewidth": 2
          }
         }
        },
        "title": {
         "text": "Distribution of Direct Bilirubin by Result"
        },
        "xaxis": {
         "anchor": "y",
         "domain": [
          0,
          1
         ],
         "title": {
          "text": "Direct Bilirubin"
         }
        },
        "yaxis": {
         "anchor": "x",
         "domain": [
          0,
          1
         ],
         "title": {
          "text": "count"
         }
        }
       }
      }
     },
     "metadata": {},
     "output_type": "display_data"
    },
    {
     "data": {
      "application/vnd.plotly.v1+json": {
       "config": {
        "plotlyServerURL": "https://plot.ly"
       },
       "data": [
        {
         "bingroup": "x",
         "hovertemplate": "Result=0<br>Alkaline Phosphotase=%{x}<br>count=%{y}<extra></extra>",
         "legendgroup": "0",
         "marker": {
          "color": "#636efa",
          "opacity": 0.5,
          "pattern": {
           "shape": ""
          }
         },
         "name": "0",
         "orientation": "v",
         "showlegend": true,
         "type": "histogram",
         "x": {
          "bdata": "uwC7AuoBtgDDANAAmgDKACIB0gAEAdYAkQBWASUBJQFiAuIBHgLnACEBIQHwAL4AnADiAXYBBwETAagAnwGWAOYAsADOAKoAoQD9AMYAEAEQAW8BngCeAJ4A0AADAdYBwwDXAO8AugC8AM0AqwCRAAYCVAaeApMDSwACAe0ADQEqARoC7gDWADQBKgHMAKgAGgEqAdcACQE4AeAAqgABARABXgbCABgBKgEsASIBsgAiA/gAaAcHAQAC7gCyAFYENgEaARoBfAGfAEwBTAG9AKgAiAHKAB4B2gC2ACIBKgHOAcQAxAAaAe4CGgRXArQAtAAaAUwBJAHCA7YDyAAqAe4CrwCvAMYA4gH8AzICggH6ANoAqwDJAO4CvwBmAjoBAQEQAWQEmAKOAIwF2gDaAKMAHQFeAdwAvQC+ANsAkQG0AJ8AfQCTAMAACQGQAXgArQC6ACIBGgGdAD4IHQFoAZ4AxADmAM0APAHaACIBEAG+AMoA8gHgAagCWwOFA08BHQH1APkB5AC5AMMAjABmAW4A6wB8AQYBxAC+ANEAkAB7ALwALAE/AsAA7wA7AfoA9QBUAcoA6gC+ABgBrgGbAEwCrgClAA8CrwA+AsMAxgDYAD8AxgDNAKsAnQDSAAIBXgG2AMoBdwGVAdcAzgCKAsYA5gBzANgAZgGRAMMAkABtApYAAAHNALAA2gC2AIIALgJGAc4AqADAAEsBvACsAOoBmACgAKAAZgCUAKIAlQBEAjYBrwCYANAAzQBcAKIAxgDXAM8CKgIrAtcAvgCyAl4DwgFGBUYF9gDwAGQAqgDWBrYApQDUAJ0AogCoAMYAJAEqAZgAtQAOBo4ArQAaARcBTATgALoAjACuAtcANQFuAIIAvgClAKcANgHcAMQAugAaAVwAZwBSA8MAFAHBACUDuQC9AMYAlwBdAW0BMQF/AO4A2gDbAO8AwgDCAf4AQAHXAOYAvQCoANcA0gBsAOAA5gC5AIkADAEqATsB1gAdASoB0gHjAIsBYQDMAF4BvAB8AdYAAAOsAMQA6ADcACIBtAC9ABMBhgFkATsBhAEqAY8A+wDIAAwB7ADXAIYAZAIDAjACIQG+AGIA9QC4AA==",
          "dtype": "i2"
         },
         "xaxis": "x",
         "yaxis": "y"
        },
        {
         "bingroup": "x",
         "hovertemplate": "Result=1<br>Alkaline Phosphotase=%{x}<br>count=%{y}<extra></extra>",
         "legendgroup": "1",
         "marker": {
          "color": "#EF553B",
          "opacity": 0.5,
          "pattern": {
           "shape": ""
          }
         },
         "name": "1",
         "orientation": "v",
         "showlegend": true,
         "type": "histogram",
         "x": {
          "bdata": "ygA2AbcApQDCAIAAvAC7AJoBmgGRAKAAdgLQABMBxgCvAJEA1wCiAJIAlABAAaEA8wDhAJEAkQCeAJ4A5gG8ALMAlQIsBrwAsQDJAO0AxwC6AMkAtACyAKoAKgHaAM4A0QCpAJEAjgCHAKAAZAB0ACEBrwDKAMQALAG+AKUAAgG0AJgAtgD3AFwBzAG0AL4AwAA8AZsArgC/AJ8AwwC0AM4AwwBqAJ4AswC2ADYBLgGeAGYBrgDAANMAmADGAMMAngCyAJIAtgDXAKUAtwCwAKIBDwGHAIwAkQDKALkAnwBpAIwAogDHALQA/QHQAAQBUAKjALIApgDCAOwAyQDCAM4AowAXAZ8AvQDAAKQADgGJAFoAuQDFAJoA4gA2AWABtgCrAJIAtAAJAaUAzQDDAJwA0gCKAKIA5gCWAXIAxgCtAJkAoAClAL8A9AHYAA==",
          "dtype": "i2"
         },
         "xaxis": "x",
         "yaxis": "y"
        }
       ],
       "layout": {
        "barmode": "overlay",
        "legend": {
         "title": {
          "text": "Result"
         },
         "tracegroupgap": 0
        },
        "template": {
         "data": {
          "bar": [
           {
            "error_x": {
             "color": "#2a3f5f"
            },
            "error_y": {
             "color": "#2a3f5f"
            },
            "marker": {
             "line": {
              "color": "#E5ECF6",
              "width": 0.5
             },
             "pattern": {
              "fillmode": "overlay",
              "size": 10,
              "solidity": 0.2
             }
            },
            "type": "bar"
           }
          ],
          "barpolar": [
           {
            "marker": {
             "line": {
              "color": "#E5ECF6",
              "width": 0.5
             },
             "pattern": {
              "fillmode": "overlay",
              "size": 10,
              "solidity": 0.2
             }
            },
            "type": "barpolar"
           }
          ],
          "carpet": [
           {
            "aaxis": {
             "endlinecolor": "#2a3f5f",
             "gridcolor": "white",
             "linecolor": "white",
             "minorgridcolor": "white",
             "startlinecolor": "#2a3f5f"
            },
            "baxis": {
             "endlinecolor": "#2a3f5f",
             "gridcolor": "white",
             "linecolor": "white",
             "minorgridcolor": "white",
             "startlinecolor": "#2a3f5f"
            },
            "type": "carpet"
           }
          ],
          "choropleth": [
           {
            "colorbar": {
             "outlinewidth": 0,
             "ticks": ""
            },
            "type": "choropleth"
           }
          ],
          "contour": [
           {
            "colorbar": {
             "outlinewidth": 0,
             "ticks": ""
            },
            "colorscale": [
             [
              0,
              "#0d0887"
             ],
             [
              0.1111111111111111,
              "#46039f"
             ],
             [
              0.2222222222222222,
              "#7201a8"
             ],
             [
              0.3333333333333333,
              "#9c179e"
             ],
             [
              0.4444444444444444,
              "#bd3786"
             ],
             [
              0.5555555555555556,
              "#d8576b"
             ],
             [
              0.6666666666666666,
              "#ed7953"
             ],
             [
              0.7777777777777778,
              "#fb9f3a"
             ],
             [
              0.8888888888888888,
              "#fdca26"
             ],
             [
              1,
              "#f0f921"
             ]
            ],
            "type": "contour"
           }
          ],
          "contourcarpet": [
           {
            "colorbar": {
             "outlinewidth": 0,
             "ticks": ""
            },
            "type": "contourcarpet"
           }
          ],
          "heatmap": [
           {
            "colorbar": {
             "outlinewidth": 0,
             "ticks": ""
            },
            "colorscale": [
             [
              0,
              "#0d0887"
             ],
             [
              0.1111111111111111,
              "#46039f"
             ],
             [
              0.2222222222222222,
              "#7201a8"
             ],
             [
              0.3333333333333333,
              "#9c179e"
             ],
             [
              0.4444444444444444,
              "#bd3786"
             ],
             [
              0.5555555555555556,
              "#d8576b"
             ],
             [
              0.6666666666666666,
              "#ed7953"
             ],
             [
              0.7777777777777778,
              "#fb9f3a"
             ],
             [
              0.8888888888888888,
              "#fdca26"
             ],
             [
              1,
              "#f0f921"
             ]
            ],
            "type": "heatmap"
           }
          ],
          "histogram": [
           {
            "marker": {
             "pattern": {
              "fillmode": "overlay",
              "size": 10,
              "solidity": 0.2
             }
            },
            "type": "histogram"
           }
          ],
          "histogram2d": [
           {
            "colorbar": {
             "outlinewidth": 0,
             "ticks": ""
            },
            "colorscale": [
             [
              0,
              "#0d0887"
             ],
             [
              0.1111111111111111,
              "#46039f"
             ],
             [
              0.2222222222222222,
              "#7201a8"
             ],
             [
              0.3333333333333333,
              "#9c179e"
             ],
             [
              0.4444444444444444,
              "#bd3786"
             ],
             [
              0.5555555555555556,
              "#d8576b"
             ],
             [
              0.6666666666666666,
              "#ed7953"
             ],
             [
              0.7777777777777778,
              "#fb9f3a"
             ],
             [
              0.8888888888888888,
              "#fdca26"
             ],
             [
              1,
              "#f0f921"
             ]
            ],
            "type": "histogram2d"
           }
          ],
          "histogram2dcontour": [
           {
            "colorbar": {
             "outlinewidth": 0,
             "ticks": ""
            },
            "colorscale": [
             [
              0,
              "#0d0887"
             ],
             [
              0.1111111111111111,
              "#46039f"
             ],
             [
              0.2222222222222222,
              "#7201a8"
             ],
             [
              0.3333333333333333,
              "#9c179e"
             ],
             [
              0.4444444444444444,
              "#bd3786"
             ],
             [
              0.5555555555555556,
              "#d8576b"
             ],
             [
              0.6666666666666666,
              "#ed7953"
             ],
             [
              0.7777777777777778,
              "#fb9f3a"
             ],
             [
              0.8888888888888888,
              "#fdca26"
             ],
             [
              1,
              "#f0f921"
             ]
            ],
            "type": "histogram2dcontour"
           }
          ],
          "mesh3d": [
           {
            "colorbar": {
             "outlinewidth": 0,
             "ticks": ""
            },
            "type": "mesh3d"
           }
          ],
          "parcoords": [
           {
            "line": {
             "colorbar": {
              "outlinewidth": 0,
              "ticks": ""
             }
            },
            "type": "parcoords"
           }
          ],
          "pie": [
           {
            "automargin": true,
            "type": "pie"
           }
          ],
          "scatter": [
           {
            "fillpattern": {
             "fillmode": "overlay",
             "size": 10,
             "solidity": 0.2
            },
            "type": "scatter"
           }
          ],
          "scatter3d": [
           {
            "line": {
             "colorbar": {
              "outlinewidth": 0,
              "ticks": ""
             }
            },
            "marker": {
             "colorbar": {
              "outlinewidth": 0,
              "ticks": ""
             }
            },
            "type": "scatter3d"
           }
          ],
          "scattercarpet": [
           {
            "marker": {
             "colorbar": {
              "outlinewidth": 0,
              "ticks": ""
             }
            },
            "type": "scattercarpet"
           }
          ],
          "scattergeo": [
           {
            "marker": {
             "colorbar": {
              "outlinewidth": 0,
              "ticks": ""
             }
            },
            "type": "scattergeo"
           }
          ],
          "scattergl": [
           {
            "marker": {
             "colorbar": {
              "outlinewidth": 0,
              "ticks": ""
             }
            },
            "type": "scattergl"
           }
          ],
          "scattermap": [
           {
            "marker": {
             "colorbar": {
              "outlinewidth": 0,
              "ticks": ""
             }
            },
            "type": "scattermap"
           }
          ],
          "scattermapbox": [
           {
            "marker": {
             "colorbar": {
              "outlinewidth": 0,
              "ticks": ""
             }
            },
            "type": "scattermapbox"
           }
          ],
          "scatterpolar": [
           {
            "marker": {
             "colorbar": {
              "outlinewidth": 0,
              "ticks": ""
             }
            },
            "type": "scatterpolar"
           }
          ],
          "scatterpolargl": [
           {
            "marker": {
             "colorbar": {
              "outlinewidth": 0,
              "ticks": ""
             }
            },
            "type": "scatterpolargl"
           }
          ],
          "scatterternary": [
           {
            "marker": {
             "colorbar": {
              "outlinewidth": 0,
              "ticks": ""
             }
            },
            "type": "scatterternary"
           }
          ],
          "surface": [
           {
            "colorbar": {
             "outlinewidth": 0,
             "ticks": ""
            },
            "colorscale": [
             [
              0,
              "#0d0887"
             ],
             [
              0.1111111111111111,
              "#46039f"
             ],
             [
              0.2222222222222222,
              "#7201a8"
             ],
             [
              0.3333333333333333,
              "#9c179e"
             ],
             [
              0.4444444444444444,
              "#bd3786"
             ],
             [
              0.5555555555555556,
              "#d8576b"
             ],
             [
              0.6666666666666666,
              "#ed7953"
             ],
             [
              0.7777777777777778,
              "#fb9f3a"
             ],
             [
              0.8888888888888888,
              "#fdca26"
             ],
             [
              1,
              "#f0f921"
             ]
            ],
            "type": "surface"
           }
          ],
          "table": [
           {
            "cells": {
             "fill": {
              "color": "#EBF0F8"
             },
             "line": {
              "color": "white"
             }
            },
            "header": {
             "fill": {
              "color": "#C8D4E3"
             },
             "line": {
              "color": "white"
             }
            },
            "type": "table"
           }
          ]
         },
         "layout": {
          "annotationdefaults": {
           "arrowcolor": "#2a3f5f",
           "arrowhead": 0,
           "arrowwidth": 1
          },
          "autotypenumbers": "strict",
          "coloraxis": {
           "colorbar": {
            "outlinewidth": 0,
            "ticks": ""
           }
          },
          "colorscale": {
           "diverging": [
            [
             0,
             "#8e0152"
            ],
            [
             0.1,
             "#c51b7d"
            ],
            [
             0.2,
             "#de77ae"
            ],
            [
             0.3,
             "#f1b6da"
            ],
            [
             0.4,
             "#fde0ef"
            ],
            [
             0.5,
             "#f7f7f7"
            ],
            [
             0.6,
             "#e6f5d0"
            ],
            [
             0.7,
             "#b8e186"
            ],
            [
             0.8,
             "#7fbc41"
            ],
            [
             0.9,
             "#4d9221"
            ],
            [
             1,
             "#276419"
            ]
           ],
           "sequential": [
            [
             0,
             "#0d0887"
            ],
            [
             0.1111111111111111,
             "#46039f"
            ],
            [
             0.2222222222222222,
             "#7201a8"
            ],
            [
             0.3333333333333333,
             "#9c179e"
            ],
            [
             0.4444444444444444,
             "#bd3786"
            ],
            [
             0.5555555555555556,
             "#d8576b"
            ],
            [
             0.6666666666666666,
             "#ed7953"
            ],
            [
             0.7777777777777778,
             "#fb9f3a"
            ],
            [
             0.8888888888888888,
             "#fdca26"
            ],
            [
             1,
             "#f0f921"
            ]
           ],
           "sequentialminus": [
            [
             0,
             "#0d0887"
            ],
            [
             0.1111111111111111,
             "#46039f"
            ],
            [
             0.2222222222222222,
             "#7201a8"
            ],
            [
             0.3333333333333333,
             "#9c179e"
            ],
            [
             0.4444444444444444,
             "#bd3786"
            ],
            [
             0.5555555555555556,
             "#d8576b"
            ],
            [
             0.6666666666666666,
             "#ed7953"
            ],
            [
             0.7777777777777778,
             "#fb9f3a"
            ],
            [
             0.8888888888888888,
             "#fdca26"
            ],
            [
             1,
             "#f0f921"
            ]
           ]
          },
          "colorway": [
           "#636efa",
           "#EF553B",
           "#00cc96",
           "#ab63fa",
           "#FFA15A",
           "#19d3f3",
           "#FF6692",
           "#B6E880",
           "#FF97FF",
           "#FECB52"
          ],
          "font": {
           "color": "#2a3f5f"
          },
          "geo": {
           "bgcolor": "white",
           "lakecolor": "white",
           "landcolor": "#E5ECF6",
           "showlakes": true,
           "showland": true,
           "subunitcolor": "white"
          },
          "hoverlabel": {
           "align": "left"
          },
          "hovermode": "closest",
          "mapbox": {
           "style": "light"
          },
          "paper_bgcolor": "white",
          "plot_bgcolor": "#E5ECF6",
          "polar": {
           "angularaxis": {
            "gridcolor": "white",
            "linecolor": "white",
            "ticks": ""
           },
           "bgcolor": "#E5ECF6",
           "radialaxis": {
            "gridcolor": "white",
            "linecolor": "white",
            "ticks": ""
           }
          },
          "scene": {
           "xaxis": {
            "backgroundcolor": "#E5ECF6",
            "gridcolor": "white",
            "gridwidth": 2,
            "linecolor": "white",
            "showbackground": true,
            "ticks": "",
            "zerolinecolor": "white"
           },
           "yaxis": {
            "backgroundcolor": "#E5ECF6",
            "gridcolor": "white",
            "gridwidth": 2,
            "linecolor": "white",
            "showbackground": true,
            "ticks": "",
            "zerolinecolor": "white"
           },
           "zaxis": {
            "backgroundcolor": "#E5ECF6",
            "gridcolor": "white",
            "gridwidth": 2,
            "linecolor": "white",
            "showbackground": true,
            "ticks": "",
            "zerolinecolor": "white"
           }
          },
          "shapedefaults": {
           "line": {
            "color": "#2a3f5f"
           }
          },
          "ternary": {
           "aaxis": {
            "gridcolor": "white",
            "linecolor": "white",
            "ticks": ""
           },
           "baxis": {
            "gridcolor": "white",
            "linecolor": "white",
            "ticks": ""
           },
           "bgcolor": "#E5ECF6",
           "caxis": {
            "gridcolor": "white",
            "linecolor": "white",
            "ticks": ""
           }
          },
          "title": {
           "x": 0.05
          },
          "xaxis": {
           "automargin": true,
           "gridcolor": "white",
           "linecolor": "white",
           "ticks": "",
           "title": {
            "standoff": 15
           },
           "zerolinecolor": "white",
           "zerolinewidth": 2
          },
          "yaxis": {
           "automargin": true,
           "gridcolor": "white",
           "linecolor": "white",
           "ticks": "",
           "title": {
            "standoff": 15
           },
           "zerolinecolor": "white",
           "zerolinewidth": 2
          }
         }
        },
        "title": {
         "text": "Distribution of Alkaline Phosphotase by Result"
        },
        "xaxis": {
         "anchor": "y",
         "domain": [
          0,
          1
         ],
         "title": {
          "text": "Alkaline Phosphotase"
         }
        },
        "yaxis": {
         "anchor": "x",
         "domain": [
          0,
          1
         ],
         "title": {
          "text": "count"
         }
        }
       }
      }
     },
     "metadata": {},
     "output_type": "display_data"
    },
    {
     "data": {
      "application/vnd.plotly.v1+json": {
       "config": {
        "plotlyServerURL": "https://plot.ly"
       },
       "data": [
        {
         "bingroup": "x",
         "hovertemplate": "Result=0<br>Sgpt Alamine Aminotransferase=%{x}<br>count=%{y}<extra></extra>",
         "legendgroup": "0",
         "marker": {
          "color": "#636efa",
          "opacity": 0.5,
          "pattern": {
           "shape": ""
          }
         },
         "name": "0",
         "orientation": "v",
         "showlegend": true,
         "type": "histogram",
         "x": {
          "bdata": "EABAADwADgAbABMAEAAOADUAMwAfABYANQCoAOgA6AARABYAdAAQAGsDawOQBi0AIwBmACYAJgB7ACEAlwEkAF4GJwBAABUADwBQAFYAHwAfACoAFQAlACUAIwAoAD4ANwA1ABsApgAUABsAFgAUAL0AXwAwADwAGQDCAC0AOgAhACEAdwCcAZQBnAHcAH4AGQBmAL4AYQA0ASQAFQAhABgASgDQB0YF4gTiAUIBEQCFAC4APQA5ADIAEQAjAOIEPgBIAEgAGQAPAFQAVAA/ABUAFAAUABUAEgAUAC0AOgBGABQAFAAkAIwAYwArACoAKgANACgAQAA1ACEAHAB6ASMAMAAwACsAcABHACUAHgAXACEAFAASAE8AcgAqAHYAawBPAB4ANAAMABYDMgAyABwAMgC2AzUAFwAUADwAGQASAB4AKQAbACYAKAA4AC0AJgASABoAVQCVADAAIADmABQARQAYAB4AGQAUAA8AFgAZACUAHAAmACUAWQAXAJQAQQA4AM0ANwAZACYADAAyAA8AYACGAQ8AGQAtABkAEgA4AAwAHgAdAA8AEAB4ADAAFgAZAE4AEAAaABUAHAAVAEoAFQAWALIAMAArABgAKgCzAB8AHgAkACoANgA+AFAAEQAYAMYAVQBPADIALABGACgAIAAOAF0BEwA+ACkAJABuABkAFQAyABwALwAWABgAHgAdACAAIwAUACQAHAAbAHMAHQAiAB8AHwAXABkAXgCOACUAHgAcABkAiQAsAJsAFAAPAJ0AjQAcAbgBIQBdAEwARQA0ADAAIgAMADsAIQBmABQANwApAA8AHgAZABcAHQA0ACMAIwCpARoAGgAyABQAGQAoABkAJQAQAJ8ANwAWABcAHgAWAA0ADwAYAG4CCwOEAFsAEgCaABIAZgBgAIUAxAA0ACoAEgAoAD4AHAAdACcAJwBfACsAvgB3AIwAJQAgADAAQQAQADIASgCoAEUADgAYAA8AFQBEAAwANgBuAP0BLgBDABkAVQAXAEMALwAnADwASgAZAB0AOgAUAIsAGQBQAH4BSwBBAekArQAfABYAFABbANUAgwAuADYAMgAwACkAOgAcACMAMAAdAA==",
          "dtype": "i2"
         },
         "xaxis": "x",
         "yaxis": "y"
        },
        {
         "bingroup": "x",
         "hovertemplate": "Result=1<br>Sgpt Alamine Aminotransferase=%{x}<br>count=%{y}<extra></extra>",
         "legendgroup": "1",
         "marker": {
          "color": "#EF553B",
          "opacity": 0.5,
          "pattern": {
           "shape": ""
          }
         },
         "name": "1",
         "orientation": "v",
         "showlegend": true,
         "type": "histogram",
         "x": {
          "bdata": "FgA9AFsADwA0ABQADQATADsAOwASACoAGQARADAAGgAYABQAGAA0AAwADgAcABsAFQAOACAAIAAdAB0AGQALAD8AtQBYADwAJAAtABIAIgAUABIAHgAaACQAPAAgAB4AMAAWABMAGwAbAFIAEQAkACYAFAAaAD0AOQAoACAAMAAMAFoAHwA3AB4AmAAWABkAEgAKAA8AIAAlABgAKAAgABIAJAAZABkAEgAdABUALwAbAKAACwAdAA4AFQAkADwAEwANACoAFwAVABoAIQAcABwALQAeACAAGgAMABAACgAZABgAGAATABIAHAAPABwAGgAwACwAMQAKAAoAHwAgABwAEgAoAA8AFgAcABUAFwAWABIAEQBAACYAIQB3ABwALgAfABEAOAAeAB8AHwAWAAwAIwAOAAwAWAAYABUAHQAuACkAFAAWABYAFAAVAA==",
          "dtype": "i2"
         },
         "xaxis": "x",
         "yaxis": "y"
        }
       ],
       "layout": {
        "barmode": "overlay",
        "legend": {
         "title": {
          "text": "Result"
         },
         "tracegroupgap": 0
        },
        "template": {
         "data": {
          "bar": [
           {
            "error_x": {
             "color": "#2a3f5f"
            },
            "error_y": {
             "color": "#2a3f5f"
            },
            "marker": {
             "line": {
              "color": "#E5ECF6",
              "width": 0.5
             },
             "pattern": {
              "fillmode": "overlay",
              "size": 10,
              "solidity": 0.2
             }
            },
            "type": "bar"
           }
          ],
          "barpolar": [
           {
            "marker": {
             "line": {
              "color": "#E5ECF6",
              "width": 0.5
             },
             "pattern": {
              "fillmode": "overlay",
              "size": 10,
              "solidity": 0.2
             }
            },
            "type": "barpolar"
           }
          ],
          "carpet": [
           {
            "aaxis": {
             "endlinecolor": "#2a3f5f",
             "gridcolor": "white",
             "linecolor": "white",
             "minorgridcolor": "white",
             "startlinecolor": "#2a3f5f"
            },
            "baxis": {
             "endlinecolor": "#2a3f5f",
             "gridcolor": "white",
             "linecolor": "white",
             "minorgridcolor": "white",
             "startlinecolor": "#2a3f5f"
            },
            "type": "carpet"
           }
          ],
          "choropleth": [
           {
            "colorbar": {
             "outlinewidth": 0,
             "ticks": ""
            },
            "type": "choropleth"
           }
          ],
          "contour": [
           {
            "colorbar": {
             "outlinewidth": 0,
             "ticks": ""
            },
            "colorscale": [
             [
              0,
              "#0d0887"
             ],
             [
              0.1111111111111111,
              "#46039f"
             ],
             [
              0.2222222222222222,
              "#7201a8"
             ],
             [
              0.3333333333333333,
              "#9c179e"
             ],
             [
              0.4444444444444444,
              "#bd3786"
             ],
             [
              0.5555555555555556,
              "#d8576b"
             ],
             [
              0.6666666666666666,
              "#ed7953"
             ],
             [
              0.7777777777777778,
              "#fb9f3a"
             ],
             [
              0.8888888888888888,
              "#fdca26"
             ],
             [
              1,
              "#f0f921"
             ]
            ],
            "type": "contour"
           }
          ],
          "contourcarpet": [
           {
            "colorbar": {
             "outlinewidth": 0,
             "ticks": ""
            },
            "type": "contourcarpet"
           }
          ],
          "heatmap": [
           {
            "colorbar": {
             "outlinewidth": 0,
             "ticks": ""
            },
            "colorscale": [
             [
              0,
              "#0d0887"
             ],
             [
              0.1111111111111111,
              "#46039f"
             ],
             [
              0.2222222222222222,
              "#7201a8"
             ],
             [
              0.3333333333333333,
              "#9c179e"
             ],
             [
              0.4444444444444444,
              "#bd3786"
             ],
             [
              0.5555555555555556,
              "#d8576b"
             ],
             [
              0.6666666666666666,
              "#ed7953"
             ],
             [
              0.7777777777777778,
              "#fb9f3a"
             ],
             [
              0.8888888888888888,
              "#fdca26"
             ],
             [
              1,
              "#f0f921"
             ]
            ],
            "type": "heatmap"
           }
          ],
          "histogram": [
           {
            "marker": {
             "pattern": {
              "fillmode": "overlay",
              "size": 10,
              "solidity": 0.2
             }
            },
            "type": "histogram"
           }
          ],
          "histogram2d": [
           {
            "colorbar": {
             "outlinewidth": 0,
             "ticks": ""
            },
            "colorscale": [
             [
              0,
              "#0d0887"
             ],
             [
              0.1111111111111111,
              "#46039f"
             ],
             [
              0.2222222222222222,
              "#7201a8"
             ],
             [
              0.3333333333333333,
              "#9c179e"
             ],
             [
              0.4444444444444444,
              "#bd3786"
             ],
             [
              0.5555555555555556,
              "#d8576b"
             ],
             [
              0.6666666666666666,
              "#ed7953"
             ],
             [
              0.7777777777777778,
              "#fb9f3a"
             ],
             [
              0.8888888888888888,
              "#fdca26"
             ],
             [
              1,
              "#f0f921"
             ]
            ],
            "type": "histogram2d"
           }
          ],
          "histogram2dcontour": [
           {
            "colorbar": {
             "outlinewidth": 0,
             "ticks": ""
            },
            "colorscale": [
             [
              0,
              "#0d0887"
             ],
             [
              0.1111111111111111,
              "#46039f"
             ],
             [
              0.2222222222222222,
              "#7201a8"
             ],
             [
              0.3333333333333333,
              "#9c179e"
             ],
             [
              0.4444444444444444,
              "#bd3786"
             ],
             [
              0.5555555555555556,
              "#d8576b"
             ],
             [
              0.6666666666666666,
              "#ed7953"
             ],
             [
              0.7777777777777778,
              "#fb9f3a"
             ],
             [
              0.8888888888888888,
              "#fdca26"
             ],
             [
              1,
              "#f0f921"
             ]
            ],
            "type": "histogram2dcontour"
           }
          ],
          "mesh3d": [
           {
            "colorbar": {
             "outlinewidth": 0,
             "ticks": ""
            },
            "type": "mesh3d"
           }
          ],
          "parcoords": [
           {
            "line": {
             "colorbar": {
              "outlinewidth": 0,
              "ticks": ""
             }
            },
            "type": "parcoords"
           }
          ],
          "pie": [
           {
            "automargin": true,
            "type": "pie"
           }
          ],
          "scatter": [
           {
            "fillpattern": {
             "fillmode": "overlay",
             "size": 10,
             "solidity": 0.2
            },
            "type": "scatter"
           }
          ],
          "scatter3d": [
           {
            "line": {
             "colorbar": {
              "outlinewidth": 0,
              "ticks": ""
             }
            },
            "marker": {
             "colorbar": {
              "outlinewidth": 0,
              "ticks": ""
             }
            },
            "type": "scatter3d"
           }
          ],
          "scattercarpet": [
           {
            "marker": {
             "colorbar": {
              "outlinewidth": 0,
              "ticks": ""
             }
            },
            "type": "scattercarpet"
           }
          ],
          "scattergeo": [
           {
            "marker": {
             "colorbar": {
              "outlinewidth": 0,
              "ticks": ""
             }
            },
            "type": "scattergeo"
           }
          ],
          "scattergl": [
           {
            "marker": {
             "colorbar": {
              "outlinewidth": 0,
              "ticks": ""
             }
            },
            "type": "scattergl"
           }
          ],
          "scattermap": [
           {
            "marker": {
             "colorbar": {
              "outlinewidth": 0,
              "ticks": ""
             }
            },
            "type": "scattermap"
           }
          ],
          "scattermapbox": [
           {
            "marker": {
             "colorbar": {
              "outlinewidth": 0,
              "ticks": ""
             }
            },
            "type": "scattermapbox"
           }
          ],
          "scatterpolar": [
           {
            "marker": {
             "colorbar": {
              "outlinewidth": 0,
              "ticks": ""
             }
            },
            "type": "scatterpolar"
           }
          ],
          "scatterpolargl": [
           {
            "marker": {
             "colorbar": {
              "outlinewidth": 0,
              "ticks": ""
             }
            },
            "type": "scatterpolargl"
           }
          ],
          "scatterternary": [
           {
            "marker": {
             "colorbar": {
              "outlinewidth": 0,
              "ticks": ""
             }
            },
            "type": "scatterternary"
           }
          ],
          "surface": [
           {
            "colorbar": {
             "outlinewidth": 0,
             "ticks": ""
            },
            "colorscale": [
             [
              0,
              "#0d0887"
             ],
             [
              0.1111111111111111,
              "#46039f"
             ],
             [
              0.2222222222222222,
              "#7201a8"
             ],
             [
              0.3333333333333333,
              "#9c179e"
             ],
             [
              0.4444444444444444,
              "#bd3786"
             ],
             [
              0.5555555555555556,
              "#d8576b"
             ],
             [
              0.6666666666666666,
              "#ed7953"
             ],
             [
              0.7777777777777778,
              "#fb9f3a"
             ],
             [
              0.8888888888888888,
              "#fdca26"
             ],
             [
              1,
              "#f0f921"
             ]
            ],
            "type": "surface"
           }
          ],
          "table": [
           {
            "cells": {
             "fill": {
              "color": "#EBF0F8"
             },
             "line": {
              "color": "white"
             }
            },
            "header": {
             "fill": {
              "color": "#C8D4E3"
             },
             "line": {
              "color": "white"
             }
            },
            "type": "table"
           }
          ]
         },
         "layout": {
          "annotationdefaults": {
           "arrowcolor": "#2a3f5f",
           "arrowhead": 0,
           "arrowwidth": 1
          },
          "autotypenumbers": "strict",
          "coloraxis": {
           "colorbar": {
            "outlinewidth": 0,
            "ticks": ""
           }
          },
          "colorscale": {
           "diverging": [
            [
             0,
             "#8e0152"
            ],
            [
             0.1,
             "#c51b7d"
            ],
            [
             0.2,
             "#de77ae"
            ],
            [
             0.3,
             "#f1b6da"
            ],
            [
             0.4,
             "#fde0ef"
            ],
            [
             0.5,
             "#f7f7f7"
            ],
            [
             0.6,
             "#e6f5d0"
            ],
            [
             0.7,
             "#b8e186"
            ],
            [
             0.8,
             "#7fbc41"
            ],
            [
             0.9,
             "#4d9221"
            ],
            [
             1,
             "#276419"
            ]
           ],
           "sequential": [
            [
             0,
             "#0d0887"
            ],
            [
             0.1111111111111111,
             "#46039f"
            ],
            [
             0.2222222222222222,
             "#7201a8"
            ],
            [
             0.3333333333333333,
             "#9c179e"
            ],
            [
             0.4444444444444444,
             "#bd3786"
            ],
            [
             0.5555555555555556,
             "#d8576b"
            ],
            [
             0.6666666666666666,
             "#ed7953"
            ],
            [
             0.7777777777777778,
             "#fb9f3a"
            ],
            [
             0.8888888888888888,
             "#fdca26"
            ],
            [
             1,
             "#f0f921"
            ]
           ],
           "sequentialminus": [
            [
             0,
             "#0d0887"
            ],
            [
             0.1111111111111111,
             "#46039f"
            ],
            [
             0.2222222222222222,
             "#7201a8"
            ],
            [
             0.3333333333333333,
             "#9c179e"
            ],
            [
             0.4444444444444444,
             "#bd3786"
            ],
            [
             0.5555555555555556,
             "#d8576b"
            ],
            [
             0.6666666666666666,
             "#ed7953"
            ],
            [
             0.7777777777777778,
             "#fb9f3a"
            ],
            [
             0.8888888888888888,
             "#fdca26"
            ],
            [
             1,
             "#f0f921"
            ]
           ]
          },
          "colorway": [
           "#636efa",
           "#EF553B",
           "#00cc96",
           "#ab63fa",
           "#FFA15A",
           "#19d3f3",
           "#FF6692",
           "#B6E880",
           "#FF97FF",
           "#FECB52"
          ],
          "font": {
           "color": "#2a3f5f"
          },
          "geo": {
           "bgcolor": "white",
           "lakecolor": "white",
           "landcolor": "#E5ECF6",
           "showlakes": true,
           "showland": true,
           "subunitcolor": "white"
          },
          "hoverlabel": {
           "align": "left"
          },
          "hovermode": "closest",
          "mapbox": {
           "style": "light"
          },
          "paper_bgcolor": "white",
          "plot_bgcolor": "#E5ECF6",
          "polar": {
           "angularaxis": {
            "gridcolor": "white",
            "linecolor": "white",
            "ticks": ""
           },
           "bgcolor": "#E5ECF6",
           "radialaxis": {
            "gridcolor": "white",
            "linecolor": "white",
            "ticks": ""
           }
          },
          "scene": {
           "xaxis": {
            "backgroundcolor": "#E5ECF6",
            "gridcolor": "white",
            "gridwidth": 2,
            "linecolor": "white",
            "showbackground": true,
            "ticks": "",
            "zerolinecolor": "white"
           },
           "yaxis": {
            "backgroundcolor": "#E5ECF6",
            "gridcolor": "white",
            "gridwidth": 2,
            "linecolor": "white",
            "showbackground": true,
            "ticks": "",
            "zerolinecolor": "white"
           },
           "zaxis": {
            "backgroundcolor": "#E5ECF6",
            "gridcolor": "white",
            "gridwidth": 2,
            "linecolor": "white",
            "showbackground": true,
            "ticks": "",
            "zerolinecolor": "white"
           }
          },
          "shapedefaults": {
           "line": {
            "color": "#2a3f5f"
           }
          },
          "ternary": {
           "aaxis": {
            "gridcolor": "white",
            "linecolor": "white",
            "ticks": ""
           },
           "baxis": {
            "gridcolor": "white",
            "linecolor": "white",
            "ticks": ""
           },
           "bgcolor": "#E5ECF6",
           "caxis": {
            "gridcolor": "white",
            "linecolor": "white",
            "ticks": ""
           }
          },
          "title": {
           "x": 0.05
          },
          "xaxis": {
           "automargin": true,
           "gridcolor": "white",
           "linecolor": "white",
           "ticks": "",
           "title": {
            "standoff": 15
           },
           "zerolinecolor": "white",
           "zerolinewidth": 2
          },
          "yaxis": {
           "automargin": true,
           "gridcolor": "white",
           "linecolor": "white",
           "ticks": "",
           "title": {
            "standoff": 15
           },
           "zerolinecolor": "white",
           "zerolinewidth": 2
          }
         }
        },
        "title": {
         "text": "Distribution of Sgpt Alamine Aminotransferase by Result"
        },
        "xaxis": {
         "anchor": "y",
         "domain": [
          0,
          1
         ],
         "title": {
          "text": "Sgpt Alamine Aminotransferase"
         }
        },
        "yaxis": {
         "anchor": "x",
         "domain": [
          0,
          1
         ],
         "title": {
          "text": "count"
         }
        }
       }
      }
     },
     "metadata": {},
     "output_type": "display_data"
    },
    {
     "data": {
      "application/vnd.plotly.v1+json": {
       "config": {
        "plotlyServerURL": "https://plot.ly"
       },
       "data": [
        {
         "bingroup": "x",
         "hovertemplate": "Result=0<br>Sgot Aspartate Aminotransferase=%{x}<br>count=%{y}<extra></extra>",
         "legendgroup": "0",
         "marker": {
          "color": "#636efa",
          "opacity": 0.5,
          "pattern": {
           "shape": ""
          }
         },
         "name": "0",
         "orientation": "v",
         "showlegend": true,
         "type": "histogram",
         "x": {
          "bdata": "EgBkAEQAFAA7AA4ADAALADoAOwA4AB4AKQC5AfUA9QAcACIAQgA3ANsC2wJSA28ALABQAE0AQgBJADIAQAIbAMADHACyAA4AEwCWAZYAPQA9ABIAEAArACsAYQBWAFgAXwA6ABoAjQEdABgAEAAWABEAfwBPAI4AGgCYAB8ALQA7ACIAXgFSAxoDUgOQAcoAFwB2ArYDoQCVAS0AHAB0AGIAlQCCC0AGGgQTAXEAEgBYACgAUwBBADoADgAkAEETWgCMAIwAQgAeAIsAiwBXACYAHgAaABsAFAAoAOkAigBSACMAIwAgAF4BuwBCAD4APgBKAEIAQwApACAAJQBaAj8AIgAiAB8AYwAqAB0AGQAdACUAEQATAJEA9wAmAHIAaAAzADYAaAAgABoENQA1ABYAPADcBV8AIQAOALQAOgAiAB8AJwAuABgAHAAsADMAPgAPABUA5wCcAFkAGwAqARAAMAAuABcAFwATABIATwAcAB0AGQAWACgAMAARAFYAggBXAIwANgAVADYAHQBLABQANgD0ARIAFgAoABQADgAwAA4AMAAYAAwAJwBpACwAGAAVACkAEwAPAB4AIAARAHEALwASAPoAFgAvAEEAHgDoABsAOgAiACUARAA4AHEAGAATAI8ARAAyAB4AIQCKABwALAALAGkADgA6ACYAIQCwABcAHgAmACIAGgAUABkAJQARAB8AIQApADUAKwAWAFsAHgAUACgAIwAjABQAXABEADgAIABGADIAkQDsAGwAGgAVAGwASQC+AFIDRwAoALQAMgBBADkAKgAPAH4AQgCNACEAVwBQACwAWgASABQAJwBmAFEAFAD/ARkAGwBIABkAJAAXABYAEwAuADMAFwASACoANgAgADgAGQAgAPEBTANwAbwAKAD4AA8AvgA5AGcAkQEfACcAFgBGADcATAAeAN0ATwDrALkASQDmABwCMAAYADoAtQAYABwARAB2ApsAGQAPABAAPwDIACYAmAC6AG8CNADcAEsATgAbACoAIABcAboAjQApAB4AjAArAFcAGwB9AEoBigAyAoABbwFTAI8AKABlAKgAWgCGAH0AWABcAFgAUAAvAB8AMQAgAA==",
          "dtype": "i2"
         },
         "xaxis": "x",
         "yaxis": "y"
        },
        {
         "bingroup": "x",
         "hovertemplate": "Result=1<br>Sgot Aspartate Aminotransferase=%{x}<br>count=%{y}<extra></extra>",
         "legendgroup": "1",
         "marker": {
          "color": "#EF553B",
          "opacity": 0.5,
          "pattern": {
           "shape": ""
          }
         },
         "name": "1",
         "orientation": "v",
         "showlegend": true,
         "type": "histogram",
         "x": {
          "bdata": "EwA6ADUAFwAtAB4AFQAXADkAOQAkAG4ALwAPALIAFwA2ABgAEQApABgADAA4ABwAFwAXAFwAXAAnACcAIgAKACcAHQFAAFQAHQAZABwAHwAVABYAKgAbACsAZwAcABkAIAASABcAFQAaAH8AlAAQAB4AEwANAFUAKAAjAB4AKAAPABUAIgBcACIA5wATABQADwAVABQADgApABkAIwAZABEAEAA2ABYAFQBSABAAQwAXAFoAIQAUABcAGQAgACgADwAaAEYAHAAPAB0AOQArACMANAAdABkAFwANABYADAAVABQAFAAWADoALAAeABgAHQBHADsAKgAMAA0AGAAkABUAEwAuABAAKwAjADUAKgAQAGwAGgAhABUAhwAqADMAOQAaAB0AbwAcAB0AJAAcAA8AIAAVABEASgAtABcAEwAvACoAFgAiAB8AIgAYAA==",
          "dtype": "i2"
         },
         "xaxis": "x",
         "yaxis": "y"
        }
       ],
       "layout": {
        "barmode": "overlay",
        "legend": {
         "title": {
          "text": "Result"
         },
         "tracegroupgap": 0
        },
        "template": {
         "data": {
          "bar": [
           {
            "error_x": {
             "color": "#2a3f5f"
            },
            "error_y": {
             "color": "#2a3f5f"
            },
            "marker": {
             "line": {
              "color": "#E5ECF6",
              "width": 0.5
             },
             "pattern": {
              "fillmode": "overlay",
              "size": 10,
              "solidity": 0.2
             }
            },
            "type": "bar"
           }
          ],
          "barpolar": [
           {
            "marker": {
             "line": {
              "color": "#E5ECF6",
              "width": 0.5
             },
             "pattern": {
              "fillmode": "overlay",
              "size": 10,
              "solidity": 0.2
             }
            },
            "type": "barpolar"
           }
          ],
          "carpet": [
           {
            "aaxis": {
             "endlinecolor": "#2a3f5f",
             "gridcolor": "white",
             "linecolor": "white",
             "minorgridcolor": "white",
             "startlinecolor": "#2a3f5f"
            },
            "baxis": {
             "endlinecolor": "#2a3f5f",
             "gridcolor": "white",
             "linecolor": "white",
             "minorgridcolor": "white",
             "startlinecolor": "#2a3f5f"
            },
            "type": "carpet"
           }
          ],
          "choropleth": [
           {
            "colorbar": {
             "outlinewidth": 0,
             "ticks": ""
            },
            "type": "choropleth"
           }
          ],
          "contour": [
           {
            "colorbar": {
             "outlinewidth": 0,
             "ticks": ""
            },
            "colorscale": [
             [
              0,
              "#0d0887"
             ],
             [
              0.1111111111111111,
              "#46039f"
             ],
             [
              0.2222222222222222,
              "#7201a8"
             ],
             [
              0.3333333333333333,
              "#9c179e"
             ],
             [
              0.4444444444444444,
              "#bd3786"
             ],
             [
              0.5555555555555556,
              "#d8576b"
             ],
             [
              0.6666666666666666,
              "#ed7953"
             ],
             [
              0.7777777777777778,
              "#fb9f3a"
             ],
             [
              0.8888888888888888,
              "#fdca26"
             ],
             [
              1,
              "#f0f921"
             ]
            ],
            "type": "contour"
           }
          ],
          "contourcarpet": [
           {
            "colorbar": {
             "outlinewidth": 0,
             "ticks": ""
            },
            "type": "contourcarpet"
           }
          ],
          "heatmap": [
           {
            "colorbar": {
             "outlinewidth": 0,
             "ticks": ""
            },
            "colorscale": [
             [
              0,
              "#0d0887"
             ],
             [
              0.1111111111111111,
              "#46039f"
             ],
             [
              0.2222222222222222,
              "#7201a8"
             ],
             [
              0.3333333333333333,
              "#9c179e"
             ],
             [
              0.4444444444444444,
              "#bd3786"
             ],
             [
              0.5555555555555556,
              "#d8576b"
             ],
             [
              0.6666666666666666,
              "#ed7953"
             ],
             [
              0.7777777777777778,
              "#fb9f3a"
             ],
             [
              0.8888888888888888,
              "#fdca26"
             ],
             [
              1,
              "#f0f921"
             ]
            ],
            "type": "heatmap"
           }
          ],
          "histogram": [
           {
            "marker": {
             "pattern": {
              "fillmode": "overlay",
              "size": 10,
              "solidity": 0.2
             }
            },
            "type": "histogram"
           }
          ],
          "histogram2d": [
           {
            "colorbar": {
             "outlinewidth": 0,
             "ticks": ""
            },
            "colorscale": [
             [
              0,
              "#0d0887"
             ],
             [
              0.1111111111111111,
              "#46039f"
             ],
             [
              0.2222222222222222,
              "#7201a8"
             ],
             [
              0.3333333333333333,
              "#9c179e"
             ],
             [
              0.4444444444444444,
              "#bd3786"
             ],
             [
              0.5555555555555556,
              "#d8576b"
             ],
             [
              0.6666666666666666,
              "#ed7953"
             ],
             [
              0.7777777777777778,
              "#fb9f3a"
             ],
             [
              0.8888888888888888,
              "#fdca26"
             ],
             [
              1,
              "#f0f921"
             ]
            ],
            "type": "histogram2d"
           }
          ],
          "histogram2dcontour": [
           {
            "colorbar": {
             "outlinewidth": 0,
             "ticks": ""
            },
            "colorscale": [
             [
              0,
              "#0d0887"
             ],
             [
              0.1111111111111111,
              "#46039f"
             ],
             [
              0.2222222222222222,
              "#7201a8"
             ],
             [
              0.3333333333333333,
              "#9c179e"
             ],
             [
              0.4444444444444444,
              "#bd3786"
             ],
             [
              0.5555555555555556,
              "#d8576b"
             ],
             [
              0.6666666666666666,
              "#ed7953"
             ],
             [
              0.7777777777777778,
              "#fb9f3a"
             ],
             [
              0.8888888888888888,
              "#fdca26"
             ],
             [
              1,
              "#f0f921"
             ]
            ],
            "type": "histogram2dcontour"
           }
          ],
          "mesh3d": [
           {
            "colorbar": {
             "outlinewidth": 0,
             "ticks": ""
            },
            "type": "mesh3d"
           }
          ],
          "parcoords": [
           {
            "line": {
             "colorbar": {
              "outlinewidth": 0,
              "ticks": ""
             }
            },
            "type": "parcoords"
           }
          ],
          "pie": [
           {
            "automargin": true,
            "type": "pie"
           }
          ],
          "scatter": [
           {
            "fillpattern": {
             "fillmode": "overlay",
             "size": 10,
             "solidity": 0.2
            },
            "type": "scatter"
           }
          ],
          "scatter3d": [
           {
            "line": {
             "colorbar": {
              "outlinewidth": 0,
              "ticks": ""
             }
            },
            "marker": {
             "colorbar": {
              "outlinewidth": 0,
              "ticks": ""
             }
            },
            "type": "scatter3d"
           }
          ],
          "scattercarpet": [
           {
            "marker": {
             "colorbar": {
              "outlinewidth": 0,
              "ticks": ""
             }
            },
            "type": "scattercarpet"
           }
          ],
          "scattergeo": [
           {
            "marker": {
             "colorbar": {
              "outlinewidth": 0,
              "ticks": ""
             }
            },
            "type": "scattergeo"
           }
          ],
          "scattergl": [
           {
            "marker": {
             "colorbar": {
              "outlinewidth": 0,
              "ticks": ""
             }
            },
            "type": "scattergl"
           }
          ],
          "scattermap": [
           {
            "marker": {
             "colorbar": {
              "outlinewidth": 0,
              "ticks": ""
             }
            },
            "type": "scattermap"
           }
          ],
          "scattermapbox": [
           {
            "marker": {
             "colorbar": {
              "outlinewidth": 0,
              "ticks": ""
             }
            },
            "type": "scattermapbox"
           }
          ],
          "scatterpolar": [
           {
            "marker": {
             "colorbar": {
              "outlinewidth": 0,
              "ticks": ""
             }
            },
            "type": "scatterpolar"
           }
          ],
          "scatterpolargl": [
           {
            "marker": {
             "colorbar": {
              "outlinewidth": 0,
              "ticks": ""
             }
            },
            "type": "scatterpolargl"
           }
          ],
          "scatterternary": [
           {
            "marker": {
             "colorbar": {
              "outlinewidth": 0,
              "ticks": ""
             }
            },
            "type": "scatterternary"
           }
          ],
          "surface": [
           {
            "colorbar": {
             "outlinewidth": 0,
             "ticks": ""
            },
            "colorscale": [
             [
              0,
              "#0d0887"
             ],
             [
              0.1111111111111111,
              "#46039f"
             ],
             [
              0.2222222222222222,
              "#7201a8"
             ],
             [
              0.3333333333333333,
              "#9c179e"
             ],
             [
              0.4444444444444444,
              "#bd3786"
             ],
             [
              0.5555555555555556,
              "#d8576b"
             ],
             [
              0.6666666666666666,
              "#ed7953"
             ],
             [
              0.7777777777777778,
              "#fb9f3a"
             ],
             [
              0.8888888888888888,
              "#fdca26"
             ],
             [
              1,
              "#f0f921"
             ]
            ],
            "type": "surface"
           }
          ],
          "table": [
           {
            "cells": {
             "fill": {
              "color": "#EBF0F8"
             },
             "line": {
              "color": "white"
             }
            },
            "header": {
             "fill": {
              "color": "#C8D4E3"
             },
             "line": {
              "color": "white"
             }
            },
            "type": "table"
           }
          ]
         },
         "layout": {
          "annotationdefaults": {
           "arrowcolor": "#2a3f5f",
           "arrowhead": 0,
           "arrowwidth": 1
          },
          "autotypenumbers": "strict",
          "coloraxis": {
           "colorbar": {
            "outlinewidth": 0,
            "ticks": ""
           }
          },
          "colorscale": {
           "diverging": [
            [
             0,
             "#8e0152"
            ],
            [
             0.1,
             "#c51b7d"
            ],
            [
             0.2,
             "#de77ae"
            ],
            [
             0.3,
             "#f1b6da"
            ],
            [
             0.4,
             "#fde0ef"
            ],
            [
             0.5,
             "#f7f7f7"
            ],
            [
             0.6,
             "#e6f5d0"
            ],
            [
             0.7,
             "#b8e186"
            ],
            [
             0.8,
             "#7fbc41"
            ],
            [
             0.9,
             "#4d9221"
            ],
            [
             1,
             "#276419"
            ]
           ],
           "sequential": [
            [
             0,
             "#0d0887"
            ],
            [
             0.1111111111111111,
             "#46039f"
            ],
            [
             0.2222222222222222,
             "#7201a8"
            ],
            [
             0.3333333333333333,
             "#9c179e"
            ],
            [
             0.4444444444444444,
             "#bd3786"
            ],
            [
             0.5555555555555556,
             "#d8576b"
            ],
            [
             0.6666666666666666,
             "#ed7953"
            ],
            [
             0.7777777777777778,
             "#fb9f3a"
            ],
            [
             0.8888888888888888,
             "#fdca26"
            ],
            [
             1,
             "#f0f921"
            ]
           ],
           "sequentialminus": [
            [
             0,
             "#0d0887"
            ],
            [
             0.1111111111111111,
             "#46039f"
            ],
            [
             0.2222222222222222,
             "#7201a8"
            ],
            [
             0.3333333333333333,
             "#9c179e"
            ],
            [
             0.4444444444444444,
             "#bd3786"
            ],
            [
             0.5555555555555556,
             "#d8576b"
            ],
            [
             0.6666666666666666,
             "#ed7953"
            ],
            [
             0.7777777777777778,
             "#fb9f3a"
            ],
            [
             0.8888888888888888,
             "#fdca26"
            ],
            [
             1,
             "#f0f921"
            ]
           ]
          },
          "colorway": [
           "#636efa",
           "#EF553B",
           "#00cc96",
           "#ab63fa",
           "#FFA15A",
           "#19d3f3",
           "#FF6692",
           "#B6E880",
           "#FF97FF",
           "#FECB52"
          ],
          "font": {
           "color": "#2a3f5f"
          },
          "geo": {
           "bgcolor": "white",
           "lakecolor": "white",
           "landcolor": "#E5ECF6",
           "showlakes": true,
           "showland": true,
           "subunitcolor": "white"
          },
          "hoverlabel": {
           "align": "left"
          },
          "hovermode": "closest",
          "mapbox": {
           "style": "light"
          },
          "paper_bgcolor": "white",
          "plot_bgcolor": "#E5ECF6",
          "polar": {
           "angularaxis": {
            "gridcolor": "white",
            "linecolor": "white",
            "ticks": ""
           },
           "bgcolor": "#E5ECF6",
           "radialaxis": {
            "gridcolor": "white",
            "linecolor": "white",
            "ticks": ""
           }
          },
          "scene": {
           "xaxis": {
            "backgroundcolor": "#E5ECF6",
            "gridcolor": "white",
            "gridwidth": 2,
            "linecolor": "white",
            "showbackground": true,
            "ticks": "",
            "zerolinecolor": "white"
           },
           "yaxis": {
            "backgroundcolor": "#E5ECF6",
            "gridcolor": "white",
            "gridwidth": 2,
            "linecolor": "white",
            "showbackground": true,
            "ticks": "",
            "zerolinecolor": "white"
           },
           "zaxis": {
            "backgroundcolor": "#E5ECF6",
            "gridcolor": "white",
            "gridwidth": 2,
            "linecolor": "white",
            "showbackground": true,
            "ticks": "",
            "zerolinecolor": "white"
           }
          },
          "shapedefaults": {
           "line": {
            "color": "#2a3f5f"
           }
          },
          "ternary": {
           "aaxis": {
            "gridcolor": "white",
            "linecolor": "white",
            "ticks": ""
           },
           "baxis": {
            "gridcolor": "white",
            "linecolor": "white",
            "ticks": ""
           },
           "bgcolor": "#E5ECF6",
           "caxis": {
            "gridcolor": "white",
            "linecolor": "white",
            "ticks": ""
           }
          },
          "title": {
           "x": 0.05
          },
          "xaxis": {
           "automargin": true,
           "gridcolor": "white",
           "linecolor": "white",
           "ticks": "",
           "title": {
            "standoff": 15
           },
           "zerolinecolor": "white",
           "zerolinewidth": 2
          },
          "yaxis": {
           "automargin": true,
           "gridcolor": "white",
           "linecolor": "white",
           "ticks": "",
           "title": {
            "standoff": 15
           },
           "zerolinecolor": "white",
           "zerolinewidth": 2
          }
         }
        },
        "title": {
         "text": "Distribution of Sgot Aspartate Aminotransferase by Result"
        },
        "xaxis": {
         "anchor": "y",
         "domain": [
          0,
          1
         ],
         "title": {
          "text": "Sgot Aspartate Aminotransferase"
         }
        },
        "yaxis": {
         "anchor": "x",
         "domain": [
          0,
          1
         ],
         "title": {
          "text": "count"
         }
        }
       }
      }
     },
     "metadata": {},
     "output_type": "display_data"
    },
    {
     "data": {
      "application/vnd.plotly.v1+json": {
       "config": {
        "plotlyServerURL": "https://plot.ly"
       },
       "data": [
        {
         "bingroup": "x",
         "hovertemplate": "Result=0<br>Total Proteins=%{x}<br>count=%{y}<extra></extra>",
         "legendgroup": "0",
         "marker": {
          "color": "#636efa",
          "opacity": 0.5,
          "pattern": {
           "shape": ""
          }
         },
         "name": "0",
         "orientation": "v",
         "showlegend": true,
         "type": "histogram",
         "x": {
          "bdata": "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",
          "dtype": "f8"
         },
         "xaxis": "x",
         "yaxis": "y"
        },
        {
         "bingroup": "x",
         "hovertemplate": "Result=1<br>Total Proteins=%{x}<br>count=%{y}<extra></extra>",
         "legendgroup": "1",
         "marker": {
          "color": "#EF553B",
          "opacity": 0.5,
          "pattern": {
           "shape": ""
          }
         },
         "name": "1",
         "orientation": "v",
         "showlegend": true,
         "type": "histogram",
         "x": {
          "bdata": "mpmZmZmZHUAAAAAAAAAcQAAAAAAAABZAMzMzMzMzHUAAAAAAAAAYQDMzMzMzMw9AAAAAAAAAGEDNzMzMzMwUQGZmZmZmZhZAZmZmZmZmFkDNzMzMzMwcQJqZmZmZmRNAZmZmZmZmGEAAAAAAAAAcQAAAAAAAABpAAAAAAAAAIEAAAAAAAAAWQAAAAAAAABZAMzMzMzMzGUDNzMzMzMwUQM3MzMzMzBhAmpmZmZmZFUDNzMzMzMwcQJqZmZmZmQ1AMzMzMzMzFUBmZmZmZmYYQGZmZmZmZhRAZmZmZmZmFEAAAAAAAAAYQAAAAAAAABhAmpmZmZmZF0AAAAAAAAAWQGZmZmZmZhhAzczMzMzMFkBmZmZmZmYWQJqZmZmZmRdAmpmZmZmZG0AzMzMzMzMPQDMzMzMzMxdAAAAAAAAAGkDNzMzMzMwYQJqZmZmZmRVAmpmZmZmZG0AAAAAAAAAaQGZmZmZmZg5AAAAAAAAAGEDNzMzMzMwUQAAAAAAAABhAzczMzMzMFkBmZmZmZmYYQGZmZmZmZhhAmpmZmZmZGUCamZmZmZkZQAAAAAAAABZAAAAAAAAAFEDNzMzMzMwYQDMzMzMzMxNAZmZmZmZmHEAzMzMzMzMVQM3MzMzMzBpAmpmZmZmZH0AzMzMzMzMdQAAAAAAAACBAAAAAAAAAHEDNzMzMzMwUQGZmZmZmZhxAmpmZmZmZGUCamZmZmZkdQAAAAAAAACBAAAAAAAAAGkBmZmZmZmYgQJqZmZmZmRlAmpmZmZmZHUAAAAAAAAAYQAAAAAAAACBAMzMzMzMzH0DNzMzMzMweQJqZmZmZmRtAmpmZmZmZHUBmZmZmZmYgQM3MzMzMzCBAmpmZmZmZH0AAAAAAAAAhQJqZmZmZmR9AzczMzMzMGkBmZmZmZmYcQDMzMzMzMyBAzczMzMzMGkDNzMzMzMwaQJqZmZmZmSBAZmZmZmZmHkAAAAAAAAAYQDMzMzMzMx1AmpmZmZmZF0AAAAAAAAAcQGZmZmZmZiBAZmZmZmZmGkAAAAAAAAAgQM3MzMzMzCBAMzMzMzMzG0DNzMzMzMwYQAAAAAAAACFAMzMzMzMzG0AzMzMzMzMVQM3MzMzMzBxAZmZmZmZmGEDNzMzMzMwcQGZmZmZmZh5AAAAAAAAAHEBmZmZmZmYYQDMzMzMzMx1AmpmZmZmZE0AAAAAAAAAeQDMzMzMzMxlAmpmZmZmZGUAzMzMzMzMZQM3MzMzMzBpAmpmZmZmZG0BmZmZmZmYSQM3MzMzMzBRAZmZmZmZmHEBmZmZmZmYcQAAAAAAAABpAZmZmZmZmFkCamZmZmZkbQM3MzMzMzBpAZmZmZmZmHkAAAAAAAAAeQGZmZmZmZhxAMzMzMzMzGUAzMzMzMzMdQAAAAAAAABxAmpmZmZmZHUCamZmZmZkbQAAAAAAAABJAZmZmZmZmFECamZmZmZkTQDMzMzMzMxtAZmZmZmZmGkAzMzMzMzMXQDMzMzMzMxtAAAAAAAAAGECamZmZmZkfQJqZmZmZmR9AMzMzMzMzH0AAAAAAAAAcQJqZmZmZmRdAMzMzMzMzG0DNzMzMzMwUQGZmZmZmZhhAZmZmZmZmIkAzMzMzMzMXQDMzMzMzMxtAAAAAAAAAIEAAAAAAAAAcQGZmZmZmZiBAAAAAAAAAIEDNzMzMzMwcQAAAAAAAABxAZmZmZmZmGkAzMzMzMzMdQAAAAAAAABJAzczMzMzMGECamZmZmZkXQDMzMzMzMx9AmpmZmZmZF0AzMzMzMzMdQA==",
          "dtype": "f8"
         },
         "xaxis": "x",
         "yaxis": "y"
        }
       ],
       "layout": {
        "barmode": "overlay",
        "legend": {
         "title": {
          "text": "Result"
         },
         "tracegroupgap": 0
        },
        "template": {
         "data": {
          "bar": [
           {
            "error_x": {
             "color": "#2a3f5f"
            },
            "error_y": {
             "color": "#2a3f5f"
            },
            "marker": {
             "line": {
              "color": "#E5ECF6",
              "width": 0.5
             },
             "pattern": {
              "fillmode": "overlay",
              "size": 10,
              "solidity": 0.2
             }
            },
            "type": "bar"
           }
          ],
          "barpolar": [
           {
            "marker": {
             "line": {
              "color": "#E5ECF6",
              "width": 0.5
             },
             "pattern": {
              "fillmode": "overlay",
              "size": 10,
              "solidity": 0.2
             }
            },
            "type": "barpolar"
           }
          ],
          "carpet": [
           {
            "aaxis": {
             "endlinecolor": "#2a3f5f",
             "gridcolor": "white",
             "linecolor": "white",
             "minorgridcolor": "white",
             "startlinecolor": "#2a3f5f"
            },
            "baxis": {
             "endlinecolor": "#2a3f5f",
             "gridcolor": "white",
             "linecolor": "white",
             "minorgridcolor": "white",
             "startlinecolor": "#2a3f5f"
            },
            "type": "carpet"
           }
          ],
          "choropleth": [
           {
            "colorbar": {
             "outlinewidth": 0,
             "ticks": ""
            },
            "type": "choropleth"
           }
          ],
          "contour": [
           {
            "colorbar": {
             "outlinewidth": 0,
             "ticks": ""
            },
            "colorscale": [
             [
              0,
              "#0d0887"
             ],
             [
              0.1111111111111111,
              "#46039f"
             ],
             [
              0.2222222222222222,
              "#7201a8"
             ],
             [
              0.3333333333333333,
              "#9c179e"
             ],
             [
              0.4444444444444444,
              "#bd3786"
             ],
             [
              0.5555555555555556,
              "#d8576b"
             ],
             [
              0.6666666666666666,
              "#ed7953"
             ],
             [
              0.7777777777777778,
              "#fb9f3a"
             ],
             [
              0.8888888888888888,
              "#fdca26"
             ],
             [
              1,
              "#f0f921"
             ]
            ],
            "type": "contour"
           }
          ],
          "contourcarpet": [
           {
            "colorbar": {
             "outlinewidth": 0,
             "ticks": ""
            },
            "type": "contourcarpet"
           }
          ],
          "heatmap": [
           {
            "colorbar": {
             "outlinewidth": 0,
             "ticks": ""
            },
            "colorscale": [
             [
              0,
              "#0d0887"
             ],
             [
              0.1111111111111111,
              "#46039f"
             ],
             [
              0.2222222222222222,
              "#7201a8"
             ],
             [
              0.3333333333333333,
              "#9c179e"
             ],
             [
              0.4444444444444444,
              "#bd3786"
             ],
             [
              0.5555555555555556,
              "#d8576b"
             ],
             [
              0.6666666666666666,
              "#ed7953"
             ],
             [
              0.7777777777777778,
              "#fb9f3a"
             ],
             [
              0.8888888888888888,
              "#fdca26"
             ],
             [
              1,
              "#f0f921"
             ]
            ],
            "type": "heatmap"
           }
          ],
          "histogram": [
           {
            "marker": {
             "pattern": {
              "fillmode": "overlay",
              "size": 10,
              "solidity": 0.2
             }
            },
            "type": "histogram"
           }
          ],
          "histogram2d": [
           {
            "colorbar": {
             "outlinewidth": 0,
             "ticks": ""
            },
            "colorscale": [
             [
              0,
              "#0d0887"
             ],
             [
              0.1111111111111111,
              "#46039f"
             ],
             [
              0.2222222222222222,
              "#7201a8"
             ],
             [
              0.3333333333333333,
              "#9c179e"
             ],
             [
              0.4444444444444444,
              "#bd3786"
             ],
             [
              0.5555555555555556,
              "#d8576b"
             ],
             [
              0.6666666666666666,
              "#ed7953"
             ],
             [
              0.7777777777777778,
              "#fb9f3a"
             ],
             [
              0.8888888888888888,
              "#fdca26"
             ],
             [
              1,
              "#f0f921"
             ]
            ],
            "type": "histogram2d"
           }
          ],
          "histogram2dcontour": [
           {
            "colorbar": {
             "outlinewidth": 0,
             "ticks": ""
            },
            "colorscale": [
             [
              0,
              "#0d0887"
             ],
             [
              0.1111111111111111,
              "#46039f"
             ],
             [
              0.2222222222222222,
              "#7201a8"
             ],
             [
              0.3333333333333333,
              "#9c179e"
             ],
             [
              0.4444444444444444,
              "#bd3786"
             ],
             [
              0.5555555555555556,
              "#d8576b"
             ],
             [
              0.6666666666666666,
              "#ed7953"
             ],
             [
              0.7777777777777778,
              "#fb9f3a"
             ],
             [
              0.8888888888888888,
              "#fdca26"
             ],
             [
              1,
              "#f0f921"
             ]
            ],
            "type": "histogram2dcontour"
           }
          ],
          "mesh3d": [
           {
            "colorbar": {
             "outlinewidth": 0,
             "ticks": ""
            },
            "type": "mesh3d"
           }
          ],
          "parcoords": [
           {
            "line": {
             "colorbar": {
              "outlinewidth": 0,
              "ticks": ""
             }
            },
            "type": "parcoords"
           }
          ],
          "pie": [
           {
            "automargin": true,
            "type": "pie"
           }
          ],
          "scatter": [
           {
            "fillpattern": {
             "fillmode": "overlay",
             "size": 10,
             "solidity": 0.2
            },
            "type": "scatter"
           }
          ],
          "scatter3d": [
           {
            "line": {
             "colorbar": {
              "outlinewidth": 0,
              "ticks": ""
             }
            },
            "marker": {
             "colorbar": {
              "outlinewidth": 0,
              "ticks": ""
             }
            },
            "type": "scatter3d"
           }
          ],
          "scattercarpet": [
           {
            "marker": {
             "colorbar": {
              "outlinewidth": 0,
              "ticks": ""
             }
            },
            "type": "scattercarpet"
           }
          ],
          "scattergeo": [
           {
            "marker": {
             "colorbar": {
              "outlinewidth": 0,
              "ticks": ""
             }
            },
            "type": "scattergeo"
           }
          ],
          "scattergl": [
           {
            "marker": {
             "colorbar": {
              "outlinewidth": 0,
              "ticks": ""
             }
            },
            "type": "scattergl"
           }
          ],
          "scattermap": [
           {
            "marker": {
             "colorbar": {
              "outlinewidth": 0,
              "ticks": ""
             }
            },
            "type": "scattermap"
           }
          ],
          "scattermapbox": [
           {
            "marker": {
             "colorbar": {
              "outlinewidth": 0,
              "ticks": ""
             }
            },
            "type": "scattermapbox"
           }
          ],
          "scatterpolar": [
           {
            "marker": {
             "colorbar": {
              "outlinewidth": 0,
              "ticks": ""
             }
            },
            "type": "scatterpolar"
           }
          ],
          "scatterpolargl": [
           {
            "marker": {
             "colorbar": {
              "outlinewidth": 0,
              "ticks": ""
             }
            },
            "type": "scatterpolargl"
           }
          ],
          "scatterternary": [
           {
            "marker": {
             "colorbar": {
              "outlinewidth": 0,
              "ticks": ""
             }
            },
            "type": "scatterternary"
           }
          ],
          "surface": [
           {
            "colorbar": {
             "outlinewidth": 0,
             "ticks": ""
            },
            "colorscale": [
             [
              0,
              "#0d0887"
             ],
             [
              0.1111111111111111,
              "#46039f"
             ],
             [
              0.2222222222222222,
              "#7201a8"
             ],
             [
              0.3333333333333333,
              "#9c179e"
             ],
             [
              0.4444444444444444,
              "#bd3786"
             ],
             [
              0.5555555555555556,
              "#d8576b"
             ],
             [
              0.6666666666666666,
              "#ed7953"
             ],
             [
              0.7777777777777778,
              "#fb9f3a"
             ],
             [
              0.8888888888888888,
              "#fdca26"
             ],
             [
              1,
              "#f0f921"
             ]
            ],
            "type": "surface"
           }
          ],
          "table": [
           {
            "cells": {
             "fill": {
              "color": "#EBF0F8"
             },
             "line": {
              "color": "white"
             }
            },
            "header": {
             "fill": {
              "color": "#C8D4E3"
             },
             "line": {
              "color": "white"
             }
            },
            "type": "table"
           }
          ]
         },
         "layout": {
          "annotationdefaults": {
           "arrowcolor": "#2a3f5f",
           "arrowhead": 0,
           "arrowwidth": 1
          },
          "autotypenumbers": "strict",
          "coloraxis": {
           "colorbar": {
            "outlinewidth": 0,
            "ticks": ""
           }
          },
          "colorscale": {
           "diverging": [
            [
             0,
             "#8e0152"
            ],
            [
             0.1,
             "#c51b7d"
            ],
            [
             0.2,
             "#de77ae"
            ],
            [
             0.3,
             "#f1b6da"
            ],
            [
             0.4,
             "#fde0ef"
            ],
            [
             0.5,
             "#f7f7f7"
            ],
            [
             0.6,
             "#e6f5d0"
            ],
            [
             0.7,
             "#b8e186"
            ],
            [
             0.8,
             "#7fbc41"
            ],
            [
             0.9,
             "#4d9221"
            ],
            [
             1,
             "#276419"
            ]
           ],
           "sequential": [
            [
             0,
             "#0d0887"
            ],
            [
             0.1111111111111111,
             "#46039f"
            ],
            [
             0.2222222222222222,
             "#7201a8"
            ],
            [
             0.3333333333333333,
             "#9c179e"
            ],
            [
             0.4444444444444444,
             "#bd3786"
            ],
            [
             0.5555555555555556,
             "#d8576b"
            ],
            [
             0.6666666666666666,
             "#ed7953"
            ],
            [
             0.7777777777777778,
             "#fb9f3a"
            ],
            [
             0.8888888888888888,
             "#fdca26"
            ],
            [
             1,
             "#f0f921"
            ]
           ],
           "sequentialminus": [
            [
             0,
             "#0d0887"
            ],
            [
             0.1111111111111111,
             "#46039f"
            ],
            [
             0.2222222222222222,
             "#7201a8"
            ],
            [
             0.3333333333333333,
             "#9c179e"
            ],
            [
             0.4444444444444444,
             "#bd3786"
            ],
            [
             0.5555555555555556,
             "#d8576b"
            ],
            [
             0.6666666666666666,
             "#ed7953"
            ],
            [
             0.7777777777777778,
             "#fb9f3a"
            ],
            [
             0.8888888888888888,
             "#fdca26"
            ],
            [
             1,
             "#f0f921"
            ]
           ]
          },
          "colorway": [
           "#636efa",
           "#EF553B",
           "#00cc96",
           "#ab63fa",
           "#FFA15A",
           "#19d3f3",
           "#FF6692",
           "#B6E880",
           "#FF97FF",
           "#FECB52"
          ],
          "font": {
           "color": "#2a3f5f"
          },
          "geo": {
           "bgcolor": "white",
           "lakecolor": "white",
           "landcolor": "#E5ECF6",
           "showlakes": true,
           "showland": true,
           "subunitcolor": "white"
          },
          "hoverlabel": {
           "align": "left"
          },
          "hovermode": "closest",
          "mapbox": {
           "style": "light"
          },
          "paper_bgcolor": "white",
          "plot_bgcolor": "#E5ECF6",
          "polar": {
           "angularaxis": {
            "gridcolor": "white",
            "linecolor": "white",
            "ticks": ""
           },
           "bgcolor": "#E5ECF6",
           "radialaxis": {
            "gridcolor": "white",
            "linecolor": "white",
            "ticks": ""
           }
          },
          "scene": {
           "xaxis": {
            "backgroundcolor": "#E5ECF6",
            "gridcolor": "white",
            "gridwidth": 2,
            "linecolor": "white",
            "showbackground": true,
            "ticks": "",
            "zerolinecolor": "white"
           },
           "yaxis": {
            "backgroundcolor": "#E5ECF6",
            "gridcolor": "white",
            "gridwidth": 2,
            "linecolor": "white",
            "showbackground": true,
            "ticks": "",
            "zerolinecolor": "white"
           },
           "zaxis": {
            "backgroundcolor": "#E5ECF6",
            "gridcolor": "white",
            "gridwidth": 2,
            "linecolor": "white",
            "showbackground": true,
            "ticks": "",
            "zerolinecolor": "white"
           }
          },
          "shapedefaults": {
           "line": {
            "color": "#2a3f5f"
           }
          },
          "ternary": {
           "aaxis": {
            "gridcolor": "white",
            "linecolor": "white",
            "ticks": ""
           },
           "baxis": {
            "gridcolor": "white",
            "linecolor": "white",
            "ticks": ""
           },
           "bgcolor": "#E5ECF6",
           "caxis": {
            "gridcolor": "white",
            "linecolor": "white",
            "ticks": ""
           }
          },
          "title": {
           "x": 0.05
          },
          "xaxis": {
           "automargin": true,
           "gridcolor": "white",
           "linecolor": "white",
           "ticks": "",
           "title": {
            "standoff": 15
           },
           "zerolinecolor": "white",
           "zerolinewidth": 2
          },
          "yaxis": {
           "automargin": true,
           "gridcolor": "white",
           "linecolor": "white",
           "ticks": "",
           "title": {
            "standoff": 15
           },
           "zerolinecolor": "white",
           "zerolinewidth": 2
          }
         }
        },
        "title": {
         "text": "Distribution of Total Proteins by Result"
        },
        "xaxis": {
         "anchor": "y",
         "domain": [
          0,
          1
         ],
         "title": {
          "text": "Total Proteins"
         }
        },
        "yaxis": {
         "anchor": "x",
         "domain": [
          0,
          1
         ],
         "title": {
          "text": "count"
         }
        }
       }
      }
     },
     "metadata": {},
     "output_type": "display_data"
    },
    {
     "data": {
      "application/vnd.plotly.v1+json": {
       "config": {
        "plotlyServerURL": "https://plot.ly"
       },
       "data": [
        {
         "bingroup": "x",
         "hovertemplate": "Result=0<br>ALB Albumin=%{x}<br>count=%{y}<extra></extra>",
         "legendgroup": "0",
         "marker": {
          "color": "#636efa",
          "opacity": 0.5,
          "pattern": {
           "shape": ""
          }
         },
         "name": "0",
         "orientation": "v",
         "showlegend": true,
         "type": "histogram",
         "x": {
          "bdata": "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",
          "dtype": "f8"
         },
         "xaxis": "x",
         "yaxis": "y"
        },
        {
         "bingroup": "x",
         "hovertemplate": "Result=1<br>ALB Albumin=%{x}<br>count=%{y}<extra></extra>",
         "legendgroup": "1",
         "marker": {
          "color": "#EF553B",
          "opacity": 0.5,
          "pattern": {
           "shape": ""
          }
         },
         "name": "1",
         "orientation": "v",
         "showlegend": true,
         "type": "histogram",
         "x": {
          "bdata": "ZmZmZmZmEEAzMzMzMzMLQGZmZmZmZgJAAAAAAAAADEAzMzMzMzMPQGZmZmZmZv4/mpmZmZmZCUAzMzMzMzMHQAAAAAAAAAhAAAAAAAAACEAzMzMzMzMPQM3MzMzMzARAZmZmZmZmAkDNzMzMzMwMQJqZmZmZmQlAAAAAAAAAEECamZmZmZkFQJqZmZmZmQlAAAAAAAAACEAAAAAAAAAEQGZmZmZmZg5AZmZmZmZmBkDNzMzMzMwMQJqZmZmZmfk/ZmZmZmZmAkBmZmZmZmYKQM3MzMzMzARAzczMzMzMBECamZmZmZkBQJqZmZmZmQFAZmZmZmZmBkBmZmZmZmYCQGZmZmZmZgpAZmZmZmZmAkBmZmZmZmYCQAAAAAAAAAxAZmZmZmZmEEAzMzMzMzP7PwAAAAAAAARAAAAAAAAADEBmZmZmZmYKQDMzMzMzMwdAZmZmZmZmDkDNzMzMzMwMQGZmZmZmZvY/AAAAAAAACEAAAAAAAAAEQM3MzMzMzAhAAAAAAAAACEAAAAAAAAAIQM3MzMzMzAhAAAAAAAAADEBmZmZmZmYKQM3MzMzMzAhAZmZmZmZmCkCamZmZmZkJQAAAAAAAAABAAAAAAAAAEkDNzMzMzMwEQGZmZmZmZg5AZmZmZmZmDkDNzMzMzMwSQAAAAAAAABBAMzMzMzMzD0CamZmZmZkFQM3MzMzMzBBAZmZmZmZmDkAzMzMzMzMRQAAAAAAAABBAmpmZmZmZCUBmZmZmZmYQQM3MzMzMzAxAzczMzMzMEEDNzMzMzMwAQAAAAAAAABBAzczMzMzMEEAzMzMzMzMRQJqZmZmZmRFAZmZmZmZmEECamZmZmZkRQM3MzMzMzBBAmpmZmZmZDUAzMzMzMzMTQAAAAAAAABJAmpmZmZmZDUCamZmZmZkNQM3MzMzMzBBAAAAAAAAADEDNzMzMzMwIQJqZmZmZmRFAMzMzMzMzD0AzMzMzMzMHQGZmZmZmZhBAzczMzMzMCEAAAAAAAAAQQAAAAAAAABRAzczMzMzMDEBmZmZmZmYSQJqZmZmZmRNAMzMzMzMzB0AzMzMzMzMHQJqZmZmZmRFAAAAAAAAADEAzMzMzMzMDQGZmZmZmZhBAMzMzMzMzB0CamZmZmZkRQDMzMzMzMxFAAAAAAAAAEEAAAAAAAAAIQJqZmZmZmQ1AAAAAAAAABEDNzMzMzMwQQJqZmZmZmQlAmpmZmZmZCUDNzMzMzMwMQJqZmZmZmQ1AMzMzMzMzB0DNzMzMzMwAQJqZmZmZmQFAzczMzMzMEECamZmZmZkNQDMzMzMzMw9AAAAAAAAABEBmZmZmZmYKQDMzMzMzMwdAZmZmZmZmDkDNzMzMzMwMQAAAAAAAABJAZmZmZmZmBkAAAAAAAAAQQAAAAAAAAAxAzczMzMzMCEAzMzMzMzMLQGZmZmZmZvY/AAAAAAAAAEBmZmZmZmb+P83MzMzMzAhAMzMzMzMzB0AzMzMzMzMDQDMzMzMzMw9AmpmZmZmZBUBmZmZmZmYQQM3MzMzMzBBAMzMzMzMzEUAAAAAAAAAMQJqZmZmZmQlAMzMzMzMzD0DNzMzMzMz8PwAAAAAAAAhAZmZmZmZmEkDNzMzMzMwEQJqZmZmZmQ1AMzMzMzMzD0BmZmZmZmYOQJqZmZmZmQlAAAAAAAAAEEAAAAAAAAAMQAAAAAAAAAhAAAAAAAAACEBmZmZmZmYQQJqZmZmZmQFAAAAAAAAACEAzMzMzMzMHQAAAAAAAABBAmpmZmZmZ+T+amZmZmZkRQA==",
          "dtype": "f8"
         },
         "xaxis": "x",
         "yaxis": "y"
        }
       ],
       "layout": {
        "barmode": "overlay",
        "legend": {
         "title": {
          "text": "Result"
         },
         "tracegroupgap": 0
        },
        "template": {
         "data": {
          "bar": [
           {
            "error_x": {
             "color": "#2a3f5f"
            },
            "error_y": {
             "color": "#2a3f5f"
            },
            "marker": {
             "line": {
              "color": "#E5ECF6",
              "width": 0.5
             },
             "pattern": {
              "fillmode": "overlay",
              "size": 10,
              "solidity": 0.2
             }
            },
            "type": "bar"
           }
          ],
          "barpolar": [
           {
            "marker": {
             "line": {
              "color": "#E5ECF6",
              "width": 0.5
             },
             "pattern": {
              "fillmode": "overlay",
              "size": 10,
              "solidity": 0.2
             }
            },
            "type": "barpolar"
           }
          ],
          "carpet": [
           {
            "aaxis": {
             "endlinecolor": "#2a3f5f",
             "gridcolor": "white",
             "linecolor": "white",
             "minorgridcolor": "white",
             "startlinecolor": "#2a3f5f"
            },
            "baxis": {
             "endlinecolor": "#2a3f5f",
             "gridcolor": "white",
             "linecolor": "white",
             "minorgridcolor": "white",
             "startlinecolor": "#2a3f5f"
            },
            "type": "carpet"
           }
          ],
          "choropleth": [
           {
            "colorbar": {
             "outlinewidth": 0,
             "ticks": ""
            },
            "type": "choropleth"
           }
          ],
          "contour": [
           {
            "colorbar": {
             "outlinewidth": 0,
             "ticks": ""
            },
            "colorscale": [
             [
              0,
              "#0d0887"
             ],
             [
              0.1111111111111111,
              "#46039f"
             ],
             [
              0.2222222222222222,
              "#7201a8"
             ],
             [
              0.3333333333333333,
              "#9c179e"
             ],
             [
              0.4444444444444444,
              "#bd3786"
             ],
             [
              0.5555555555555556,
              "#d8576b"
             ],
             [
              0.6666666666666666,
              "#ed7953"
             ],
             [
              0.7777777777777778,
              "#fb9f3a"
             ],
             [
              0.8888888888888888,
              "#fdca26"
             ],
             [
              1,
              "#f0f921"
             ]
            ],
            "type": "contour"
           }
          ],
          "contourcarpet": [
           {
            "colorbar": {
             "outlinewidth": 0,
             "ticks": ""
            },
            "type": "contourcarpet"
           }
          ],
          "heatmap": [
           {
            "colorbar": {
             "outlinewidth": 0,
             "ticks": ""
            },
            "colorscale": [
             [
              0,
              "#0d0887"
             ],
             [
              0.1111111111111111,
              "#46039f"
             ],
             [
              0.2222222222222222,
              "#7201a8"
             ],
             [
              0.3333333333333333,
              "#9c179e"
             ],
             [
              0.4444444444444444,
              "#bd3786"
             ],
             [
              0.5555555555555556,
              "#d8576b"
             ],
             [
              0.6666666666666666,
              "#ed7953"
             ],
             [
              0.7777777777777778,
              "#fb9f3a"
             ],
             [
              0.8888888888888888,
              "#fdca26"
             ],
             [
              1,
              "#f0f921"
             ]
            ],
            "type": "heatmap"
           }
          ],
          "histogram": [
           {
            "marker": {
             "pattern": {
              "fillmode": "overlay",
              "size": 10,
              "solidity": 0.2
             }
            },
            "type": "histogram"
           }
          ],
          "histogram2d": [
           {
            "colorbar": {
             "outlinewidth": 0,
             "ticks": ""
            },
            "colorscale": [
             [
              0,
              "#0d0887"
             ],
             [
              0.1111111111111111,
              "#46039f"
             ],
             [
              0.2222222222222222,
              "#7201a8"
             ],
             [
              0.3333333333333333,
              "#9c179e"
             ],
             [
              0.4444444444444444,
              "#bd3786"
             ],
             [
              0.5555555555555556,
              "#d8576b"
             ],
             [
              0.6666666666666666,
              "#ed7953"
             ],
             [
              0.7777777777777778,
              "#fb9f3a"
             ],
             [
              0.8888888888888888,
              "#fdca26"
             ],
             [
              1,
              "#f0f921"
             ]
            ],
            "type": "histogram2d"
           }
          ],
          "histogram2dcontour": [
           {
            "colorbar": {
             "outlinewidth": 0,
             "ticks": ""
            },
            "colorscale": [
             [
              0,
              "#0d0887"
             ],
             [
              0.1111111111111111,
              "#46039f"
             ],
             [
              0.2222222222222222,
              "#7201a8"
             ],
             [
              0.3333333333333333,
              "#9c179e"
             ],
             [
              0.4444444444444444,
              "#bd3786"
             ],
             [
              0.5555555555555556,
              "#d8576b"
             ],
             [
              0.6666666666666666,
              "#ed7953"
             ],
             [
              0.7777777777777778,
              "#fb9f3a"
             ],
             [
              0.8888888888888888,
              "#fdca26"
             ],
             [
              1,
              "#f0f921"
             ]
            ],
            "type": "histogram2dcontour"
           }
          ],
          "mesh3d": [
           {
            "colorbar": {
             "outlinewidth": 0,
             "ticks": ""
            },
            "type": "mesh3d"
           }
          ],
          "parcoords": [
           {
            "line": {
             "colorbar": {
              "outlinewidth": 0,
              "ticks": ""
             }
            },
            "type": "parcoords"
           }
          ],
          "pie": [
           {
            "automargin": true,
            "type": "pie"
           }
          ],
          "scatter": [
           {
            "fillpattern": {
             "fillmode": "overlay",
             "size": 10,
             "solidity": 0.2
            },
            "type": "scatter"
           }
          ],
          "scatter3d": [
           {
            "line": {
             "colorbar": {
              "outlinewidth": 0,
              "ticks": ""
             }
            },
            "marker": {
             "colorbar": {
              "outlinewidth": 0,
              "ticks": ""
             }
            },
            "type": "scatter3d"
           }
          ],
          "scattercarpet": [
           {
            "marker": {
             "colorbar": {
              "outlinewidth": 0,
              "ticks": ""
             }
            },
            "type": "scattercarpet"
           }
          ],
          "scattergeo": [
           {
            "marker": {
             "colorbar": {
              "outlinewidth": 0,
              "ticks": ""
             }
            },
            "type": "scattergeo"
           }
          ],
          "scattergl": [
           {
            "marker": {
             "colorbar": {
              "outlinewidth": 0,
              "ticks": ""
             }
            },
            "type": "scattergl"
           }
          ],
          "scattermap": [
           {
            "marker": {
             "colorbar": {
              "outlinewidth": 0,
              "ticks": ""
             }
            },
            "type": "scattermap"
           }
          ],
          "scattermapbox": [
           {
            "marker": {
             "colorbar": {
              "outlinewidth": 0,
              "ticks": ""
             }
            },
            "type": "scattermapbox"
           }
          ],
          "scatterpolar": [
           {
            "marker": {
             "colorbar": {
              "outlinewidth": 0,
              "ticks": ""
             }
            },
            "type": "scatterpolar"
           }
          ],
          "scatterpolargl": [
           {
            "marker": {
             "colorbar": {
              "outlinewidth": 0,
              "ticks": ""
             }
            },
            "type": "scatterpolargl"
           }
          ],
          "scatterternary": [
           {
            "marker": {
             "colorbar": {
              "outlinewidth": 0,
              "ticks": ""
             }
            },
            "type": "scatterternary"
           }
          ],
          "surface": [
           {
            "colorbar": {
             "outlinewidth": 0,
             "ticks": ""
            },
            "colorscale": [
             [
              0,
              "#0d0887"
             ],
             [
              0.1111111111111111,
              "#46039f"
             ],
             [
              0.2222222222222222,
              "#7201a8"
             ],
             [
              0.3333333333333333,
              "#9c179e"
             ],
             [
              0.4444444444444444,
              "#bd3786"
             ],
             [
              0.5555555555555556,
              "#d8576b"
             ],
             [
              0.6666666666666666,
              "#ed7953"
             ],
             [
              0.7777777777777778,
              "#fb9f3a"
             ],
             [
              0.8888888888888888,
              "#fdca26"
             ],
             [
              1,
              "#f0f921"
             ]
            ],
            "type": "surface"
           }
          ],
          "table": [
           {
            "cells": {
             "fill": {
              "color": "#EBF0F8"
             },
             "line": {
              "color": "white"
             }
            },
            "header": {
             "fill": {
              "color": "#C8D4E3"
             },
             "line": {
              "color": "white"
             }
            },
            "type": "table"
           }
          ]
         },
         "layout": {
          "annotationdefaults": {
           "arrowcolor": "#2a3f5f",
           "arrowhead": 0,
           "arrowwidth": 1
          },
          "autotypenumbers": "strict",
          "coloraxis": {
           "colorbar": {
            "outlinewidth": 0,
            "ticks": ""
           }
          },
          "colorscale": {
           "diverging": [
            [
             0,
             "#8e0152"
            ],
            [
             0.1,
             "#c51b7d"
            ],
            [
             0.2,
             "#de77ae"
            ],
            [
             0.3,
             "#f1b6da"
            ],
            [
             0.4,
             "#fde0ef"
            ],
            [
             0.5,
             "#f7f7f7"
            ],
            [
             0.6,
             "#e6f5d0"
            ],
            [
             0.7,
             "#b8e186"
            ],
            [
             0.8,
             "#7fbc41"
            ],
            [
             0.9,
             "#4d9221"
            ],
            [
             1,
             "#276419"
            ]
           ],
           "sequential": [
            [
             0,
             "#0d0887"
            ],
            [
             0.1111111111111111,
             "#46039f"
            ],
            [
             0.2222222222222222,
             "#7201a8"
            ],
            [
             0.3333333333333333,
             "#9c179e"
            ],
            [
             0.4444444444444444,
             "#bd3786"
            ],
            [
             0.5555555555555556,
             "#d8576b"
            ],
            [
             0.6666666666666666,
             "#ed7953"
            ],
            [
             0.7777777777777778,
             "#fb9f3a"
            ],
            [
             0.8888888888888888,
             "#fdca26"
            ],
            [
             1,
             "#f0f921"
            ]
           ],
           "sequentialminus": [
            [
             0,
             "#0d0887"
            ],
            [
             0.1111111111111111,
             "#46039f"
            ],
            [
             0.2222222222222222,
             "#7201a8"
            ],
            [
             0.3333333333333333,
             "#9c179e"
            ],
            [
             0.4444444444444444,
             "#bd3786"
            ],
            [
             0.5555555555555556,
             "#d8576b"
            ],
            [
             0.6666666666666666,
             "#ed7953"
            ],
            [
             0.7777777777777778,
             "#fb9f3a"
            ],
            [
             0.8888888888888888,
             "#fdca26"
            ],
            [
             1,
             "#f0f921"
            ]
           ]
          },
          "colorway": [
           "#636efa",
           "#EF553B",
           "#00cc96",
           "#ab63fa",
           "#FFA15A",
           "#19d3f3",
           "#FF6692",
           "#B6E880",
           "#FF97FF",
           "#FECB52"
          ],
          "font": {
           "color": "#2a3f5f"
          },
          "geo": {
           "bgcolor": "white",
           "lakecolor": "white",
           "landcolor": "#E5ECF6",
           "showlakes": true,
           "showland": true,
           "subunitcolor": "white"
          },
          "hoverlabel": {
           "align": "left"
          },
          "hovermode": "closest",
          "mapbox": {
           "style": "light"
          },
          "paper_bgcolor": "white",
          "plot_bgcolor": "#E5ECF6",
          "polar": {
           "angularaxis": {
            "gridcolor": "white",
            "linecolor": "white",
            "ticks": ""
           },
           "bgcolor": "#E5ECF6",
           "radialaxis": {
            "gridcolor": "white",
            "linecolor": "white",
            "ticks": ""
           }
          },
          "scene": {
           "xaxis": {
            "backgroundcolor": "#E5ECF6",
            "gridcolor": "white",
            "gridwidth": 2,
            "linecolor": "white",
            "showbackground": true,
            "ticks": "",
            "zerolinecolor": "white"
           },
           "yaxis": {
            "backgroundcolor": "#E5ECF6",
            "gridcolor": "white",
            "gridwidth": 2,
            "linecolor": "white",
            "showbackground": true,
            "ticks": "",
            "zerolinecolor": "white"
           },
           "zaxis": {
            "backgroundcolor": "#E5ECF6",
            "gridcolor": "white",
            "gridwidth": 2,
            "linecolor": "white",
            "showbackground": true,
            "ticks": "",
            "zerolinecolor": "white"
           }
          },
          "shapedefaults": {
           "line": {
            "color": "#2a3f5f"
           }
          },
          "ternary": {
           "aaxis": {
            "gridcolor": "white",
            "linecolor": "white",
            "ticks": ""
           },
           "baxis": {
            "gridcolor": "white",
            "linecolor": "white",
            "ticks": ""
           },
           "bgcolor": "#E5ECF6",
           "caxis": {
            "gridcolor": "white",
            "linecolor": "white",
            "ticks": ""
           }
          },
          "title": {
           "x": 0.05
          },
          "xaxis": {
           "automargin": true,
           "gridcolor": "white",
           "linecolor": "white",
           "ticks": "",
           "title": {
            "standoff": 15
           },
           "zerolinecolor": "white",
           "zerolinewidth": 2
          },
          "yaxis": {
           "automargin": true,
           "gridcolor": "white",
           "linecolor": "white",
           "ticks": "",
           "title": {
            "standoff": 15
           },
           "zerolinecolor": "white",
           "zerolinewidth": 2
          }
         }
        },
        "title": {
         "text": "Distribution of ALB Albumin by Result"
        },
        "xaxis": {
         "anchor": "y",
         "domain": [
          0,
          1
         ],
         "title": {
          "text": "ALB Albumin"
         }
        },
        "yaxis": {
         "anchor": "x",
         "domain": [
          0,
          1
         ],
         "title": {
          "text": "count"
         }
        }
       }
      }
     },
     "metadata": {},
     "output_type": "display_data"
    },
    {
     "data": {
      "application/vnd.plotly.v1+json": {
       "config": {
        "plotlyServerURL": "https://plot.ly"
       },
       "data": [
        {
         "bingroup": "x",
         "hovertemplate": "Result=0<br>A/G ratio Albumin and Globulin Ratio=%{x}<br>count=%{y}<extra></extra>",
         "legendgroup": "0",
         "marker": {
          "color": "#636efa",
          "opacity": 0.5,
          "pattern": {
           "shape": ""
          }
         },
         "name": "0",
         "orientation": "v",
         "showlegend": true,
         "type": "histogram",
         "x": {
          "bdata": "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",
          "dtype": "f8"
         },
         "xaxis": "x",
         "yaxis": "y"
        },
        {
         "bingroup": "x",
         "hovertemplate": "Result=1<br>A/G ratio Albumin and Globulin Ratio=%{x}<br>count=%{y}<extra></extra>",
         "legendgroup": "1",
         "marker": {
          "color": "#EF553B",
          "opacity": 0.5,
          "pattern": {
           "shape": ""
          }
         },
         "name": "1",
         "orientation": "v",
         "showlegend": true,
         "type": "histogram",
         "x": {
          "bdata": "MzMzMzMz8z/NzMzMzMzsP2ZmZmZmZuY/cT0K16Nw7T+amZmZmZn9P2ZmZmZmZu4/mpmZmZmZ8T8zMzMzMzPzP5qZmZmZmek/mpmZmZmZ6T/hehSuR+HyP5qZmZmZmfE/MzMzMzMz4z8AAAAAAADwP83MzMzMzOw/AAAAAAAA8D/NzMzMzMzsPz0K16NwPfY/zczMzMzM7D/NzMzMzMzsP0jhehSuR/k/AAAAAAAA8D8AAAAAAADwP1K4HoXrUeg/ZmZmZmZm5j8zMzMzMzPzPwAAAAAAAPA/AAAAAAAA8D8AAAAAAADgPwAAAAAAAOA/zczMzMzM7D+4HoXrUbjmP5qZmZmZmfE/cT0K16Nw5T8zMzMzMzPjP2ZmZmZmZvY/ZmZmZmZm9j9mZmZmZmbmPwAAAAAAAOg/j8L1KFyP8j+amZmZmZnxP5qZmZmZmfE/MzMzMzMz8z8zMzMzMzPzP4/C9Shcj+I/AAAAAAAA8D/NzMzMzMzsP/YoXI/C9fA/mpmZmZmZ8T/NzMzMzMzsP3sUrkfhevA/MzMzMzMz8z8AAAAAAADwPzMzMzMzM/M/ZmZmZmZm/j8AAAAAAADwP2ZmZmZmZuY/MzMzMzMz+z/NzMzMzMzsP83MzMzMzPQ/zczMzMzM7D/NzMzMzMz8PwAAAAAAAPA/MzMzMzMz8z8AAAAAAAD4f2ZmZmZmZvY/ZmZmZmZm9j8UrkfhehT2PwAAAAAAAPA/zczMzMzM7D8AAAAAAADwPzMzMzMzM/M/zczMzMzM9D8AAAAAAADgPwAAAAAAAPA/mpmZmZmZ8T8zMzMzMzPzPzMzMzMzM/s/MzMzMzMz8z+amZmZmZnxPwAAAAAAAPA/zczMzMzM7D8AAAAAAAD4f83MzMzMzPQ/MzMzMzMz8z8AAAAAAADwPwAAAAAAAPA/mpmZmZmZ8T+amZmZmZnpP5qZmZmZmfE/AAAAAAAA8D/NzMzMzMzsPzMzMzMzM/M/mpmZmZmZ8T/NzMzMzMz0PwAAAAAAAPg/MzMzMzMz8z/NzMzMzMz0P2ZmZmZmZvY/ZmZmZmZm5j+amZmZmZnpPwAAAAAAAPA/AAAAAAAA8D+amZmZmZnpP83MzMzMzPQ/zczMzMzM7D8AAAAAAAD4P83MzMzMzPQ/zczMzMzM9D/NzMzMzMzsPwAAAAAAAPA/AAAAAAAA8D8zMzMzMzPzPwAAAAAAAPA/AAAAAAAA8D/NzMzMzMz0PzMzMzMzM/M/ZmZmZmZm5j+amZmZmZnpP2ZmZmZmZuY/ZmZmZmZm9j8AAAAAAADwPwAAAAAAAPg/mpmZmZmZ6T/NzMzMzMzsP1K4HoXrUeg/AAAAAAAA8D9xPQrXo3DtPzMzMzMzM/s/mpmZmZmZ6T8zMzMzMzPzPwAAAAAAAPA/ZmZmZmZm5j/NzMzMzMzsP83MzMzMzNw/AAAAAAAA4D8zMzMzMzPjP5qZmZmZmek/ZmZmZmZm5j9mZmZmZmbmP83MzMzMzPQ/mpmZmZmZ6T8AAAAAAADwP5qZmZmZmfE/MzMzMzMz8z8AAAAAAADwP+F6FK5H4fI/mpmZmZmZ/T+kcD0K16PgP7gehetRuO4/AAAAAAAA8D+amZmZmZnpP5qZmZmZmfE/zczMzMzM7D+amZmZmZnxPzMzMzMzM+M/AAAAAAAA8D/NzMzMzMzsP2ZmZmZmZuY/mpmZmZmZ6T8zMzMzMzPzP83MzMzMzOw/zczMzMzM7D/NzMzMzMzsPwAAAAAAAPA/rkfhehSu1z8AAAAAAAD4Pw==",
          "dtype": "f8"
         },
         "xaxis": "x",
         "yaxis": "y"
        }
       ],
       "layout": {
        "barmode": "overlay",
        "legend": {
         "title": {
          "text": "Result"
         },
         "tracegroupgap": 0
        },
        "template": {
         "data": {
          "bar": [
           {
            "error_x": {
             "color": "#2a3f5f"
            },
            "error_y": {
             "color": "#2a3f5f"
            },
            "marker": {
             "line": {
              "color": "#E5ECF6",
              "width": 0.5
             },
             "pattern": {
              "fillmode": "overlay",
              "size": 10,
              "solidity": 0.2
             }
            },
            "type": "bar"
           }
          ],
          "barpolar": [
           {
            "marker": {
             "line": {
              "color": "#E5ECF6",
              "width": 0.5
             },
             "pattern": {
              "fillmode": "overlay",
              "size": 10,
              "solidity": 0.2
             }
            },
            "type": "barpolar"
           }
          ],
          "carpet": [
           {
            "aaxis": {
             "endlinecolor": "#2a3f5f",
             "gridcolor": "white",
             "linecolor": "white",
             "minorgridcolor": "white",
             "startlinecolor": "#2a3f5f"
            },
            "baxis": {
             "endlinecolor": "#2a3f5f",
             "gridcolor": "white",
             "linecolor": "white",
             "minorgridcolor": "white",
             "startlinecolor": "#2a3f5f"
            },
            "type": "carpet"
           }
          ],
          "choropleth": [
           {
            "colorbar": {
             "outlinewidth": 0,
             "ticks": ""
            },
            "type": "choropleth"
           }
          ],
          "contour": [
           {
            "colorbar": {
             "outlinewidth": 0,
             "ticks": ""
            },
            "colorscale": [
             [
              0,
              "#0d0887"
             ],
             [
              0.1111111111111111,
              "#46039f"
             ],
             [
              0.2222222222222222,
              "#7201a8"
             ],
             [
              0.3333333333333333,
              "#9c179e"
             ],
             [
              0.4444444444444444,
              "#bd3786"
             ],
             [
              0.5555555555555556,
              "#d8576b"
             ],
             [
              0.6666666666666666,
              "#ed7953"
             ],
             [
              0.7777777777777778,
              "#fb9f3a"
             ],
             [
              0.8888888888888888,
              "#fdca26"
             ],
             [
              1,
              "#f0f921"
             ]
            ],
            "type": "contour"
           }
          ],
          "contourcarpet": [
           {
            "colorbar": {
             "outlinewidth": 0,
             "ticks": ""
            },
            "type": "contourcarpet"
           }
          ],
          "heatmap": [
           {
            "colorbar": {
             "outlinewidth": 0,
             "ticks": ""
            },
            "colorscale": [
             [
              0,
              "#0d0887"
             ],
             [
              0.1111111111111111,
              "#46039f"
             ],
             [
              0.2222222222222222,
              "#7201a8"
             ],
             [
              0.3333333333333333,
              "#9c179e"
             ],
             [
              0.4444444444444444,
              "#bd3786"
             ],
             [
              0.5555555555555556,
              "#d8576b"
             ],
             [
              0.6666666666666666,
              "#ed7953"
             ],
             [
              0.7777777777777778,
              "#fb9f3a"
             ],
             [
              0.8888888888888888,
              "#fdca26"
             ],
             [
              1,
              "#f0f921"
             ]
            ],
            "type": "heatmap"
           }
          ],
          "histogram": [
           {
            "marker": {
             "pattern": {
              "fillmode": "overlay",
              "size": 10,
              "solidity": 0.2
             }
            },
            "type": "histogram"
           }
          ],
          "histogram2d": [
           {
            "colorbar": {
             "outlinewidth": 0,
             "ticks": ""
            },
            "colorscale": [
             [
              0,
              "#0d0887"
             ],
             [
              0.1111111111111111,
              "#46039f"
             ],
             [
              0.2222222222222222,
              "#7201a8"
             ],
             [
              0.3333333333333333,
              "#9c179e"
             ],
             [
              0.4444444444444444,
              "#bd3786"
             ],
             [
              0.5555555555555556,
              "#d8576b"
             ],
             [
              0.6666666666666666,
              "#ed7953"
             ],
             [
              0.7777777777777778,
              "#fb9f3a"
             ],
             [
              0.8888888888888888,
              "#fdca26"
             ],
             [
              1,
              "#f0f921"
             ]
            ],
            "type": "histogram2d"
           }
          ],
          "histogram2dcontour": [
           {
            "colorbar": {
             "outlinewidth": 0,
             "ticks": ""
            },
            "colorscale": [
             [
              0,
              "#0d0887"
             ],
             [
              0.1111111111111111,
              "#46039f"
             ],
             [
              0.2222222222222222,
              "#7201a8"
             ],
             [
              0.3333333333333333,
              "#9c179e"
             ],
             [
              0.4444444444444444,
              "#bd3786"
             ],
             [
              0.5555555555555556,
              "#d8576b"
             ],
             [
              0.6666666666666666,
              "#ed7953"
             ],
             [
              0.7777777777777778,
              "#fb9f3a"
             ],
             [
              0.8888888888888888,
              "#fdca26"
             ],
             [
              1,
              "#f0f921"
             ]
            ],
            "type": "histogram2dcontour"
           }
          ],
          "mesh3d": [
           {
            "colorbar": {
             "outlinewidth": 0,
             "ticks": ""
            },
            "type": "mesh3d"
           }
          ],
          "parcoords": [
           {
            "line": {
             "colorbar": {
              "outlinewidth": 0,
              "ticks": ""
             }
            },
            "type": "parcoords"
           }
          ],
          "pie": [
           {
            "automargin": true,
            "type": "pie"
           }
          ],
          "scatter": [
           {
            "fillpattern": {
             "fillmode": "overlay",
             "size": 10,
             "solidity": 0.2
            },
            "type": "scatter"
           }
          ],
          "scatter3d": [
           {
            "line": {
             "colorbar": {
              "outlinewidth": 0,
              "ticks": ""
             }
            },
            "marker": {
             "colorbar": {
              "outlinewidth": 0,
              "ticks": ""
             }
            },
            "type": "scatter3d"
           }
          ],
          "scattercarpet": [
           {
            "marker": {
             "colorbar": {
              "outlinewidth": 0,
              "ticks": ""
             }
            },
            "type": "scattercarpet"
           }
          ],
          "scattergeo": [
           {
            "marker": {
             "colorbar": {
              "outlinewidth": 0,
              "ticks": ""
             }
            },
            "type": "scattergeo"
           }
          ],
          "scattergl": [
           {
            "marker": {
             "colorbar": {
              "outlinewidth": 0,
              "ticks": ""
             }
            },
            "type": "scattergl"
           }
          ],
          "scattermap": [
           {
            "marker": {
             "colorbar": {
              "outlinewidth": 0,
              "ticks": ""
             }
            },
            "type": "scattermap"
           }
          ],
          "scattermapbox": [
           {
            "marker": {
             "colorbar": {
              "outlinewidth": 0,
              "ticks": ""
             }
            },
            "type": "scattermapbox"
           }
          ],
          "scatterpolar": [
           {
            "marker": {
             "colorbar": {
              "outlinewidth": 0,
              "ticks": ""
             }
            },
            "type": "scatterpolar"
           }
          ],
          "scatterpolargl": [
           {
            "marker": {
             "colorbar": {
              "outlinewidth": 0,
              "ticks": ""
             }
            },
            "type": "scatterpolargl"
           }
          ],
          "scatterternary": [
           {
            "marker": {
             "colorbar": {
              "outlinewidth": 0,
              "ticks": ""
             }
            },
            "type": "scatterternary"
           }
          ],
          "surface": [
           {
            "colorbar": {
             "outlinewidth": 0,
             "ticks": ""
            },
            "colorscale": [
             [
              0,
              "#0d0887"
             ],
             [
              0.1111111111111111,
              "#46039f"
             ],
             [
              0.2222222222222222,
              "#7201a8"
             ],
             [
              0.3333333333333333,
              "#9c179e"
             ],
             [
              0.4444444444444444,
              "#bd3786"
             ],
             [
              0.5555555555555556,
              "#d8576b"
             ],
             [
              0.6666666666666666,
              "#ed7953"
             ],
             [
              0.7777777777777778,
              "#fb9f3a"
             ],
             [
              0.8888888888888888,
              "#fdca26"
             ],
             [
              1,
              "#f0f921"
             ]
            ],
            "type": "surface"
           }
          ],
          "table": [
           {
            "cells": {
             "fill": {
              "color": "#EBF0F8"
             },
             "line": {
              "color": "white"
             }
            },
            "header": {
             "fill": {
              "color": "#C8D4E3"
             },
             "line": {
              "color": "white"
             }
            },
            "type": "table"
           }
          ]
         },
         "layout": {
          "annotationdefaults": {
           "arrowcolor": "#2a3f5f",
           "arrowhead": 0,
           "arrowwidth": 1
          },
          "autotypenumbers": "strict",
          "coloraxis": {
           "colorbar": {
            "outlinewidth": 0,
            "ticks": ""
           }
          },
          "colorscale": {
           "diverging": [
            [
             0,
             "#8e0152"
            ],
            [
             0.1,
             "#c51b7d"
            ],
            [
             0.2,
             "#de77ae"
            ],
            [
             0.3,
             "#f1b6da"
            ],
            [
             0.4,
             "#fde0ef"
            ],
            [
             0.5,
             "#f7f7f7"
            ],
            [
             0.6,
             "#e6f5d0"
            ],
            [
             0.7,
             "#b8e186"
            ],
            [
             0.8,
             "#7fbc41"
            ],
            [
             0.9,
             "#4d9221"
            ],
            [
             1,
             "#276419"
            ]
           ],
           "sequential": [
            [
             0,
             "#0d0887"
            ],
            [
             0.1111111111111111,
             "#46039f"
            ],
            [
             0.2222222222222222,
             "#7201a8"
            ],
            [
             0.3333333333333333,
             "#9c179e"
            ],
            [
             0.4444444444444444,
             "#bd3786"
            ],
            [
             0.5555555555555556,
             "#d8576b"
            ],
            [
             0.6666666666666666,
             "#ed7953"
            ],
            [
             0.7777777777777778,
             "#fb9f3a"
            ],
            [
             0.8888888888888888,
             "#fdca26"
            ],
            [
             1,
             "#f0f921"
            ]
           ],
           "sequentialminus": [
            [
             0,
             "#0d0887"
            ],
            [
             0.1111111111111111,
             "#46039f"
            ],
            [
             0.2222222222222222,
             "#7201a8"
            ],
            [
             0.3333333333333333,
             "#9c179e"
            ],
            [
             0.4444444444444444,
             "#bd3786"
            ],
            [
             0.5555555555555556,
             "#d8576b"
            ],
            [
             0.6666666666666666,
             "#ed7953"
            ],
            [
             0.7777777777777778,
             "#fb9f3a"
            ],
            [
             0.8888888888888888,
             "#fdca26"
            ],
            [
             1,
             "#f0f921"
            ]
           ]
          },
          "colorway": [
           "#636efa",
           "#EF553B",
           "#00cc96",
           "#ab63fa",
           "#FFA15A",
           "#19d3f3",
           "#FF6692",
           "#B6E880",
           "#FF97FF",
           "#FECB52"
          ],
          "font": {
           "color": "#2a3f5f"
          },
          "geo": {
           "bgcolor": "white",
           "lakecolor": "white",
           "landcolor": "#E5ECF6",
           "showlakes": true,
           "showland": true,
           "subunitcolor": "white"
          },
          "hoverlabel": {
           "align": "left"
          },
          "hovermode": "closest",
          "mapbox": {
           "style": "light"
          },
          "paper_bgcolor": "white",
          "plot_bgcolor": "#E5ECF6",
          "polar": {
           "angularaxis": {
            "gridcolor": "white",
            "linecolor": "white",
            "ticks": ""
           },
           "bgcolor": "#E5ECF6",
           "radialaxis": {
            "gridcolor": "white",
            "linecolor": "white",
            "ticks": ""
           }
          },
          "scene": {
           "xaxis": {
            "backgroundcolor": "#E5ECF6",
            "gridcolor": "white",
            "gridwidth": 2,
            "linecolor": "white",
            "showbackground": true,
            "ticks": "",
            "zerolinecolor": "white"
           },
           "yaxis": {
            "backgroundcolor": "#E5ECF6",
            "gridcolor": "white",
            "gridwidth": 2,
            "linecolor": "white",
            "showbackground": true,
            "ticks": "",
            "zerolinecolor": "white"
           },
           "zaxis": {
            "backgroundcolor": "#E5ECF6",
            "gridcolor": "white",
            "gridwidth": 2,
            "linecolor": "white",
            "showbackground": true,
            "ticks": "",
            "zerolinecolor": "white"
           }
          },
          "shapedefaults": {
           "line": {
            "color": "#2a3f5f"
           }
          },
          "ternary": {
           "aaxis": {
            "gridcolor": "white",
            "linecolor": "white",
            "ticks": ""
           },
           "baxis": {
            "gridcolor": "white",
            "linecolor": "white",
            "ticks": ""
           },
           "bgcolor": "#E5ECF6",
           "caxis": {
            "gridcolor": "white",
            "linecolor": "white",
            "ticks": ""
           }
          },
          "title": {
           "x": 0.05
          },
          "xaxis": {
           "automargin": true,
           "gridcolor": "white",
           "linecolor": "white",
           "ticks": "",
           "title": {
            "standoff": 15
           },
           "zerolinecolor": "white",
           "zerolinewidth": 2
          },
          "yaxis": {
           "automargin": true,
           "gridcolor": "white",
           "linecolor": "white",
           "ticks": "",
           "title": {
            "standoff": 15
           },
           "zerolinecolor": "white",
           "zerolinewidth": 2
          }
         }
        },
        "title": {
         "text": "Distribution of A/G ratio Albumin and Globulin Ratio by Result"
        },
        "xaxis": {
         "anchor": "y",
         "domain": [
          0,
          1
         ],
         "title": {
          "text": "A/G ratio Albumin and Globulin Ratio"
         }
        },
        "yaxis": {
         "anchor": "x",
         "domain": [
          0,
          1
         ],
         "title": {
          "text": "count"
         }
        }
       }
      }
     },
     "metadata": {},
     "output_type": "display_data"
    }
   ],
   "source": [
    "numerical_columns = ['Age', 'Total Bilirubin', 'Direct Bilirubin',\n",
    "       'Alkaline Phosphotase', 'Sgpt Alamine Aminotransferase',\n",
    "       'Sgot Aspartate Aminotransferase', 'Total Proteins', 'ALB Albumin',\n",
    "       'A/G ratio Albumin and Globulin Ratio']\n",
    "for col in numerical_columns:\n",
    "    fig = px.histogram(data, x=col, color=\"Result\", barmode=\"overlay\",\n",
    "                       title=f\"Distribution of {col} by Result\")\n",
    "    fig.show()"
   ]
  },
  {
   "cell_type": "code",
   "execution_count": 57,
   "metadata": {},
   "outputs": [
    {
     "data": {
      "application/vnd.plotly.v1+json": {
       "config": {
        "plotlyServerURL": "https://plot.ly"
       },
       "data": [
        {
         "dimensions": [
          {
           "axis": {
            "matches": true
           },
           "label": "Age",
           "values": {
            "bdata": "QT4+OkguGh0RNzlIQEo9GSYhKCgzMz4oPyIiIhRUOTQ5JiYeES4wLy0+KjJVIxUoIDctIiYmKiohMDNAHzo6OTk5NiVCPBNLSzREHR9ERjo6HTEhIA4NOhI8PDw8PDxLJycSEhsbETc/JCQkJCQYMBtKMjIwICAgICA6QBw8MEA6LS1GEjUSQi4SEg88Qh4eLUFCQTI8ODIuNCIiIEhIMjw8PCcnMDcvPDxILDcfHx83S0tLS0tBKEAmPDw8MDw8PDExPDwaKQcxMSYVFS0oKEYtHCoWCCZCNzEGJSUvLzJGGhpEQS49PTIhKDwWIyMoMDMdHDY2NzcoISEhQSMmJjIsJCoqIRImJgQ+KygaJQQVHiEaIzwtMDoyMhISDSIrMjktPC0XFhZKGR8YOjMyMjc2MB4tMDM2Gx4aFiwjJg4eHiQMPCokGCsVGhoaJA0NS0tLS0skI0YlPC4mRjElJRowMBMhISVFGEE3KhUoEDwqOjYhMBk4LyEUMkgyJzo8IjImMy5ISEspKTAtSk4mG0IyKkEWHy0MMDASF0EwQUZGCzI3NxopNSA6LUE0STUvHSkeERcjQSoxKioqPRE2LTAwQSM6LhwVID0aQRYcJhktLRwcQkJCMSoqIyYmNyEhBy0tHj4WKiA8QTUbI0EZIBhDRDdGJCo1ICA4Mi4uJS04RTExPBwtIz43LjIdNS4oLTcWKD4uJzwuCjRBKio+KDYtLTIqKC4dLS5JNzMzMxpCQkJAJisyNBQQEFogICAgICA8KDQfJg==",
            "dtype": "i1"
           }
          },
          {
           "axis": {
            "matches": true
           },
           "label": "Total Bilirubin",
           "values": {
            "bdata": "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",
            "dtype": "f8"
           }
          },
          {
           "axis": {
            "matches": true
           },
           "label": "Direct Bilirubin",
           "values": {
            "bdata": "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",
            "dtype": "f8"
           }
          },
          {
           "axis": {
            "matches": true
           },
           "label": "Alkaline Phosphotase",
           "values": {
            "bdata": "uwC7AuoBtgDDANAAmgDKAMoAIgHSAAQBNgHWAJEAtwBWAaUAJQElAWIC4gEeAucAwgAhASEB8ACAALwAvgCcALsAmgGaAeIBkQB2AQcBEwGoAKAAdgKfAdAAEwGWAOYAsADOAKoAoQD9AMYAEAEQAcYArwBvAZEAngCeAJ4A0AADAdYBwwDXAO8A1wC6ALwAzQCrAJEAogAGAlQGkgCeApMDSwCUAAIB7QANAUABKgEaAu4A1gA0ASoBzACoABoBKgHXAAkBOAGhAPMA4ADhAKoAkQCRAJ4AngDmAbwAAQGzABABlQIsBl4GwgAYASoBLAEiAbwAsgCxAMkAIgP4AGgHBwEAAu0AxwDuALIAVgQ2ARoBGgF8AboAnwBMAUwBvQDJAKgAiAHKAB4BtADaALYAsgAiASoBzgHEAMQAGgHuAhoEVwK0ALQAGgFMASQBwgO2A8gAKgHuAq8ArwDGAOIB/AMyAoIB+gDaAKoAqwDJACoB7gK/AGYC2gA6AQEBEAHOANEAZASYAo4AqQCMBdoA2gCRAI4AhwCjAB0BXgHcAL0AvgDbAKAAkQG0AGQAdACfACEBfQCTAMAACQGvAJABeACtALoAygAiAcQAGgGdAD4IHQFoASwBngC+AMQApQDmAM0APAHaACIBEAG+AMoA8gHgAagCAgG0AJgAWwOFA08BtgAdAfUA+QHkALkA9wBcAcMAjABmAW4A6wDMAXwBBgHEALQAvgC+ANEAkAB7AMAAvAA8ASwBPwLAAJsA7wA7AfoArgD1AL8AVAHKAOoAnwC+AMMAtAAYAa4BzgCbAMMATAKuAKUADwKvAD4CagCeAMMAswC2AMYA2AA2AT8AxgDNAC4BqwCeAGYBrgDAANMAnQDSAAIBmABeAbYAygF3AZUB1wDOAIoCxgDGAMMA5gBzANgAZgGeAJEAwwCQAG0ClgCyAAABzQCwAJIA2gC2ANcApQC3ALAAogEPAbYAggAuAocARgGMAJEAzgCoAMoAwAC5AEsBvACsAJ8A6gGYAGkAoACgAGYAlACiAJUARAI2AYwArwCYANAAzQCiAFwAogDHAMYA1wC0AM8CKgIrAtcA/QG+ANAABAGyAl4DUALCAUYFRgWjAPYAsgDwAGQApgCqAMIA1ga2AOwApQDJAMIAzgDUAJ0AogCoAMYAJAEqAZgAowAXAbUADgaOAK0AGgEXAUwE4ACfALoAvQDAAIwArgLXADUBbgCCAKQADgGJAFoAvgClAKcAuQDFAJoA4gA2ATYB3ADEALoAYAEaAVwAtgBnAFIDwwAUAasAkgDBALQAJQMJAbkApQC9AMYAlwBdAW0BMQF/AO4A2gDbAO8AwgDCAf4AzQBAAcMA1wDmAL0AqADXANIAbADgAOYAuQCJAJwA0gAMASoBOwHWAIoAHQGiACoB5gDSAeMAiwFhAJYBcgDGAK0AzABeAZkAvAB8AdYAAAOsAKAAxADoANwAIgG0AL0AEwGGAWQBOwGEASoBpQCPAL8A+wDIAAwB7ADXAIYAZAIDAjACIQG+APQBYgD1ALgA2AA=",
            "dtype": "i2"
           }
          },
          {
           "axis": {
            "matches": true
           },
           "label": "Sgpt Alamine Aminotransferase",
           "values": {
            "bdata": "EABAADwADgAbABMAEAAOABYANQAzAB8APQAWADUAWwCoAA8A6ADoABEAFgB0ABAANABrA2sDkAYUAA0ALQAjABMAOwA7AGYAEgAmACYAewAhACoAGQCXAREAMAAkAF4GJwBAABUADwBQAFYAHwAfABoAGAAqABQAFQAlACUAIwAoAD4ANwA1ABsAGACmABQAGwAWABQANAC9AF8ADAAwADwAGQAOAMIALQA6ABwAIQAhAHcAnAGUAZwB3AB+ABkAZgC+AGEANAEbABUAJAAOABUAIAAgAB0AHQAZAAsAIQA/ABgAtQBYAEoA0AdGBeIE4gFCATwAEQAkAC0AhQAuAD0AOQAyABIAIgARACMA4gQ+AEgASAAZABQADwBUAFQAPwASABUAFAAUABUAHgASABQAGgAtADoARgAUABQAJACMAGMAKwAqACoADQAoAEAANQAhABwAegEjADAAMAArAHAARwAlAB4AFwAhACQAFAASADwATwByACoAIAB2AGsATwAeADAAHgA0AAwAFgAWAzIAMgATABsAGwAcADIAtgM1ABcAFAA8AFIAGQASABEAJAAeACYAKQAbACYAKAAUADgALQAmABIAGgAaAD0AVQCVADAAIADmADkAFAAoAEUAIAAYAB4AGQAUAA8AFgAZACUAHAAmACUAMAAMAFoAWQAXAJQAHwBBADgAzQA3ABkANwAeACYADAAyAA8AYACYAIYBDwAZABYAGQAtABkAEgA4ABIADAAKAB4AHQAPAA8AEAB4ADAAIAAWACUAGQBOABAAGAAaACgAIAAVABwAEgAVACQASgAVABYAsgAwACsAGQAZABgAEgAdACoAswAVAB8AHgAkAC8AKgAbAKAACwAdAA4ANgA+AFAAFQARABgAxgBVAE8AMgAsAEYAJAAoADwAIAAOAF0BEwATAD4AKQAkAG4AGQANABUAMgAcACoALwAXABUAGgAhABwAHAAtABYAGAAeAB4AHQAgABoAIAAjAAwAFAAQACQAHAAbAAoAcwAdABkAIgAfAB8AFwAZAF4AjgAlABgAHgAcABkAiQAYACwAmwATABQADwASAJ0AjQAcAbgBHAAhAA8AHABdAEwAGgBFADQAMAAwACIALAAMADsAMQAhAAoAZgAUAAoANwAfACAAHAApAA8AHgAZABcAHQA0ACMAEgAoACMAqQEaABoAMgAUABkAKAAPABkAFgAcACUAEACfADcAFgAXABUAFwAWABIAHgAWAA0AEQBAACYAIQB3AA8AGABuAgsDHACEAFsALgASAJoAEgBmAB8AEQBgADgAhQAeAMQAHwA0ACoAEgAoAD4AHAAdACcAJwBfACsAvgB3AIwAHwAlABYAIAAwAEEAEAAyAEoAqABFAA4AGAAPAAwAIwAVAEQADAA2AA4AbgAMAP0BWAAuAEMAGQBVABgAFQAdAC4AFwBDACkALwAnADwASgAZABQAHQA6ABQAiwAZAFAAfgFLAEEB6QCtAB8AFgAWABYAFABbANUAgwAuADYAMgAwACkAOgAcABQAIwAwAB0AFQA=",
            "dtype": "i2"
           }
          },
          {
           "axis": {
            "matches": true
           },
           "label": "Sgot Aspartate Aminotransferase",
           "values": {
            "bdata": "EgBkAEQAFAA7AA4ADAALABMAOgA7ADgAOgAeACkANQC5ARcA9QD1ABwAIgBCADcALQDbAtsCUgMeABUAbwAsABcAOQA5AFAAJABNAEIASQAyAG4ALwBAAg8AsgAbAMADHACyAA4AEwCWAZYAPQA9ABcANgASABgAEAArACsAYQBWAFgAXwA6ABoAEQCNAR0AGAAQABYAKQARAH8AGABPAI4AGgAMAJgAHwAtADgAOwAiAF4BUgMaA1IDkAHKABcAdgK2A6EAlQEcABcALQAXABwAXABcACcAJwAiAAoAdAAnAGIAHQFAAJUAggtABhoEEwFxAFQAEgAdABkAWAAoAFMAQQA6ABwAHwAOACQAQRNaAIwAjABCABUAHgCLAIsAVwAWACYAHgAaABsAKgAUACgAGwDpAIoAUgAjACMAIABeAbsAQgA+AD4ASgBCAEMAKQAgACUAWgI/ACIAIgAfAGMAKgAdABkAHQAlACsAEQATAGcAkQD3ACYAHAByAGgAMwAZACAANgBoACAAEgAaBDUANQAXABUAGgAWADwA3AVfACEADgC0AH8AOgAiAJQAEAAfAB4AJwAuABgAHAATACwAMwA+AA8ADQAVAFUA5wCcAFkAGwAqASgAEAAjADAAHgAuABcAFwATABIATwAcAB0AGQAWACgAKAAPABUAMAARAFYAIgCCAFcAjAA2ABUAXAAiADYAHQBLABQANgDnAPQBEgAWABMAFAAoABQADgAwAA8ADgAVADAAGAAMABQAJwBpACwADgAYACkAFQApABMAGQAPACMAGQAeACAAEQARABAAcQAvABIA+gAWAC8ANgAWAEEAFQBSAB4A6AAQABsAOgAiAEMAJQAXAFoAIQAUABcARAA4AHEAGQAYABMAjwBEADIAHgAhAIoAIAAcACgALAALAGkADgAPADoAJgAhALAAFwAaAB4AJgAiAEYAGgAcAA8AHQA5ACsAIwA0ABQAGQAlAB0AEQAZABcAHwAhAA0AKQAWADUAKwAWAAwAWwAeABUAFAAoACMAIwAUAFwARAA4ABQAIABGADIAkQAUAOwAbAAWABoAFQA6AGwASQC+AFIDLABHAB4AGAAoALQAHQAyAEEAOQBHACoAOwAPAH4AKgBCAAwAjQAhAA0AVwAYACQAFQBQACwAWgASABQAJwBmAFEAEwAuABQA/wEZABsASAAZACQAFwAQABYAKwAjABMALgAzABcAEgAqADUAKgAQAGwANgAgADgAGgAhABUAhwAqABkAIADxAUwDMwBwAbwAOQAoAPgADwC+ABoAHQA5AG8AZwAcAJEBHQAfACcAFgBGADcATAAeAN0ATwDrALkASQDmABwCJAAwABwAGAA6ALUAGAAcAEQAdgKbABkADwAQAA8AIAA/AMgAJgCYABUAugARAG8CSgA0ANwASwBOAC0AFwATAC8AGwAqACoAIABcAboAjQApABYAHgCMACsAVwAbAH0ASgGKADICgAFvAVMAIgCPAB8AKABlAKgAWgCGAH0AWABcAFgAUAAvACIAHwAxACAAGAA=",
            "dtype": "i2"
           }
          },
          {
           "axis": {
            "matches": true
           },
           "label": "Total Proteins",
           "values": {
            "bdata": "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",
            "dtype": "f8"
           }
          },
          {
           "axis": {
            "matches": true
           },
           "label": "ALB Albumin",
           "values": {
            "bdata": "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",
            "dtype": "f8"
           }
          },
          {
           "axis": {
            "matches": true
           },
           "label": "A/G ratio Albumin and Globulin Ratio",
           "values": {
            "bdata": "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",
            "dtype": "f8"
           }
          }
         ],
         "hovertemplate": "%{xaxis.title.text}=%{x}<br>%{yaxis.title.text}=%{y}<br>Result=%{marker.color}<extra></extra>",
         "legendgroup": "",
         "marker": {
          "color": {
           "bdata": "AAAAAAAAAAABAAAAAQAAAQABAAAAAAAAAQAAAAEBAAABAQEAAQAAAAABAQABAQAAAAAAAAAAAAABAQABAAAAAAAAAAAAAQAAAAAAAQAAAQAAAAEAAAABAAAAAAAAAAAAAAAAAAEBAAEAAQEBAQEBAAEAAQEAAAAAAAABAAEBAAAAAAABAQAAAAAAAAABAAAAAAEAAAAAAQAAAQAAAAAAAAAAAAAAAAAAAAAAAAAAAAAAAAAAAAABAAABAAAAAQAAAAEBAAAAAQAAAAEBAQAAAAAAAAABAAABAQABAAAAAAEAAAAAAQABAAAAAAABAAEAAQAAAAAAAAAAAAAAAQEBAAAAAQAAAAAAAQEAAAAAAAEAAAABAQAAAAABAAEAAAABAAAAAQABAAAAAQABAQAAAQABAAAAAAAAAQEAAQEAAAEAAAABAAEBAQEBAAAAAQAAAAAAAAAAAQABAAAAAAEAAAAAAAEAAAABAAEBAQEBAQEAAAABAAEBAAABAAEAAAABAAABAAAAAAAAAAABAAAAAAEAAAEAAAEAAAAAAQABAQAAAQAAAAEAAQAAAQABAAABAAEBAQAAAAAAAAAAAQEAAAAAAAAAAAEAAQEAAAAAAAABAQEBAAAAAQEBAQEAAAAAAQAAAQAAAAABAQABAAEAAQAAAAAAAAAAAAAAAAAAAQABAAAAAAAAAAAAAAABAQAAAAABAAEAAQAAAAABAQEBAAABAAAAAAABAAAAAAAAAAAAAAAAAQABAAAAAAAAAAAAAAABAAAAAQ==",
           "dtype": "i1"
          },
          "coloraxis": "coloraxis",
          "symbol": "circle"
         },
         "name": "",
         "showlegend": false,
         "type": "splom"
        }
       ],
       "layout": {
        "coloraxis": {
         "colorbar": {
          "title": {
           "text": "Result"
          }
         },
         "colorscale": [
          [
           0,
           "#0d0887"
          ],
          [
           0.1111111111111111,
           "#46039f"
          ],
          [
           0.2222222222222222,
           "#7201a8"
          ],
          [
           0.3333333333333333,
           "#9c179e"
          ],
          [
           0.4444444444444444,
           "#bd3786"
          ],
          [
           0.5555555555555556,
           "#d8576b"
          ],
          [
           0.6666666666666666,
           "#ed7953"
          ],
          [
           0.7777777777777778,
           "#fb9f3a"
          ],
          [
           0.8888888888888888,
           "#fdca26"
          ],
          [
           1,
           "#f0f921"
          ]
         ]
        },
        "dragmode": "select",
        "font": {
         "size": 8
        },
        "height": 2000,
        "legend": {
         "tracegroupgap": 0
        },
        "margin": {
         "b": 200,
         "l": 200,
         "r": 200,
         "t": 150
        },
        "template": {
         "data": {
          "bar": [
           {
            "error_x": {
             "color": "#2a3f5f"
            },
            "error_y": {
             "color": "#2a3f5f"
            },
            "marker": {
             "line": {
              "color": "#E5ECF6",
              "width": 0.5
             },
             "pattern": {
              "fillmode": "overlay",
              "size": 10,
              "solidity": 0.2
             }
            },
            "type": "bar"
           }
          ],
          "barpolar": [
           {
            "marker": {
             "line": {
              "color": "#E5ECF6",
              "width": 0.5
             },
             "pattern": {
              "fillmode": "overlay",
              "size": 10,
              "solidity": 0.2
             }
            },
            "type": "barpolar"
           }
          ],
          "carpet": [
           {
            "aaxis": {
             "endlinecolor": "#2a3f5f",
             "gridcolor": "white",
             "linecolor": "white",
             "minorgridcolor": "white",
             "startlinecolor": "#2a3f5f"
            },
            "baxis": {
             "endlinecolor": "#2a3f5f",
             "gridcolor": "white",
             "linecolor": "white",
             "minorgridcolor": "white",
             "startlinecolor": "#2a3f5f"
            },
            "type": "carpet"
           }
          ],
          "choropleth": [
           {
            "colorbar": {
             "outlinewidth": 0,
             "ticks": ""
            },
            "type": "choropleth"
           }
          ],
          "contour": [
           {
            "colorbar": {
             "outlinewidth": 0,
             "ticks": ""
            },
            "colorscale": [
             [
              0,
              "#0d0887"
             ],
             [
              0.1111111111111111,
              "#46039f"
             ],
             [
              0.2222222222222222,
              "#7201a8"
             ],
             [
              0.3333333333333333,
              "#9c179e"
             ],
             [
              0.4444444444444444,
              "#bd3786"
             ],
             [
              0.5555555555555556,
              "#d8576b"
             ],
             [
              0.6666666666666666,
              "#ed7953"
             ],
             [
              0.7777777777777778,
              "#fb9f3a"
             ],
             [
              0.8888888888888888,
              "#fdca26"
             ],
             [
              1,
              "#f0f921"
             ]
            ],
            "type": "contour"
           }
          ],
          "contourcarpet": [
           {
            "colorbar": {
             "outlinewidth": 0,
             "ticks": ""
            },
            "type": "contourcarpet"
           }
          ],
          "heatmap": [
           {
            "colorbar": {
             "outlinewidth": 0,
             "ticks": ""
            },
            "colorscale": [
             [
              0,
              "#0d0887"
             ],
             [
              0.1111111111111111,
              "#46039f"
             ],
             [
              0.2222222222222222,
              "#7201a8"
             ],
             [
              0.3333333333333333,
              "#9c179e"
             ],
             [
              0.4444444444444444,
              "#bd3786"
             ],
             [
              0.5555555555555556,
              "#d8576b"
             ],
             [
              0.6666666666666666,
              "#ed7953"
             ],
             [
              0.7777777777777778,
              "#fb9f3a"
             ],
             [
              0.8888888888888888,
              "#fdca26"
             ],
             [
              1,
              "#f0f921"
             ]
            ],
            "type": "heatmap"
           }
          ],
          "histogram": [
           {
            "marker": {
             "pattern": {
              "fillmode": "overlay",
              "size": 10,
              "solidity": 0.2
             }
            },
            "type": "histogram"
           }
          ],
          "histogram2d": [
           {
            "colorbar": {
             "outlinewidth": 0,
             "ticks": ""
            },
            "colorscale": [
             [
              0,
              "#0d0887"
             ],
             [
              0.1111111111111111,
              "#46039f"
             ],
             [
              0.2222222222222222,
              "#7201a8"
             ],
             [
              0.3333333333333333,
              "#9c179e"
             ],
             [
              0.4444444444444444,
              "#bd3786"
             ],
             [
              0.5555555555555556,
              "#d8576b"
             ],
             [
              0.6666666666666666,
              "#ed7953"
             ],
             [
              0.7777777777777778,
              "#fb9f3a"
             ],
             [
              0.8888888888888888,
              "#fdca26"
             ],
             [
              1,
              "#f0f921"
             ]
            ],
            "type": "histogram2d"
           }
          ],
          "histogram2dcontour": [
           {
            "colorbar": {
             "outlinewidth": 0,
             "ticks": ""
            },
            "colorscale": [
             [
              0,
              "#0d0887"
             ],
             [
              0.1111111111111111,
              "#46039f"
             ],
             [
              0.2222222222222222,
              "#7201a8"
             ],
             [
              0.3333333333333333,
              "#9c179e"
             ],
             [
              0.4444444444444444,
              "#bd3786"
             ],
             [
              0.5555555555555556,
              "#d8576b"
             ],
             [
              0.6666666666666666,
              "#ed7953"
             ],
             [
              0.7777777777777778,
              "#fb9f3a"
             ],
             [
              0.8888888888888888,
              "#fdca26"
             ],
             [
              1,
              "#f0f921"
             ]
            ],
            "type": "histogram2dcontour"
           }
          ],
          "mesh3d": [
           {
            "colorbar": {
             "outlinewidth": 0,
             "ticks": ""
            },
            "type": "mesh3d"
           }
          ],
          "parcoords": [
           {
            "line": {
             "colorbar": {
              "outlinewidth": 0,
              "ticks": ""
             }
            },
            "type": "parcoords"
           }
          ],
          "pie": [
           {
            "automargin": true,
            "type": "pie"
           }
          ],
          "scatter": [
           {
            "fillpattern": {
             "fillmode": "overlay",
             "size": 10,
             "solidity": 0.2
            },
            "type": "scatter"
           }
          ],
          "scatter3d": [
           {
            "line": {
             "colorbar": {
              "outlinewidth": 0,
              "ticks": ""
             }
            },
            "marker": {
             "colorbar": {
              "outlinewidth": 0,
              "ticks": ""
             }
            },
            "type": "scatter3d"
           }
          ],
          "scattercarpet": [
           {
            "marker": {
             "colorbar": {
              "outlinewidth": 0,
              "ticks": ""
             }
            },
            "type": "scattercarpet"
           }
          ],
          "scattergeo": [
           {
            "marker": {
             "colorbar": {
              "outlinewidth": 0,
              "ticks": ""
             }
            },
            "type": "scattergeo"
           }
          ],
          "scattergl": [
           {
            "marker": {
             "colorbar": {
              "outlinewidth": 0,
              "ticks": ""
             }
            },
            "type": "scattergl"
           }
          ],
          "scattermap": [
           {
            "marker": {
             "colorbar": {
              "outlinewidth": 0,
              "ticks": ""
             }
            },
            "type": "scattermap"
           }
          ],
          "scattermapbox": [
           {
            "marker": {
             "colorbar": {
              "outlinewidth": 0,
              "ticks": ""
             }
            },
            "type": "scattermapbox"
           }
          ],
          "scatterpolar": [
           {
            "marker": {
             "colorbar": {
              "outlinewidth": 0,
              "ticks": ""
             }
            },
            "type": "scatterpolar"
           }
          ],
          "scatterpolargl": [
           {
            "marker": {
             "colorbar": {
              "outlinewidth": 0,
              "ticks": ""
             }
            },
            "type": "scatterpolargl"
           }
          ],
          "scatterternary": [
           {
            "marker": {
             "colorbar": {
              "outlinewidth": 0,
              "ticks": ""
             }
            },
            "type": "scatterternary"
           }
          ],
          "surface": [
           {
            "colorbar": {
             "outlinewidth": 0,
             "ticks": ""
            },
            "colorscale": [
             [
              0,
              "#0d0887"
             ],
             [
              0.1111111111111111,
              "#46039f"
             ],
             [
              0.2222222222222222,
              "#7201a8"
             ],
             [
              0.3333333333333333,
              "#9c179e"
             ],
             [
              0.4444444444444444,
              "#bd3786"
             ],
             [
              0.5555555555555556,
              "#d8576b"
             ],
             [
              0.6666666666666666,
              "#ed7953"
             ],
             [
              0.7777777777777778,
              "#fb9f3a"
             ],
             [
              0.8888888888888888,
              "#fdca26"
             ],
             [
              1,
              "#f0f921"
             ]
            ],
            "type": "surface"
           }
          ],
          "table": [
           {
            "cells": {
             "fill": {
              "color": "#EBF0F8"
             },
             "line": {
              "color": "white"
             }
            },
            "header": {
             "fill": {
              "color": "#C8D4E3"
             },
             "line": {
              "color": "white"
             }
            },
            "type": "table"
           }
          ]
         },
         "layout": {
          "annotationdefaults": {
           "arrowcolor": "#2a3f5f",
           "arrowhead": 0,
           "arrowwidth": 1
          },
          "autotypenumbers": "strict",
          "coloraxis": {
           "colorbar": {
            "outlinewidth": 0,
            "ticks": ""
           }
          },
          "colorscale": {
           "diverging": [
            [
             0,
             "#8e0152"
            ],
            [
             0.1,
             "#c51b7d"
            ],
            [
             0.2,
             "#de77ae"
            ],
            [
             0.3,
             "#f1b6da"
            ],
            [
             0.4,
             "#fde0ef"
            ],
            [
             0.5,
             "#f7f7f7"
            ],
            [
             0.6,
             "#e6f5d0"
            ],
            [
             0.7,
             "#b8e186"
            ],
            [
             0.8,
             "#7fbc41"
            ],
            [
             0.9,
             "#4d9221"
            ],
            [
             1,
             "#276419"
            ]
           ],
           "sequential": [
            [
             0,
             "#0d0887"
            ],
            [
             0.1111111111111111,
             "#46039f"
            ],
            [
             0.2222222222222222,
             "#7201a8"
            ],
            [
             0.3333333333333333,
             "#9c179e"
            ],
            [
             0.4444444444444444,
             "#bd3786"
            ],
            [
             0.5555555555555556,
             "#d8576b"
            ],
            [
             0.6666666666666666,
             "#ed7953"
            ],
            [
             0.7777777777777778,
             "#fb9f3a"
            ],
            [
             0.8888888888888888,
             "#fdca26"
            ],
            [
             1,
             "#f0f921"
            ]
           ],
           "sequentialminus": [
            [
             0,
             "#0d0887"
            ],
            [
             0.1111111111111111,
             "#46039f"
            ],
            [
             0.2222222222222222,
             "#7201a8"
            ],
            [
             0.3333333333333333,
             "#9c179e"
            ],
            [
             0.4444444444444444,
             "#bd3786"
            ],
            [
             0.5555555555555556,
             "#d8576b"
            ],
            [
             0.6666666666666666,
             "#ed7953"
            ],
            [
             0.7777777777777778,
             "#fb9f3a"
            ],
            [
             0.8888888888888888,
             "#fdca26"
            ],
            [
             1,
             "#f0f921"
            ]
           ]
          },
          "colorway": [
           "#636efa",
           "#EF553B",
           "#00cc96",
           "#ab63fa",
           "#FFA15A",
           "#19d3f3",
           "#FF6692",
           "#B6E880",
           "#FF97FF",
           "#FECB52"
          ],
          "font": {
           "color": "#2a3f5f"
          },
          "geo": {
           "bgcolor": "white",
           "lakecolor": "white",
           "landcolor": "#E5ECF6",
           "showlakes": true,
           "showland": true,
           "subunitcolor": "white"
          },
          "hoverlabel": {
           "align": "left"
          },
          "hovermode": "closest",
          "mapbox": {
           "style": "light"
          },
          "paper_bgcolor": "white",
          "plot_bgcolor": "#E5ECF6",
          "polar": {
           "angularaxis": {
            "gridcolor": "white",
            "linecolor": "white",
            "ticks": ""
           },
           "bgcolor": "#E5ECF6",
           "radialaxis": {
            "gridcolor": "white",
            "linecolor": "white",
            "ticks": ""
           }
          },
          "scene": {
           "xaxis": {
            "backgroundcolor": "#E5ECF6",
            "gridcolor": "white",
            "gridwidth": 2,
            "linecolor": "white",
            "showbackground": true,
            "ticks": "",
            "zerolinecolor": "white"
           },
           "yaxis": {
            "backgroundcolor": "#E5ECF6",
            "gridcolor": "white",
            "gridwidth": 2,
            "linecolor": "white",
            "showbackground": true,
            "ticks": "",
            "zerolinecolor": "white"
           },
           "zaxis": {
            "backgroundcolor": "#E5ECF6",
            "gridcolor": "white",
            "gridwidth": 2,
            "linecolor": "white",
            "showbackground": true,
            "ticks": "",
            "zerolinecolor": "white"
           }
          },
          "shapedefaults": {
           "line": {
            "color": "#2a3f5f"
           }
          },
          "ternary": {
           "aaxis": {
            "gridcolor": "white",
            "linecolor": "white",
            "ticks": ""
           },
           "baxis": {
            "gridcolor": "white",
            "linecolor": "white",
            "ticks": ""
           },
           "bgcolor": "#E5ECF6",
           "caxis": {
            "gridcolor": "white",
            "linecolor": "white",
            "ticks": ""
           }
          },
          "title": {
           "x": 0.05
          },
          "xaxis": {
           "automargin": true,
           "gridcolor": "white",
           "linecolor": "white",
           "ticks": "",
           "title": {
            "standoff": 15
           },
           "zerolinecolor": "white",
           "zerolinewidth": 2
          },
          "yaxis": {
           "automargin": true,
           "gridcolor": "white",
           "linecolor": "white",
           "ticks": "",
           "title": {
            "standoff": 15
           },
           "zerolinecolor": "white",
           "zerolinewidth": 2
          }
         }
        },
        "title": {
         "text": "Pairplot of Numerical Features"
        },
        "width": 2000,
        "xaxis": {
         "tickangle": 90,
         "title": {
          "font": {
           "size": 12
          }
         }
        },
        "yaxis": {
         "tickangle": 0,
         "title": {
          "font": {
           "size": 12
          }
         }
        }
       }
      }
     },
     "metadata": {},
     "output_type": "display_data"
    }
   ],
   "source": [
    "import plotly.express as px\n",
    "\n",
    "# Define numerical features\n",
    "numerical_features = [\n",
    "    'Age', 'Total Bilirubin', 'Direct Bilirubin', \n",
    "    'Alkaline Phosphotase', 'Sgpt Alamine Aminotransferase', \n",
    "    'Sgot Aspartate Aminotransferase', 'Total Proteins', \n",
    "    'ALB Albumin', 'A/G ratio Albumin and Globulin Ratio'\n",
    "]\n",
    "\n",
    "# Create the scatter matrix (pairplot)\n",
    "fig = px.scatter_matrix(\n",
    "    data, \n",
    "    dimensions=numerical_features,  \n",
    "    color=\"Result\",  \n",
    "    title=\"Pairplot of Numerical Features\",\n",
    "    width=2000,  # Increase figure width\n",
    "    height=2000  # Increase figure height\n",
    ")\n",
    "\n",
    "# Update layout to fix overlapping labels\n",
    "fig.update_layout(\n",
    "    font=dict(size=8),  # Further reduce font size\n",
    "    margin=dict(l=200, r=200, b=200, t=150),  # Further increase margins\n",
    ")\n",
    "\n",
    "# Rotate x-axis and y-axis labels by 90 degrees\n",
    "fig.update_xaxes(tickangle=90, title_font=dict(size=12))  # Rotate x-axis labels vertically\n",
    "fig.update_yaxes(tickangle=0, title_font=dict(size=12))  # Keep y-axis labels horizontal\n",
    "\n",
    "# Hide redundant diagonal labels\n",
    "for i in range(len(numerical_features)):\n",
    "    for j in range(len(numerical_features)):\n",
    "        if i == j:\n",
    "            fig.update_xaxes(row=i+1, col=j+1, showticklabels=False)  # Hide x-axis labels on diagonal\n",
    "            fig.update_yaxes(row=i+1, col=j+1, showticklabels=False)  # Hide y-axis labels on diagonal\n",
    "\n",
    "# Show the plot\n",
    "fig.show()"
   ]
  },
  {
   "cell_type": "code",
   "execution_count": 58,
   "metadata": {},
   "outputs": [],
   "source": [
    "from sklearn.model_selection import train_test_split\n",
    "X = data.drop(['Result'], axis=1)\n",
    "y = data['Result']\n",
    "\n",
    "X_train, X_test, y_train, y_test = train_test_split(X, y, test_size=0.2, random_state=42, stratify=y)"
   ]
  },
  {
   "cell_type": "code",
   "execution_count": 59,
   "metadata": {},
   "outputs": [
    {
     "name": "stdout",
     "output_type": "stream",
     "text": [
      "Before Imputation:\n",
      "Age                                     0\n",
      "Gender                                  0\n",
      "Total Bilirubin                         0\n",
      "Direct Bilirubin                        0\n",
      "Alkaline Phosphotase                    0\n",
      "Sgpt Alamine Aminotransferase           0\n",
      "Sgot Aspartate Aminotransferase         0\n",
      "Total Proteins                          0\n",
      "ALB Albumin                             0\n",
      "A/G ratio Albumin and Globulin Ratio    4\n",
      "dtype: int64\n",
      "\n",
      "After Imputation:\n",
      "Age                                     0\n",
      "Gender                                  0\n",
      "Total Bilirubin                         0\n",
      "Direct Bilirubin                        0\n",
      "Alkaline Phosphotase                    0\n",
      "Sgpt Alamine Aminotransferase           0\n",
      "Sgot Aspartate Aminotransferase         0\n",
      "Total Proteins                          0\n",
      "ALB Albumin                             0\n",
      "A/G ratio Albumin and Globulin Ratio    0\n",
      "dtype: int64\n"
     ]
    },
    {
     "data": {
      "text/plain": [
       "['.\\\\data\\\\preprocess_pkl\\\\knnimputer.pkl']"
      ]
     },
     "execution_count": 59,
     "metadata": {},
     "output_type": "execute_result"
    }
   ],
   "source": [
    "import joblib\n",
    "from sklearn.impute import KNNImputer\n",
    "\n",
    "knnimputer = KNNImputer(n_neighbors=3)\n",
    "\n",
    "X_train_imputed = pd.DataFrame(knnimputer.fit_transform(X_train), columns=X_train.columns)\n",
    "X_test_imputed = pd.DataFrame(knnimputer.transform(X_test), columns=X_test.columns)\n",
    "\n",
    "print(\"Before Imputation:\")\n",
    "print(X_train.isna().sum())\n",
    "\n",
    "print(\"\\nAfter Imputation:\")\n",
    "print(X_train_imputed.isna().sum())\n",
    "\n",
    "joblib.dump(knnimputer, r'.\\data\\preprocess_pkl\\knnimputer.pkl')"
   ]
  },
  {
   "cell_type": "code",
   "execution_count": 60,
   "metadata": {},
   "outputs": [
    {
     "data": {
      "text/plain": [
       "['.\\\\data\\\\preprocess_pkl\\\\Std_scaler.pkl']"
      ]
     },
     "execution_count": 60,
     "metadata": {},
     "output_type": "execute_result"
    }
   ],
   "source": [
    "from sklearn.preprocessing import StandardScaler\n",
    "\n",
    "Std_scaler = StandardScaler()\n",
    "\n",
    "numerical_features = [\n",
    "    'Age', 'Total Bilirubin', 'Direct Bilirubin', \n",
    "    'Alkaline Phosphotase', 'Sgpt Alamine Aminotransferase', \n",
    "    'Sgot Aspartate Aminotransferase', 'Total Proteins', \n",
    "    'ALB Albumin', 'A/G ratio Albumin and Globulin Ratio'\n",
    "]\n",
    "\n",
    "# Fit on training data and transform both train & test sets\n",
    "X_train_imputed[numerical_features] = Std_scaler.fit_transform(X_train_imputed[numerical_features])\n",
    "X_test_imputed[numerical_features] = Std_scaler.transform(X_test_imputed[numerical_features])\n",
    "joblib.dump(Std_scaler, r'.\\data\\preprocess_pkl\\Std_scaler.pkl')"
   ]
  },
  {
   "cell_type": "code",
   "execution_count": 61,
   "metadata": {},
   "outputs": [
    {
     "data": {
      "text/html": [
       "<div>\n",
       "<style scoped>\n",
       "    .dataframe tbody tr th:only-of-type {\n",
       "        vertical-align: middle;\n",
       "    }\n",
       "\n",
       "    .dataframe tbody tr th {\n",
       "        vertical-align: top;\n",
       "    }\n",
       "\n",
       "    .dataframe thead th {\n",
       "        text-align: right;\n",
       "    }\n",
       "</style>\n",
       "<table border=\"1\" class=\"dataframe\">\n",
       "  <thead>\n",
       "    <tr style=\"text-align: right;\">\n",
       "      <th></th>\n",
       "      <th>Age</th>\n",
       "      <th>Gender</th>\n",
       "      <th>Total Bilirubin</th>\n",
       "      <th>Direct Bilirubin</th>\n",
       "      <th>Alkaline Phosphotase</th>\n",
       "      <th>Sgpt Alamine Aminotransferase</th>\n",
       "      <th>Sgot Aspartate Aminotransferase</th>\n",
       "      <th>Total Proteins</th>\n",
       "      <th>ALB Albumin</th>\n",
       "      <th>A/G ratio Albumin and Globulin Ratio</th>\n",
       "    </tr>\n",
       "  </thead>\n",
       "  <tbody>\n",
       "    <tr>\n",
       "      <th>0</th>\n",
       "      <td>-0.033413</td>\n",
       "      <td>0.0</td>\n",
       "      <td>-0.228804</td>\n",
       "      <td>-0.321537</td>\n",
       "      <td>0.024087</td>\n",
       "      <td>1.541374</td>\n",
       "      <td>1.566937</td>\n",
       "      <td>0.117481</td>\n",
       "      <td>0.227194</td>\n",
       "      <td>0.193674</td>\n",
       "    </tr>\n",
       "    <tr>\n",
       "      <th>1</th>\n",
       "      <td>1.585897</td>\n",
       "      <td>1.0</td>\n",
       "      <td>-0.104354</td>\n",
       "      <td>-0.113624</td>\n",
       "      <td>0.289169</td>\n",
       "      <td>-0.106082</td>\n",
       "      <td>-0.187586</td>\n",
       "      <td>-0.439260</td>\n",
       "      <td>-0.918059</td>\n",
       "      <td>-1.069919</td>\n",
       "    </tr>\n",
       "    <tr>\n",
       "      <th>2</th>\n",
       "      <td>0.713961</td>\n",
       "      <td>1.0</td>\n",
       "      <td>-0.368810</td>\n",
       "      <td>-0.425494</td>\n",
       "      <td>-0.383428</td>\n",
       "      <td>-0.314620</td>\n",
       "      <td>-0.274189</td>\n",
       "      <td>-0.624840</td>\n",
       "      <td>-0.663558</td>\n",
       "      <td>-0.438122</td>\n",
       "    </tr>\n",
       "    <tr>\n",
       "      <th>3</th>\n",
       "      <td>-0.407100</td>\n",
       "      <td>1.0</td>\n",
       "      <td>-0.182135</td>\n",
       "      <td>-0.182928</td>\n",
       "      <td>0.071564</td>\n",
       "      <td>0.191086</td>\n",
       "      <td>-0.229284</td>\n",
       "      <td>1.323753</td>\n",
       "      <td>1.245195</td>\n",
       "      <td>0.193674</td>\n",
       "    </tr>\n",
       "    <tr>\n",
       "      <th>4</th>\n",
       "      <td>-0.780786</td>\n",
       "      <td>1.0</td>\n",
       "      <td>4.220284</td>\n",
       "      <td>5.396083</td>\n",
       "      <td>-0.292429</td>\n",
       "      <td>-0.225992</td>\n",
       "      <td>-0.110605</td>\n",
       "      <td>-0.903211</td>\n",
       "      <td>-0.536308</td>\n",
       "      <td>-0.122224</td>\n",
       "    </tr>\n",
       "    <tr>\n",
       "      <th>...</th>\n",
       "      <td>...</td>\n",
       "      <td>...</td>\n",
       "      <td>...</td>\n",
       "      <td>...</td>\n",
       "      <td>...</td>\n",
       "      <td>...</td>\n",
       "      <td>...</td>\n",
       "      <td>...</td>\n",
       "      <td>...</td>\n",
       "      <td>...</td>\n",
       "    </tr>\n",
       "    <tr>\n",
       "      <th>461</th>\n",
       "      <td>1.087648</td>\n",
       "      <td>1.0</td>\n",
       "      <td>0.611234</td>\n",
       "      <td>0.891291</td>\n",
       "      <td>0.783726</td>\n",
       "      <td>-0.116509</td>\n",
       "      <td>-0.145888</td>\n",
       "      <td>0.488642</td>\n",
       "      <td>0.227194</td>\n",
       "      <td>-0.153814</td>\n",
       "    </tr>\n",
       "    <tr>\n",
       "      <th>462</th>\n",
       "      <td>1.585897</td>\n",
       "      <td>1.0</td>\n",
       "      <td>-0.306585</td>\n",
       "      <td>-0.321537</td>\n",
       "      <td>-0.577294</td>\n",
       "      <td>-0.366755</td>\n",
       "      <td>-0.287019</td>\n",
       "      <td>-0.253680</td>\n",
       "      <td>0.863445</td>\n",
       "      <td>2.025884</td>\n",
       "    </tr>\n",
       "    <tr>\n",
       "      <th>463</th>\n",
       "      <td>-0.718505</td>\n",
       "      <td>1.0</td>\n",
       "      <td>-0.275472</td>\n",
       "      <td>-0.356189</td>\n",
       "      <td>-0.502121</td>\n",
       "      <td>-0.351115</td>\n",
       "      <td>-0.290227</td>\n",
       "      <td>0.767012</td>\n",
       "      <td>0.481694</td>\n",
       "      <td>-0.059044</td>\n",
       "    </tr>\n",
       "    <tr>\n",
       "      <th>464</th>\n",
       "      <td>1.710459</td>\n",
       "      <td>1.0</td>\n",
       "      <td>-0.399922</td>\n",
       "      <td>-0.460146</td>\n",
       "      <td>-0.569381</td>\n",
       "      <td>-0.309407</td>\n",
       "      <td>-0.251737</td>\n",
       "      <td>-0.439260</td>\n",
       "      <td>-0.154557</td>\n",
       "      <td>0.193674</td>\n",
       "    </tr>\n",
       "    <tr>\n",
       "      <th>465</th>\n",
       "      <td>-0.157975</td>\n",
       "      <td>1.0</td>\n",
       "      <td>0.860134</td>\n",
       "      <td>1.029900</td>\n",
       "      <td>-0.078781</td>\n",
       "      <td>-0.267699</td>\n",
       "      <td>-0.168341</td>\n",
       "      <td>-0.624840</td>\n",
       "      <td>-1.427059</td>\n",
       "      <td>-1.385817</td>\n",
       "    </tr>\n",
       "  </tbody>\n",
       "</table>\n",
       "<p>466 rows × 10 columns</p>\n",
       "</div>"
      ],
      "text/plain": [
       "          Age  Gender  Total Bilirubin  Direct Bilirubin  \\\n",
       "0   -0.033413     0.0        -0.228804         -0.321537   \n",
       "1    1.585897     1.0        -0.104354         -0.113624   \n",
       "2    0.713961     1.0        -0.368810         -0.425494   \n",
       "3   -0.407100     1.0        -0.182135         -0.182928   \n",
       "4   -0.780786     1.0         4.220284          5.396083   \n",
       "..        ...     ...              ...               ...   \n",
       "461  1.087648     1.0         0.611234          0.891291   \n",
       "462  1.585897     1.0        -0.306585         -0.321537   \n",
       "463 -0.718505     1.0        -0.275472         -0.356189   \n",
       "464  1.710459     1.0        -0.399922         -0.460146   \n",
       "465 -0.157975     1.0         0.860134          1.029900   \n",
       "\n",
       "     Alkaline Phosphotase  Sgpt Alamine Aminotransferase  \\\n",
       "0                0.024087                       1.541374   \n",
       "1                0.289169                      -0.106082   \n",
       "2               -0.383428                      -0.314620   \n",
       "3                0.071564                       0.191086   \n",
       "4               -0.292429                      -0.225992   \n",
       "..                    ...                            ...   \n",
       "461              0.783726                      -0.116509   \n",
       "462             -0.577294                      -0.366755   \n",
       "463             -0.502121                      -0.351115   \n",
       "464             -0.569381                      -0.309407   \n",
       "465             -0.078781                      -0.267699   \n",
       "\n",
       "     Sgot Aspartate Aminotransferase  Total Proteins  ALB Albumin  \\\n",
       "0                           1.566937        0.117481     0.227194   \n",
       "1                          -0.187586       -0.439260    -0.918059   \n",
       "2                          -0.274189       -0.624840    -0.663558   \n",
       "3                          -0.229284        1.323753     1.245195   \n",
       "4                          -0.110605       -0.903211    -0.536308   \n",
       "..                               ...             ...          ...   \n",
       "461                        -0.145888        0.488642     0.227194   \n",
       "462                        -0.287019       -0.253680     0.863445   \n",
       "463                        -0.290227        0.767012     0.481694   \n",
       "464                        -0.251737       -0.439260    -0.154557   \n",
       "465                        -0.168341       -0.624840    -1.427059   \n",
       "\n",
       "     A/G ratio Albumin and Globulin Ratio  \n",
       "0                                0.193674  \n",
       "1                               -1.069919  \n",
       "2                               -0.438122  \n",
       "3                                0.193674  \n",
       "4                               -0.122224  \n",
       "..                                    ...  \n",
       "461                             -0.153814  \n",
       "462                              2.025884  \n",
       "463                             -0.059044  \n",
       "464                              0.193674  \n",
       "465                             -1.385817  \n",
       "\n",
       "[466 rows x 10 columns]"
      ]
     },
     "execution_count": 61,
     "metadata": {},
     "output_type": "execute_result"
    }
   ],
   "source": [
    "X_train_imputed"
   ]
  },
  {
   "cell_type": "code",
   "execution_count": 62,
   "metadata": {},
   "outputs": [
    {
     "data": {
      "text/html": [
       "<div>\n",
       "<style scoped>\n",
       "    .dataframe tbody tr th:only-of-type {\n",
       "        vertical-align: middle;\n",
       "    }\n",
       "\n",
       "    .dataframe tbody tr th {\n",
       "        vertical-align: top;\n",
       "    }\n",
       "\n",
       "    .dataframe thead th {\n",
       "        text-align: right;\n",
       "    }\n",
       "</style>\n",
       "<table border=\"1\" class=\"dataframe\">\n",
       "  <thead>\n",
       "    <tr style=\"text-align: right;\">\n",
       "      <th></th>\n",
       "      <th>Age</th>\n",
       "      <th>Gender</th>\n",
       "      <th>Total Bilirubin</th>\n",
       "      <th>Direct Bilirubin</th>\n",
       "      <th>Alkaline Phosphotase</th>\n",
       "      <th>Sgpt Alamine Aminotransferase</th>\n",
       "      <th>Sgot Aspartate Aminotransferase</th>\n",
       "      <th>Total Proteins</th>\n",
       "      <th>ALB Albumin</th>\n",
       "      <th>A/G ratio Albumin and Globulin Ratio</th>\n",
       "    </tr>\n",
       "  </thead>\n",
       "  <tbody>\n",
       "    <tr>\n",
       "      <th>0</th>\n",
       "      <td>1.585897</td>\n",
       "      <td>1.0</td>\n",
       "      <td>-0.259916</td>\n",
       "      <td>-0.356189</td>\n",
       "      <td>0.427645</td>\n",
       "      <td>-0.137363</td>\n",
       "      <td>-0.222869</td>\n",
       "      <td>-0.717630</td>\n",
       "      <td>-0.027307</td>\n",
       "      <td>0.509572</td>\n",
       "    </tr>\n",
       "    <tr>\n",
       "      <th>1</th>\n",
       "      <td>-1.964128</td>\n",
       "      <td>0.0</td>\n",
       "      <td>-0.415479</td>\n",
       "      <td>-0.494798</td>\n",
       "      <td>-0.434862</td>\n",
       "      <td>-0.304194</td>\n",
       "      <td>-0.303057</td>\n",
       "      <td>2.251655</td>\n",
       "      <td>2.263197</td>\n",
       "      <td>0.825471</td>\n",
       "    </tr>\n",
       "    <tr>\n",
       "      <th>2</th>\n",
       "      <td>0.277993</td>\n",
       "      <td>1.0</td>\n",
       "      <td>-0.322141</td>\n",
       "      <td>-0.390842</td>\n",
       "      <td>-0.339907</td>\n",
       "      <td>-0.272913</td>\n",
       "      <td>-0.283812</td>\n",
       "      <td>-0.439260</td>\n",
       "      <td>-0.027307</td>\n",
       "      <td>0.383213</td>\n",
       "    </tr>\n",
       "    <tr>\n",
       "      <th>3</th>\n",
       "      <td>-0.593943</td>\n",
       "      <td>1.0</td>\n",
       "      <td>-0.275472</td>\n",
       "      <td>-0.286885</td>\n",
       "      <td>-0.533773</td>\n",
       "      <td>-0.351115</td>\n",
       "      <td>-0.222869</td>\n",
       "      <td>-1.181581</td>\n",
       "      <td>-0.790808</td>\n",
       "      <td>-0.122224</td>\n",
       "    </tr>\n",
       "    <tr>\n",
       "      <th>4</th>\n",
       "      <td>-0.905349</td>\n",
       "      <td>1.0</td>\n",
       "      <td>-0.399922</td>\n",
       "      <td>-0.460146</td>\n",
       "      <td>-0.434862</td>\n",
       "      <td>-0.189497</td>\n",
       "      <td>-0.181171</td>\n",
       "      <td>1.230963</td>\n",
       "      <td>1.499696</td>\n",
       "      <td>0.825471</td>\n",
       "    </tr>\n",
       "    <tr>\n",
       "      <th>...</th>\n",
       "      <td>...</td>\n",
       "      <td>...</td>\n",
       "      <td>...</td>\n",
       "      <td>...</td>\n",
       "      <td>...</td>\n",
       "      <td>...</td>\n",
       "      <td>...</td>\n",
       "      <td>...</td>\n",
       "      <td>...</td>\n",
       "      <td>...</td>\n",
       "    </tr>\n",
       "    <tr>\n",
       "      <th>112</th>\n",
       "      <td>0.215712</td>\n",
       "      <td>0.0</td>\n",
       "      <td>-0.399922</td>\n",
       "      <td>-0.460146</td>\n",
       "      <td>-0.561468</td>\n",
       "      <td>-0.298980</td>\n",
       "      <td>-0.290227</td>\n",
       "      <td>0.952593</td>\n",
       "      <td>0.990695</td>\n",
       "      <td>0.193674</td>\n",
       "    </tr>\n",
       "    <tr>\n",
       "      <th>113</th>\n",
       "      <td>1.897303</td>\n",
       "      <td>1.0</td>\n",
       "      <td>-0.135466</td>\n",
       "      <td>-0.113624</td>\n",
       "      <td>0.328734</td>\n",
       "      <td>0.013828</td>\n",
       "      <td>-0.145888</td>\n",
       "      <td>-0.068099</td>\n",
       "      <td>-0.281807</td>\n",
       "      <td>-0.438122</td>\n",
       "    </tr>\n",
       "    <tr>\n",
       "      <th>114</th>\n",
       "      <td>1.212210</td>\n",
       "      <td>0.0</td>\n",
       "      <td>-0.399922</td>\n",
       "      <td>-0.460146</td>\n",
       "      <td>-0.450688</td>\n",
       "      <td>-0.340688</td>\n",
       "      <td>-0.306265</td>\n",
       "      <td>-0.160889</td>\n",
       "      <td>-0.027307</td>\n",
       "      <td>-0.122224</td>\n",
       "    </tr>\n",
       "    <tr>\n",
       "      <th>115</th>\n",
       "      <td>0.838523</td>\n",
       "      <td>0.0</td>\n",
       "      <td>-0.088797</td>\n",
       "      <td>-0.078971</td>\n",
       "      <td>1.495887</td>\n",
       "      <td>-0.179070</td>\n",
       "      <td>-0.110605</td>\n",
       "      <td>-1.645532</td>\n",
       "      <td>-1.936060</td>\n",
       "      <td>-1.385817</td>\n",
       "    </tr>\n",
       "    <tr>\n",
       "      <th>116</th>\n",
       "      <td>-2.150972</td>\n",
       "      <td>0.0</td>\n",
       "      <td>-0.399922</td>\n",
       "      <td>-0.494798</td>\n",
       "      <td>0.407863</td>\n",
       "      <td>-0.298980</td>\n",
       "      <td>-0.123435</td>\n",
       "      <td>1.045383</td>\n",
       "      <td>0.608944</td>\n",
       "      <td>-0.122224</td>\n",
       "    </tr>\n",
       "  </tbody>\n",
       "</table>\n",
       "<p>117 rows × 10 columns</p>\n",
       "</div>"
      ],
      "text/plain": [
       "          Age  Gender  Total Bilirubin  Direct Bilirubin  \\\n",
       "0    1.585897     1.0        -0.259916         -0.356189   \n",
       "1   -1.964128     0.0        -0.415479         -0.494798   \n",
       "2    0.277993     1.0        -0.322141         -0.390842   \n",
       "3   -0.593943     1.0        -0.275472         -0.286885   \n",
       "4   -0.905349     1.0        -0.399922         -0.460146   \n",
       "..        ...     ...              ...               ...   \n",
       "112  0.215712     0.0        -0.399922         -0.460146   \n",
       "113  1.897303     1.0        -0.135466         -0.113624   \n",
       "114  1.212210     0.0        -0.399922         -0.460146   \n",
       "115  0.838523     0.0        -0.088797         -0.078971   \n",
       "116 -2.150972     0.0        -0.399922         -0.494798   \n",
       "\n",
       "     Alkaline Phosphotase  Sgpt Alamine Aminotransferase  \\\n",
       "0                0.427645                      -0.137363   \n",
       "1               -0.434862                      -0.304194   \n",
       "2               -0.339907                      -0.272913   \n",
       "3               -0.533773                      -0.351115   \n",
       "4               -0.434862                      -0.189497   \n",
       "..                    ...                            ...   \n",
       "112             -0.561468                      -0.298980   \n",
       "113              0.328734                       0.013828   \n",
       "114             -0.450688                      -0.340688   \n",
       "115              1.495887                      -0.179070   \n",
       "116              0.407863                      -0.298980   \n",
       "\n",
       "     Sgot Aspartate Aminotransferase  Total Proteins  ALB Albumin  \\\n",
       "0                          -0.222869       -0.717630    -0.027307   \n",
       "1                          -0.303057        2.251655     2.263197   \n",
       "2                          -0.283812       -0.439260    -0.027307   \n",
       "3                          -0.222869       -1.181581    -0.790808   \n",
       "4                          -0.181171        1.230963     1.499696   \n",
       "..                               ...             ...          ...   \n",
       "112                        -0.290227        0.952593     0.990695   \n",
       "113                        -0.145888       -0.068099    -0.281807   \n",
       "114                        -0.306265       -0.160889    -0.027307   \n",
       "115                        -0.110605       -1.645532    -1.936060   \n",
       "116                        -0.123435        1.045383     0.608944   \n",
       "\n",
       "     A/G ratio Albumin and Globulin Ratio  \n",
       "0                                0.509572  \n",
       "1                                0.825471  \n",
       "2                                0.383213  \n",
       "3                               -0.122224  \n",
       "4                                0.825471  \n",
       "..                                    ...  \n",
       "112                              0.193674  \n",
       "113                             -0.438122  \n",
       "114                             -0.122224  \n",
       "115                             -1.385817  \n",
       "116                             -0.122224  \n",
       "\n",
       "[117 rows x 10 columns]"
      ]
     },
     "execution_count": 62,
     "metadata": {},
     "output_type": "execute_result"
    }
   ],
   "source": [
    "X_test_imputed"
   ]
  },
  {
   "cell_type": "code",
   "execution_count": 63,
   "metadata": {},
   "outputs": [
    {
     "data": {
      "text/plain": [
       "171    0\n",
       "500    0\n",
       "512    1\n",
       "475    1\n",
       "504    0\n",
       "      ..\n",
       "2      0\n",
       "78     1\n",
       "17     1\n",
       "390    0\n",
       "54     0\n",
       "Name: Result, Length: 466, dtype: int64"
      ]
     },
     "execution_count": 63,
     "metadata": {},
     "output_type": "execute_result"
    }
   ],
   "source": [
    "y_train"
   ]
  },
  {
   "cell_type": "code",
   "execution_count": 64,
   "metadata": {},
   "outputs": [],
   "source": [
    "from sklearn.linear_model import LogisticRegression\n",
    "from sklearn.naive_bayes import GaussianNB\n",
    "from sklearn.tree  import DecisionTreeClassifier\n",
    "from sklearn.ensemble import RandomForestClassifier\n",
    "from sklearn.svm import SVC\n",
    "from xgboost import XGBClassifier\n",
    "from sklearn.neighbors import KNeighborsClassifier\n",
    "from sklearn.neural_network import MLPClassifier\n",
    "from sklearn.ensemble import VotingClassifier\n",
    "from sklearn.metrics import accuracy_score, precision_score, recall_score, f1_score, confusion_matrix"
   ]
  },
  {
   "cell_type": "code",
   "execution_count": 65,
   "metadata": {},
   "outputs": [
    {
     "name": "stdout",
     "output_type": "stream",
     "text": [
      "Running GridSearch for LogisticRegression...\n",
      "Best params for LogisticRegression: {'C': 100, 'solver': 'lbfgs'}\n",
      "Running GridSearch for DecisionTreeClassifier...\n",
      "Best params for DecisionTreeClassifier: {'criterion': 'gini', 'max_depth': 15}\n",
      "Running GridSearch for RandomForestClassifier...\n",
      "Best params for RandomForestClassifier: {'criterion': 'gini', 'max_depth': 5, 'n_estimators': 200}\n",
      "Running GridSearch for SVC...\n",
      "Best params for SVC: {'C': 1, 'gamma': 0.001, 'kernel': 'linear'}\n",
      "Running GridSearch for XGBClassifier...\n",
      "Best params for XGBClassifier: {'learning_rate': 0.2, 'max_depth': 9, 'n_estimators': 50}\n",
      "Running GridSearch for KNeighborsClassifier...\n",
      "Best params for KNeighborsClassifier: {'n_neighbors': 3}\n",
      "Running GridSearch for MLPClassifier...\n",
      "Best params for MLPClassifier: {'activation': 'relu', 'hidden_layer_sizes': (16,), 'max_iter': 500, 'solver': 'adam'}\n"
     ]
    },
    {
     "name": "stderr",
     "output_type": "stream",
     "text": [
      "c:\\Users\\macha\\miniconda3\\envs\\rainfall_env\\lib\\site-packages\\sklearn\\neural_network\\_multilayer_perceptron.py:691: ConvergenceWarning:\n",
      "\n",
      "Stochastic Optimizer: Maximum iterations (500) reached and the optimization hasn't converged yet.\n",
      "\n"
     ]
    }
   ],
   "source": [
    "from sklearn.model_selection import GridSearchCV\n",
    "param_grids = {\n",
    "    \"LogisticRegression\": {\n",
    "        \"C\": [0.1, 1, 10, 100],\n",
    "        \"solver\": [\"lbfgs\", \"liblinear\"]\n",
    "    },\n",
    "    \"DecisionTreeClassifier\": {\n",
    "        \"criterion\": [\"gini\", \"entropy\"],\n",
    "        \"max_depth\": [5, 10, 15, None]\n",
    "    },\n",
    "    \"RandomForestClassifier\": {\n",
    "        \"n_estimators\": [50, 100, 200],\n",
    "        \"max_depth\": [5, 10, None],\n",
    "        \"criterion\": [\"gini\", \"entropy\"]\n",
    "    },\n",
    "    \"SVC\": {\n",
    "        \"C\": [1, 10, 100],\n",
    "        \"gamma\": [0.001, 0.0001],\n",
    "        \"kernel\": [\"linear\", \"rbf\"]\n",
    "    },\n",
    "    \"XGBClassifier\": {\n",
    "        \"n_estimators\": [50, 100, 200],\n",
    "        \"learning_rate\": [0.01, 0.1, 0.2],\n",
    "        \"max_depth\": [3, 6, 9]\n",
    "    },\n",
    "    \"KNeighborsClassifier\": {\n",
    "        \"n_neighbors\": [3, 5, 7, 9]\n",
    "    },\n",
    "    \"MLPClassifier\": {\n",
    "        \"hidden_layer_sizes\": [(11,9),(16,), (16, 8), (32, 16)],\n",
    "        \"activation\": [\"relu\", \"tanh\"],\n",
    "        \"solver\": [\"adam\", \"sgd\"],\n",
    "        \"max_iter\": [500, 1000]\n",
    "    }\n",
    "}\n",
    "\n",
    "# Store best models\n",
    "best_models = {}\n",
    "\n",
    "# Perform GridSearchCV for each model\n",
    "for name, param_grid in param_grids.items():\n",
    "    print(f\"Running GridSearch for {name}...\")\n",
    "    \n",
    "    # Create model instance\n",
    "    model_class = eval(name)  # Convert string to model class\n",
    "    model = model_class()\n",
    "    \n",
    "    # Apply GridSearch if hyperparameters exist\n",
    "    if param_grid:\n",
    "        grid_search = GridSearchCV(model, param_grid, cv=5, scoring='accuracy', n_jobs=-1)\n",
    "        grid_search.fit(X_train_imputed, y_train)\n",
    "        best_models[name] = grid_search.best_estimator_\n",
    "        print(f\"Best params for {name}: {grid_search.best_params_}\")\n",
    "    else:\n",
    "        best_models[name] = model.fit(X_train_imputed, y_train)"
   ]
  },
  {
   "cell_type": "code",
   "execution_count": 66,
   "metadata": {},
   "outputs": [
    {
     "name": "stdout",
     "output_type": "stream",
     "text": [
      "Results for Logistic_Regression:\n",
      "                 Model  Train_Accuracy  Test_Accuracy  Train_Precision  \\\n",
      "0  Logistic_Regression        0.650215        0.65812          0.77839   \n",
      "\n",
      "   Test_Precision  Train_Recall  Test_Recall  Train_F1 Score  Test_F1 Score  \\\n",
      "0        0.774154      0.650215      0.65812        0.665524       0.672741   \n",
      "\n",
      "   Train_Specificity  Test_Specificity  \n",
      "0           0.564565          0.578313  \n",
      "--------------------------------------------------\n",
      "Results for Naive_Bayes:\n",
      "         Model  Train_Accuracy  Test_Accuracy  Train_Precision  \\\n",
      "0  Naive_Bayes        0.566524       0.581197         0.796829   \n",
      "\n",
      "   Test_Precision  Train_Recall  Test_Recall  Train_F1 Score  Test_F1 Score  \\\n",
      "0        0.789775      0.566524     0.581197        0.570318        0.58671   \n",
      "\n",
      "   Train_Specificity  Test_Specificity  \n",
      "0           0.411411          0.433735  \n",
      "--------------------------------------------------\n",
      "Results for Decision_Tree:\n",
      "           Model  Train_Accuracy  Test_Accuracy  Train_Precision  \\\n",
      "0  Decision_Tree        0.635193       0.598291         0.806962   \n",
      "\n",
      "   Test_Precision  Train_Recall  Test_Recall  Train_F1 Score  Test_F1 Score  \\\n",
      "0        0.778844      0.635193     0.598291        0.647211       0.607961   \n",
      "\n",
      "   Train_Specificity  Test_Specificity  \n",
      "0           0.513514           0.46988  \n",
      "--------------------------------------------------\n",
      "Results for Random_Forest:\n",
      "           Model  Train_Accuracy  Test_Accuracy  Train_Precision  \\\n",
      "0  Random_Forest        0.763948       0.649573         0.828014   \n",
      "\n",
      "   Test_Precision  Train_Recall  Test_Recall  Train_F1 Score  Test_F1 Score  \\\n",
      "0        0.739613      0.763948     0.649573        0.775054       0.665607   \n",
      "\n",
      "   Train_Specificity  Test_Specificity  \n",
      "0           0.717718           0.60241  \n",
      "--------------------------------------------------\n",
      "Results for SVM:\n",
      "  Model  Train_Accuracy  Test_Accuracy  Train_Precision  Test_Precision  \\\n",
      "0   SVM        0.699571       0.641026         0.813768        0.779696   \n",
      "\n",
      "   Train_Recall  Test_Recall  Train_F1 Score  Test_F1 Score  \\\n",
      "0      0.699571     0.641026        0.713504       0.654623   \n",
      "\n",
      "   Train_Specificity  Test_Specificity  \n",
      "0           0.615616          0.542169  \n",
      "--------------------------------------------------\n"
     ]
    },
    {
     "name": "stderr",
     "output_type": "stream",
     "text": [
      "c:\\Users\\macha\\miniconda3\\envs\\rainfall_env\\lib\\site-packages\\xgboost\\core.py:158: UserWarning:\n",
      "\n",
      "[16:25:46] WARNING: C:\\buildkite-agent\\builds\\buildkite-windows-cpu-autoscaling-group-i-08cbc0333d8d4aae1-1\\xgboost\\xgboost-ci-windows\\src\\learner.cc:740: \n",
      "Parameters: { \"use_label_encoder\" } are not used.\n",
      "\n",
      "\n",
      "c:\\Users\\macha\\miniconda3\\envs\\rainfall_env\\lib\\site-packages\\xgboost\\core.py:158: UserWarning:\n",
      "\n",
      "[16:25:46] WARNING: C:\\buildkite-agent\\builds\\buildkite-windows-cpu-autoscaling-group-i-08cbc0333d8d4aae1-1\\xgboost\\xgboost-ci-windows\\src\\learner.cc:740: \n",
      "Parameters: { \"use_label_encoder\" } are not used.\n",
      "\n",
      "\n",
      "c:\\Users\\macha\\miniconda3\\envs\\rainfall_env\\lib\\site-packages\\xgboost\\core.py:158: UserWarning:\n",
      "\n",
      "[16:25:46] WARNING: C:\\buildkite-agent\\builds\\buildkite-windows-cpu-autoscaling-group-i-08cbc0333d8d4aae1-1\\xgboost\\xgboost-ci-windows\\src\\learner.cc:740: \n",
      "Parameters: { \"use_label_encoder\" } are not used.\n",
      "\n",
      "\n",
      "c:\\Users\\macha\\miniconda3\\envs\\rainfall_env\\lib\\site-packages\\xgboost\\core.py:158: UserWarning:\n",
      "\n",
      "[16:25:46] WARNING: C:\\buildkite-agent\\builds\\buildkite-windows-cpu-autoscaling-group-i-08cbc0333d8d4aae1-1\\xgboost\\xgboost-ci-windows\\src\\learner.cc:740: \n",
      "Parameters: { \"use_label_encoder\" } are not used.\n",
      "\n",
      "\n",
      "c:\\Users\\macha\\miniconda3\\envs\\rainfall_env\\lib\\site-packages\\xgboost\\core.py:158: UserWarning:\n",
      "\n",
      "[16:25:46] WARNING: C:\\buildkite-agent\\builds\\buildkite-windows-cpu-autoscaling-group-i-08cbc0333d8d4aae1-1\\xgboost\\xgboost-ci-windows\\src\\learner.cc:740: \n",
      "Parameters: { \"use_label_encoder\" } are not used.\n",
      "\n",
      "\n",
      "c:\\Users\\macha\\miniconda3\\envs\\rainfall_env\\lib\\site-packages\\xgboost\\core.py:158: UserWarning:\n",
      "\n",
      "[16:25:46] WARNING: C:\\buildkite-agent\\builds\\buildkite-windows-cpu-autoscaling-group-i-08cbc0333d8d4aae1-1\\xgboost\\xgboost-ci-windows\\src\\learner.cc:740: \n",
      "Parameters: { \"use_label_encoder\" } are not used.\n",
      "\n",
      "\n"
     ]
    },
    {
     "name": "stdout",
     "output_type": "stream",
     "text": [
      "Results for XGBoost:\n",
      "     Model  Train_Accuracy  Test_Accuracy  Train_Precision  Test_Precision  \\\n",
      "0  XGBoost        0.899142       0.666667         0.899072        0.646502   \n",
      "\n",
      "   Train_Recall  Test_Recall  Train_F1 Score  Test_F1 Score  \\\n",
      "0      0.899142     0.666667        0.895735       0.654285   \n",
      "\n",
      "   Train_Specificity  Test_Specificity  \n",
      "0           0.966967          0.807229  \n",
      "--------------------------------------------------\n",
      "Results for K_Nearest_Neighbors:\n",
      "                 Model  Train_Accuracy  Test_Accuracy  Train_Precision  \\\n",
      "0  K_Nearest_Neighbors             1.0        0.65812              1.0   \n",
      "\n",
      "   Test_Precision  Train_Recall  Test_Recall  Train_F1 Score  Test_F1 Score  \\\n",
      "0        0.640237           1.0      0.65812             1.0        0.64754   \n",
      "\n",
      "   Train_Specificity  Test_Specificity  \n",
      "0                1.0          0.795181  \n",
      "--------------------------------------------------\n",
      "Results for ANN_classifier:\n",
      "            Model  Train_Accuracy  Test_Accuracy  Train_Precision  \\\n",
      "0  ANN_classifier        0.738197        0.65812          0.71634   \n",
      "\n",
      "   Test_Precision  Train_Recall  Test_Recall  Train_F1 Score  Test_F1 Score  \\\n",
      "0        0.627677      0.738197      0.65812        0.718175        0.63836   \n",
      "\n",
      "   Train_Specificity  Test_Specificity  \n",
      "0           0.888889          0.819277  \n",
      "--------------------------------------------------\n"
     ]
    },
    {
     "name": "stderr",
     "output_type": "stream",
     "text": [
      "c:\\Users\\macha\\miniconda3\\envs\\rainfall_env\\lib\\site-packages\\xgboost\\core.py:158: UserWarning:\n",
      "\n",
      "[16:25:49] WARNING: C:\\buildkite-agent\\builds\\buildkite-windows-cpu-autoscaling-group-i-08cbc0333d8d4aae1-1\\xgboost\\xgboost-ci-windows\\src\\learner.cc:740: \n",
      "Parameters: { \"use_label_encoder\" } are not used.\n",
      "\n",
      "\n",
      "c:\\Users\\macha\\miniconda3\\envs\\rainfall_env\\lib\\site-packages\\xgboost\\core.py:158: UserWarning:\n",
      "\n",
      "[16:25:50] WARNING: C:\\buildkite-agent\\builds\\buildkite-windows-cpu-autoscaling-group-i-08cbc0333d8d4aae1-1\\xgboost\\xgboost-ci-windows\\src\\learner.cc:740: \n",
      "Parameters: { \"use_label_encoder\" } are not used.\n",
      "\n",
      "\n",
      "c:\\Users\\macha\\miniconda3\\envs\\rainfall_env\\lib\\site-packages\\xgboost\\core.py:158: UserWarning:\n",
      "\n",
      "[16:25:51] WARNING: C:\\buildkite-agent\\builds\\buildkite-windows-cpu-autoscaling-group-i-08cbc0333d8d4aae1-1\\xgboost\\xgboost-ci-windows\\src\\learner.cc:740: \n",
      "Parameters: { \"use_label_encoder\" } are not used.\n",
      "\n",
      "\n",
      "c:\\Users\\macha\\miniconda3\\envs\\rainfall_env\\lib\\site-packages\\xgboost\\core.py:158: UserWarning:\n",
      "\n",
      "[16:25:52] WARNING: C:\\buildkite-agent\\builds\\buildkite-windows-cpu-autoscaling-group-i-08cbc0333d8d4aae1-1\\xgboost\\xgboost-ci-windows\\src\\learner.cc:740: \n",
      "Parameters: { \"use_label_encoder\" } are not used.\n",
      "\n",
      "\n",
      "c:\\Users\\macha\\miniconda3\\envs\\rainfall_env\\lib\\site-packages\\xgboost\\core.py:158: UserWarning:\n",
      "\n",
      "[16:25:53] WARNING: C:\\buildkite-agent\\builds\\buildkite-windows-cpu-autoscaling-group-i-08cbc0333d8d4aae1-1\\xgboost\\xgboost-ci-windows\\src\\learner.cc:740: \n",
      "Parameters: { \"use_label_encoder\" } are not used.\n",
      "\n",
      "\n",
      "c:\\Users\\macha\\miniconda3\\envs\\rainfall_env\\lib\\site-packages\\xgboost\\core.py:158: UserWarning:\n",
      "\n",
      "[16:25:54] WARNING: C:\\buildkite-agent\\builds\\buildkite-windows-cpu-autoscaling-group-i-08cbc0333d8d4aae1-1\\xgboost\\xgboost-ci-windows\\src\\learner.cc:740: \n",
      "Parameters: { \"use_label_encoder\" } are not used.\n",
      "\n",
      "\n"
     ]
    },
    {
     "name": "stdout",
     "output_type": "stream",
     "text": [
      "Results for Voting_Classifier:\n",
      "               Model  Train_Accuracy  Test_Accuracy  Train_Precision  \\\n",
      "0  Voting_Classifier        0.757511       0.683761          0.81401   \n",
      "\n",
      "   Test_Precision  Train_Recall  Test_Recall  Train_F1 Score  Test_F1 Score  \\\n",
      "0         0.75524      0.757511     0.683761        0.768587        0.69817   \n",
      "\n",
      "   Train_Specificity  Test_Specificity  \n",
      "0           0.723724          0.650602  \n",
      "--------------------------------------------------\n",
      "All models trained, evaluated, and saved successfully! ✅\n"
     ]
    }
   ],
   "source": [
    "from sklearn.model_selection import cross_val_score\n",
    "from sklearn.pipeline import make_pipeline\n",
    "models = {\n",
    "    \"Logistic_Regression\": make_pipeline(\n",
    "        LogisticRegression(C=1, solver='saga', class_weight='balanced', max_iter=1000)\n",
    "    ),\n",
    "    \n",
    "    \"Naive_Bayes\": GaussianNB(),\n",
    "    \n",
    "    \"Decision_Tree\": DecisionTreeClassifier(\n",
    "        criterion=\"entropy\", \n",
    "        max_depth=3,\n",
    "        min_samples_split=10,\n",
    "        min_samples_leaf=5,\n",
    "        class_weight='balanced',\n",
    "        random_state=42\n",
    "    ),\n",
    "    \n",
    "    \"Random_Forest\": RandomForestClassifier(\n",
    "        n_estimators=100,\n",
    "        criterion=\"gini\",\n",
    "        max_depth=5,\n",
    "        min_samples_split=10,\n",
    "        min_samples_leaf=5,\n",
    "        class_weight='balanced_subsample',\n",
    "        max_features='sqrt',\n",
    "        random_state=42\n",
    "    ),\n",
    "    \n",
    "    \"SVM\": make_pipeline(\n",
    "        SVC(kernel='rbf', C=100, gamma='scale', class_weight='balanced', probability=True)\n",
    "    ),\n",
    "    \n",
    "    \"XGBoost\": XGBClassifier(\n",
    "        learning_rate=0.1,\n",
    "        max_depth=3,\n",
    "        n_estimators=100,\n",
    "        subsample=0.8,\n",
    "        colsample_bytree=0.8,\n",
    "        reg_alpha=0.1,\n",
    "        reg_lambda=0.1,\n",
    "        scale_pos_weight=1,\n",
    "        use_label_encoder=False,\n",
    "        eval_metric='logloss',\n",
    "        random_state=42\n",
    "    ),\n",
    "    \n",
    "    \"K_Nearest_Neighbors\": KNeighborsClassifier(\n",
    "        n_neighbors=4,\n",
    "        weights='distance'\n",
    "    ),\n",
    "    \n",
    "    \"ANN_classifier\": MLPClassifier(\n",
    "        hidden_layer_sizes=(11, 9),\n",
    "        activation='tanh',\n",
    "        solver='adam',\n",
    "        alpha=0.001,\n",
    "        learning_rate_init=0.001,\n",
    "        max_iter=500,\n",
    "        random_state=42\n",
    "    )\n",
    "}\n",
    "\n",
    "# Improved Voting Classifier\n",
    "voting_clf = VotingClassifier(\n",
    "    estimators=[\n",
    "        ('lr', models[\"Logistic_Regression\"]),\n",
    "        ('rf', models[\"Random_Forest\"]),\n",
    "        ('xgb', models[\"XGBoost\"]),\n",
    "        ('svm', models[\"SVM\"]),\n",
    "        ('ann', models[\"ANN_classifier\"])\n",
    "    ],\n",
    "    voting='hard',\n",
    "    weights=[2,1, 2, 3, 2]\n",
    ")\n",
    "\n",
    "# Add to models\n",
    "models[\"Voting_Classifier\"] = voting_clf\n",
    "\n",
    "# Add feature selection\n",
    "from sklearn.feature_selection import SelectFromModel\n",
    "\n",
    "# Example for Logistic Regression\n",
    "lr_selector = SelectFromModel(LogisticRegression(C=0.1, penalty='l1', solver='saga'))\n",
    "X_train_selected = lr_selector.fit_transform(X_train_imputed, y_train)\n",
    "X_test_selected = lr_selector.transform(X_test_imputed)\n",
    "\n",
    "joblib.dump(lr_selector, f'./data/preprocess_pkl/lr_selector.pkl')\n",
    "\n",
    "# Modified training loop with cross-validation\n",
    "results = []\n",
    "\n",
    "for name, model in models.items():\n",
    "    try:\n",
    "        # Cross-validation\n",
    "        cv_scores = cross_val_score(model, X_train_selected, y_train, cv=5, scoring='f1')\n",
    "        \n",
    "        # Fit model\n",
    "        model.fit(X_train_selected, y_train)\n",
    "        \n",
    "        # Predictions\n",
    "        y_train_pred = model.predict(X_train_selected)\n",
    "        y_test_pred = model.predict(X_test_selected)\n",
    "\n",
    "        # Calculate metrics\n",
    "        accuracy_train = accuracy_score(y_train, y_train_pred)\n",
    "        precision_train = precision_score(y_train, y_train_pred, average='weighted')  \n",
    "        recall_train = recall_score(y_train, y_train_pred, average='weighted')  \n",
    "        f1_train = f1_score(y_train, y_train_pred, average='weighted')  \n",
    "\n",
    "        accuracy_test = accuracy_score(y_test, y_test_pred)\n",
    "        precision_test = precision_score(y_test, y_test_pred, average='weighted')  \n",
    "        recall_test = recall_score(y_test, y_test_pred, average='weighted')  \n",
    "        f1_test = f1_score(y_test, y_test_pred, average='weighted')  \n",
    "\n",
    "        tn, fp, fn, tp = confusion_matrix(y_test, y_test_pred).ravel()\n",
    "        specificity_test = tn / (tn + fp)\n",
    "        \n",
    "        tn_train, fp_train, fn_train, tp_train = confusion_matrix(y_train, y_train_pred).ravel()\n",
    "        specificity_train = tn_train / (tn_train + fp_train)\n",
    "\n",
    "        model_results = {\n",
    "            \"Model\": name,\n",
    "            \"Train_Accuracy\": accuracy_train,\n",
    "            \"Test_Accuracy\": accuracy_test,\n",
    "            \"Train_Precision\": precision_train,\n",
    "            \"Test_Precision\": precision_test,\n",
    "            \"Train_Recall\": recall_train,\n",
    "            \"Test_Recall\": recall_test,\n",
    "            \"Train_F1 Score\": f1_train,\n",
    "            \"Test_F1 Score\": f1_test,\n",
    "            \"Train_Specificity\": specificity_train,\n",
    "            \"Test_Specificity\": specificity_test\n",
    "        }\n",
    "\n",
    "        results.append(model_results)\n",
    "        joblib.dump(model, f'./data/models_pkl/{name}.pkl')\n",
    "        print(f\"Results for {name}:\")\n",
    "        print(pd.DataFrame.from_records([model_results]))\n",
    "        print(\"-\" * 50)\n",
    "\n",
    "    except Exception as e:\n",
    "        print(f\"Error with {name}: {str(e)}\")\n",
    "        \n",
    "results_df = pd.DataFrame(results)\n",
    "results_df.to_csv(\"./data/dataset/model_results.csv\", index=False)\n",
    "\n",
    "print(\"All models trained, evaluated, and saved successfully! ✅\")"
   ]
  },
  {
   "cell_type": "code",
   "execution_count": 67,
   "metadata": {},
   "outputs": [
    {
     "name": "stdout",
     "output_type": "stream",
     "text": [
      "Selected Features: Index(['Age', 'Direct Bilirubin', 'Alkaline Phosphotase',\n",
      "       'Sgpt Alamine Aminotransferase',\n",
      "       'A/G ratio Albumin and Globulin Ratio'],\n",
      "      dtype='object')\n"
     ]
    }
   ],
   "source": [
    "selected_mask = lr_selector.get_support()\n",
    "feature_names = X_train.columns \n",
    "# Get the names of selected features\n",
    "selected_features = feature_names[selected_mask]\n",
    "\n",
    "print(\"Selected Features:\", selected_features)"
   ]
  },
  {
   "cell_type": "code",
   "execution_count": 68,
   "metadata": {},
   "outputs": [
    {
     "data": {
      "text/plain": [
       "array([[-0.03341263, -0.32153713,  0.02408682,  1.54137417,  0.19367408],\n",
       "       [ 1.58589715, -0.11362367,  0.2891692 , -0.10608177, -1.06991878],\n",
       "       [ 0.71396111, -0.42549386, -0.38342788, -0.3146205 , -0.43812235],\n",
       "       ...,\n",
       "       [-0.71850523, -0.35618937, -0.50212148, -0.35111477, -0.05904449],\n",
       "       [ 1.71045944, -0.4601461 , -0.56938119, -0.30940703,  0.19367408],\n",
       "       [-0.15797492,  1.02990037, -0.07878097, -0.26769928, -1.38581699]])"
      ]
     },
     "execution_count": 68,
     "metadata": {},
     "output_type": "execute_result"
    }
   ],
   "source": [
    "X_train_selected"
   ]
  },
  {
   "cell_type": "code",
   "execution_count": 69,
   "metadata": {},
   "outputs": [
    {
     "data": {
      "text/html": [
       "<div>\n",
       "<style scoped>\n",
       "    .dataframe tbody tr th:only-of-type {\n",
       "        vertical-align: middle;\n",
       "    }\n",
       "\n",
       "    .dataframe tbody tr th {\n",
       "        vertical-align: top;\n",
       "    }\n",
       "\n",
       "    .dataframe thead th {\n",
       "        text-align: right;\n",
       "    }\n",
       "</style>\n",
       "<table border=\"1\" class=\"dataframe\">\n",
       "  <thead>\n",
       "    <tr style=\"text-align: right;\">\n",
       "      <th></th>\n",
       "      <th>Age</th>\n",
       "      <th>Gender</th>\n",
       "      <th>Total Bilirubin</th>\n",
       "      <th>Direct Bilirubin</th>\n",
       "      <th>Alkaline Phosphotase</th>\n",
       "      <th>Sgpt Alamine Aminotransferase</th>\n",
       "      <th>Sgot Aspartate Aminotransferase</th>\n",
       "      <th>Total Proteins</th>\n",
       "      <th>ALB Albumin</th>\n",
       "      <th>A/G ratio Albumin and Globulin Ratio</th>\n",
       "    </tr>\n",
       "  </thead>\n",
       "  <tbody>\n",
       "    <tr>\n",
       "      <th>0</th>\n",
       "      <td>-0.033413</td>\n",
       "      <td>0.0</td>\n",
       "      <td>-0.228804</td>\n",
       "      <td>-0.321537</td>\n",
       "      <td>0.024087</td>\n",
       "      <td>1.541374</td>\n",
       "      <td>1.566937</td>\n",
       "      <td>0.117481</td>\n",
       "      <td>0.227194</td>\n",
       "      <td>0.193674</td>\n",
       "    </tr>\n",
       "    <tr>\n",
       "      <th>1</th>\n",
       "      <td>1.585897</td>\n",
       "      <td>1.0</td>\n",
       "      <td>-0.104354</td>\n",
       "      <td>-0.113624</td>\n",
       "      <td>0.289169</td>\n",
       "      <td>-0.106082</td>\n",
       "      <td>-0.187586</td>\n",
       "      <td>-0.439260</td>\n",
       "      <td>-0.918059</td>\n",
       "      <td>-1.069919</td>\n",
       "    </tr>\n",
       "    <tr>\n",
       "      <th>2</th>\n",
       "      <td>0.713961</td>\n",
       "      <td>1.0</td>\n",
       "      <td>-0.368810</td>\n",
       "      <td>-0.425494</td>\n",
       "      <td>-0.383428</td>\n",
       "      <td>-0.314620</td>\n",
       "      <td>-0.274189</td>\n",
       "      <td>-0.624840</td>\n",
       "      <td>-0.663558</td>\n",
       "      <td>-0.438122</td>\n",
       "    </tr>\n",
       "    <tr>\n",
       "      <th>3</th>\n",
       "      <td>-0.407100</td>\n",
       "      <td>1.0</td>\n",
       "      <td>-0.182135</td>\n",
       "      <td>-0.182928</td>\n",
       "      <td>0.071564</td>\n",
       "      <td>0.191086</td>\n",
       "      <td>-0.229284</td>\n",
       "      <td>1.323753</td>\n",
       "      <td>1.245195</td>\n",
       "      <td>0.193674</td>\n",
       "    </tr>\n",
       "    <tr>\n",
       "      <th>4</th>\n",
       "      <td>-0.780786</td>\n",
       "      <td>1.0</td>\n",
       "      <td>4.220284</td>\n",
       "      <td>5.396083</td>\n",
       "      <td>-0.292429</td>\n",
       "      <td>-0.225992</td>\n",
       "      <td>-0.110605</td>\n",
       "      <td>-0.903211</td>\n",
       "      <td>-0.536308</td>\n",
       "      <td>-0.122224</td>\n",
       "    </tr>\n",
       "    <tr>\n",
       "      <th>...</th>\n",
       "      <td>...</td>\n",
       "      <td>...</td>\n",
       "      <td>...</td>\n",
       "      <td>...</td>\n",
       "      <td>...</td>\n",
       "      <td>...</td>\n",
       "      <td>...</td>\n",
       "      <td>...</td>\n",
       "      <td>...</td>\n",
       "      <td>...</td>\n",
       "    </tr>\n",
       "    <tr>\n",
       "      <th>461</th>\n",
       "      <td>1.087648</td>\n",
       "      <td>1.0</td>\n",
       "      <td>0.611234</td>\n",
       "      <td>0.891291</td>\n",
       "      <td>0.783726</td>\n",
       "      <td>-0.116509</td>\n",
       "      <td>-0.145888</td>\n",
       "      <td>0.488642</td>\n",
       "      <td>0.227194</td>\n",
       "      <td>-0.153814</td>\n",
       "    </tr>\n",
       "    <tr>\n",
       "      <th>462</th>\n",
       "      <td>1.585897</td>\n",
       "      <td>1.0</td>\n",
       "      <td>-0.306585</td>\n",
       "      <td>-0.321537</td>\n",
       "      <td>-0.577294</td>\n",
       "      <td>-0.366755</td>\n",
       "      <td>-0.287019</td>\n",
       "      <td>-0.253680</td>\n",
       "      <td>0.863445</td>\n",
       "      <td>2.025884</td>\n",
       "    </tr>\n",
       "    <tr>\n",
       "      <th>463</th>\n",
       "      <td>-0.718505</td>\n",
       "      <td>1.0</td>\n",
       "      <td>-0.275472</td>\n",
       "      <td>-0.356189</td>\n",
       "      <td>-0.502121</td>\n",
       "      <td>-0.351115</td>\n",
       "      <td>-0.290227</td>\n",
       "      <td>0.767012</td>\n",
       "      <td>0.481694</td>\n",
       "      <td>-0.059044</td>\n",
       "    </tr>\n",
       "    <tr>\n",
       "      <th>464</th>\n",
       "      <td>1.710459</td>\n",
       "      <td>1.0</td>\n",
       "      <td>-0.399922</td>\n",
       "      <td>-0.460146</td>\n",
       "      <td>-0.569381</td>\n",
       "      <td>-0.309407</td>\n",
       "      <td>-0.251737</td>\n",
       "      <td>-0.439260</td>\n",
       "      <td>-0.154557</td>\n",
       "      <td>0.193674</td>\n",
       "    </tr>\n",
       "    <tr>\n",
       "      <th>465</th>\n",
       "      <td>-0.157975</td>\n",
       "      <td>1.0</td>\n",
       "      <td>0.860134</td>\n",
       "      <td>1.029900</td>\n",
       "      <td>-0.078781</td>\n",
       "      <td>-0.267699</td>\n",
       "      <td>-0.168341</td>\n",
       "      <td>-0.624840</td>\n",
       "      <td>-1.427059</td>\n",
       "      <td>-1.385817</td>\n",
       "    </tr>\n",
       "  </tbody>\n",
       "</table>\n",
       "<p>466 rows × 10 columns</p>\n",
       "</div>"
      ],
      "text/plain": [
       "          Age  Gender  Total Bilirubin  Direct Bilirubin  \\\n",
       "0   -0.033413     0.0        -0.228804         -0.321537   \n",
       "1    1.585897     1.0        -0.104354         -0.113624   \n",
       "2    0.713961     1.0        -0.368810         -0.425494   \n",
       "3   -0.407100     1.0        -0.182135         -0.182928   \n",
       "4   -0.780786     1.0         4.220284          5.396083   \n",
       "..        ...     ...              ...               ...   \n",
       "461  1.087648     1.0         0.611234          0.891291   \n",
       "462  1.585897     1.0        -0.306585         -0.321537   \n",
       "463 -0.718505     1.0        -0.275472         -0.356189   \n",
       "464  1.710459     1.0        -0.399922         -0.460146   \n",
       "465 -0.157975     1.0         0.860134          1.029900   \n",
       "\n",
       "     Alkaline Phosphotase  Sgpt Alamine Aminotransferase  \\\n",
       "0                0.024087                       1.541374   \n",
       "1                0.289169                      -0.106082   \n",
       "2               -0.383428                      -0.314620   \n",
       "3                0.071564                       0.191086   \n",
       "4               -0.292429                      -0.225992   \n",
       "..                    ...                            ...   \n",
       "461              0.783726                      -0.116509   \n",
       "462             -0.577294                      -0.366755   \n",
       "463             -0.502121                      -0.351115   \n",
       "464             -0.569381                      -0.309407   \n",
       "465             -0.078781                      -0.267699   \n",
       "\n",
       "     Sgot Aspartate Aminotransferase  Total Proteins  ALB Albumin  \\\n",
       "0                           1.566937        0.117481     0.227194   \n",
       "1                          -0.187586       -0.439260    -0.918059   \n",
       "2                          -0.274189       -0.624840    -0.663558   \n",
       "3                          -0.229284        1.323753     1.245195   \n",
       "4                          -0.110605       -0.903211    -0.536308   \n",
       "..                               ...             ...          ...   \n",
       "461                        -0.145888        0.488642     0.227194   \n",
       "462                        -0.287019       -0.253680     0.863445   \n",
       "463                        -0.290227        0.767012     0.481694   \n",
       "464                        -0.251737       -0.439260    -0.154557   \n",
       "465                        -0.168341       -0.624840    -1.427059   \n",
       "\n",
       "     A/G ratio Albumin and Globulin Ratio  \n",
       "0                                0.193674  \n",
       "1                               -1.069919  \n",
       "2                               -0.438122  \n",
       "3                                0.193674  \n",
       "4                               -0.122224  \n",
       "..                                    ...  \n",
       "461                             -0.153814  \n",
       "462                              2.025884  \n",
       "463                             -0.059044  \n",
       "464                              0.193674  \n",
       "465                             -1.385817  \n",
       "\n",
       "[466 rows x 10 columns]"
      ]
     },
     "execution_count": 69,
     "metadata": {},
     "output_type": "execute_result"
    }
   ],
   "source": [
    "X_train_imputed"
   ]
  },
  {
   "cell_type": "code",
   "execution_count": null,
   "metadata": {},
   "outputs": [],
   "source": []
  }
 ],
 "metadata": {
  "kernelspec": {
   "display_name": "rainfall_env",
   "language": "python",
   "name": "python3"
  },
  "language_info": {
   "codemirror_mode": {
    "name": "ipython",
    "version": 3
   },
   "file_extension": ".py",
   "mimetype": "text/x-python",
   "name": "python",
   "nbconvert_exporter": "python",
   "pygments_lexer": "ipython3",
   "version": "3.10.16"
  }
 },
 "nbformat": 4,
 "nbformat_minor": 2
}
